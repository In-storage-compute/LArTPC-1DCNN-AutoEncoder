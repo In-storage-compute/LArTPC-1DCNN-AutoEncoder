{
 "cells": [
  {
   "cell_type": "code",
   "execution_count": 1,
   "metadata": {
    "tags": []
   },
   "outputs": [
    {
     "name": "stderr",
     "output_type": "stream",
     "text": [
      "2023-08-11 04:39:35.100986: I tensorflow/core/platform/cpu_feature_guard.cc:182] This TensorFlow binary is optimized to use available CPU instructions in performance-critical operations.\n",
      "To enable the following instructions: AVX2 FMA, in other operations, rebuild TensorFlow with the appropriate compiler flags.\n",
      "2023-08-11 04:39:35.763298: W tensorflow/compiler/tf2tensorrt/utils/py_utils.cc:38] TF-TRT Warning: Could not find TensorRT\n"
     ]
    }
   ],
   "source": [
    "# process data and save to memory as variables, not storage\n",
    "import sys\n",
    "import numpy as np\n",
    "from sklearn.model_selection import train_test_split\n",
    "from sklearn.utils import shuffle\n",
    "import os\n",
    "import numpy as np\n",
    "from os import listdir\n",
    "from os.path import isfile, join\n",
    "import matplotlib.pyplot as plt\n",
    "from tensorflow.keras.models import load_model\n",
    "from PyPDF2 import PdfMerger\n",
    "from tqdm import trange"
   ]
  },
  {
   "cell_type": "code",
   "execution_count": 2,
   "metadata": {
    "tags": []
   },
   "outputs": [],
   "source": [
    "wireplane='U'"
   ]
  },
  {
   "cell_type": "code",
   "execution_count": 3,
   "metadata": {
    "tags": []
   },
   "outputs": [],
   "source": [
    "# takes full raw data and extracts waveform of length nticks\n",
    "def extract_wave(data, nticks=200):\n",
    "    string = 'tck_'\n",
    "    waveforms = []\n",
    "    #Here I extract a column in each iteration and append to list\n",
    "    for i in range(nticks):\n",
    "        waveforms.append(data[string+str(i)].astype(np.int16))\n",
    "    #convert to numpy ndarray\n",
    "    waveforms = np.array(waveforms).astype(np.int16)\n",
    "    #since raws and columns are inverted we need to transpose it\n",
    "    return np.transpose(waveforms)\n",
    "\n",
    "# takes full raw data and returns waveform of length nticks\n",
    "# only keeps waves at a desired adc count \n",
    "def get_std_waveforms(data_noisy, data_clean, nticks=200, min_adc=5):\n",
    "    #Extract and scale waveform data (passthrough rn)\n",
    "    raw_waveforms_noisy = extract_wave(data_noisy, nticks)\n",
    "    raw_waveforms_clean = extract_wave(data_clean, nticks)\n",
    "    #print('before adc filter: ', raw_waveforms_noisy.shape, raw_waveforms_clean.shape)\n",
    "\n",
    "    noisy_ = []\n",
    "    clean_ = []\n",
    "\n",
    "    for i, wave in enumerate(raw_waveforms_clean):\n",
    "        if max(wave) >= min_adc:\n",
    "            noisy_.append(raw_waveforms_noisy[i])\n",
    "            clean_.append(wave)\n",
    "    \n",
    "    del raw_waveforms_noisy, raw_waveforms_clean\n",
    "\n",
    "    noisy_ = np.array(noisy_)\n",
    "    clean_ = np.array(clean_)\n",
    "\n",
    "    #print('after adc filter: ', noisy_.shape, clean_.shape)\n",
    "    #print(raw_waveforms) \n",
    "    #scaled_waveforms = waveform_scaler.fit_transform(raw_waveforms)\n",
    "    return noisy_, clean_\n",
    "\n"
   ]
  },
  {
   "cell_type": "code",
   "execution_count": 4,
   "metadata": {
    "tags": []
   },
   "outputs": [],
   "source": [
    "import tarfile\n",
    "import os\n",
    "\n",
    "# nuCC\n",
    "dir_noisy_nu_cc = '/home/vlian/Workspace/train_dune_lartpc_v2/new_aug_10/nu_cc/'+wireplane+'/noisy_signal/'  # Directory to extract files\n",
    "dir_clean_nu_cc = '/home/vlian/Workspace/train_dune_lartpc_v2/new_aug_10/nu_cc/'+wireplane+'/clean_signal/'  # Directory to extract files\n",
    "\n",
    "noisy_names_cc = os.listdir(dir_noisy_nu_cc)\n",
    "noisy_names_cc = sorted(noisy_names_cc)\n",
    "\n",
    "\n",
    "clean_names_cc = os.listdir(dir_clean_nu_cc)\n",
    "clean_names_cc = sorted(clean_names_cc)\n",
    "\n",
    "# nuES\n",
    "dir_noisy_nu_es = '/home/vlian/Workspace/train_dune_lartpc_v2/new_aug_10/nu_es/'+wireplane+'/noisy_signal/'  # Directory to extract files\n",
    "dir_clean_nu_es = '/home/vlian/Workspace/train_dune_lartpc_v2/new_aug_10/nu_es/'+wireplane+'/clean_signal/'  # Directory to extract files\n",
    "\n",
    "noisy_names_es = os.listdir(dir_noisy_nu_es)\n",
    "noisy_names_es = sorted(noisy_names_es)\n",
    "\n",
    "clean_names_es = os.listdir(dir_clean_nu_es)\n",
    "clean_names_es = sorted(clean_names_es)\n"
   ]
  },
  {
   "cell_type": "code",
   "execution_count": 5,
   "metadata": {},
   "outputs": [
    {
     "name": "stdout",
     "output_type": "stream",
     "text": [
      "52 52\n",
      "188 188\n"
     ]
    }
   ],
   "source": [
    "print(len(noisy_names_cc), len(clean_names_cc))\n",
    "print(len(noisy_names_es), len(clean_names_es))"
   ]
  },
  {
   "cell_type": "code",
   "execution_count": 6,
   "metadata": {},
   "outputs": [
    {
     "name": "stdout",
     "output_type": "stream",
     "text": [
      "snb-nucc-en0-U-signal-3363366-0-0.npy --- snb-nucc-en0-U-clnsig-3363366-0-0.npy\n",
      "snb-nues-en0-U-signal-63647624-0-0.npy --- snb-nues-en0-U-clnsig-63647624-0-0.npy\n"
     ]
    }
   ],
   "source": [
    "print(noisy_names_cc[0], '---', clean_names_cc[0])\n",
    "print(noisy_names_es[0], '---', clean_names_es[0])"
   ]
  },
  {
   "cell_type": "markdown",
   "metadata": {},
   "source": [
    "### seperate by energy"
   ]
  },
  {
   "cell_type": "code",
   "execution_count": 7,
   "metadata": {},
   "outputs": [],
   "source": [
    "def get_wave_by_ENRG(energy_idx, noisy_filenames, clean_filenames, interaction_type=True):\n",
    "    if interaction_type:\n",
    "        noisy_path = dir_noisy_nu_cc\n",
    "        clean_path = dir_clean_nu_cc\n",
    "    else:\n",
    "        noisy_path = dir_noisy_nu_es\n",
    "        clean_path = dir_clean_nu_es\n",
    "\n",
    "    file_names_noisy = [file for file in noisy_filenames if 'en'+str(energy_idx) in file ]\n",
    "    file_names_clean = [file for file in clean_filenames if 'en'+str(energy_idx) in file ]\n",
    "\n",
    "    noisy_waveforms = np.empty((0, 200))\n",
    "    clean_waveforms = np.empty((0, 200))\n",
    "\n",
    "    for i, file_name in enumerate(file_names_noisy):\n",
    "        noisy_file_path = os.path.join(noisy_path, file_name)\n",
    "        clean_file_path = os.path.join(clean_path, file_names_clean[i])\n",
    "        \n",
    "\n",
    "        noisy = np.load(noisy_file_path)\n",
    "        clean = np.load(clean_file_path)\n",
    "\n",
    "        noisy_wf, clean_wf = get_std_waveforms(noisy, clean, nticks=200, min_adc=5)\n",
    "        \n",
    "        noisy_waveforms = np.concatenate((noisy_waveforms, noisy_wf))\n",
    "        clean_waveforms = np.concatenate((clean_waveforms, clean_wf))\n",
    "\n",
    "    return [noisy_waveforms, clean_waveforms]\n"
   ]
  },
  {
   "cell_type": "code",
   "execution_count": 8,
   "metadata": {},
   "outputs": [],
   "source": [
    "all_waveforms_nu_CC = []\n",
    "all_waveforms_nu_ES = []\n",
    "for i in range(10):\n",
    "    all_waveforms_nu_CC.append(get_wave_by_ENRG(i, noisy_names_cc, clean_names_cc))\n",
    "    all_waveforms_nu_ES.append(get_wave_by_ENRG(i, noisy_names_es, clean_names_es, False))"
   ]
  },
  {
   "cell_type": "code",
   "execution_count": 9,
   "metadata": {},
   "outputs": [
    {
     "name": "stdout",
     "output_type": "stream",
     "text": [
      "en 0 : nu_CC (4452, 200) (4452, 200) --- nu_ES (7035, 200) (7035, 200)\n",
      "en 1 : nu_CC (4497, 200) (4497, 200) --- nu_ES (6468, 200) (6468, 200)\n",
      "en 2 : nu_CC (4700, 200) (4700, 200) --- nu_ES (6402, 200) (6402, 200)\n",
      "en 3 : nu_CC (4794, 200) (4794, 200) --- nu_ES (6251, 200) (6251, 200)\n",
      "en 4 : nu_CC (4782, 200) (4782, 200) --- nu_ES (6271, 200) (6271, 200)\n",
      "en 5 : nu_CC (5995, 200) (5995, 200) --- nu_ES (6398, 200) (6398, 200)\n",
      "en 6 : nu_CC (6121, 200) (6121, 200) --- nu_ES (6774, 200) (6774, 200)\n",
      "en 7 : nu_CC (5995, 200) (5995, 200) --- nu_ES (6092, 200) (6092, 200)\n",
      "en 8 : nu_CC (6043, 200) (6043, 200) --- nu_ES (6919, 200) (6919, 200)\n",
      "en 9 : nu_CC (6883, 200) (6883, 200) --- nu_ES (6584, 200) (6584, 200)\n"
     ]
    }
   ],
   "source": [
    "for i, en in enumerate(all_waveforms_nu_CC):\n",
    "    print('en',i,':', 'nu_CC',en[0].shape, en[1].shape,'---','nu_ES', all_waveforms_nu_ES[i][0].shape, all_waveforms_nu_ES[i][1].shape)"
   ]
  },
  {
   "cell_type": "code",
   "execution_count": 10,
   "metadata": {
    "tags": []
   },
   "outputs": [],
   "source": [
    "#en = 9\n",
    "#for i in range(20):\n",
    "#    fig = plt.figure(figsize=(8,2))\n",
    "#    plt.plot(all_waveforms_nu_ES[en][0][i])\n",
    "#    plt.plot(all_waveforms_nu_ES[en][1][i])\n",
    "#    plt.show()"
   ]
  },
  {
   "cell_type": "markdown",
   "metadata": {},
   "source": [
    "### Load Noise"
   ]
  },
  {
   "cell_type": "code",
   "execution_count": 11,
   "metadata": {},
   "outputs": [
    {
     "name": "stdout",
     "output_type": "stream",
     "text": [
      "(100000, 200) (100000,)\n"
     ]
    }
   ],
   "source": [
    "noise_path = '/home/vlian/Workspace/train_dune_lartpc_v2/noise/'+wireplane+'/'\n",
    "noise_filenames = sorted([f for f in listdir(noise_path) if (isfile(join(noise_path, f)) and wireplane in f)])\n",
    "combined_noise = np.concatenate([np.load(noise_path+fname, mmap_mode='r') for fname in noise_filenames])\n",
    "\n",
    "noise_waveforms = extract_wave(combined_noise)\n",
    "roi_truth_noise = np.zeros(noise_waveforms.shape[0]) # for roi-finding\n",
    "print(noise_waveforms.shape, roi_truth_noise.shape)"
   ]
  },
  {
   "cell_type": "markdown",
   "metadata": {},
   "source": [
    "### TEST"
   ]
  },
  {
   "cell_type": "code",
   "execution_count": 12,
   "metadata": {},
   "outputs": [],
   "source": [
    "model_5_10_mean = np.load('../models_scales/mean_5_10' + wireplane + '_nu.npy')\n",
    "model_5_10_std = np.load('../models_scales/scale_5_10' + wireplane + '_nu.npy')\n",
    "\n",
    "model_5_15_mean = np.load('../models_scales/mean_5_15' + wireplane + '_nu.npy')\n",
    "model_5_15_std = np.load('../models_scales/scale_5_15' + wireplane + '_nu.npy')\n",
    "\n",
    "model_5_18_mean = np.load('../models_scales/mean_5_18' + wireplane + '_nu.npy')\n",
    "model_5_18_std = np.load('../models_scales/scale_5_18' + wireplane + '_nu.npy')\n",
    "\n",
    "model_60k_mean = np.load('../models_scales/mean_60k' + wireplane + '_nu.npy')\n",
    "model_60k_std = np.load('../models_scales/scale_60k' + wireplane + '_nu.npy')"
   ]
  },
  {
   "cell_type": "code",
   "execution_count": 13,
   "metadata": {},
   "outputs": [],
   "source": [
    "scalers = [[model_5_10_mean, model_5_10_std], [model_5_15_mean, model_5_15_std], \n",
    "           [model_5_18_mean, model_5_18_std], [model_60k_mean, model_60k_std]]"
   ]
  },
  {
   "cell_type": "code",
   "execution_count": 14,
   "metadata": {},
   "outputs": [
    {
     "name": "stderr",
     "output_type": "stream",
     "text": [
      "2023-08-11 04:39:49.486455: I tensorflow/compiler/xla/stream_executor/cuda/cuda_gpu_executor.cc:996] successful NUMA node read from SysFS had negative value (-1), but there must be at least one NUMA node, so returning NUMA node zero. See more at https://github.com/torvalds/linux/blob/v6.0/Documentation/ABI/testing/sysfs-bus-pci#L344-L355\n",
      "2023-08-11 04:39:49.519636: I tensorflow/compiler/xla/stream_executor/cuda/cuda_gpu_executor.cc:996] successful NUMA node read from SysFS had negative value (-1), but there must be at least one NUMA node, so returning NUMA node zero. See more at https://github.com/torvalds/linux/blob/v6.0/Documentation/ABI/testing/sysfs-bus-pci#L344-L355\n",
      "2023-08-11 04:39:49.520019: I tensorflow/compiler/xla/stream_executor/cuda/cuda_gpu_executor.cc:996] successful NUMA node read from SysFS had negative value (-1), but there must be at least one NUMA node, so returning NUMA node zero. See more at https://github.com/torvalds/linux/blob/v6.0/Documentation/ABI/testing/sysfs-bus-pci#L344-L355\n",
      "2023-08-11 04:39:49.526779: I tensorflow/compiler/xla/stream_executor/cuda/cuda_gpu_executor.cc:996] successful NUMA node read from SysFS had negative value (-1), but there must be at least one NUMA node, so returning NUMA node zero. See more at https://github.com/torvalds/linux/blob/v6.0/Documentation/ABI/testing/sysfs-bus-pci#L344-L355\n",
      "2023-08-11 04:39:49.527085: I tensorflow/compiler/xla/stream_executor/cuda/cuda_gpu_executor.cc:996] successful NUMA node read from SysFS had negative value (-1), but there must be at least one NUMA node, so returning NUMA node zero. See more at https://github.com/torvalds/linux/blob/v6.0/Documentation/ABI/testing/sysfs-bus-pci#L344-L355\n",
      "2023-08-11 04:39:49.527342: I tensorflow/compiler/xla/stream_executor/cuda/cuda_gpu_executor.cc:996] successful NUMA node read from SysFS had negative value (-1), but there must be at least one NUMA node, so returning NUMA node zero. See more at https://github.com/torvalds/linux/blob/v6.0/Documentation/ABI/testing/sysfs-bus-pci#L344-L355\n",
      "2023-08-11 04:39:50.136070: I tensorflow/compiler/xla/stream_executor/cuda/cuda_gpu_executor.cc:996] successful NUMA node read from SysFS had negative value (-1), but there must be at least one NUMA node, so returning NUMA node zero. See more at https://github.com/torvalds/linux/blob/v6.0/Documentation/ABI/testing/sysfs-bus-pci#L344-L355\n",
      "2023-08-11 04:39:50.136411: I tensorflow/compiler/xla/stream_executor/cuda/cuda_gpu_executor.cc:996] successful NUMA node read from SysFS had negative value (-1), but there must be at least one NUMA node, so returning NUMA node zero. See more at https://github.com/torvalds/linux/blob/v6.0/Documentation/ABI/testing/sysfs-bus-pci#L344-L355\n",
      "2023-08-11 04:39:50.136696: I tensorflow/compiler/xla/stream_executor/cuda/cuda_gpu_executor.cc:996] successful NUMA node read from SysFS had negative value (-1), but there must be at least one NUMA node, so returning NUMA node zero. See more at https://github.com/torvalds/linux/blob/v6.0/Documentation/ABI/testing/sysfs-bus-pci#L344-L355\n",
      "2023-08-11 04:39:50.136934: I tensorflow/core/common_runtime/gpu/gpu_device.cc:1635] Created device /job:localhost/replica:0/task:0/device:GPU:0 with 18083 MB memory:  -> device: 0, name: NVIDIA A100 80GB PCIe MIG 2g.20gb, pci bus id: 0000:05:00.0, compute capability: 8.0\n"
     ]
    }
   ],
   "source": [
    "model_5_10 = load_model('../ROI_ar39_models/model_5_10' + wireplane + 'plane_nu_ROI.h5')\n",
    "\n",
    "model_5_15 = load_model('../ROI_ar39_models/model_5_15' + wireplane + 'plane_nu_ROI.h5')\n",
    "\n",
    "model_5_18 = load_model('../ROI_ar39_models/model_5_18' + wireplane + 'plane_nu_ROI.h5')\n",
    "\n",
    "model_60k = load_model('../ROI_ar39_models/model_60k' + wireplane + 'plane_nu_ROI.h5')"
   ]
  },
  {
   "cell_type": "code",
   "execution_count": 15,
   "metadata": {},
   "outputs": [],
   "source": [
    "models = [model_5_10, model_5_15, model_5_18, model_60k]"
   ]
  },
  {
   "cell_type": "code",
   "execution_count": 16,
   "metadata": {},
   "outputs": [],
   "source": [
    "def eval_model(idx, cnn_min):\n",
    "    model_idx = idx\n",
    "\n",
    "    noise_scaled = (noise_waveforms-scalers[model_idx][0])/scalers[model_idx][1]\n",
    "    infer = models[model_idx].predict(noise_scaled, verbose=0)\n",
    "    \n",
    "    return (len([i for i in infer if i > cnn_min])/len(infer))*100"
   ]
  },
  {
   "cell_type": "code",
   "execution_count": 17,
   "metadata": {},
   "outputs": [
    {
     "name": "stderr",
     "output_type": "stream",
     "text": [
      "2023-08-11 04:39:52.071369: I tensorflow/compiler/xla/stream_executor/cuda/cuda_dnn.cc:424] Loaded cuDNN version 8600\n"
     ]
    },
    {
     "name": "stdout",
     "output_type": "stream",
     "text": [
      "100.0 99.514\n",
      "99.995 99.456\n",
      "99.997 99.609\n",
      "99.997 99.735\n"
     ]
    }
   ],
   "source": [
    "for i in range(4):\n",
    "    print(round(100-eval_model(i, 0.999), 5), round(100-eval_model(i, 0.94), 5))"
   ]
  },
  {
   "cell_type": "code",
   "execution_count": 18,
   "metadata": {},
   "outputs": [],
   "source": [
    "def eval_model_en(en_group_waveforms, model_idx, cnn_min):\n",
    "\n",
    "    waveforms_scaled = (en_group_waveforms-scalers[model_idx][0])/scalers[model_idx][1]\n",
    "    infer = models[model_idx].predict(waveforms_scaled, verbose=0)\n",
    "    \n",
    "    return (len([i for i in infer if i > cnn_min])/len(infer))*100"
   ]
  },
  {
   "cell_type": "code",
   "execution_count": 19,
   "metadata": {
    "tags": []
   },
   "outputs": [
    {
     "data": {
      "text/plain": [
       "10"
      ]
     },
     "execution_count": 19,
     "metadata": {},
     "output_type": "execute_result"
    }
   ],
   "source": [
    "len(all_waveforms_nu_ES)"
   ]
  },
  {
   "cell_type": "code",
   "execution_count": 20,
   "metadata": {},
   "outputs": [
    {
     "name": "stdout",
     "output_type": "stream",
     "text": [
      "en: 0\n",
      "49.888 67.341\n",
      "53.706 68.082\n",
      "52.83 66.487\n",
      "52.291 64.937\n",
      "--------------\n",
      "en: 1\n",
      "58.528 72.359\n",
      "61.597 72.893\n",
      "61.152 71.492\n",
      "60.618 70.803\n",
      "--------------\n",
      "en: 2\n",
      "62.553 75.085\n",
      "65.404 75.426\n",
      "64.681 74.468\n",
      "64.468 73.447\n",
      "--------------\n",
      "en: 3\n",
      "65.54 77.806\n",
      "68.002 77.931\n",
      "67.73 77.013\n",
      "67.376 76.095\n",
      "--------------\n",
      "en: 4\n",
      "67.127 78.545\n",
      "69.573 78.775\n",
      "69.092 77.792\n",
      "68.465 76.955\n",
      "--------------\n",
      "en: 5\n",
      "70.158 81.168\n",
      "72.744 81.435\n",
      "72.427 80.567\n",
      "71.943 79.9\n",
      "--------------\n",
      "en: 6\n",
      "70.838 80.036\n",
      "72.864 80.199\n",
      "72.537 79.677\n",
      "72.292 78.778\n",
      "--------------\n",
      "en: 7\n",
      "72.11 81.918\n",
      "74.012 82.385\n",
      "73.745 81.568\n",
      "73.294 80.717\n",
      "--------------\n",
      "en: 8\n",
      "73.854 82.294\n",
      "75.492 82.277\n",
      "75.261 81.549\n",
      "75.046 80.87\n",
      "--------------\n",
      "en: 9\n",
      "80.604 86.924\n",
      "81.839 87.099\n",
      "81.65 86.619\n",
      "81.505 86.038\n",
      "--------------\n"
     ]
    }
   ],
   "source": [
    "for i, signals_at_en in enumerate(all_waveforms_nu_CC):\n",
    "    print('en:', i)\n",
    "    for j in range(4):\n",
    "        #print('    model:', j)\n",
    "        print(round(eval_model_en(signals_at_en[0], j, 0.999), 3), round(eval_model_en(signals_at_en[0], j, 0.94), 3))\n",
    "    print('--------------')"
   ]
  },
  {
   "cell_type": "code",
   "execution_count": 21,
   "metadata": {},
   "outputs": [],
   "source": [
    "#HERE"
   ]
  },
  {
   "cell_type": "markdown",
   "metadata": {},
   "source": [
    "### Denoising Autoencoder"
   ]
  },
  {
   "cell_type": "code",
   "execution_count": 22,
   "metadata": {},
   "outputs": [],
   "source": [
    "model_AE_check = load_model('../../../archive/AutoEncoder-Current/models/model_AE_2048_no_pooling'+wireplane+'plane_nu.h5')\n",
    "mean_check = np.load('/home/vlian/Workspace/LArTPC-1DCNN-AutoEncoder/Neutrino-Trained-New-Dataset/archive/AutoEncoder-Current/models/saved_models/AE_mean_'+wireplane+'.npy')\n",
    "std_check = np.load('/home/vlian/Workspace/LArTPC-1DCNN-AutoEncoder/Neutrino-Trained-New-Dataset/archive/AutoEncoder-Current/models/saved_models/AE_std_'+wireplane+'.npy')"
   ]
  },
  {
   "cell_type": "code",
   "execution_count": 23,
   "metadata": {
    "tags": []
   },
   "outputs": [
    {
     "name": "stdout",
     "output_type": "stream",
     "text": [
      "-0.0857434375 10.171227500917754\n"
     ]
    }
   ],
   "source": [
    "print(mean_check, std_check)"
   ]
  },
  {
   "cell_type": "code",
   "execution_count": 24,
   "metadata": {},
   "outputs": [],
   "source": [
    "nu_CC_energy = {0: '.028-5.50 MeV',\n",
    "                1: '5.50-7.60 MeV',\n",
    "                2: '7.60-10.0 MeV',\n",
    "                3: '10.0-12.0 MeV',\n",
    "                4: '12.0-15.0 MeV',\n",
    "                5: '15.0-17.0 MeV',\n",
    "                6: '17.0-20.0 MeV',\n",
    "                7: '20.0-24.0 MeV',\n",
    "                8: '24.0-29.0 MeV',\n",
    "                9: '29.0-85.0 MeV'\n",
    "                }\n",
    "\n",
    "nu_ES_energy = {0: '0.005-0.010 GeV',\n",
    "                1: '0.010-0.013 GeV',\n",
    "                2: '0.013-0.016 GeV',\n",
    "                3: '0.016-0.019 GeV',\n",
    "                4: '0.019-0.021 GeV',\n",
    "                5: '0.021-0.024 GeV',\n",
    "                6: '0.024-0.027 GeV',\n",
    "                7: '0.027-0.031 GeV',\n",
    "                8: '0.031-0.036 GeV',\n",
    "                9: '0.036-0.079 GeV',\n",
    "\n",
    "}\n"
   ]
  },
  {
   "cell_type": "code",
   "execution_count": 25,
   "metadata": {},
   "outputs": [],
   "source": [
    "def make_single_pdf(x, y, predicted, interaction,energy, energy_range, wave_idx, pg_num):\n",
    "\n",
    "    fig, axs = plt.subplots(3,2, figsize=(20, 12), facecolor='w', edgecolor='k')\n",
    "    fig.subplots_adjust(hspace = .375, wspace=.1)\n",
    "\n",
    "    axes = axs.ravel()\n",
    "\n",
    "    for i in range(6):\n",
    "        index_ = i + wave_idx\n",
    "        wave_idx = index_\n",
    "        axes[i].set_title(interaction + ': ' + energy_range + ' --- (peak adc: ' + str(max(y[wave_idx])) + ')')\n",
    "        axes[i].plot(x[wave_idx], color='black', alpha=0.3, label='input')\n",
    "        axes[i].plot(y[wave_idx], color='blue', label='target')\n",
    "        axes[i].plot(predicted[wave_idx], color='m', label='prediction')\n",
    "        axes[i].legend(fontsize=12)\n",
    "    \n",
    "\n",
    "\n",
    "    plt.savefig('./plots/tmp_u/tmp' +str(pg_num) + '.pdf',\n",
    "                dpi=300,\n",
    "                bbox_inches='tight', pad_inches=0.75)\n",
    "    plt.close()\n",
    "\n",
    "    return wave_idx\n",
    "\n",
    "# creates and merges pdf, removes all single page pdfs from tmp folder\n",
    "def make_complete_pdf(x, y, predicted, interaction, energy, energy_range, num_pages):\n",
    "    wave_idx_ = 0\n",
    "    page_num = 0\n",
    "\n",
    "    while page_num < num_pages:\n",
    "        wave_idx_ = make_single_pdf(x, y, predicted, interaction, energy, energy_range, wave_idx_, page_num) + 1\n",
    "        page_num += 1\n",
    "\n",
    "    merger = PdfMerger()\n",
    "    path = './plots/tmp_u/'\n",
    "    pdf_files = [path+f for f in listdir(path) if (isfile(join(path, f)))]\n",
    "    #print(pdf_files)\n",
    "    for pdf_file in pdf_files:\n",
    "        #Append PDF files\n",
    "        merger.append(pdf_file)\n",
    "    #merger.write('pdfs/plts_tmp/plts_' + wireplane + '_cnn_'+str(int(min_cnn*100)) + '-' + str(int(max_cnn*100)) + '_' + str(num_pages) +  'pages.pdf')\n",
    "    merger.write('./plots/'+wireplane+'/'+interaction+'/plt_U_plots_'+interaction+'_en'+str(energy)+'.pdf')\n",
    "    merger.close()\n",
    "\n",
    "    for file in pdf_files:\n",
    "        os.remove(file)"
   ]
  },
  {
   "cell_type": "code",
   "execution_count": 26,
   "metadata": {},
   "outputs": [],
   "source": [
    "def roi_ae(data_set, energy, energy_range,interaction, roi_model, ae_model, roi_scalers, ae_scalers):\n",
    "    waveform_noisy = data_set[energy][0]\n",
    "    print('energy en' + str(energy), energy_range)\n",
    "    noisy_wave_scaled_ROI = (waveform_noisy-roi_scalers[0])/roi_scalers[1]\n",
    "    noisy_wave_scaled_AE = (waveform_noisy-ae_scalers[0])/ae_scalers[1]\n",
    "    \n",
    "    waveform_clean = data_set[energy][1]\n",
    "    clean_wave_scaled = (waveform_clean-ae_scalers[0])/ae_scalers[1]\n",
    "    counter = 0\n",
    "\n",
    "    noisy = np.empty((0, 200))\n",
    "    clean = np.empty((0, 200))\n",
    "    predicted = np.empty((0, 200))\n",
    "\n",
    "    for i in trange(len(waveform_noisy)):\n",
    "        wave_roi = noisy_wave_scaled_ROI[i:i+1]\n",
    "        if roi_model.predict(wave_roi, verbose=0) > 0.999:\n",
    "            wave_AE = noisy_wave_scaled_AE[i:i+1]\n",
    "            if max(waveform_clean[i:i+1][0]) < 1000:\n",
    "                ae_pred = ae_model.predict(wave_AE, verbose=0)\n",
    "                ae_pred = ae_pred.reshape(ae_pred.shape[0], ae_pred.shape[1])\n",
    "                pred = ae_pred*ae_scalers[1] + ae_scalers[0]\n",
    "                \n",
    "                noisy_wf = waveform_noisy[i]\n",
    "                noisy_wf = noisy_wf.reshape(1, 200)\n",
    "                noisy = np.concatenate((noisy, noisy_wf))\n",
    "                #print('debug: ', waveform_clean[i:i+1].shape, clean.shape)\n",
    "                clean = np.concatenate((clean, waveform_clean[i:i+1]))\n",
    "                #print('debug: ', pred.shape, predicted.shape)\n",
    "                predicted = np.concatenate((predicted, pred))\n",
    "    for j in range(10):\n",
    "        noisy, clean, predicted = shuffle(noisy, clean, predicted)\n",
    "    \n",
    "    \n",
    "    make_complete_pdf(noisy, clean, predicted, interaction, energy, energy_range, 50)\n",
    "    print('------------------------')\n",
    "    perentage_ = (len(noisy)/len(waveform_noisy))*100\n",
    "    print(len(noisy), ':', len(waveform_noisy), '%-> ', round(perentage_, 3))\n",
    "    \n",
    "    "
   ]
  },
  {
   "cell_type": "code",
   "execution_count": 27,
   "metadata": {
    "tags": []
   },
   "outputs": [
    {
     "data": {
      "text/plain": [
       "4452"
      ]
     },
     "execution_count": 27,
     "metadata": {},
     "output_type": "execute_result"
    }
   ],
   "source": [
    "len(all_waveforms_nu_CC[0][0])"
   ]
  },
  {
   "cell_type": "code",
   "execution_count": 28,
   "metadata": {},
   "outputs": [
    {
     "name": "stdout",
     "output_type": "stream",
     "text": [
      "energy en0 0.005-0.010 GeV\n"
     ]
    },
    {
     "name": "stderr",
     "output_type": "stream",
     "text": [
      "100%|██████████| 4452/4452 [05:26<00:00, 13.63it/s]\n"
     ]
    },
    {
     "name": "stdout",
     "output_type": "stream",
     "text": [
      "------------------------\n",
      "2328 : 4452 %->  52.291\n",
      "energy en1 0.010-0.013 GeV\n"
     ]
    },
    {
     "name": "stderr",
     "output_type": "stream",
     "text": [
      "100%|██████████| 4497/4497 [05:40<00:00, 13.19it/s]\n"
     ]
    },
    {
     "name": "stdout",
     "output_type": "stream",
     "text": [
      "------------------------\n",
      "2726 : 4497 %->  60.618\n",
      "energy en2 0.013-0.016 GeV\n"
     ]
    },
    {
     "name": "stderr",
     "output_type": "stream",
     "text": [
      "100%|██████████| 4700/4700 [06:04<00:00, 12.88it/s]\n"
     ]
    },
    {
     "name": "stdout",
     "output_type": "stream",
     "text": [
      "------------------------\n",
      "3030 : 4700 %->  64.468\n",
      "energy en3 0.016-0.019 GeV\n"
     ]
    },
    {
     "name": "stderr",
     "output_type": "stream",
     "text": [
      "100%|██████████| 4794/4794 [06:16<00:00, 12.73it/s]\n"
     ]
    },
    {
     "name": "stdout",
     "output_type": "stream",
     "text": [
      "------------------------\n",
      "3230 : 4794 %->  67.376\n",
      "energy en4 0.019-0.021 GeV\n"
     ]
    },
    {
     "name": "stderr",
     "output_type": "stream",
     "text": [
      "100%|██████████| 4782/4782 [06:15<00:00, 12.72it/s]\n"
     ]
    },
    {
     "name": "stdout",
     "output_type": "stream",
     "text": [
      "------------------------\n",
      "3274 : 4782 %->  68.465\n",
      "energy en5 0.021-0.024 GeV\n"
     ]
    },
    {
     "name": "stderr",
     "output_type": "stream",
     "text": [
      "100%|██████████| 5995/5995 [08:05<00:00, 12.35it/s]\n"
     ]
    },
    {
     "name": "stdout",
     "output_type": "stream",
     "text": [
      "------------------------\n",
      "4313 : 5995 %->  71.943\n",
      "energy en6 0.024-0.027 GeV\n"
     ]
    },
    {
     "name": "stderr",
     "output_type": "stream",
     "text": [
      "100%|██████████| 6121/6121 [08:29<00:00, 12.01it/s]\n"
     ]
    },
    {
     "name": "stdout",
     "output_type": "stream",
     "text": [
      "------------------------\n",
      "4425 : 6121 %->  72.292\n",
      "energy en7 0.027-0.031 GeV\n"
     ]
    },
    {
     "name": "stderr",
     "output_type": "stream",
     "text": [
      "100%|██████████| 5995/5995 [08:10<00:00, 12.22it/s] \n"
     ]
    },
    {
     "name": "stdout",
     "output_type": "stream",
     "text": [
      "------------------------\n",
      "4394 : 5995 %->  73.294\n",
      "energy en8 0.031-0.036 GeV\n"
     ]
    },
    {
     "name": "stderr",
     "output_type": "stream",
     "text": [
      "100%|██████████| 6043/6043 [08:19<00:00, 12.09it/s]\n"
     ]
    },
    {
     "name": "stdout",
     "output_type": "stream",
     "text": [
      "------------------------\n",
      "4535 : 6043 %->  75.046\n",
      "energy en9 0.036-0.079 GeV\n"
     ]
    },
    {
     "name": "stderr",
     "output_type": "stream",
     "text": [
      "100%|██████████| 6883/6883 [09:53<00:00, 11.60it/s]\n"
     ]
    },
    {
     "name": "stdout",
     "output_type": "stream",
     "text": [
      "------------------------\n",
      "5610 : 6883 %->  81.505\n"
     ]
    }
   ],
   "source": [
    "for energy_ in range(10):\n",
    "    roi_ae(all_waveforms_nu_CC, energy_, nu_ES_energy[energy_], 'nuCC', model_60k, model_AE_check, [model_60k_mean, model_60k_std], [mean_check, std_check])"
   ]
  },
  {
   "cell_type": "code",
   "execution_count": 29,
   "metadata": {},
   "outputs": [],
   "source": [
    "##"
   ]
  },
  {
   "cell_type": "code",
   "execution_count": null,
   "metadata": {},
   "outputs": [],
   "source": []
  }
 ],
 "metadata": {
  "kernelspec": {
   "display_name": "Python [conda env:.conda-tf]",
   "language": "python",
   "name": "conda-env-.conda-tf-py"
  },
  "language_info": {
   "codemirror_mode": {
    "name": "ipython",
    "version": 3
   },
   "file_extension": ".py",
   "mimetype": "text/x-python",
   "name": "python",
   "nbconvert_exporter": "python",
   "pygments_lexer": "ipython3",
   "version": "3.9.16"
  }
 },
 "nbformat": 4,
 "nbformat_minor": 4
}
