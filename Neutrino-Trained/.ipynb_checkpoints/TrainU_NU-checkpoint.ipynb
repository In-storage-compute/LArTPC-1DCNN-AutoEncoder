{
 "cells": [
  {
   "cell_type": "code",
   "execution_count": 1,
   "metadata": {},
   "outputs": [
    {
     "name": "stderr",
     "output_type": "stream",
     "text": [
      "2022-06-22 19:03:08.315839: I tensorflow/core/util/util.cc:169] oneDNN custom operations are on. You may see slightly different numerical results due to floating-point round-off errors from different computation orders. To turn them off, set the environment variable `TF_ENABLE_ONEDNN_OPTS=0`.\n",
      "2022-06-22 19:03:08.322510: W tensorflow/stream_executor/platform/default/dso_loader.cc:64] Could not load dynamic library 'libcudart.so.11.0'; dlerror: libcudart.so.11.0: cannot open shared object file: No such file or directory\n",
      "2022-06-22 19:03:08.322531: I tensorflow/stream_executor/cuda/cudart_stub.cc:29] Ignore above cudart dlerror if you do not have a GPU set up on your machine.\n"
     ]
    }
   ],
   "source": [
    "import sys\n",
    "from os import listdir\n",
    "from os.path import isfile, join\n",
    "import pandas as pd\n",
    "#!{sys.executable} -m pip install tensorflow-gpu==2.4\n",
    "!export LD_LIBRARY_PATH=$LD_LIBRARY_PATH:/home/bhawks/.conda/envs/dune-1dcnn/lib\n",
    "import numpy as np\n",
    "import matplotlib.pyplot as plt\n",
    "import tensorflow as tf\n",
    "from tensorflow import keras \n",
    "from sklearn.preprocessing import StandardScaler\n",
    "from sklearn.compose import ColumnTransformer, make_column_transformer\n",
    "from sklearn.model_selection import train_test_split\n",
    "from sklearn.utils import shuffle"
   ]
  },
  {
   "cell_type": "code",
   "execution_count": 2,
   "metadata": {},
   "outputs": [],
   "source": [
    "from tqdm import trange"
   ]
  },
  {
   "cell_type": "markdown",
   "metadata": {},
   "source": [
    "# Load data, select ADC"
   ]
  },
  {
   "cell_type": "code",
   "execution_count": 3,
   "metadata": {},
   "outputs": [],
   "source": [
    "wireplane = \"U\"\n",
    "sig_name = wireplane+\"-signal\"\n",
    "cln_name = wireplane+\"-clnsig\"\n",
    "np.random.seed(42)\n",
    "nticks = 200\n",
    "max_mels = 11000\n",
    "min_edp = 50000\n",
    "ADC_MIN = 3\n",
    "ADC_MAX = 10\n",
    "waveform_scaler = StandardScaler()\n",
    "\n",
    "def extract_wave(data):\n",
    "    string = 'tck_'\n",
    "    waveforms = []\n",
    "    #Here I extract a column in each iteration and append to list\n",
    "    for i in range(nticks):\n",
    "        waveforms.append(data[string+str(i)].astype(np.int16))\n",
    "    #convert to numpy ndarray\n",
    "    waveforms = np.array(waveforms).astype(np.int16)\n",
    "    #since raws and columns are inverted we need to transpose it\n",
    "    return np.transpose(waveforms)\n",
    "\n",
    "def extract_peak(data):\n",
    "    #extract index of peak\n",
    "    idx = np.array([data['stp0'], data['adc0'], data['stp1'], data['adc1'], data['stp2'], data['adc2'], data['stp3'], data['adc3'], data['stp4'], data['adc4']])\n",
    "    #same as before\n",
    "    return np.transpose(idx)\n",
    "\n",
    "def extract_peak_info(data):\n",
    "    peaks_pos = [data['stp0'], data['stp1'], data['stp2'], data['stp3'], data['stp4']]\n",
    "    adcs = [data['adc0'], data['adc1'], data['adc2'], data['adc3'], data['adc4']]\n",
    "    return np.array(peaks_pos).T, np.array(adcs).T\n",
    "\n",
    "def extract_nel_info(data):\n",
    "    nels = [data['nel0'], data['nel1'], data['nel2'], data['nel3'], data['nel4']]\n",
    "    return np.array(nels).T\n",
    "\n",
    "def extract_edp_info(data):\n",
    "    edp = [data['edp0'], data['edp1'], data['edp2'], data['edp3'], data['edp4']]\n",
    "    return np.array(edp).T\n",
    "\n",
    "def filter_signals(data, clean_data, filter_adc_max=True):\n",
    "    #edp_mask = np.all(extract_edp_info(data)>min_edp, axis = 1)\n",
    "    #nel_mask = np.all(extract_nel_info(data)<max_mels, axis = 1)\n",
    "    #pd.DataFrame(np.all(extract_edp_info(data)>min_edp, axis = 1)).describe()\n",
    "    #print(edp_mask)\n",
    "    #print(nel_mask)\n",
    "    #filter_mask = nel_mask #np.logical_and(edp_mask,nel_mask) \n",
    "    filtered_data = data#[filter_mask]\n",
    "    cln_filtered_data = clean_data#[filter_mask]\n",
    "    \n",
    "    filtered_peak = extract_peak_info(cln_filtered_data)[1]\n",
    "    if filter_adc_max:\n",
    "        peak_mask = np.any(filtered_peak>ADC_MIN, axis = 1)\n",
    "        peak_mask &= np.any(filtered_peak<ADC_MAX, axis = 1)\n",
    "    else:\n",
    "        peak_mask = np.any(filtered_peak>ADC_MIN, axis = 1)\n",
    "    \n",
    "    filtered_data = filtered_data[peak_mask]\n",
    "    cln_filtered_data = cln_filtered_data[peak_mask]\n",
    "    \n",
    "    return filtered_data, cln_filtered_data, filtered_peak\n",
    "\n",
    "def get_std_waveforms(data):\n",
    "    #Extract and scale waveform data (passthrough rn)\n",
    "    raw_waveforms = extract_wave(data)\n",
    "    #print(raw_waveforms) \n",
    "    #scaled_waveforms = waveform_scaler.fit_transform(raw_waveforms)\n",
    "    return raw_waveforms"
   ]
  },
  {
   "cell_type": "code",
   "execution_count": 4,
   "metadata": {},
   "outputs": [],
   "source": [
    "#X = np.load(\"data/X_argoneut.npz\")\n",
    "#y = np.load(\"data/y_argoneut.npz\")\n",
    "#old_peak = np.load(\"peak_argoneut.npz\")\n",
    "\n",
    "#Load Training Data\n",
    "path = \"/home/bhawks/dunesnb/1dcnn/train/train/nu_cc/\"\n",
    "path2 = \"/home/bhawks/dunesnb/1dcnn/train/train/nu_es/\"\n",
    "filenames1 = [path+f for f in listdir(path) if (isfile(join(path, f)) and sig_name in f)]\n",
    "clean_filenames1 = [path+f for f in listdir(path) if (isfile(join(path, f)) and cln_name in f)]\n",
    "filenames2 = [path2+f for f in listdir(path2) if (isfile(join(path2, f)) and sig_name in f)]\n",
    "clean_filenames2 = [path2+f for f in listdir(path2) if (isfile(join(path2, f)) and cln_name in f)]\n",
    "\n",
    "filenames =  filenames1+filenames2\n",
    "clean_filenames = clean_filenames1+clean_filenames2\n",
    "\n",
    "combined_data = np.concatenate([np.load(fname) for fname in filenames])\n",
    "combined_clean_data = np.concatenate([np.load(fname) for fname in filenames])\n",
    "\n",
    "noise_path = \"/home/bhawks/dunesnb/1dcnn/train/train/noise/\"\n",
    "noise_filenames = [f for f in listdir(noise_path) if (isfile(join(noise_path, f)) and sig_name in f)]\n",
    "#print(noise_filenames)\n",
    "noise_clean_filenames = [f for f in listdir(noise_path) if (isfile(join(noise_path, f)) and cln_name in f)]\n",
    "\n",
    "combined_noise = np.concatenate([np.load(noise_path+fname) for fname in noise_filenames])\n",
    "#print(combined_noise)\n",
    "#combined_clean_noise = np.concatenate([np.load(noise_path+fname) for fname in noise_clean_filenames])\n",
    "\n"
   ]
  },
  {
   "cell_type": "markdown",
   "metadata": {},
   "source": [
    "# Train/Noise Data Preprocessing\n",
    "\n"
   ]
  },
  {
   "cell_type": "code",
   "execution_count": 5,
   "metadata": {},
   "outputs": [
    {
     "name": "stdout",
     "output_type": "stream",
     "text": [
      "203316\n",
      "112385\n",
      "56192\n",
      "53858\n",
      "56193\n"
     ]
    }
   ],
   "source": [
    "from sklearn.utils import shuffle\n",
    "print(combined_data.shape[0])\n",
    "#Filter out tiny signals < ADC_MIN, but leave big signals to test on (incl > ADC_MAX)\n",
    "combined_data, combined_clean_data, peak = filter_signals(combined_data, combined_clean_data, False)\n",
    "print(combined_data.shape[0])\n",
    "\n",
    "#split train and test sets (~50k ea before filtering) \n",
    "combined_data, x_test_data, combined_clean_data, x_test_clean  = train_test_split(\n",
    "    combined_data, combined_clean_data, test_size=0.5, shuffle=True\n",
    ")\n",
    "print(combined_data.shape[0])\n",
    "#filter data and extract waveforms of filtered data\n",
    "combined_data, combined_clean_data, peak = filter_signals(combined_data, combined_clean_data, True)\n",
    "signal_waveforms = get_std_waveforms(combined_data)\n",
    "print(combined_data.shape[0])\n",
    "#extract waveforms of noise\n",
    "noise_waveforms = get_std_waveforms(combined_noise)\n",
    "\n",
    "#extract waveforms of test data\n",
    "test_signal_waveforms = get_std_waveforms(x_test_data)\n",
    "print(test_signal_waveforms.shape[0])\n",
    "#generate y data (assuming all radiologicals contain signal, all noise does not)\n",
    "y_noise_full = np.zeros(noise_waveforms.shape[0])\n",
    "y_signal = np.ones(signal_waveforms.shape[0])\n",
    "y_test_signal = np.ones(test_signal_waveforms.shape[0])\n",
    "\n",
    "\n",
    "# split test and train noise datasets (50k)\n",
    "x_noise_train, x_noise_test, y_noise_train, y_noise_test = train_test_split(\n",
    "    noise_waveforms, y_noise_full, test_size=0.5, shuffle=True\n",
    ")\n",
    "\n",
    "#Shuffle signal waveforms to be safe\n",
    "signal_waveforms, y_signal = shuffle(signal_waveforms,y_signal)\n",
    "\n",
    "#Shuffle test waveformst to be safe\n",
    "x_test, y_test = shuffle(test_signal_waveforms,y_test_signal)\n",
    "\n",
    "#Select First n signal samples from (shuffled) set of signals where n = noise samples for balanced train set \n",
    "x_train = np.concatenate((signal_waveforms[:int(x_noise_train.shape[0])], x_noise_train))\n",
    "y_train = np.concatenate((y_signal[:int(x_noise_train.shape[0])], y_noise_train))\n",
    "\n",
    "x_test = np.concatenate((x_test[:int(x_noise_test.shape[0])], x_noise_test))\n",
    "y_test = np.concatenate((y_test_signal[:int(x_noise_test.shape[0])], y_noise_test))\n",
    "\n",
    "\n",
    "# extra train shuffle for good measure \n",
    "x_train, y_train = shuffle(x_train,y_train)\n",
    "\n",
    "# extra test shuffle for good measure \n",
    "x_test, y_test = shuffle(x_test,y_test)\n",
    "\n",
    "#split train and valid sets (40k train 10k valid) \n",
    "x_train, x_valid, y_train, y_valid = train_test_split(\n",
    "    x_train, y_train, test_size=0.2, shuffle=True\n",
    ")"
   ]
  },
  {
   "cell_type": "markdown",
   "metadata": {},
   "source": [
    "# Load Test Data"
   ]
  },
  {
   "cell_type": "code",
   "execution_count": 6,
   "metadata": {},
   "outputs": [
    {
     "data": {
      "text/plain": [
       "'\\n#Load Test Data\\ncc_path = \"/home/bhawks/dunesnb/1dcnn/train/train/nu_cc/\"\\ncc_filenames = [f for f in listdir(cc_path) if (isfile(join(cc_path, f)) and sig_name in f)]\\ncc_clean_filenames = [f for f in listdir(cc_path) if (isfile(join(cc_path, f)) and cln_name in f)]\\n\\nes_path = \"/home/bhawks/dunesnb/1dcnn/train/train/nu_es/\"\\nes_filenames = [f for f in listdir(es_path) if (isfile(join(es_path, f)) and sig_name in f)]\\nes_clean_filenames = [f for f in listdir(es_path) if (isfile(join(es_path, f)) and cln_name in f)]\\n\\ncc_combined_data = np.concatenate([np.load(cc_path+fname) for fname in cc_filenames])\\nes_combined_data = np.concatenate([np.load(es_path+fname) for fname in es_filenames])\\n\\ncc_combined_clean_data = np.concatenate([np.load(cc_path+fname) for fname in cc_filenames])\\nes_combined_clean_data= np.concatenate([np.load(es_path+fname) for fname in es_filenames])\\n'"
      ]
     },
     "execution_count": 6,
     "metadata": {},
     "output_type": "execute_result"
    }
   ],
   "source": [
    "'''\n",
    "#Load Test Data\n",
    "cc_path = \"/home/bhawks/dunesnb/1dcnn/train/train/nu_cc/\"\n",
    "cc_filenames = [f for f in listdir(cc_path) if (isfile(join(cc_path, f)) and sig_name in f)]\n",
    "cc_clean_filenames = [f for f in listdir(cc_path) if (isfile(join(cc_path, f)) and cln_name in f)]\n",
    "\n",
    "es_path = \"/home/bhawks/dunesnb/1dcnn/train/train/nu_es/\"\n",
    "es_filenames = [f for f in listdir(es_path) if (isfile(join(es_path, f)) and sig_name in f)]\n",
    "es_clean_filenames = [f for f in listdir(es_path) if (isfile(join(es_path, f)) and cln_name in f)]\n",
    "\n",
    "cc_combined_data = np.concatenate([np.load(cc_path+fname) for fname in cc_filenames])\n",
    "es_combined_data = np.concatenate([np.load(es_path+fname) for fname in es_filenames])\n",
    "\n",
    "cc_combined_clean_data = np.concatenate([np.load(cc_path+fname) for fname in cc_filenames])\n",
    "es_combined_clean_data= np.concatenate([np.load(es_path+fname) for fname in es_filenames])\n",
    "'''"
   ]
  },
  {
   "cell_type": "markdown",
   "metadata": {},
   "source": [
    "# Test Data Pre-Processing"
   ]
  },
  {
   "cell_type": "code",
   "execution_count": 7,
   "metadata": {},
   "outputs": [
    {
     "data": {
      "text/plain": [
       "'\\ncc_combined_data, cc_combined_clean_data, cc_peak = filter_signals(cc_combined_data, cc_combined_clean_data)\\nes_combined_data, es_combined_clean_data, es_peak = filter_signals(es_combined_data, es_combined_clean_data)\\n\\ncc_signal_waveforms = get_std_waveforms(cc_combined_data)\\nes_signal_waveforms = get_std_waveforms(es_combined_data)\\n\\ncc_y_signal = np.ones(cc_signal_waveforms.shape[0])\\nes_y_signal = np.ones(es_signal_waveforms.shape[0])\\n\\n#Select First n signal samples from (shuffled) set of signals where n = noise samples for balanced test \\ncc_x_test = np.concatenate((cc_signal_waveforms[:int(x_noise_test.shape[0])], x_noise_test))\\ncc_y_test = np.concatenate((cc_y_signal[:int(x_noise_test.shape[0])], y_noise_test))\\n\\n#Select First n signal samples from (shuffled) set of signals where n = noise samples for balanced test \\nes_x_test = np.concatenate((es_signal_waveforms[:int(x_noise_test.shape[0])], x_noise_test))\\nes_y_test = np.concatenate((es_y_signal[:int(x_noise_test.shape[0])], y_noise_test))\\n\\n#shuffle for good measure \\nfrom sklearn.utils import shuffle\\ncc_x_test, cc_y_test = shuffle(cc_x_test,cc_y_test)\\nes_x_test, es_y_test = shuffle(es_x_test,es_y_test)\\n'"
      ]
     },
     "execution_count": 7,
     "metadata": {},
     "output_type": "execute_result"
    }
   ],
   "source": [
    "'''\n",
    "cc_combined_data, cc_combined_clean_data, cc_peak = filter_signals(cc_combined_data, cc_combined_clean_data)\n",
    "es_combined_data, es_combined_clean_data, es_peak = filter_signals(es_combined_data, es_combined_clean_data)\n",
    "\n",
    "cc_signal_waveforms = get_std_waveforms(cc_combined_data)\n",
    "es_signal_waveforms = get_std_waveforms(es_combined_data)\n",
    "\n",
    "cc_y_signal = np.ones(cc_signal_waveforms.shape[0])\n",
    "es_y_signal = np.ones(es_signal_waveforms.shape[0])\n",
    "\n",
    "#Select First n signal samples from (shuffled) set of signals where n = noise samples for balanced test \n",
    "cc_x_test = np.concatenate((cc_signal_waveforms[:int(x_noise_test.shape[0])], x_noise_test))\n",
    "cc_y_test = np.concatenate((cc_y_signal[:int(x_noise_test.shape[0])], y_noise_test))\n",
    "\n",
    "#Select First n signal samples from (shuffled) set of signals where n = noise samples for balanced test \n",
    "es_x_test = np.concatenate((es_signal_waveforms[:int(x_noise_test.shape[0])], x_noise_test))\n",
    "es_y_test = np.concatenate((es_y_signal[:int(x_noise_test.shape[0])], y_noise_test))\n",
    "\n",
    "#shuffle for good measure \n",
    "from sklearn.utils import shuffle\n",
    "cc_x_test, cc_y_test = shuffle(cc_x_test,cc_y_test)\n",
    "es_x_test, es_y_test = shuffle(es_x_test,es_y_test)\n",
    "'''"
   ]
  },
  {
   "cell_type": "code",
   "execution_count": 8,
   "metadata": {},
   "outputs": [],
   "source": [
    "#pd.DataFrame(extract_nel_info(combined_data)).describe()"
   ]
  },
  {
   "cell_type": "code",
   "execution_count": 9,
   "metadata": {},
   "outputs": [],
   "source": [
    "#pd.DataFrame(old_peak[\"training_set\"]).describe()\n"
   ]
  },
  {
   "cell_type": "code",
   "execution_count": 10,
   "metadata": {},
   "outputs": [],
   "source": [
    "#for i in range(0,5): \n",
    "#    plt.hist(peak[:,i],bins=120)\n",
    "#    plt.show()\n",
    "#pd.DataFrame(peak).describe()"
   ]
  },
  {
   "cell_type": "code",
   "execution_count": 11,
   "metadata": {},
   "outputs": [],
   "source": [
    "#for i in range(0,5): \n",
    "#    plt.hist(unscaled_peak[:,i],bins=120)\n",
    "#    plt.show()\n",
    "#pd.DataFrame(unscaled_peak).describe()"
   ]
  },
  {
   "cell_type": "code",
   "execution_count": 12,
   "metadata": {},
   "outputs": [],
   "source": [
    "#x_train = X[\"training_set\"]\n",
    "#y_train = y[\"training_set\"]#\n",
    "#x_test = X[\"test_set\"]\n",
    "#y_test = y[\"test_set\"]\n",
    "\n",
    "#peak_train = peak[\"training_set\"]\n",
    "#peak_test = peak[\"test_set\"]\n",
    "#del y\n",
    "#del X\n",
    "#del peak"
   ]
  },
  {
   "cell_type": "code",
   "execution_count": 13,
   "metadata": {},
   "outputs": [],
   "source": [
    "#ADC_MIN = 3"
   ]
  },
  {
   "cell_type": "code",
   "execution_count": 14,
   "metadata": {},
   "outputs": [],
   "source": [
    "#signal = x_train[y_train == 1]\n",
    "#noise = x_train[y_train == 0]\n",
    "\n",
    "#peak_signal = peak_train[y_train == 1]\n",
    "#peak_noise =  peak_train[y_train == 0]"
   ]
  },
  {
   "cell_type": "code",
   "execution_count": 15,
   "metadata": {},
   "outputs": [],
   "source": [
    "#signal_test = x_test[y_test == 1]\n",
    "#noise_test = x_test[y_test == 0]\n",
    "\n",
    "#peak_signal_test = peak_test[y_test == 1]\n",
    "#peak_noise_test =  peak_test[y_test == 0]"
   ]
  },
  {
   "cell_type": "code",
   "execution_count": 16,
   "metadata": {},
   "outputs": [],
   "source": [
    "#mask = np.any(peak_signal>ADC_MIN, axis = 1)\n",
    "#peak_signal = signal[mask]\n",
    "#signal = signal[mask]"
   ]
  },
  {
   "cell_type": "code",
   "execution_count": 17,
   "metadata": {},
   "outputs": [],
   "source": [
    "#mask = np.any(peak_signal_test>ADC_MIN, axis = 1)\n",
    "#peak_signal_test = signal_test[mask]\n",
    "#signal_test = signal_test[mask]"
   ]
  },
  {
   "cell_type": "code",
   "execution_count": 18,
   "metadata": {},
   "outputs": [],
   "source": [
    "#y_noise = np.zeros(signal.shape[0])\n",
    "#y_signal = np.ones(signal.shape[0])\n",
    "\n",
    "#x_train = np.concatenate((noise[:signal.shape[0]], signal))\n",
    "#y_train = np.concatenate((y_noise, y_signal))\n",
    "#from sklearn.utils import shuffle\n",
    "#x_train, y_train = shuffle(x_train,y_train)"
   ]
  },
  {
   "cell_type": "code",
   "execution_count": 19,
   "metadata": {},
   "outputs": [],
   "source": [
    "#y_noise_test = np.zeros(signal_test.shape[0])\n",
    "#y_signal_test = np.ones(signal_test.shape[0])\n",
    "\n",
    "#x_test = np.concatenate((noise_test[:signal_test.shape[0]], signal_test))\n",
    "#y_test = np.concatenate((y_noise_test, y_signal_test))\n",
    "#from sklearn.utils import shuffle\n",
    "#x_test, y_test = shuffle(x_test,y_test)"
   ]
  },
  {
   "cell_type": "code",
   "execution_count": 20,
   "metadata": {},
   "outputs": [
    {
     "data": {
      "text/plain": [
       "(86526, 200)"
      ]
     },
     "execution_count": 20,
     "metadata": {},
     "output_type": "execute_result"
    }
   ],
   "source": [
    "x_train.shape"
   ]
  },
  {
   "cell_type": "code",
   "execution_count": 21,
   "metadata": {},
   "outputs": [
    {
     "data": {
      "text/plain": [
       "(21632, 200)"
      ]
     },
     "execution_count": 21,
     "metadata": {},
     "output_type": "execute_result"
    }
   ],
   "source": [
    "x_valid.shape"
   ]
  },
  {
   "cell_type": "code",
   "execution_count": 22,
   "metadata": {
    "executionInfo": {
     "elapsed": 3292,
     "status": "ok",
     "timestamp": 1602697140320,
     "user": {
      "displayName": "Lorenzo Uboldi",
      "photoUrl": "",
      "userId": "12025999408021597208"
     },
     "user_tz": -120
    },
    "id": "98hh3JJMgmL5"
   },
   "outputs": [],
   "source": [
    "mean = x_train.mean()\n",
    "std = x_train.std()"
   ]
  },
  {
   "cell_type": "code",
   "execution_count": 23,
   "metadata": {
    "executionInfo": {
     "elapsed": 2199,
     "status": "ok",
     "timestamp": 1602697150258,
     "user": {
      "displayName": "Lorenzo Uboldi",
      "photoUrl": "",
      "userId": "12025999408021597208"
     },
     "user_tz": -120
    },
    "id": "GNfE_-NlgmL9"
   },
   "outputs": [],
   "source": [
    "x_train_scaled = (x_train-mean)/std\n",
    "x_valid_scaled = (x_valid-mean)/std\n",
    "x_test_scaled = (x_test-mean)/std\n",
    "#cc_x_test_scaled = (cc_x_test-mean)/std \n",
    "#es_x_test_scaled = (es_x_test-mean)/std \n",
    "time_periods = 200"
   ]
  },
  {
   "cell_type": "code",
   "execution_count": 24,
   "metadata": {
    "executionInfo": {
     "elapsed": 835,
     "status": "ok",
     "timestamp": 1602698921642,
     "user": {
      "displayName": "Lorenzo Uboldi",
      "photoUrl": "",
      "userId": "12025999408021597208"
     },
     "user_tz": -120
    },
    "id": "f1Q5D9PrR26R"
   },
   "outputs": [],
   "source": [
    "np.save(\"models/mean_u_nu\", mean)\n",
    "np.save(\"models/scale_u_nu\", std)"
   ]
  },
  {
   "cell_type": "code",
   "execution_count": 25,
   "metadata": {
    "executionInfo": {
     "elapsed": 632,
     "status": "ok",
     "timestamp": 1602697152760,
     "user": {
      "displayName": "Lorenzo Uboldi",
      "photoUrl": "",
      "userId": "12025999408021597208"
     },
     "user_tz": -120
    },
    "id": "8Kv4B_L4gmMF"
   },
   "outputs": [],
   "source": [
    "from tensorflow.keras.models import Sequential\n",
    "from tensorflow.keras.layers import Conv1D, MaxPooling1D, GlobalMaxPooling1D, \\\n",
    "    Dropout, Dense,Flatten, AveragePooling1D, BatchNormalization"
   ]
  },
  {
   "cell_type": "code",
   "execution_count": 26,
   "metadata": {
    "colab": {
     "base_uri": "https://localhost:8080/",
     "height": 503
    },
    "executionInfo": {
     "elapsed": 6059,
     "status": "ok",
     "timestamp": 1602697386319,
     "user": {
      "displayName": "Lorenzo Uboldi",
      "photoUrl": "",
      "userId": "12025999408021597208"
     },
     "user_tz": -120
    },
    "id": "Qy2CLcCzgmMK",
    "outputId": "bde22703-bb05-4503-976c-fa68081e1c69"
   },
   "outputs": [
    {
     "name": "stdout",
     "output_type": "stream",
     "text": [
      "Model: \"sequential\"\n",
      "_________________________________________________________________\n",
      " Layer (type)                Output Shape              Param #   \n",
      "=================================================================\n",
      " conv1d (Conv1D)             (None, 99, 16)            64        \n",
      "                                                                 \n",
      " max_pooling1d (MaxPooling1D  (None, 49, 16)           0         \n",
      " )                                                               \n",
      "                                                                 \n",
      " conv1d_1 (Conv1D)           (None, 23, 32)            2592      \n",
      "                                                                 \n",
      " max_pooling1d_1 (MaxPooling  (None, 11, 32)           0         \n",
      " 1D)                                                             \n",
      "                                                                 \n",
      " dropout (Dropout)           (None, 11, 32)            0         \n",
      "                                                                 \n",
      " conv1d_2 (Conv1D)           (None, 3, 64)             18496     \n",
      "                                                                 \n",
      " global_max_pooling1d (Globa  (None, 64)               0         \n",
      " lMaxPooling1D)                                                  \n",
      "                                                                 \n",
      " dropout_1 (Dropout)         (None, 64)                0         \n",
      "                                                                 \n",
      " flatten (Flatten)           (None, 64)                0         \n"
     ]
    },
    {
     "name": "stderr",
     "output_type": "stream",
     "text": [
      "2022-06-22 19:03:15.602086: W tensorflow/stream_executor/platform/default/dso_loader.cc:64] Could not load dynamic library 'libcuda.so.1'; dlerror: libcuda.so.1: cannot open shared object file: No such file or directory\n",
      "2022-06-22 19:03:15.602152: W tensorflow/stream_executor/cuda/cuda_driver.cc:269] failed call to cuInit: UNKNOWN ERROR (303)\n",
      "2022-06-22 19:03:15.602201: I tensorflow/stream_executor/cuda/cuda_diagnostics.cc:156] kernel driver does not appear to be running on this host (jupyter-bhawks-pynq-2ddemo-2dgpu): /proc/driver/nvidia/version does not exist\n",
      "2022-06-22 19:03:15.602802: I tensorflow/core/platform/cpu_feature_guard.cc:193] This TensorFlow binary is optimized with oneAPI Deep Neural Network Library (oneDNN) to use the following CPU instructions in performance-critical operations:  AVX2 AVX512F AVX512_VNNI FMA\n",
      "To enable them in other operations, rebuild TensorFlow with the appropriate compiler flags.\n"
     ]
    },
    {
     "name": "stdout",
     "output_type": "stream",
     "text": [
      "                                                                 \n",
      " wavrec_out (Dense)          (None, 1)                 65        \n",
      "                                                                 \n",
      "=================================================================\n",
      "Total params: 21,217\n",
      "Trainable params: 21,217\n",
      "Non-trainable params: 0\n",
      "_________________________________________________________________\n"
     ]
    }
   ],
   "source": [
    "time_periods = 200\n",
    "def create_model():\n",
    "  model = Sequential()  \n",
    "  #first convolutional block\n",
    "  model.add(Conv1D(filters=16, kernel_size=3, strides=2, activation = \"relu\", input_shape=(time_periods,1)))\n",
    "  model.add(MaxPooling1D(pool_size=2))\n",
    "\n",
    "  #second convolutional block\n",
    "  model.add(Conv1D(filters=32, kernel_size=5, strides=2, activation = \"relu\"))\n",
    "  model.add(MaxPooling1D(pool_size=2))\n",
    "  model.add(Dropout(0.1))\n",
    "  \n",
    "  #forth convolutional block\n",
    "  model.add(Conv1D(filters=64, kernel_size=9, activation = \"relu\"))\n",
    "  model.add(GlobalMaxPooling1D())\n",
    "  model.add(Dropout(0.2)) \n",
    "    \n",
    "  model.add(Flatten())\n",
    "\n",
    "  \n",
    " \n",
    "  model.add(Dense(1, activation=\"sigmoid\", name=\"wavrec_out\"))\n",
    "  return model\n",
    "\n",
    "\n",
    "model = create_model()\n",
    "\n",
    "#lr=0.001\n",
    "adam = tf.keras.optimizers.Adam(learning_rate=0.001, beta_1=0.9, beta_2=0.999, epsilon=None, decay=0.0, amsgrad=False)\n",
    "\n",
    "model.compile(optimizer = adam, loss = 'binary_crossentropy', metrics = ['accuracy'])\n",
    "model.summary()"
   ]
  },
  {
   "cell_type": "code",
   "execution_count": 27,
   "metadata": {
    "executionInfo": {
     "elapsed": 619,
     "status": "ok",
     "timestamp": 1602697394483,
     "user": {
      "displayName": "Lorenzo Uboldi",
      "photoUrl": "",
      "userId": "12025999408021597208"
     },
     "user_tz": -120
    },
    "id": "ck6Dc8zpgmMQ"
   },
   "outputs": [
    {
     "name": "stdout",
     "output_type": "stream",
     "text": [
      "86526\n",
      "21632\n",
      "108600\n"
     ]
    }
   ],
   "source": [
    "x_train_scaled = x_train_scaled.reshape(x_train_scaled.shape[0], x_train_scaled.shape[1], 1)\n",
    "#cc_x_test_scaled = cc_x_test_scaled.reshape(cc_x_test_scaled.shape[0], cc_x_test_scaled.shape[1], 1)\n",
    "#es_x_test_scaled = es_x_test_scaled.reshape(es_x_test_scaled.shape[0], es_x_test_scaled.shape[1], 1)\n",
    "x_valid_scaled = x_valid_scaled.reshape(x_valid_scaled.shape[0], x_valid_scaled.shape[1], 1)\n",
    "x_test_scaled = x_test_scaled.reshape(x_test_scaled.shape[0], x_test_scaled.shape[1], 1)\n",
    "print(x_train_scaled.shape[0])\n",
    "print(x_valid_scaled.shape[0])\n",
    "print(x_test_scaled.shape[0])"
   ]
  },
  {
   "cell_type": "code",
   "execution_count": 28,
   "metadata": {},
   "outputs": [],
   "source": [
    "earlystop = tf.keras.callbacks.EarlyStopping(\n",
    "    monitor=\"val_loss\",\n",
    "    min_delta=0,\n",
    "    patience=5,\n",
    "    verbose=0,\n",
    "    mode=\"auto\",\n",
    "    baseline=None,\n",
    "    restore_best_weights=True,\n",
    ")\n"
   ]
  },
  {
   "cell_type": "code",
   "execution_count": 29,
   "metadata": {
    "colab": {
     "base_uri": "https://localhost:8080/",
     "height": 746
    },
    "executionInfo": {
     "elapsed": 190700,
     "status": "ok",
     "timestamp": 1602697588909,
     "user": {
      "displayName": "Lorenzo Uboldi",
      "photoUrl": "",
      "userId": "12025999408021597208"
     },
     "user_tz": -120
    },
    "id": "pvebeWPOgmMU",
    "outputId": "c59d02f0-c33a-40be-a52a-eef5f7409d69"
   },
   "outputs": [
    {
     "name": "stdout",
     "output_type": "stream",
     "text": [
      "Epoch 1/100\n",
      "43/43 [==============================] - 4s 60ms/step - loss: 0.4783 - accuracy: 0.7337 - val_loss: 0.3121 - val_accuracy: 0.8768\n",
      "Epoch 2/100\n",
      "43/43 [==============================] - 2s 51ms/step - loss: 0.2839 - accuracy: 0.8871 - val_loss: 0.2599 - val_accuracy: 0.8969\n",
      "Epoch 3/100\n",
      "43/43 [==============================] - 2s 52ms/step - loss: 0.2580 - accuracy: 0.8991 - val_loss: 0.2492 - val_accuracy: 0.9014\n",
      "Epoch 4/100\n",
      "43/43 [==============================] - 2s 51ms/step - loss: 0.2505 - accuracy: 0.9035 - val_loss: 0.2452 - val_accuracy: 0.9038\n",
      "Epoch 5/100\n",
      "43/43 [==============================] - 2s 50ms/step - loss: 0.2454 - accuracy: 0.9047 - val_loss: 0.2429 - val_accuracy: 0.9052\n",
      "Epoch 6/100\n",
      "43/43 [==============================] - 2s 51ms/step - loss: 0.2429 - accuracy: 0.9068 - val_loss: 0.2401 - val_accuracy: 0.9063\n",
      "Epoch 7/100\n",
      "43/43 [==============================] - 2s 49ms/step - loss: 0.2415 - accuracy: 0.9071 - val_loss: 0.2382 - val_accuracy: 0.9070\n",
      "Epoch 8/100\n",
      "43/43 [==============================] - 2s 49ms/step - loss: 0.2397 - accuracy: 0.9086 - val_loss: 0.2372 - val_accuracy: 0.9076\n",
      "Epoch 9/100\n",
      "43/43 [==============================] - 2s 51ms/step - loss: 0.2387 - accuracy: 0.9090 - val_loss: 0.2362 - val_accuracy: 0.9086\n",
      "Epoch 10/100\n",
      "43/43 [==============================] - 2s 52ms/step - loss: 0.2367 - accuracy: 0.9104 - val_loss: 0.2353 - val_accuracy: 0.9087\n",
      "Epoch 11/100\n",
      "43/43 [==============================] - 2s 53ms/step - loss: 0.2366 - accuracy: 0.9104 - val_loss: 0.2349 - val_accuracy: 0.9086\n",
      "Epoch 12/100\n",
      "43/43 [==============================] - 2s 53ms/step - loss: 0.2349 - accuracy: 0.9110 - val_loss: 0.2349 - val_accuracy: 0.9093\n",
      "Epoch 13/100\n",
      "43/43 [==============================] - 2s 51ms/step - loss: 0.2336 - accuracy: 0.9124 - val_loss: 0.2342 - val_accuracy: 0.9096\n",
      "Epoch 14/100\n",
      "43/43 [==============================] - 2s 51ms/step - loss: 0.2334 - accuracy: 0.9116 - val_loss: 0.2332 - val_accuracy: 0.9100\n",
      "Epoch 15/100\n",
      "43/43 [==============================] - 2s 50ms/step - loss: 0.2321 - accuracy: 0.9127 - val_loss: 0.2359 - val_accuracy: 0.9098\n",
      "Epoch 16/100\n",
      "43/43 [==============================] - 2s 50ms/step - loss: 0.2325 - accuracy: 0.9124 - val_loss: 0.2332 - val_accuracy: 0.9109\n",
      "Epoch 17/100\n",
      "43/43 [==============================] - 2s 52ms/step - loss: 0.2314 - accuracy: 0.9127 - val_loss: 0.2336 - val_accuracy: 0.9104\n",
      "Epoch 18/100\n",
      "43/43 [==============================] - 2s 52ms/step - loss: 0.2310 - accuracy: 0.9129 - val_loss: 0.2333 - val_accuracy: 0.9110\n",
      "Epoch 19/100\n",
      "43/43 [==============================] - 2s 50ms/step - loss: 0.2305 - accuracy: 0.9134 - val_loss: 0.2322 - val_accuracy: 0.9109\n",
      "Epoch 20/100\n",
      "43/43 [==============================] - 2s 49ms/step - loss: 0.2303 - accuracy: 0.9134 - val_loss: 0.2330 - val_accuracy: 0.9111\n",
      "Epoch 21/100\n",
      "43/43 [==============================] - 2s 51ms/step - loss: 0.2293 - accuracy: 0.9137 - val_loss: 0.2317 - val_accuracy: 0.9102\n",
      "Epoch 22/100\n",
      "43/43 [==============================] - 2s 50ms/step - loss: 0.2289 - accuracy: 0.9136 - val_loss: 0.2314 - val_accuracy: 0.9104\n",
      "Epoch 23/100\n",
      "43/43 [==============================] - 2s 50ms/step - loss: 0.2292 - accuracy: 0.9138 - val_loss: 0.2313 - val_accuracy: 0.9106\n",
      "Epoch 24/100\n",
      "43/43 [==============================] - 2s 52ms/step - loss: 0.2288 - accuracy: 0.9134 - val_loss: 0.2314 - val_accuracy: 0.9104\n",
      "Epoch 25/100\n",
      "43/43 [==============================] - 2s 52ms/step - loss: 0.2284 - accuracy: 0.9136 - val_loss: 0.2311 - val_accuracy: 0.9107\n",
      "Epoch 26/100\n",
      "43/43 [==============================] - 2s 51ms/step - loss: 0.2275 - accuracy: 0.9143 - val_loss: 0.2311 - val_accuracy: 0.9103\n",
      "Epoch 27/100\n",
      "43/43 [==============================] - 2s 51ms/step - loss: 0.2274 - accuracy: 0.9145 - val_loss: 0.2344 - val_accuracy: 0.9107\n",
      "Epoch 28/100\n",
      "43/43 [==============================] - 2s 50ms/step - loss: 0.2275 - accuracy: 0.9136 - val_loss: 0.2316 - val_accuracy: 0.9112\n",
      "Epoch 29/100\n",
      "43/43 [==============================] - 2s 50ms/step - loss: 0.2272 - accuracy: 0.9137 - val_loss: 0.2320 - val_accuracy: 0.9105\n",
      "Epoch 30/100\n",
      "43/43 [==============================] - 2s 50ms/step - loss: 0.2276 - accuracy: 0.9143 - val_loss: 0.2317 - val_accuracy: 0.9112\n",
      "CPU times: user 2min 46s, sys: 11.7 s, total: 2min 57s\n",
      "Wall time: 1min 7s\n"
     ]
    }
   ],
   "source": [
    "%%time\n",
    "history = model.fit(x_train_scaled,                                                              \n",
    "                    y_train,                                                            \n",
    "                    batch_size=2048,                                              \n",
    "                    epochs=100,      \n",
    "                    \n",
    "                   # epochs=30, \n",
    "                    #epochs = 6,\n",
    "                    callbacks=[earlystop],\n",
    "                     # callbacks=callbacks_list,                         \n",
    "                    validation_data=(x_valid_scaled, y_valid),                                               \n",
    "                    verbose=1)   "
   ]
  },
  {
   "cell_type": "code",
   "execution_count": 30,
   "metadata": {
    "colab": {
     "base_uri": "https://localhost:8080/",
     "height": 513
    },
    "executionInfo": {
     "elapsed": 710,
     "status": "ok",
     "timestamp": 1602697613662,
     "user": {
      "displayName": "Lorenzo Uboldi",
      "photoUrl": "",
      "userId": "12025999408021597208"
     },
     "user_tz": -120
    },
    "id": "KagllrzUgmMZ",
    "outputId": "0a5d4266-3904-4eda-9d3e-6db6aa89664e"
   },
   "outputs": [
    {
     "data": {
      "image/png": "[encoded data removed]",
      "text/plain": [
       "<Figure size 864x576 with 1 Axes>"
      ]
     },
     "metadata": {
      "needs_background": "light"
     },
     "output_type": "display_data"
    }
   ],
   "source": [
    "plt.figure(figsize=(12, 8))                                                     \n",
    "plt.plot(history.history['accuracy'], \"g--\", label=\"Accuracy of training data\", antialiased=True)\n",
    "plt.plot(history.history['val_accuracy'], \"g\", label=\"Accuracy of validation data\", antialiased=True)\n",
    "plt.plot(history.history['loss'], \"r--\", label=\"Loss of training data\", antialiased=True)\n",
    "plt.plot(history.history['val_loss'], \"r\", label=\"Loss of validation data\", antialiased=True)\n",
    "plt.title('Model Accuracy and Loss')                                            \n",
    "plt.ylabel('Accuracy and Loss')                                                 \n",
    "plt.xlabel('Training Epoch')                                                    \n",
    "#plt.ylim(0)                                                                     \n",
    "plt.legend()                                                                    \n",
    "plt.show()     "
   ]
  },
  {
   "cell_type": "code",
   "execution_count": 31,
   "metadata": {},
   "outputs": [
    {
     "data": {
      "text/plain": [
       "5233"
      ]
     },
     "execution_count": 31,
     "metadata": {},
     "output_type": "execute_result"
    }
   ],
   "source": [
    "#del x_train\n",
    "\n",
    "import gc\n",
    "gc.collect()"
   ]
  },
  {
   "cell_type": "code",
   "execution_count": 32,
   "metadata": {
    "collapsed": false,
    "jupyter": {
     "outputs_hidden": false
    },
    "pycharm": {
     "name": "#%%\n"
    }
   },
   "outputs": [],
   "source": [
    "model.save(\"models/uplane_nu.h5\")"
   ]
  },
  {
   "cell_type": "code",
   "execution_count": 33,
   "metadata": {},
   "outputs": [
    {
     "data": {
      "text/plain": [
       "[0.47829848527908325,\n",
       " 0.28385984897613525,\n",
       " 0.25803327560424805,\n",
       " 0.2504778504371643,\n",
       " 0.24544835090637207,\n",
       " 0.24294491112232208,\n",
       " 0.24147067964076996,\n",
       " 0.23967960476875305,\n",
       " 0.23872509598731995,\n",
       " 0.23670163750648499,\n",
       " 0.23660074174404144,\n",
       " 0.23488672077655792,\n",
       " 0.2336479127407074,\n",
       " 0.23343290388584137,\n",
       " 0.23210732638835907,\n",
       " 0.23245836794376373,\n",
       " 0.2314428687095642,\n",
       " 0.23098836839199066,\n",
       " 0.23050642013549805,\n",
       " 0.23029661178588867,\n",
       " 0.2293170839548111,\n",
       " 0.22887156903743744,\n",
       " 0.22918058931827545,\n",
       " 0.22877144813537598,\n",
       " 0.22838237881660461,\n",
       " 0.22745895385742188,\n",
       " 0.22743134200572968,\n",
       " 0.22750331461429596,\n",
       " 0.2271781861782074,\n",
       " 0.22762441635131836]"
      ]
     },
     "execution_count": 33,
     "metadata": {},
     "output_type": "execute_result"
    }
   ],
   "source": [
    "history.history['loss']"
   ]
  },
  {
   "cell_type": "code",
   "execution_count": 34,
   "metadata": {},
   "outputs": [
    {
     "data": {
      "text/plain": [
       "[0.31209829449653625,\n",
       " 0.2598884403705597,\n",
       " 0.24924065172672272,\n",
       " 0.24523943662643433,\n",
       " 0.24288691580295563,\n",
       " 0.24007831513881683,\n",
       " 0.2382291704416275,\n",
       " 0.23721446096897125,\n",
       " 0.2361936867237091,\n",
       " 0.23531581461429596,\n",
       " 0.23492400348186493,\n",
       " 0.2348865270614624,\n",
       " 0.23418977856636047,\n",
       " 0.23320911824703217,\n",
       " 0.23591600358486176,\n",
       " 0.23315612971782684,\n",
       " 0.23364946246147156,\n",
       " 0.23330825567245483,\n",
       " 0.23215796053409576,\n",
       " 0.2330026626586914,\n",
       " 0.23170848190784454,\n",
       " 0.23144909739494324,\n",
       " 0.23128141462802887,\n",
       " 0.23141269385814667,\n",
       " 0.23108822107315063,\n",
       " 0.2311214655637741,\n",
       " 0.23441261053085327,\n",
       " 0.2315772920846939,\n",
       " 0.23199567198753357,\n",
       " 0.23174431920051575]"
      ]
     },
     "execution_count": 34,
     "metadata": {},
     "output_type": "execute_result"
    }
   ],
   "source": [
    "history.history['val_loss']"
   ]
  },
  {
   "cell_type": "code",
   "execution_count": 35,
   "metadata": {},
   "outputs": [
    {
     "data": {
      "text/plain": [
       "[0.7336522936820984,\n",
       " 0.8870859742164612,\n",
       " 0.8991170525550842,\n",
       " 0.9035319089889526,\n",
       " 0.904722273349762,\n",
       " 0.9068257212638855,\n",
       " 0.9071261882781982,\n",
       " 0.9086286425590515,\n",
       " 0.9090099930763245,\n",
       " 0.9103506207466125,\n",
       " 0.9104084372520447,\n",
       " 0.9110440611839294,\n",
       " 0.912350058555603,\n",
       " 0.9116334915161133,\n",
       " 0.9126505255699158,\n",
       " 0.912350058555603,\n",
       " 0.912731409072876,\n",
       " 0.9129279255867004,\n",
       " 0.9134248495101929,\n",
       " 0.9133670926094055,\n",
       " 0.9136906862258911,\n",
       " 0.9135751128196716,\n",
       " 0.913817822933197,\n",
       " 0.9134364128112793,\n",
       " 0.9136213660240173,\n",
       " 0.9142685532569885,\n",
       " 0.9145458936691284,\n",
       " 0.9135866761207581,\n",
       " 0.9136559963226318,\n",
       " 0.914280116558075]"
      ]
     },
     "execution_count": 35,
     "metadata": {},
     "output_type": "execute_result"
    }
   ],
   "source": [
    "history.history['accuracy']"
   ]
  },
  {
   "cell_type": "code",
   "execution_count": 36,
   "metadata": {},
   "outputs": [
    {
     "data": {
      "text/plain": [
       "[0.8768028616905212,\n",
       " 0.896865725517273,\n",
       " 0.9013960957527161,\n",
       " 0.9037999510765076,\n",
       " 0.9051867723464966,\n",
       " 0.9063424468040466,\n",
       " 0.9069896340370178,\n",
       " 0.907636821269989,\n",
       " 0.9085614085197449,\n",
       " 0.9087463021278381,\n",
       " 0.9086076021194458,\n",
       " 0.9093472361564636,\n",
       " 0.9096246361732483,\n",
       " 0.9100406765937805,\n",
       " 0.9098095297813416,\n",
       " 0.9109190106391907,\n",
       " 0.9103642702102661,\n",
       " 0.9110114574432373,\n",
       " 0.910872757434845,\n",
       " 0.911057710647583,\n",
       " 0.9101793766021729,\n",
       " 0.9104105234146118,\n",
       " 0.9105954170227051,\n",
       " 0.9104105234146118,\n",
       " 0.9106878638267517,\n",
       " 0.9102718234062195,\n",
       " 0.9107341170310974,\n",
       " 0.9112426042556763,\n",
       " 0.9105491638183594,\n",
       " 0.9111963510513306]"
      ]
     },
     "execution_count": 36,
     "metadata": {},
     "output_type": "execute_result"
    }
   ],
   "source": [
    "history.history['val_accuracy']"
   ]
  },
  {
   "cell_type": "code",
   "execution_count": 37,
   "metadata": {
    "collapsed": false,
    "jupyter": {
     "outputs_hidden": false
    },
    "pycharm": {
     "name": "#%%\n"
    }
   },
   "outputs": [
    {
     "name": "stdout",
     "output_type": "stream",
     "text": [
      "27/27 [==============================] - 1s 32ms/step - loss: 0.2234 - accuracy: 0.9153\n"
     ]
    },
    {
     "data": {
      "text/plain": [
       "[0.22336143255233765, 0.9152946472167969]"
      ]
     },
     "execution_count": 37,
     "metadata": {},
     "output_type": "execute_result"
    }
   ],
   "source": [
    "model.evaluate(x_test_scaled, y_test, batch_size=4096)"
   ]
  },
  {
   "cell_type": "code",
   "execution_count": 38,
   "metadata": {
    "colab": {
     "base_uri": "https://localhost:8080/",
     "height": 52
    },
    "executionInfo": {
     "elapsed": 2171,
     "status": "ok",
     "timestamp": 1602697903973,
     "user": {
      "displayName": "Lorenzo Uboldi",
      "photoUrl": "",
      "userId": "12025999408021597208"
     },
     "user_tz": -120
    },
    "id": "8ErHxak3gmMc",
    "outputId": "6dd2309f-6cf0-4d2c-b194-03a61962813a"
   },
   "outputs": [],
   "source": [
    "#model.evaluate(es_x_test_scaled, es_y_test, batch_size=4096)"
   ]
  },
  {
   "cell_type": "code",
   "execution_count": 39,
   "metadata": {},
   "outputs": [],
   "source": [
    "x_train_ = x_train_scaled\n",
    "y_train_ = y_train\n",
    "\n",
    "x_valid_ = x_valid_scaled\n",
    "y_valid_ = y_valid\n"
   ]
  },
  {
   "cell_type": "markdown",
   "metadata": {},
   "source": [
    "# Train"
   ]
  },
  {
   "cell_type": "code",
   "execution_count": 40,
   "metadata": {},
   "outputs": [
    {
     "name": "stdout",
     "output_type": "stream",
     "text": [
      "22/22 [==============================] - 1s 31ms/step\n",
      "CPU times: user 1.62 s, sys: 80.6 ms, total: 1.7 s\n",
      "Wall time: 1.02 s\n"
     ]
    }
   ],
   "source": [
    "%%time\n",
    "%matplotlib inline\n",
    "import seaborn as sns\n",
    "infer = model.predict(x_train_, batch_size=4096)"
   ]
  },
  {
   "cell_type": "code",
   "execution_count": 41,
   "metadata": {},
   "outputs": [
    {
     "data": {
      "text/plain": [
       "<AxesSubplot:>"
      ]
     },
     "execution_count": 41,
     "metadata": {},
     "output_type": "execute_result"
    },
    {
     "data": {
      "image/png": "[encoded data removed]",
      "text/plain": [
       "<Figure size 432x288 with 2 Axes>"
      ]
     },
     "metadata": {
      "needs_background": "light"
     },
     "output_type": "display_data"
    }
   ],
   "source": [
    "from sklearn.metrics import confusion_matrix, ConfusionMatrixDisplay\n",
    "cm = confusion_matrix(y_train_, infer>0.5)\n",
    "sns.heatmap(cm, annot=True)"
   ]
  },
  {
   "cell_type": "code",
   "execution_count": 42,
   "metadata": {},
   "outputs": [
    {
     "data": {
      "text/plain": [
       "<AxesSubplot:>"
      ]
     },
     "execution_count": 42,
     "metadata": {},
     "output_type": "execute_result"
    },
    {
     "data": {
      "image/png": "[encoded data removed]",
      "text/plain": [
       "<Figure size 432x288 with 2 Axes>"
      ]
     },
     "metadata": {
      "needs_background": "light"
     },
     "output_type": "display_data"
    }
   ],
   "source": [
    "from sklearn.metrics import confusion_matrix\n",
    "cm2 = confusion_matrix(y_train_, infer>0.9)\n",
    "sns.heatmap(cm2, annot=True)"
   ]
  },
  {
   "cell_type": "code",
   "execution_count": 43,
   "metadata": {},
   "outputs": [],
   "source": [
    "from sklearn.metrics import roc_curve\n",
    "fpr_keras, tpr_keras, thresholds_keras = roc_curve(y_train_, infer)"
   ]
  },
  {
   "cell_type": "code",
   "execution_count": 44,
   "metadata": {},
   "outputs": [],
   "source": [
    "from sklearn.metrics import auc\n",
    "auc_keras = auc(fpr_keras, tpr_keras)"
   ]
  },
  {
   "cell_type": "code",
   "execution_count": 45,
   "metadata": {},
   "outputs": [],
   "source": [
    "np.save(\"results/false_positive_V_train\", fpr_keras)\n",
    "np.save(\"results/true_positive_V_train\", tpr_keras)\n",
    "np.save(\"results/thresholds_V_train\", thresholds_keras)"
   ]
  },
  {
   "cell_type": "code",
   "execution_count": 46,
   "metadata": {},
   "outputs": [],
   "source": [
    "from sklearn.metrics import auc\n",
    "auc_keras = auc(fpr_keras, tpr_keras)"
   ]
  },
  {
   "cell_type": "markdown",
   "metadata": {},
   "source": [
    "# Valid"
   ]
  },
  {
   "cell_type": "code",
   "execution_count": 47,
   "metadata": {},
   "outputs": [
    {
     "name": "stdout",
     "output_type": "stream",
     "text": [
      "6/6 [==============================] - 0s 28ms/step\n",
      "CPU times: user 421 ms, sys: 13.9 ms, total: 435 ms\n",
      "Wall time: 238 ms\n"
     ]
    }
   ],
   "source": [
    "%%time\n",
    "infer = model.predict(x_valid_, batch_size=4096)"
   ]
  },
  {
   "cell_type": "code",
   "execution_count": 48,
   "metadata": {},
   "outputs": [
    {
     "data": {
      "image/png": "[encoded data removed]",
      "text/plain": [
       "<Figure size 432x288 with 2 Axes>"
      ]
     },
     "metadata": {
      "needs_background": "light"
     },
     "output_type": "display_data"
    }
   ],
   "source": [
    "from sklearn.metrics import confusion_matrix\n",
    "cmv = confusion_matrix(y_valid_, infer>0.5)\n",
    "sns.heatmap(cmv, annot=True)\n",
    "plt.show()"
   ]
  },
  {
   "cell_type": "code",
   "execution_count": 49,
   "metadata": {},
   "outputs": [
    {
     "data": {
      "text/plain": [
       "<AxesSubplot:>"
      ]
     },
     "execution_count": 49,
     "metadata": {},
     "output_type": "execute_result"
    },
    {
     "data": {
      "image/png": "[encoded data removed]",
      "text/plain": [
       "<Figure size 432x288 with 2 Axes>"
      ]
     },
     "metadata": {
      "needs_background": "light"
     },
     "output_type": "display_data"
    }
   ],
   "source": [
    "from sklearn.metrics import confusion_matrix\n",
    "cmv2 = confusion_matrix(y_valid_, infer>0.9)\n",
    "sns.heatmap(cmv2, annot=True)"
   ]
  },
  {
   "cell_type": "code",
   "execution_count": 50,
   "metadata": {},
   "outputs": [],
   "source": [
    "from sklearn.metrics import roc_curve\n",
    "fpr_keras, tpr_keras, thresholds_keras = roc_curve(y_valid_, infer)"
   ]
  },
  {
   "cell_type": "code",
   "execution_count": 51,
   "metadata": {},
   "outputs": [],
   "source": [
    "np.save(\"results/false_positive_V_valid\", fpr_keras)\n",
    "np.save(\"results/true_positive_V_valid\", tpr_keras)\n",
    "np.save(\"results/thresholds_V_valid\", thresholds_keras)"
   ]
  },
  {
   "cell_type": "code",
   "execution_count": 52,
   "metadata": {},
   "outputs": [
    {
     "data": {
      "text/plain": [
       "[<matplotlib.lines.Line2D at 0x7fa9a42b3880>]"
      ]
     },
     "execution_count": 52,
     "metadata": {},
     "output_type": "execute_result"
    },
    {
     "data": {
      "image/png": "[encoded data removed]",
      "text/plain": [
       "<Figure size 432x288 with 1 Axes>"
      ]
     },
     "metadata": {
      "needs_background": "light"
     },
     "output_type": "display_data"
    }
   ],
   "source": [
    "plt.plot(fpr_keras, tpr_keras)"
   ]
  },
  {
   "cell_type": "markdown",
   "metadata": {},
   "source": [
    "# test"
   ]
  },
  {
   "cell_type": "code",
   "execution_count": 53,
   "metadata": {},
   "outputs": [
    {
     "name": "stdout",
     "output_type": "stream",
     "text": [
      "27/27 [==============================] - 1s 31ms/step\n"
     ]
    }
   ],
   "source": [
    "#%%time\n",
    "#cc_infer = model.predict(cc_x_test_scaled, batch_size=4096)\n",
    "#es_infer = model.predict(es_x_test_scaled, batch_size=4096)\n",
    "all_infer = model.predict(x_test_scaled, batch_size=4096)\n",
    "all_y_test = y_test\n"
   ]
  },
  {
   "cell_type": "code",
   "execution_count": 54,
   "metadata": {},
   "outputs": [],
   "source": [
    "from sklearn.metrics import confusion_matrix\n",
    "#cc1 = confusion_matrix(cc_y_test, cc_infer>0.5)\n",
    "#sns.heatmap(cc1, annot=True)"
   ]
  },
  {
   "cell_type": "code",
   "execution_count": 55,
   "metadata": {},
   "outputs": [],
   "source": [
    "#es1 = confusion_matrix(es_y_test, es_infer>0.5)\n",
    "#sns.heatmap(es1, annot=True)"
   ]
  },
  {
   "cell_type": "code",
   "execution_count": 56,
   "metadata": {},
   "outputs": [
    {
     "data": {
      "image/png": "[encoded data removed]",
      "text/plain": [
       "<Figure size 432x288 with 2 Axes>"
      ]
     },
     "metadata": {
      "needs_background": "light"
     },
     "output_type": "display_data"
    }
   ],
   "source": [
    "all1 = confusion_matrix(all_y_test, all_infer>0.5)\n",
    "sns.heatmap(all1, annot=True)\n",
    "plt.title(\"Confusion Matrix - Test Dataset Plane \" + wireplane)\n",
    "plt.xlabel(\"Predicted Class (>0.5)\")\n",
    "plt.ylabel(\"True Class\")\n",
    "plt.show()"
   ]
  },
  {
   "cell_type": "code",
   "execution_count": 57,
   "metadata": {},
   "outputs": [],
   "source": [
    "from sklearn.metrics import confusion_matrix\n",
    "#cc2 = confusion_matrix(cc_y_test, cc_infer>0.9)\n",
    "#sns.heatmap(cc2, annot=True)"
   ]
  },
  {
   "cell_type": "code",
   "execution_count": 58,
   "metadata": {},
   "outputs": [],
   "source": [
    "#es2 = confusion_matrix(es_y_test, es_infer>0.9)\n",
    "#sns.heatmap(es2, annot=True)"
   ]
  },
  {
   "cell_type": "code",
   "execution_count": 59,
   "metadata": {},
   "outputs": [
    {
     "data": {
      "image/png": "[encoded data removed]",
      "text/plain": [
       "<Figure size 432x288 with 2 Axes>"
      ]
     },
     "metadata": {
      "needs_background": "light"
     },
     "output_type": "display_data"
    }
   ],
   "source": [
    "all2 = confusion_matrix(all_y_test, all_infer>0.9)\n",
    "sns.heatmap(all2, annot=True)\n",
    "plt.title(\"Confusion Matrix - Test Dataset Plane \" + wireplane)\n",
    "plt.xlabel(\"Predicted Class (>0.9)\")\n",
    "plt.ylabel(\"True Class\")\n",
    "plt.show()"
   ]
  },
  {
   "cell_type": "code",
   "execution_count": 60,
   "metadata": {},
   "outputs": [],
   "source": [
    "from sklearn.metrics import roc_curve\n",
    "#fpr_keras, tpr_keras, thresholds_keras = roc_curve(cc_y_test, cc_infer)\n",
    "#plt.plot(fpr_keras, tpr_keras)"
   ]
  },
  {
   "cell_type": "code",
   "execution_count": 61,
   "metadata": {},
   "outputs": [],
   "source": [
    "#fpr_keras, tpr_keras, thresholds_keras = roc_curve(es_y_test, es_infer)\n",
    "#plt.plot(fpr_keras, tpr_keras)"
   ]
  },
  {
   "cell_type": "code",
   "execution_count": 62,
   "metadata": {},
   "outputs": [
    {
     "data": {
      "image/png": "[encoded data removed]",
      "text/plain": [
       "<Figure size 432x288 with 1 Axes>"
      ]
     },
     "metadata": {
      "needs_background": "light"
     },
     "output_type": "display_data"
    }
   ],
   "source": [
    "fpr_keras, tpr_keras, thresholds_keras = roc_curve(all_y_test, all_infer)\n",
    "plt.plot(fpr_keras, tpr_keras)\n",
    "plt.title(\"ROC Curve - Test Dataset Plane \" + wireplane)\n",
    "plt.xlabel(\"False Positive Rate\")\n",
    "plt.ylabel(\"True Positive Rate\")\n",
    "plt.show()"
   ]
  },
  {
   "cell_type": "code",
   "execution_count": 63,
   "metadata": {},
   "outputs": [],
   "source": [
    "np.save(\"results/false_positive_V_test\", fpr_keras)\n",
    "np.save(\"results/true_positive_V_test\", tpr_keras)\n",
    "np.save(\"results/thresholds_V_test\", thresholds_keras)"
   ]
  },
  {
   "cell_type": "code",
   "execution_count": 64,
   "metadata": {},
   "outputs": [],
   "source": [
    "#plt.hist(cc_infer, bins = 100);"
   ]
  },
  {
   "cell_type": "code",
   "execution_count": 65,
   "metadata": {},
   "outputs": [],
   "source": [
    "#plt.hist(es_infer, bins = 100);"
   ]
  },
  {
   "cell_type": "code",
   "execution_count": 66,
   "metadata": {},
   "outputs": [
    {
     "data": {
      "image/png": "[encoded data removed]",
      "text/plain": [
       "<Figure size 432x288 with 1 Axes>"
      ]
     },
     "metadata": {
      "needs_background": "light"
     },
     "output_type": "display_data"
    }
   ],
   "source": [
    "plt.hist(all_infer, bins = 100);"
   ]
  },
  {
   "cell_type": "code",
   "execution_count": 67,
   "metadata": {},
   "outputs": [
    {
     "name": "stdout",
     "output_type": "stream",
     "text": [
      "14/14 [==============================] - 0s 30ms/step\n",
      "14/14 [==============================] - 0s 31ms/step\n",
      "CPU times: user 1.89 s, sys: 102 ms, total: 2 s\n",
      "Wall time: 1.08 s\n"
     ]
    }
   ],
   "source": [
    "%%time\n",
    "#cc_infer_signal = model.predict(cc_x_test_scaled[cc_y_test==1], batch_size=4096)\n",
    "#cc_infer_noise = model.predict(cc_x_test_scaled[cc_y_test==0], batch_size=4096)\n",
    "#es_infer_signal = model.predict(es_x_test_scaled[es_y_test==1], batch_size=4096)\n",
    "#es_infer_noise = model.predict(es_x_test_scaled[es_y_test==0], batch_size=4096)\n",
    "all_infer_signal = model.predict(x_test_scaled[y_test==1], batch_size=4096)\n",
    "all_infer_noise = model.predict(x_test_scaled[y_test==0], batch_size=4096)"
   ]
  },
  {
   "cell_type": "code",
   "execution_count": 68,
   "metadata": {},
   "outputs": [],
   "source": [
    "#plt.hist(cc_infer_noise, range = (0,1), bins=20)"
   ]
  },
  {
   "cell_type": "code",
   "execution_count": 69,
   "metadata": {},
   "outputs": [],
   "source": [
    "#plt.hist(es_infer_noise, range = (0,1), bins=20)"
   ]
  },
  {
   "cell_type": "code",
   "execution_count": 70,
   "metadata": {},
   "outputs": [
    {
     "data": {
      "text/plain": [
       "(array([9.0000e+00, 2.7462e+04, 1.3428e+04, 4.8870e+03, 2.6000e+03,\n",
       "        1.5810e+03, 1.0710e+03, 7.5600e+02, 5.1500e+02, 4.2800e+02,\n",
       "        3.5300e+02, 2.7200e+02, 2.1200e+02, 1.7300e+02, 1.3800e+02,\n",
       "        1.1400e+02, 1.0000e+02, 9.3000e+01, 6.0000e+01, 4.8000e+01]),\n",
       " array([0.  , 0.05, 0.1 , 0.15, 0.2 , 0.25, 0.3 , 0.35, 0.4 , 0.45, 0.5 ,\n",
       "        0.55, 0.6 , 0.65, 0.7 , 0.75, 0.8 , 0.85, 0.9 , 0.95, 1.  ],\n",
       "       dtype=float32),\n",
       " <BarContainer object of 20 artists>)"
      ]
     },
     "execution_count": 70,
     "metadata": {},
     "output_type": "execute_result"
    },
    {
     "data": {
      "image/png": "[encoded data removed]",
      "text/plain": [
       "<Figure size 432x288 with 1 Axes>"
      ]
     },
     "metadata": {
      "needs_background": "light"
     },
     "output_type": "display_data"
    }
   ],
   "source": [
    "plt.hist(all_infer_noise, range = (0,1), bins=20)"
   ]
  },
  {
   "cell_type": "code",
   "execution_count": 71,
   "metadata": {},
   "outputs": [],
   "source": [
    "#plt.hist(cc_infer_signal, range = (0,1), bins=20)"
   ]
  },
  {
   "cell_type": "code",
   "execution_count": 72,
   "metadata": {},
   "outputs": [],
   "source": [
    "#plt.hist(es_infer_signal, range = (0,1), bins=20)"
   ]
  },
  {
   "cell_type": "code",
   "execution_count": 73,
   "metadata": {},
   "outputs": [
    {
     "data": {
      "text/plain": [
       "(array([1.0000e+00, 1.9670e+03, 1.7850e+03, 1.0680e+03, 7.4800e+02,\n",
       "        5.2600e+02, 4.5800e+02, 3.8300e+02, 3.7400e+02, 3.2600e+02,\n",
       "        3.1300e+02, 2.9500e+02, 3.1500e+02, 2.8900e+02, 3.0600e+02,\n",
       "        3.7100e+02, 3.8700e+02, 4.7600e+02, 6.9700e+02, 4.3215e+04]),\n",
       " array([0.  , 0.05, 0.1 , 0.15, 0.2 , 0.25, 0.3 , 0.35, 0.4 , 0.45, 0.5 ,\n",
       "        0.55, 0.6 , 0.65, 0.7 , 0.75, 0.8 , 0.85, 0.9 , 0.95, 1.  ],\n",
       "       dtype=float32),\n",
       " <BarContainer object of 20 artists>)"
      ]
     },
     "execution_count": 73,
     "metadata": {},
     "output_type": "execute_result"
    },
    {
     "data": {
      "image/png": "[encoded data removed]",
      "text/plain": [
       "<Figure size 432x288 with 1 Axes>"
      ]
     },
     "metadata": {
      "needs_background": "light"
     },
     "output_type": "display_data"
    }
   ],
   "source": [
    "plt.hist(all_infer_signal, range = (0,1), bins=20)"
   ]
  },
  {
   "cell_type": "code",
   "execution_count": null,
   "metadata": {},
   "outputs": [],
   "source": []
  },
  {
   "cell_type": "code",
   "execution_count": null,
   "metadata": {},
   "outputs": [],
   "source": []
  },
  {
   "cell_type": "code",
   "execution_count": null,
   "metadata": {},
   "outputs": [],
   "source": []
  },
  {
   "cell_type": "code",
   "execution_count": null,
   "metadata": {},
   "outputs": [],
   "source": []
  },
  {
   "cell_type": "code",
   "execution_count": null,
   "metadata": {},
   "outputs": [],
   "source": []
  },
  {
   "cell_type": "code",
   "execution_count": null,
   "metadata": {},
   "outputs": [],
   "source": []
  }
 ],
 "metadata": {
  "accelerator": "GPU",
  "colab": {
   "name": "Small windows.ipynb",
   "provenance": []
  },
  "kernelspec": {
   "display_name": "dune-1dcnn",
   "language": "python",
   "name": "dune-1dcnn"
  },
  "language_info": {
   "codemirror_mode": {
    "name": "ipython",
    "version": 3
   },
   "file_extension": ".py",
   "mimetype": "text/x-python",
   "name": "python",
   "nbconvert_exporter": "python",
   "pygments_lexer": "ipython3",
   "version": "3.9.9"
  }
 },
 "nbformat": 4,
 "nbformat_minor": 4
}
