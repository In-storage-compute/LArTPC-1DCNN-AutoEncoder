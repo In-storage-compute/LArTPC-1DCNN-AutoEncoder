{
 "cells": [
  {
   "cell_type": "code",
   "execution_count": 1,
   "metadata": {},
   "outputs": [
    {
     "name": "stderr",
     "output_type": "stream",
     "text": [
      "2023-04-20 16:47:20.309261: I tensorflow/core/util/port.cc:110] oneDNN custom operations are on. You may see slightly different numerical results due to floating-point round-off errors from different computation orders. To turn them off, set the environment variable `TF_ENABLE_ONEDNN_OPTS=0`.\n",
      "2023-04-20 16:47:20.331596: I tensorflow/tsl/cuda/cudart_stub.cc:28] Could not find cuda drivers on your machine, GPU will not be used.\n",
      "2023-04-20 16:47:20.442849: I tensorflow/tsl/cuda/cudart_stub.cc:28] Could not find cuda drivers on your machine, GPU will not be used.\n",
      "2023-04-20 16:47:20.443651: I tensorflow/core/platform/cpu_feature_guard.cc:182] This TensorFlow binary is optimized to use available CPU instructions in performance-critical operations.\n",
      "To enable the following instructions: AVX2 AVX512F AVX512_VNNI FMA, in other operations, rebuild TensorFlow with the appropriate compiler flags.\n",
      "2023-04-20 16:47:21.076329: W tensorflow/compiler/tf2tensorrt/utils/py_utils.cc:38] TF-TRT Warning: Could not find TensorRT\n"
     ]
    }
   ],
   "source": [
    "import sys\n",
    "import numpy as np\n",
    "import matplotlib.pyplot as plt\n",
    "import tensorflow as tf\n",
    "from tensorflow import keras \n",
    "from sklearn.model_selection import train_test_split\n",
    "from tensorflow.keras.models import load_model\n",
    "from sklearn.metrics import roc_curve\n",
    "from sklearn.metrics import auc\n",
    "import math\n",
    "import tqdm\n",
    "from PyPDF2 import PdfMerger\n",
    "import os\n",
    "from os import listdir\n",
    "from os.path import isfile, join"
   ]
  },
  {
   "cell_type": "code",
   "execution_count": 2,
   "metadata": {},
   "outputs": [],
   "source": [
    "wireplane = 'U'"
   ]
  },
  {
   "cell_type": "code",
   "execution_count": 3,
   "metadata": {},
   "outputs": [],
   "source": [
    "x_test = np.load('../../processed_data/current/x_test_' + wireplane + '.npy')\n",
    "y_test = np.load('../../processed_data/current/y_test_AE_' + wireplane + '.npy')\n",
    "\n",
    "\n",
    "mean = np.load('../results/mean_AE_' + wireplane + '.npy')\n",
    "std = np.load('../results/std_AE_' + wireplane + '.npy')"
   ]
  },
  {
   "cell_type": "code",
   "execution_count": 4,
   "metadata": {},
   "outputs": [],
   "source": [
    "x_test_scaled = (x_test-mean)/std\n",
    "y_test_scaled = (y_test-mean)/std"
   ]
  },
  {
   "cell_type": "code",
   "execution_count": 5,
   "metadata": {},
   "outputs": [
    {
     "name": "stdout",
     "output_type": "stream",
     "text": [
      "17783 50000\n"
     ]
    }
   ],
   "source": [
    "max_adcs_test_signals = [max(abs(wave)) for wave in y_test if sum(abs(wave) != 0)]\n",
    "print(sum(1 for val in max_adcs_test_signals if val < 20 and val !=0), len(max_adcs_test_signals))"
   ]
  },
  {
   "cell_type": "code",
   "execution_count": 6,
   "metadata": {},
   "outputs": [
    {
     "data": {
      "text/plain": [
       "50000"
      ]
     },
     "execution_count": 6,
     "metadata": {},
     "output_type": "execute_result"
    }
   ],
   "source": [
    "len(max_adcs_test_signals)"
   ]
  },
  {
   "cell_type": "code",
   "execution_count": 7,
   "metadata": {},
   "outputs": [],
   "source": [
    "def custom_mse2(y_true, y_pred):\n",
    "\n",
    "    return -1"
   ]
  },
  {
   "cell_type": "code",
   "execution_count": 8,
   "metadata": {},
   "outputs": [],
   "source": [
    "cnn = load_model('../../latest_models/model_' + wireplane + 'plane_nu.h5')\n",
    "\n",
    "autoencoder9 = load_model(\"../results/batch_size1_epochs_100_w1_1-w2_dot7_\" + wireplane + 'plane_nu.h5', custom_objects={'custom_mse2':custom_mse2})  # ~ 20 epochs\n"
   ]
  },
  {
   "cell_type": "code",
   "execution_count": 9,
   "metadata": {},
   "outputs": [
    {
     "name": "stdout",
     "output_type": "stream",
     "text": [
      "25/25 [==============================] - 1s 34ms/step\n",
      "CPU times: user 3.45 s, sys: 180 ms, total: 3.63 s\n",
      "Wall time: 1.18 s\n"
     ]
    }
   ],
   "source": [
    "%%time\n",
    "\n",
    "predictions9 = autoencoder9.predict(x_test_scaled, batch_size=4096)\n",
    "predictions9 = predictions9.reshape(predictions9.shape[0], predictions9.shape[1])"
   ]
  },
  {
   "cell_type": "code",
   "execution_count": 10,
   "metadata": {},
   "outputs": [],
   "source": [
    "x_test_ = std*x_test_scaled+mean\n",
    "y_test_ = y_test_ = y_test_scaled*std + mean"
   ]
  },
  {
   "cell_type": "code",
   "execution_count": null,
   "metadata": {},
   "outputs": [],
   "source": [
    "pred9 = predictions9*std + mean"
   ]
  },
  {
   "cell_type": "code",
   "execution_count": null,
   "metadata": {},
   "outputs": [],
   "source": [
    "from scipy import stats\n",
    "print(stats.mode(pred9[0], keepdims=False)[0])"
   ]
  },
  {
   "cell_type": "code",
   "execution_count": null,
   "metadata": {},
   "outputs": [],
   "source": [
    "pred9 = pred9-stats.mode(pred9[0], keepdims=False)[0]"
   ]
  },
  {
   "cell_type": "code",
   "execution_count": null,
   "metadata": {},
   "outputs": [],
   "source": [
    "noise_data = [data for data in y_test_ if sum(abs(data)) == 0]"
   ]
  },
  {
   "cell_type": "code",
   "execution_count": null,
   "metadata": {},
   "outputs": [],
   "source": [
    "len(noise_data)"
   ]
  },
  {
   "cell_type": "code",
   "execution_count": null,
   "metadata": {},
   "outputs": [],
   "source": [
    "noise_tN_pred = []\n",
    "noise_tN_truth = []\n",
    "\n",
    "noise_fP_pred = []\n",
    "noise_fP_truth = []\n",
    "\n",
    "signal_present_pred = []\n",
    "signal_present_truth = []\n",
    "\n",
    "\n",
    "for i in range(len(pred9)):\n",
    "    if np.std(pred9[i]) == 0 and np.std(y_test_[i]) == 0:\n",
    "        noise_tN_pred.append(pred9[i])\n",
    "        noise_tN_truth.append(y_test_[i])\n",
    "    elif np.std(pred9[i]) != 0 and np.std(y_test_[i]) == 0:\n",
    "        noise_fP_pred.append(pred9[i])\n",
    "        noise_fP_truth.append(y_test_[i])\n",
    "    else:\n",
    "        signal_present_pred.append(pred9[i])\n",
    "        signal_present_truth.append(y_test_[i])"
   ]
  },
  {
   "cell_type": "code",
   "execution_count": null,
   "metadata": {},
   "outputs": [],
   "source": [
    "print(len(noise_tN_pred), len(noise_fP_pred), len(signal_present_pred))"
   ]
  },
  {
   "cell_type": "code",
   "execution_count": null,
   "metadata": {},
   "outputs": [],
   "source": [
    "for i in range(1):\n",
    "    fig = plt.figure(figsize=(10, 2))\n",
    "    plt.plot(noise_fP_pred[i], color='m', label='pred')\n",
    "    plt.plot(noise_fP_truth[i], color='blue', label='truth')\n",
    "    plt.legend()\n",
    "    plt.show()"
   ]
  },
  {
   "cell_type": "code",
   "execution_count": null,
   "metadata": {},
   "outputs": [],
   "source": [
    "max_adc_noise_fP = [max(wave) for wave in noise_fP_pred]"
   ]
  },
  {
   "cell_type": "code",
   "execution_count": null,
   "metadata": {},
   "outputs": [],
   "source": [
    "fig = plt.figure(figsize=(12, 6))\n",
    "plt.hist(max_adc_noise_fP, bins=100, color='blue')\n",
    "plt.title('max adc dist. of noise fPs (total: ' + str(len(max_adc_noise_fP)) + ')', size=15)\n",
    "plt.xlabel('ADC', size=12)\n",
    "plt.ylabel('counts', size=12)\n",
    "plt.show()"
   ]
  },
  {
   "cell_type": "code",
   "execution_count": null,
   "metadata": {},
   "outputs": [],
   "source": [
    "count = sum(1 for val in max_adc_noise_fP if val <= 3)\n",
    "print(count)"
   ]
  },
  {
   "cell_type": "code",
   "execution_count": null,
   "metadata": {},
   "outputs": [],
   "source": [
    "15856-12699"
   ]
  },
  {
   "cell_type": "code",
   "execution_count": null,
   "metadata": {},
   "outputs": [],
   "source": [
    "2169/50000"
   ]
  },
  {
   "cell_type": "code",
   "execution_count": null,
   "metadata": {},
   "outputs": [],
   "source": [
    "len(signal_present_pred)"
   ]
  },
  {
   "cell_type": "code",
   "execution_count": null,
   "metadata": {},
   "outputs": [],
   "source": [
    "#signal_present_pred\n",
    "#signal_present_truth\n",
    "\n",
    "signal_fN_pred = []\n",
    "signal_fN_truth = []\n",
    "\n",
    "remain_pred = []\n",
    "remain_truth = []\n",
    "\n",
    "for i in range(len(signal_present_pred)):\n",
    "    if np.std(signal_present_pred[i]) == 0 and np.std(signal_present_truth[i]) != 0:\n",
    "        signal_fN_pred.append(signal_present_pred[i])\n",
    "        signal_fN_truth.append(signal_present_truth[i])\n",
    "    else:\n",
    "        remain_pred.append(signal_present_pred[i])\n",
    "        remain_truth.append(signal_present_truth[i])"
   ]
  },
  {
   "cell_type": "code",
   "execution_count": null,
   "metadata": {},
   "outputs": [],
   "source": [
    "print(len(signal_fN_pred), len(remain_pred))"
   ]
  },
  {
   "cell_type": "code",
   "execution_count": null,
   "metadata": {},
   "outputs": [],
   "source": [
    "for i in range(1):\n",
    "    fig = plt.figure(figsize=(10, 2))\n",
    "    plt.plot(signal_fN_pred[i], color='m', label='pred')\n",
    "    plt.plot(signal_fN_truth[i], color='blue', label='truth')\n",
    "    plt.legend()\n",
    "    plt.show()"
   ]
  },
  {
   "cell_type": "code",
   "execution_count": null,
   "metadata": {},
   "outputs": [],
   "source": [
    "max_adc_signal_fN = [max(wave) for wave in signal_fN_truth]"
   ]
  },
  {
   "cell_type": "code",
   "execution_count": null,
   "metadata": {},
   "outputs": [],
   "source": [
    "fig = plt.figure(figsize=(12, 6))\n",
    "plt.hist(max_adc_signal_fN, bins=100, color='blue')\n",
    "plt.title('max adc dist. of signal false negatives (total: ' + str(len(max_adc_signal_fN)) + ')', size=15)\n",
    "plt.xlabel('ADC', size=12)\n",
    "plt.ylabel('counts', size=12)\n",
    "plt.show()"
   ]
  },
  {
   "cell_type": "code",
   "execution_count": null,
   "metadata": {},
   "outputs": [],
   "source": [
    "print(sum(1 for val in max_adc_signal_fN if val < 20))"
   ]
  },
  {
   "attachments": {},
   "cell_type": "markdown",
   "metadata": {},
   "source": [
    "________________________"
   ]
  },
  {
   "cell_type": "code",
   "execution_count": null,
   "metadata": {},
   "outputs": [],
   "source": [
    "for i in range(3):\n",
    "    fig = plt.figure(figsize=(10, 2))\n",
    "    plt.plot(remain_pred[i], color='m', label='pred')\n",
    "    plt.plot(remain_truth[i], color='blue', label='truth')\n",
    "    plt.legend()\n",
    "    plt.show()"
   ]
  },
  {
   "cell_type": "code",
   "execution_count": null,
   "metadata": {},
   "outputs": [],
   "source": [
    "max_adcs_remain = [max(wave) for wave in remain_truth]"
   ]
  },
  {
   "cell_type": "code",
   "execution_count": null,
   "metadata": {},
   "outputs": [],
   "source": [
    "fig = plt.figure(figsize=(12, 6))\n",
    "plt.hist(max_adcs_remain, bins=100, color='blue')\n",
    "plt.title('max adc dist. of -- (total: ' + str(len(max_adcs_remain)) + ')', size=15)\n",
    "plt.xlabel('ADC', size=12)\n",
    "plt.ylabel('counts', size=12)\n",
    "plt.show()"
   ]
  },
  {
   "cell_type": "code",
   "execution_count": null,
   "metadata": {},
   "outputs": [],
   "source": [
    "print(sum(1 for val in max_adcs_remain if val < 20))"
   ]
  },
  {
   "cell_type": "code",
   "execution_count": null,
   "metadata": {},
   "outputs": [],
   "source": [
    "max_adcs_test = [max(wave) for wave in y_test_]"
   ]
  },
  {
   "cell_type": "code",
   "execution_count": null,
   "metadata": {},
   "outputs": [],
   "source": [
    "fig = plt.figure(figsize=(12, 6))\n",
    "plt.hist(max_adcs_test, bins=100, color='blue')\n",
    "plt.title('max adc dist. of -- (total: ' + str(len(max_adcs_test)) + ')', size=15)\n",
    "plt.xlabel('ADC', size=12)\n",
    "plt.ylabel('counts', size=12)\n",
    "plt.show()"
   ]
  },
  {
   "cell_type": "code",
   "execution_count": null,
   "metadata": {},
   "outputs": [],
   "source": [
    "print(sum(1 for val in max_adcs_test if val < 20 and val !=0))"
   ]
  },
  {
   "cell_type": "code",
   "execution_count": null,
   "metadata": {},
   "outputs": [],
   "source": [
    "max_adcs_remain_pred = [max(wave) for wave in remain_pred]"
   ]
  },
  {
   "cell_type": "code",
   "execution_count": null,
   "metadata": {},
   "outputs": [],
   "source": [
    "len(max_adcs_remain_pred)"
   ]
  },
  {
   "cell_type": "code",
   "execution_count": null,
   "metadata": {},
   "outputs": [],
   "source": [
    "fig = plt.figure(figsize=(12, 6))\n",
    "plt.hist(max_adcs_remain_pred, bins=100, color='blue')\n",
    "plt.title('max adc dist. of -- (total: ' + str(len(max_adcs_remain)) + ')', size=15)\n",
    "plt.xlabel('ADC', size=12)\n",
    "plt.ylabel('counts', size=12)\n",
    "plt.show()"
   ]
  },
  {
   "cell_type": "code",
   "execution_count": null,
   "metadata": {},
   "outputs": [],
   "source": [
    "count = sum(1 for val in max_adcs_remain_pred if val <= 3)\n",
    "print(count)"
   ]
  },
  {
   "cell_type": "code",
   "execution_count": null,
   "metadata": {},
   "outputs": [],
   "source": [
    "46215-3737"
   ]
  },
  {
   "cell_type": "code",
   "execution_count": null,
   "metadata": {},
   "outputs": [],
   "source": [
    "test_fp = np.load('../../results/false_positive_U_train.npy')"
   ]
  },
  {
   "cell_type": "code",
   "execution_count": null,
   "metadata": {},
   "outputs": [],
   "source": [
    "len(test_fp)"
   ]
  },
  {
   "cell_type": "code",
   "execution_count": null,
   "metadata": {},
   "outputs": [],
   "source": [
    "print([x for x in test_fp])"
   ]
  },
  {
   "cell_type": "code",
   "execution_count": null,
   "metadata": {},
   "outputs": [],
   "source": []
  }
 ],
 "metadata": {
  "kernelspec": {
   "display_name": "Python 3",
   "language": "python",
   "name": "python3"
  },
  "language_info": {
   "codemirror_mode": {
    "name": "ipython",
    "version": 3
   },
   "file_extension": ".py",
   "mimetype": "text/x-python",
   "name": "python",
   "nbconvert_exporter": "python",
   "pygments_lexer": "ipython3",
   "version": "3.9.16"
  },
  "orig_nbformat": 4
 },
 "nbformat": 4,
 "nbformat_minor": 2
}
