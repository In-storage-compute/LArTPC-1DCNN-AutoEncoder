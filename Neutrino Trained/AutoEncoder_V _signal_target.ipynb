{
 "cells": [
  {
   "cell_type": "code",
   "execution_count": null,
   "metadata": {},
   "outputs": [],
   "source": [
    "import sys\n",
    "from os import listdir\n",
    "from os.path import isfile, join\n",
    "import pandas as pd\n",
    "#!{sys.executable} -m pip install tensorflow-gpu==2.4\n",
    "#!export LD_LIBRARY_PATH=$LD_LIBRARY_PATH:/home/bhawks/.conda/envs/dune-1dcnn/lib\n",
    "import numpy as np\n",
    "import matplotlib.pyplot as plt\n",
    "import tensorflow as tf\n",
    "from tensorflow import keras \n",
    "from sklearn.preprocessing import StandardScaler\n",
    "from sklearn.compose import ColumnTransformer, make_column_transformer\n",
    "from sklearn.model_selection import train_test_split\n",
    "from sklearn.utils import shuffle"
   ]
  },
  {
   "cell_type": "code",
   "execution_count": null,
   "metadata": {},
   "outputs": [],
   "source": [
    "print(\"Num GPUs Available: \", len(tf.config.list_physical_devices('GPU')))"
   ]
  },
  {
   "cell_type": "code",
   "execution_count": null,
   "metadata": {},
   "outputs": [],
   "source": [
    "wireplane = \"Z\"\n",
    "path = 'processed_data/'\n",
    "filenames = [path+f for f in listdir(path) if (isfile(join(path, f)) and wireplane in f)]"
   ]
  },
  {
   "cell_type": "code",
   "execution_count": null,
   "metadata": {},
   "outputs": [],
   "source": [
    "filenames"
   ]
  },
  {
   "cell_type": "code",
   "execution_count": null,
   "metadata": {},
   "outputs": [],
   "source": [
    "for i in range(6):\n",
    "    print(filenames[i])"
   ]
  },
  {
   "cell_type": "code",
   "execution_count": null,
   "metadata": {},
   "outputs": [],
   "source": [
    "x_test = np.load(filenames[0])\n",
    "x_train = np.load(filenames[1])\n",
    "y_test_flat_noise_target = np.load(filenames[2])\n",
    "\n",
    "y_test = np.load(filenames[3])\n",
    "y_train_flat_noise_target = np.load(filenames[4])\n",
    "y_train = np.load(filenames[5])"
   ]
  },
  {
   "cell_type": "code",
   "execution_count": null,
   "metadata": {},
   "outputs": [],
   "source": [
    "num = 0\n",
    "for idx in range(num,num+3):\n",
    "    fig, (ax1, ax2) = plt.subplots(1, 2, figsize=(16, 2))\n",
    "    fig.suptitle('Waveforms')\n",
    "    ax1.plot(x_train[idx],color='blue', label='clean')\n",
    "    ax1.plot(y_train[idx],color='m',alpha=0.7, label='data')\n",
    "\n",
    "    ax2.plot(y_train_flat_noise_target[idx],color='m',alpha=0.7, label='data')\n",
    "    ax2.set_title(\"y_train_flat_noise_target\")\n",
    "    plt.show()"
   ]
  },
  {
   "cell_type": "code",
   "execution_count": null,
   "metadata": {},
   "outputs": [],
   "source": [
    "mean = x_train.mean()\n",
    "std = x_train.std()"
   ]
  },
  {
   "cell_type": "code",
   "execution_count": null,
   "metadata": {},
   "outputs": [],
   "source": [
    "x_train_scaled = (x_train-mean)/std\n",
    "x_test_scaled = (x_test-mean)/std\n",
    "y_train_flat_noise_target_scaled = (y_train_flat_noise_target-mean)/std\n",
    "\n",
    "y_train_scaled = (y_train-mean)/std\n",
    "y_test_scaled = (y_test-mean)/std\n",
    "y_test_flat_noise_target_scaled = (y_test_flat_noise_target-mean)/std\n",
    "\n"
   ]
  },
  {
   "cell_type": "code",
   "execution_count": null,
   "metadata": {},
   "outputs": [],
   "source": [
    "from tensorflow.keras.models import Sequential\n",
    "from tensorflow.keras.layers import Conv1D, MaxPooling1D, GlobalAveragePooling1D, Dropout, Dense,Flatten, AveragePooling1D\n",
    "from tensorflow.keras.layers import Input,  UpSampling1D\n",
    "from tensorflow.keras.models import Model\n",
    "#from keras import backend as K"
   ]
  },
  {
   "cell_type": "markdown",
   "metadata": {},
   "source": [
    "# Autoencoder"
   ]
  },
  {
   "cell_type": "code",
   "execution_count": null,
   "metadata": {},
   "outputs": [],
   "source": [
    "from tensorflow.keras.models import load_model\n",
    "model = load_model(\"learn_models/\" + wireplane + \"plane_nu.h5\")"
   ]
  },
  {
   "cell_type": "code",
   "execution_count": null,
   "metadata": {},
   "outputs": [],
   "source": [
    "for i,layer in enumerate(model.layers):\n",
    "  print(i,layer.name)"
   ]
  },
  {
   "cell_type": "code",
   "execution_count": null,
   "metadata": {},
   "outputs": [],
   "source": [
    "time_periods = 200"
   ]
  },
  {
   "cell_type": "code",
   "execution_count": null,
   "metadata": {},
   "outputs": [],
   "source": [
    "input_wave = Input(shape=(x_train_scaled.shape[1], 1)) \n",
    "x = Conv1D(filters=16, kernel_size=3, strides=2, activation = \"relu\", weights=model.layers[0].get_weights() , input_shape=(time_periods,1))(input_wave)\n",
    "x = MaxPooling1D(pool_size=2)(x)\n",
    " \n",
    "#second convolutional block\n",
    "x = Conv1D(filters=32, kernel_size=5, strides=2, weights=model.layers[2].get_weights(), activation = \"relu\", )(x)\n",
    "x = MaxPooling1D(pool_size=2)(x)\n",
    "\n",
    "encoded = Conv1D(filters=64, kernel_size=9, weights=model.layers[5].get_weights(), activation = \"relu\")(x)\n",
    "\n",
    "\n",
    "x = Conv1D(filters=64, kernel_size=9, padding = \"same\", activation = \"relu\")(encoded)\n",
    "x = UpSampling1D(4)(x)\n",
    "\n",
    "x = Conv1D(filters=32, kernel_size=5, padding = \"same\", activation = \"relu\")(x)\n",
    "x = UpSampling1D(3)(x)\n",
    "\n",
    "x = Conv1D(filters=16, kernel_size=3,  activation = \"relu\")(x)\n",
    "x = UpSampling1D(6)(x)\n",
    "\n",
    "decoded = Conv1D(filters=1, kernel_size=5,  activation = \"linear\")(x)\n",
    "\n",
    "\n",
    "\n",
    "autoencoder = Model(input_wave, decoded)\n",
    "\n"
   ]
  },
  {
   "cell_type": "code",
   "execution_count": null,
   "metadata": {},
   "outputs": [],
   "source": [
    "for i,layer in enumerate(autoencoder.layers):                                      \n",
    "  print(i,layer.name)\n"
   ]
  },
  {
   "cell_type": "code",
   "execution_count": null,
   "metadata": {},
   "outputs": [],
   "source": [
    "for layer in autoencoder.layers[:6]:                                               \n",
    "    layer.trainable=False                                                          \n",
    "for layer in autoencoder.layers[6:]:                                               \n",
    "    layer.trainable=True                                                           \n",
    "autoencoder.compile(optimizer='adam', loss='mse')\n"
   ]
  },
  {
   "cell_type": "code",
   "execution_count": null,
   "metadata": {},
   "outputs": [],
   "source": [
    "autoencoder.summary()"
   ]
  },
  {
   "cell_type": "markdown",
   "metadata": {},
   "source": [
    "### IMPORTANT: define the target for training\n",
    "1) x_train_scale: train against itself (for wavefroms with signal + noise, target is that wavefrom), (for pure noise, the target will be that pure waveform as well)\n",
    "2) y_train_flat_noise_target: same as (1), but when the wavefrom is JUST noise, target get will be ZERO\n",
    "2) y_train_scale: train using clean signals as target"
   ]
  },
  {
   "cell_type": "code",
   "execution_count": null,
   "metadata": {},
   "outputs": [],
   "source": [
    "#target = x_train_scaled\n",
    "#target = y_train_flat_noise_target_scaled\n",
    "target = y_train_scaled\n",
    "\n",
    "tarID = 3"
   ]
  },
  {
   "cell_type": "code",
   "execution_count": null,
   "metadata": {},
   "outputs": [],
   "source": [
    "%%time\n",
    "history = autoencoder.fit(x_train_scaled,                                                              \n",
    "                    target,                                                            \n",
    "                    batch_size=1024,                                              \n",
    "                    epochs=100,                                                      \n",
    "                    callbacks=None, # callbacks=callbacks_list,                         \n",
    "                    validation_split=0.2, shuffle=False,                                               \n",
    "                    verbose=1)   "
   ]
  },
  {
   "cell_type": "code",
   "execution_count": null,
   "metadata": {},
   "outputs": [],
   "source": [
    "plt.figure(figsize=(12, 8))                                                     \n",
    "plt.plot(history.history['loss'], \"r--\", label=\"Loss of training data\", antialiased=True)\n",
    "plt.plot(history.history['val_loss'], \"r\", label=\"Loss of validation data\", antialiased=True)\n",
    "plt.title('Model Loss',fontsize=15)                                            \n",
    "plt.ylabel('Loss (MSE)', fontsize=12)                                                 \n",
    "plt.xlabel('Training Epoch', fontsize=12)                                                                                                                       \n",
    "plt.legend(fontsize=12)                                                                    \n",
    "plt.show()     "
   ]
  },
  {
   "cell_type": "code",
   "execution_count": null,
   "metadata": {},
   "outputs": [],
   "source": [
    "%%time\n",
    "y = autoencoder.predict(x_test_scaled, batch_size=1024)"
   ]
  },
  {
   "cell_type": "code",
   "execution_count": null,
   "metadata": {},
   "outputs": [],
   "source": [
    "y = y.reshape(y.shape[0], y.shape[1])"
   ]
  },
  {
   "cell_type": "code",
   "execution_count": null,
   "metadata": {},
   "outputs": [],
   "source": [
    "model.save(\"results/\" + wireplane + \"plane_nu_\" + str(tarID) + \".h5\")"
   ]
  },
  {
   "cell_type": "code",
   "execution_count": null,
   "metadata": {},
   "outputs": [],
   "source": [
    "np.save('results/train_target_sig_' + wireplane + \"_\" + str(tarID), y)"
   ]
  },
  {
   "cell_type": "code",
   "execution_count": null,
   "metadata": {},
   "outputs": [],
   "source": []
  },
  {
   "cell_type": "code",
   "execution_count": null,
   "metadata": {},
   "outputs": [],
   "source": []
  }
 ],
 "metadata": {
  "kernelspec": {
   "display_name": "tf",
   "language": "python",
   "name": "python3"
  },
  "language_info": {
   "codemirror_mode": {
    "name": "ipython",
    "version": 3
   },
   "file_extension": ".py",
   "mimetype": "text/x-python",
   "name": "python",
   "nbconvert_exporter": "python",
   "pygments_lexer": "ipython3",
   "version": "3.9.13"
  },
  "orig_nbformat": 4,
  "vscode": {
   "interpreter": {
    "hash": "0953303bb76e642cf0da4dd84c14ec5ff8cbb4c1b534b77010e5be534f549796"
   }
  }
 },
 "nbformat": 4,
 "nbformat_minor": 2
}
