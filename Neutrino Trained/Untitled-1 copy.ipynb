{
 "cells": [
  {
   "cell_type": "code",
   "execution_count": 1,
   "metadata": {},
   "outputs": [],
   "source": [
    "import matplotlib.pyplot as plt\n",
    "import tensorflow as tf\n",
    "import numpy as np\n",
    "import pandas as pd\n",
    "from keras import Input, Model, layers\n",
    "#from keras import Model\n",
    "from keras.layers.core import Dense\n",
    "from tensorflow.keras.datasets import mnist"
   ]
  },
  {
   "cell_type": "code",
   "execution_count": 2,
   "metadata": {},
   "outputs": [
    {
     "name": "stdout",
     "output_type": "stream",
     "text": [
      "Training dataset shape: (60000, 28, 28)\n",
      "Testing dataset shape: (10000, 28, 28)\n"
     ]
    }
   ],
   "source": [
    "# load the MNIST data\n",
    "(x_train, y_train), (x_test, y_test) = mnist.load_data()\n",
    "print('Training dataset shape: ' + str(x_train.shape))\n",
    "print('Testing dataset shape: ' + str(x_test.shape))"
   ]
  },
  {
   "cell_type": "code",
   "execution_count": 3,
   "metadata": {},
   "outputs": [],
   "source": [
    "# normalize all values between 0 and 1\n",
    "x_train = x_train.astype('float32') / 255.\n",
    "x_test = x_test.astype('float32') / 255.\n"
   ]
  },
  {
   "cell_type": "code",
   "execution_count": 4,
   "metadata": {},
   "outputs": [
    {
     "data": {
      "text/plain": [
       "<matplotlib.image.AxesImage at 0x22f2055a730>"
      ]
     },
     "execution_count": 4,
     "metadata": {},
     "output_type": "execute_result"
    },
    {
     "data": {
      "image/png": "[encoded data removed]",
      "text/plain": [
       "<Figure size 432x288 with 1 Axes>"
      ]
     },
     "metadata": {
      "needs_background": "light"
     },
     "output_type": "display_data"
    }
   ],
   "source": [
    "plt.imshow(x_train[0], cmap='gray')"
   ]
  },
  {
   "cell_type": "code",
   "execution_count": 5,
   "metadata": {},
   "outputs": [
    {
     "name": "stdout",
     "output_type": "stream",
     "text": [
      "Training dataset shape: (60000, 784)\n",
      "Testing dataset shape: (10000, 784)\n"
     ]
    }
   ],
   "source": [
    "# flatten the data to a single vector\n",
    "x_train = x_train.reshape(x_train.shape[0], np.prod(x_train.shape[1:]))\n",
    "x_test = x_test.reshape(x_test.shape[0], np.prod(x_test.shape[1:]))\n",
    "print('Training dataset shape: ' + str(x_train.shape))\n",
    "print('Testing dataset shape: ' + str(x_test.shape))"
   ]
  },
  {
   "cell_type": "code",
   "execution_count": null,
   "metadata": {},
   "outputs": [],
   "source": []
  },
  {
   "cell_type": "code",
   "execution_count": 6,
   "metadata": {},
   "outputs": [
    {
     "data": {
      "image/png": "[encoded data removed]",
      "text/plain": [
       "<Figure size 1440x288 with 10 Axes>"
      ]
     },
     "metadata": {
      "needs_background": "light"
     },
     "output_type": "display_data"
    }
   ],
   "source": [
    "n = 10\n",
    "plt.figure(figsize=(20,4))\n",
    "for i in range(n):\n",
    "  # display the original images\n",
    "  ax = plt.subplot(1, n, i+1)\n",
    "  plt.imshow(x_test[i].reshape(28,28), cmap='gray')\n",
    "  ax.get_xaxis().set_visible(False)\n",
    "  ax.get_yaxis().set_visible(False)\n",
    "  # display the decoded images"
   ]
  },
  {
   "cell_type": "markdown",
   "metadata": {},
   "source": [
    "Encoder"
   ]
  },
  {
   "cell_type": "code",
   "execution_count": 16,
   "metadata": {},
   "outputs": [
    {
     "name": "stdout",
     "output_type": "stream",
     "text": [
      "Epoch 1/50\n",
      "469/469 [==============================] - 2s 3ms/step - loss: 0.0688 - val_loss: 0.0615\n",
      "Epoch 2/50\n",
      "469/469 [==============================] - 2s 4ms/step - loss: 0.0601 - val_loss: 0.0585\n",
      "Epoch 3/50\n",
      "469/469 [==============================] - 2s 4ms/step - loss: 0.0572 - val_loss: 0.0560\n",
      "Epoch 4/50\n",
      "469/469 [==============================] - 2s 4ms/step - loss: 0.0551 - val_loss: 0.0542\n",
      "Epoch 5/50\n",
      "469/469 [==============================] - 2s 3ms/step - loss: 0.0536 - val_loss: 0.0531\n",
      "Epoch 6/50\n",
      "469/469 [==============================] - 2s 3ms/step - loss: 0.0527 - val_loss: 0.0523\n",
      "Epoch 7/50\n",
      "469/469 [==============================] - 2s 4ms/step - loss: 0.0519 - val_loss: 0.0518\n",
      "Epoch 8/50\n",
      "469/469 [==============================] - 2s 4ms/step - loss: 0.0513 - val_loss: 0.0509\n",
      "Epoch 9/50\n",
      "469/469 [==============================] - 2s 4ms/step - loss: 0.0508 - val_loss: 0.0504\n",
      "Epoch 10/50\n",
      "469/469 [==============================] - 2s 4ms/step - loss: 0.0501 - val_loss: 0.0497\n",
      "Epoch 11/50\n",
      "469/469 [==============================] - 2s 4ms/step - loss: 0.0496 - val_loss: 0.0494\n",
      "Epoch 12/50\n",
      "469/469 [==============================] - 2s 4ms/step - loss: 0.0493 - val_loss: 0.0491\n",
      "Epoch 13/50\n",
      "469/469 [==============================] - 2s 3ms/step - loss: 0.0489 - val_loss: 0.0488\n",
      "Epoch 14/50\n",
      "469/469 [==============================] - 2s 3ms/step - loss: 0.0487 - val_loss: 0.0484\n",
      "Epoch 15/50\n",
      "469/469 [==============================] - 2s 3ms/step - loss: 0.0483 - val_loss: 0.0482\n",
      "Epoch 16/50\n",
      "469/469 [==============================] - 2s 3ms/step - loss: 0.0481 - val_loss: 0.0481\n",
      "Epoch 17/50\n",
      "469/469 [==============================] - 2s 3ms/step - loss: 0.0479 - val_loss: 0.0476\n",
      "Epoch 18/50\n",
      "469/469 [==============================] - 2s 3ms/step - loss: 0.0476 - val_loss: 0.0475\n",
      "Epoch 19/50\n",
      "469/469 [==============================] - 2s 3ms/step - loss: 0.0475 - val_loss: 0.0481\n",
      "Epoch 20/50\n",
      "469/469 [==============================] - 2s 3ms/step - loss: 0.0476 - val_loss: 0.0476\n",
      "Epoch 21/50\n",
      "469/469 [==============================] - 2s 3ms/step - loss: 0.0471 - val_loss: 0.0469\n",
      "Epoch 22/50\n",
      "469/469 [==============================] - 2s 3ms/step - loss: 0.0470 - val_loss: 0.0471\n",
      "Epoch 23/50\n",
      "469/469 [==============================] - 2s 3ms/step - loss: 0.0469 - val_loss: 0.0468\n",
      "Epoch 24/50\n",
      "469/469 [==============================] - 2s 3ms/step - loss: 0.0466 - val_loss: 0.0472\n",
      "Epoch 25/50\n",
      "469/469 [==============================] - 2s 3ms/step - loss: 0.0467 - val_loss: 0.0464\n",
      "Epoch 26/50\n",
      "469/469 [==============================] - 2s 3ms/step - loss: 0.0462 - val_loss: 0.0464\n",
      "Epoch 27/50\n",
      "469/469 [==============================] - 2s 3ms/step - loss: 0.0462 - val_loss: 0.0470\n",
      "Epoch 28/50\n",
      "469/469 [==============================] - 2s 3ms/step - loss: 0.0464 - val_loss: 0.0463\n",
      "Epoch 29/50\n",
      "469/469 [==============================] - 2s 3ms/step - loss: 0.0461 - val_loss: 0.0462\n",
      "Epoch 30/50\n",
      "469/469 [==============================] - 1s 3ms/step - loss: 0.0459 - val_loss: 0.0461\n",
      "Epoch 31/50\n",
      "469/469 [==============================] - 2s 3ms/step - loss: 0.0458 - val_loss: 0.0465\n",
      "Epoch 32/50\n",
      "469/469 [==============================] - 1s 3ms/step - loss: 0.0461 - val_loss: 0.0461\n",
      "Epoch 33/50\n",
      "469/469 [==============================] - 1s 3ms/step - loss: 0.0459 - val_loss: 0.0459\n",
      "Epoch 34/50\n",
      "469/469 [==============================] - 1s 3ms/step - loss: 0.0458 - val_loss: 0.0460\n",
      "Epoch 35/50\n",
      "469/469 [==============================] - 2s 3ms/step - loss: 0.0458 - val_loss: 0.0458\n",
      "Epoch 36/50\n",
      "469/469 [==============================] - 2s 3ms/step - loss: 0.0456 - val_loss: 0.0458\n",
      "Epoch 37/50\n",
      "469/469 [==============================] - 2s 3ms/step - loss: 0.0456 - val_loss: 0.0458\n",
      "Epoch 38/50\n",
      "469/469 [==============================] - 2s 3ms/step - loss: 0.0454 - val_loss: 0.0459\n",
      "Epoch 39/50\n",
      "469/469 [==============================] - 2s 3ms/step - loss: 0.0457 - val_loss: 0.0461\n",
      "Epoch 40/50\n",
      "469/469 [==============================] - 2s 3ms/step - loss: 0.0456 - val_loss: 0.0458\n",
      "Epoch 41/50\n",
      "469/469 [==============================] - 1s 3ms/step - loss: 0.0455 - val_loss: 0.0453\n",
      "Epoch 42/50\n",
      "469/469 [==============================] - 1s 3ms/step - loss: 0.0453 - val_loss: 0.0455\n",
      "Epoch 43/50\n",
      "469/469 [==============================] - 2s 3ms/step - loss: 0.0453 - val_loss: 0.0454\n",
      "Epoch 44/50\n",
      "469/469 [==============================] - 2s 4ms/step - loss: 0.0453 - val_loss: 0.0454\n",
      "Epoch 45/50\n",
      "469/469 [==============================] - 2s 4ms/step - loss: 0.0451 - val_loss: 0.0454\n",
      "Epoch 46/50\n",
      "469/469 [==============================] - 2s 3ms/step - loss: 0.0451 - val_loss: 0.0454\n",
      "Epoch 47/50\n",
      "469/469 [==============================] - 2s 3ms/step - loss: 0.0451 - val_loss: 0.0452\n",
      "Epoch 48/50\n",
      "469/469 [==============================] - 2s 4ms/step - loss: 0.0452 - val_loss: 0.0455\n",
      "Epoch 49/50\n",
      "469/469 [==============================] - 2s 3ms/step - loss: 0.0452 - val_loss: 0.0456\n",
      "Epoch 50/50\n",
      "469/469 [==============================] - 2s 3ms/step - loss: 0.0451 - val_loss: 0.0451\n",
      "79/79 [==============================] - 0s 924us/step\n",
      "313/313 [==============================] - 0s 835us/step\n"
     ]
    }
   ],
   "source": [
    "# the size of our input\n",
    "original_dim = x_train.shape[1]\n",
    "\n",
    "# the input placeholder\n",
    "input_img = Input(shape=(original_dim,), name='input_layer')\n",
    "\n",
    "\n",
    "# encoder\n",
    "# hidden layer size 256, use Dense function with ReLU activation \n",
    "h = Dense(256, activation='relu')(input_img)\n",
    "\n",
    "h = Dense(128, activation='relu')(h)\n",
    "\n",
    "\n",
    "# encode the input with dense layer size 2, relu\n",
    "encoded = Dense(2, activation='relu')(h)\n",
    "# ------------------------------------------------------------------------------\n",
    "# decoder\n",
    "latent_inputs = Input(shape=(2,), name='latent_input')\n",
    "\n",
    "h = Dense(128, activation='relu')(latent_inputs)\n",
    "# hidden dense layer of size 256\n",
    "h = Dense(256, activation='relu')(h)\n",
    "\n",
    "# output layer, dense layer of size original_dim, sigmoid activation function\n",
    "outputs = Dense(original_dim, activation='sigmoid')(h)\n",
    "\n",
    "\n",
    "# instantiate encoder model\n",
    "deepAE_encoder = Model(input_img, encoded, name='encoder')\n",
    "\n",
    "# instantiate decoder model\n",
    "deepAE_decoder = Model(latent_inputs, outputs, name='decoder')\n",
    "\n",
    "# instantiate deep AE model\n",
    "outputs = deepAE_decoder(deepAE_encoder(input_img))\n",
    "deepAE = Model(input_img, outputs, name='deep_ae')\n",
    "\n",
    "\n",
    "deepAE.compile(optimizer='adam', loss='mse')\n",
    "\n",
    "deepAE.fit(x_train, x_train, epochs=50, batch_size=128, shuffle=True,\n",
    "           validation_data=(x_test, x_test))\n",
    "\n",
    "encoded_imgs = deepAE_encoder.predict(x_test, batch_size=128)\n",
    "decoded_imgs = deepAE_decoder.predict(encoded_imgs)"
   ]
  },
  {
   "cell_type": "code",
   "execution_count": 17,
   "metadata": {},
   "outputs": [
    {
     "data": {
      "image/png": "[encoded data removed]",
      "text/plain": [
       "<Figure size 1440x288 with 20 Axes>"
      ]
     },
     "metadata": {
      "needs_background": "light"
     },
     "output_type": "display_data"
    }
   ],
   "source": [
    "n = 10\n",
    "plt.figure(figsize=(20,4))\n",
    "for i in range(n):\n",
    "  # display the original images\n",
    "  ax = plt.subplot(2, n, i+1)\n",
    "  plt.imshow(x_test[i].reshape(28,28), cmap='gray')\n",
    "  ax.get_xaxis().set_visible(False)\n",
    "  ax.get_yaxis().set_visible(False)\n",
    "  # display the decoded images\n",
    "  ax = plt.subplot(2, n, i+1+n)\n",
    "  plt.imshow(decoded_imgs[i].reshape(28,28), cmap='gray')\n",
    "  ax.get_xaxis().set_visible(False)\n",
    "  ax.get_yaxis().set_visible(False)"
   ]
  },
  {
   "cell_type": "code",
   "execution_count": null,
   "metadata": {},
   "outputs": [],
   "source": []
  }
 ],
 "metadata": {
  "kernelspec": {
   "display_name": "tf",
   "language": "python",
   "name": "python3"
  },
  "language_info": {
   "codemirror_mode": {
    "name": "ipython",
    "version": 3
   },
   "file_extension": ".py",
   "mimetype": "text/x-python",
   "name": "python",
   "nbconvert_exporter": "python",
   "pygments_lexer": "ipython3",
   "version": "3.9.13 | packaged by conda-forge | (main, May 27 2022, 16:51:29) [MSC v.1929 64 bit (AMD64)]"
  },
  "orig_nbformat": 4,
  "vscode": {
   "interpreter": {
    "hash": "0953303bb76e642cf0da4dd84c14ec5ff8cbb4c1b534b77010e5be534f549796"
   }
  }
 },
 "nbformat": 4,
 "nbformat_minor": 2
}
