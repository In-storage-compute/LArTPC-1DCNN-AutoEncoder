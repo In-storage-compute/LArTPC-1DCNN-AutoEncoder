{
 "cells": [
  {
   "cell_type": "code",
   "execution_count": 1,
   "metadata": {},
   "outputs": [],
   "source": [
    "import matplotlib.pyplot as plt\n",
    "import tensorflow as tf\n",
    "import numpy as np\n",
    "import pandas as pd\n",
    "from keras import Input, Model, layers\n",
    "#from keras import Model\n",
    "from keras.layers.core import Dense\n",
    "from tensorflow.keras.datasets import mnist"
   ]
  },
  {
   "cell_type": "code",
   "execution_count": 2,
   "metadata": {},
   "outputs": [
    {
     "name": "stdout",
     "output_type": "stream",
     "text": [
      "Training dataset shape: (60000, 28, 28)\n",
      "Testing dataset shape: (10000, 28, 28)\n"
     ]
    }
   ],
   "source": [
    "# load the MNIST data\n",
    "(x_train, y_train), (x_test, y_test) = mnist.load_data()\n",
    "print('Training dataset shape: ' + str(x_train.shape))\n",
    "print('Testing dataset shape: ' + str(x_test.shape))"
   ]
  },
  {
   "cell_type": "code",
   "execution_count": 3,
   "metadata": {},
   "outputs": [],
   "source": [
    "# normalize all values between 0 and 1\n",
    "x_train = x_train.astype('float32') / 255.\n",
    "x_test = x_test.astype('float32') / 255.\n"
   ]
  },
  {
   "cell_type": "code",
   "execution_count": 4,
   "metadata": {},
   "outputs": [
    {
     "data": {
      "text/plain": [
       "<matplotlib.image.AxesImage at 0x1a58bd4b730>"
      ]
     },
     "execution_count": 4,
     "metadata": {},
     "output_type": "execute_result"
    },
    {
     "data": {
      "image/png": "[encoded data removed]",
      "text/plain": [
       "<Figure size 432x288 with 1 Axes>"
      ]
     },
     "metadata": {
      "needs_background": "light"
     },
     "output_type": "display_data"
    }
   ],
   "source": [
    "plt.imshow(x_train[0], cmap='gray')"
   ]
  },
  {
   "cell_type": "code",
   "execution_count": 5,
   "metadata": {},
   "outputs": [
    {
     "name": "stdout",
     "output_type": "stream",
     "text": [
      "Training dataset shape: (60000, 784)\n",
      "Testing dataset shape: (10000, 784)\n"
     ]
    }
   ],
   "source": [
    "# flatten the data to a single vector\n",
    "x_train = x_train.reshape(x_train.shape[0], np.prod(x_train.shape[1:]))\n",
    "x_test = x_test.reshape(x_test.shape[0], np.prod(x_test.shape[1:]))\n",
    "print('Training dataset shape: ' + str(x_train.shape))\n",
    "print('Testing dataset shape: ' + str(x_test.shape))"
   ]
  },
  {
   "cell_type": "code",
   "execution_count": null,
   "metadata": {},
   "outputs": [],
   "source": []
  },
  {
   "cell_type": "code",
   "execution_count": 6,
   "metadata": {},
   "outputs": [
    {
     "data": {
      "image/png": "[encoded data removed]",
      "text/plain": [
       "<Figure size 1440x288 with 10 Axes>"
      ]
     },
     "metadata": {
      "needs_background": "light"
     },
     "output_type": "display_data"
    }
   ],
   "source": [
    "n = 10\n",
    "plt.figure(figsize=(20,4))\n",
    "for i in range(n):\n",
    "  # display the original images\n",
    "  ax = plt.subplot(1, n, i+1)\n",
    "  plt.imshow(x_test[i].reshape(28,28), cmap='gray')\n",
    "  ax.get_xaxis().set_visible(False)\n",
    "  ax.get_yaxis().set_visible(False)\n",
    "  # display the decoded images"
   ]
  },
  {
   "cell_type": "markdown",
   "metadata": {},
   "source": [
    "Encoder"
   ]
  },
  {
   "cell_type": "code",
   "execution_count": 26,
   "metadata": {},
   "outputs": [],
   "source": [
    "# the size of our input\n",
    "original_dim = x_train.shape[1]\n",
    "\n",
    "# the input placeholder\n",
    "input_img = Input(shape=(original_dim,), name='input_layer')\n",
    "\n",
    "hidden_size = 256\n",
    "\n",
    "\n",
    "# hidden dense layer size 128, relu\n",
    "h1 = Dense(hidden_size, activation='relu')(input_img)\n",
    "# encode the input with dense layer size 2, relu\n",
    "encoded = Dense(2, activation='relu')(h1) #---------------------------------------------\n",
    "\n",
    "h2 = Dense(hidden_size, activation='relu')(encoded)\n",
    "output_img = Dense(original_dim, activation='sigmoid')(h2)"
   ]
  },
  {
   "cell_type": "code",
   "execution_count": 27,
   "metadata": {},
   "outputs": [],
   "source": [
    "autoencoder = Model(input_img, output_img)\n",
    "autoencoder.compile(optimizer='adam', loss='mse')"
   ]
  },
  {
   "cell_type": "code",
   "execution_count": 28,
   "metadata": {},
   "outputs": [
    {
     "name": "stdout",
     "output_type": "stream",
     "text": [
      "Model: \"model_3\"\n",
      "_________________________________________________________________\n",
      " Layer (type)                Output Shape              Param #   \n",
      "=================================================================\n",
      " input_layer (InputLayer)    [(None, 784)]             0         \n",
      "                                                                 \n",
      " dense_12 (Dense)            (None, 256)               200960    \n",
      "                                                                 \n",
      " dense_13 (Dense)            (None, 2)                 514       \n",
      "                                                                 \n",
      " dense_14 (Dense)            (None, 256)               768       \n",
      "                                                                 \n",
      " dense_15 (Dense)            (None, 784)               201488    \n",
      "                                                                 \n",
      "=================================================================\n",
      "Total params: 403,730\n",
      "Trainable params: 403,730\n",
      "Non-trainable params: 0\n",
      "_________________________________________________________________\n"
     ]
    }
   ],
   "source": [
    "autoencoder.summary()"
   ]
  },
  {
   "cell_type": "code",
   "execution_count": 29,
   "metadata": {},
   "outputs": [
    {
     "name": "stdout",
     "output_type": "stream",
     "text": [
      "1875/1875 [==============================] - 4s 2ms/step - loss: 0.0556\n"
     ]
    },
    {
     "data": {
      "text/plain": [
       "<keras.callbacks.History at 0x1a5fa2ca820>"
      ]
     },
     "execution_count": 29,
     "metadata": {},
     "output_type": "execute_result"
    }
   ],
   "source": [
    "autoencoder.fit(x_train, x_train)"
   ]
  },
  {
   "cell_type": "code",
   "execution_count": 30,
   "metadata": {},
   "outputs": [
    {
     "name": "stdout",
     "output_type": "stream",
     "text": [
      "313/313 [==============================] - 0s 1ms/step\n"
     ]
    }
   ],
   "source": [
    "reconstructed = autoencoder.predict(x_test)"
   ]
  },
  {
   "cell_type": "code",
   "execution_count": 31,
   "metadata": {},
   "outputs": [
    {
     "data": {
      "image/png": "[encoded data removed]",
      "text/plain": [
       "<Figure size 1440x288 with 20 Axes>"
      ]
     },
     "metadata": {
      "needs_background": "light"
     },
     "output_type": "display_data"
    }
   ],
   "source": [
    "n = 10\n",
    "plt.figure(figsize=(20,4))\n",
    "for i in range(n):\n",
    "  # display the original images\n",
    "  ax = plt.subplot(2, n, i+1)\n",
    "  plt.imshow(x_test[i].reshape(28,28), cmap='gray')\n",
    "  ax.get_xaxis().set_visible(False)\n",
    "  ax.get_yaxis().set_visible(False)\n",
    "  # display the decoded images\n",
    "  ax = plt.subplot(2, n, i+1+n)\n",
    "  plt.imshow(reconstructed[i].reshape(28,28), cmap='gray')\n",
    "  ax.get_xaxis().set_visible(False)\n",
    "  ax.get_yaxis().set_visible(False)"
   ]
  },
  {
   "cell_type": "code",
   "execution_count": null,
   "metadata": {},
   "outputs": [],
   "source": [
    "\n",
    "\n",
    "\n",
    "# decoder\n",
    "latent_inputs = Input(shape=(2,), name='latent_input')\n",
    "# hidden dense layer of size 128\n",
    "#h = ?\n",
    "# hidden dense layer of size 256\n",
    "h2 = Dense(128, activation='sigmoid')(flattened) #-----------------------------------\n",
    "# output layer, dense layer of size original_dim, sigmoid activation function\n",
    "outputs = Dense(original_dim, activation='sigmoid')(h2) #-----------------------------\n",
    "\n",
    "# instantiate encoder model\n",
    "deepAE_encoder = Model(input_img, encoded, name='encoder')\n",
    "\n",
    "# instantiate decoder model\n",
    "deepAE_decoder = Model(latent_inputs, outputs, name='decoder')\n",
    "\n",
    "# instantiate deep AE model\n",
    "outputs = deepAE_decoder(deepAE_encoder(input_img))\n",
    "deepAE = Model(input_img, outputs, name='deep_ae')\n",
    "\n",
    "\n",
    "deepAE.compile(optimizer='adam', loss='mse')\n",
    "\n",
    "deepAE.fit(x_train, x_train, epochs=50, batch_size=128, shuffle=True,\n",
    "           validation_data=(x_test, x_test))\n",
    "\n",
    "encoded_imgs = deepAE_encoder.predict(x_test, batch_size=128)\n",
    "decoded_imgs = deepAE_decoder.predict(encoded_imgs)\n",
    "\n"
   ]
  },
  {
   "cell_type": "code",
   "execution_count": null,
   "metadata": {},
   "outputs": [],
   "source": [
    "original_dim = x_train.shape[1]\n",
    "\n",
    "input_img = Input(shape=(original_dim,), name='input_layer')\n",
    "\n",
    "h = Dense(128, activation='relu')(input_img)\n",
    "\n",
    "encoded = Dense(2, activation='relu')(h)\n",
    "\n",
    "latent_inputs = Input(shape=(2,), 'latent_inputs')\n"
   ]
  }
 ],
 "metadata": {
  "kernelspec": {
   "display_name": "tf",
   "language": "python",
   "name": "python3"
  },
  "language_info": {
   "codemirror_mode": {
    "name": "ipython",
    "version": 3
   },
   "file_extension": ".py",
   "mimetype": "text/x-python",
   "name": "python",
   "nbconvert_exporter": "python",
   "pygments_lexer": "ipython3",
   "version": "3.9.13 | packaged by conda-forge | (main, May 27 2022, 16:51:29) [MSC v.1929 64 bit (AMD64)]"
  },
  "orig_nbformat": 4,
  "vscode": {
   "interpreter": {
    "hash": "0953303bb76e642cf0da4dd84c14ec5ff8cbb4c1b534b77010e5be534f549796"
   }
  }
 },
 "nbformat": 4,
 "nbformat_minor": 2
}
