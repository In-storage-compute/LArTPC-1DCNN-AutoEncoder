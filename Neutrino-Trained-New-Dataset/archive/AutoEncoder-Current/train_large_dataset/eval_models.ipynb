{
 "cells": [
  {
   "cell_type": "code",
   "execution_count": 1,
   "metadata": {},
   "outputs": [],
   "source": [
    "# eval models"
   ]
  },
  {
   "cell_type": "code",
   "execution_count": 2,
   "metadata": {},
   "outputs": [
    {
     "name": "stderr",
     "output_type": "stream",
     "text": [
      "2023-06-02 13:23:12.417303: I tensorflow/core/platform/cpu_feature_guard.cc:182] This TensorFlow binary is optimized to use available CPU instructions in performance-critical operations.\n",
      "To enable the following instructions: AVX2 FMA, in other operations, rebuild TensorFlow with the appropriate compiler flags.\n",
      "2023-06-02 13:23:12.930029: W tensorflow/compiler/tf2tensorrt/utils/py_utils.cc:38] TF-TRT Warning: Could not find TensorRT\n"
     ]
    }
   ],
   "source": [
    "import os\n",
    "import matplotlib.pyplot as plt\n",
    "from tensorflow.keras.models import load_model\n",
    "import numpy as np\n",
    "from PyPDF2 import PdfMerger\n",
    "from sklearn.model_selection import train_test_split\n",
    "from os import listdir\n",
    "from os.path import isfile, join"
   ]
  },
  {
   "cell_type": "code",
   "execution_count": 3,
   "metadata": {},
   "outputs": [],
   "source": [
    "wireplane = 'U'"
   ]
  },
  {
   "cell_type": "code",
   "execution_count": 4,
   "metadata": {},
   "outputs": [],
   "source": [
    "x_test = np.load('/home/vlian/processed_data_CURRENT/x_test_'+wireplane+'.npy')\n",
    "y_test = np.load('/home/vlian/processed_data_CURRENT/y_test_AE_'+wireplane+'.npy')"
   ]
  },
  {
   "cell_type": "code",
   "execution_count": 5,
   "metadata": {},
   "outputs": [
    {
     "name": "stderr",
     "output_type": "stream",
     "text": [
      "2023-06-02 13:23:14.136474: I tensorflow/compiler/xla/stream_executor/cuda/cuda_gpu_executor.cc:982] could not open file to read NUMA node: /sys/bus/pci/devices/0000:09:00.0/numa_node\n",
      "Your kernel may have been built without NUMA support.\n",
      "2023-06-02 13:23:14.195106: I tensorflow/compiler/xla/stream_executor/cuda/cuda_gpu_executor.cc:982] could not open file to read NUMA node: /sys/bus/pci/devices/0000:09:00.0/numa_node\n",
      "Your kernel may have been built without NUMA support.\n",
      "2023-06-02 13:23:14.195183: I tensorflow/compiler/xla/stream_executor/cuda/cuda_gpu_executor.cc:982] could not open file to read NUMA node: /sys/bus/pci/devices/0000:09:00.0/numa_node\n",
      "Your kernel may have been built without NUMA support.\n",
      "2023-06-02 13:23:14.199123: I tensorflow/compiler/xla/stream_executor/cuda/cuda_gpu_executor.cc:982] could not open file to read NUMA node: /sys/bus/pci/devices/0000:09:00.0/numa_node\n",
      "Your kernel may have been built without NUMA support.\n",
      "2023-06-02 13:23:14.199181: I tensorflow/compiler/xla/stream_executor/cuda/cuda_gpu_executor.cc:982] could not open file to read NUMA node: /sys/bus/pci/devices/0000:09:00.0/numa_node\n",
      "Your kernel may have been built without NUMA support.\n",
      "2023-06-02 13:23:14.199214: I tensorflow/compiler/xla/stream_executor/cuda/cuda_gpu_executor.cc:982] could not open file to read NUMA node: /sys/bus/pci/devices/0000:09:00.0/numa_node\n",
      "Your kernel may have been built without NUMA support.\n",
      "2023-06-02 13:23:14.873466: I tensorflow/compiler/xla/stream_executor/cuda/cuda_gpu_executor.cc:982] could not open file to read NUMA node: /sys/bus/pci/devices/0000:09:00.0/numa_node\n",
      "Your kernel may have been built without NUMA support.\n",
      "2023-06-02 13:23:14.873547: I tensorflow/compiler/xla/stream_executor/cuda/cuda_gpu_executor.cc:982] could not open file to read NUMA node: /sys/bus/pci/devices/0000:09:00.0/numa_node\n",
      "Your kernel may have been built without NUMA support.\n",
      "2023-06-02 13:23:14.873555: I tensorflow/core/common_runtime/gpu/gpu_device.cc:1722] Could not identify NUMA node of platform GPU id 0, defaulting to 0.  Your kernel may not have been built with NUMA support.\n",
      "2023-06-02 13:23:14.873592: I tensorflow/compiler/xla/stream_executor/cuda/cuda_gpu_executor.cc:982] could not open file to read NUMA node: /sys/bus/pci/devices/0000:09:00.0/numa_node\n",
      "Your kernel may have been built without NUMA support.\n",
      "2023-06-02 13:23:14.873627: I tensorflow/core/common_runtime/gpu/gpu_device.cc:1635] Created device /job:localhost/replica:0/task:0/device:GPU:0 with 7335 MB memory:  -> device: 0, name: NVIDIA GeForce RTX 3080, pci bus id: 0000:09:00.0, compute capability: 8.6\n"
     ]
    }
   ],
   "source": [
    "model0 = load_model('../models/model_AE_2048_no_pooling'+wireplane+'plane_nu.h5')\n",
    "model1 = load_model('./models/model_AE_12800_low_ADC_5_10Uplane_nu.h5')\n",
    "model2 = load_model('./models/model_AE_12800_low_ADC_5_13_2Uplane_nu.h5')"
   ]
  },
  {
   "cell_type": "code",
   "execution_count": 6,
   "metadata": {},
   "outputs": [],
   "source": [
    "mean_ = np.load('/home/vlian/processed_data_CURRENT/x_train_U.npy')\n",
    "mean0 = np.mean(mean_)\n",
    "std0 = np.std(mean_)"
   ]
  },
  {
   "cell_type": "code",
   "execution_count": 7,
   "metadata": {},
   "outputs": [],
   "source": [
    "mean1 = np.load('/home/vlian/Workspace/samples_for_train_low_adc/low_adc_U_mean_adc_5_10.npy')\n",
    "std1 = np.load('/home/vlian/Workspace/samples_for_train_low_adc/low_adc_U_std_adc_5_10.npy')"
   ]
  },
  {
   "cell_type": "code",
   "execution_count": 8,
   "metadata": {},
   "outputs": [],
   "source": [
    "mean2 = np.load('/home/vlian/Workspace/samples_for_train_low_adc/low_adc_U_mean_adc_5_13.npy')\n",
    "std2 = np.load('/home/vlian/Workspace/samples_for_train_low_adc/low_adc_U_std_adc_5_13.npy')"
   ]
  },
  {
   "attachments": {},
   "cell_type": "markdown",
   "metadata": {},
   "source": [
    "### Original model\n",
    "> Trained with 100k nu_cc/nu_es events"
   ]
  },
  {
   "cell_type": "code",
   "execution_count": 9,
   "metadata": {},
   "outputs": [],
   "source": [
    "def get_adc_group(x_test_, y_test_, pred):\n",
    "    adc_3_5_x = []\n",
    "    adc_3_5_y = []\n",
    "    adc_3_5_p = []\n",
    "\n",
    "    adc_5_10_x = []\n",
    "    adc_5_10_y = []\n",
    "    adc_5_10_p = []\n",
    "\n",
    "    adc_10_15_x = []\n",
    "    adc_10_15_y = []\n",
    "    adc_10_15_p = []\n",
    "\n",
    "    adc_15_20_x = []\n",
    "    adc_15_20_y = []\n",
    "    adc_15_20_p = []\n",
    "\n",
    "    noise_x = []\n",
    "    noise_y = []\n",
    "    noise_p = []\n",
    "\n",
    "    adc_gt_20_x = []\n",
    "    adc_gt_20_y = []\n",
    "    adc_gt_20_p = []\n",
    "\n",
    "    for i, wave in enumerate(y_test_):\n",
    "        if sum(abs(wave)) == 0:\n",
    "            noise_y.append(wave)\n",
    "            noise_p.append(pred[i])\n",
    "            noise_x.append(x_test_[i])\n",
    "            continue\n",
    "        max_adc = max(abs(wave))\n",
    "        if max_adc > 3 and max_adc <= 5:\n",
    "            adc_3_5_y.append(wave)\n",
    "            adc_3_5_p.append(pred[i])\n",
    "            adc_3_5_x.append(x_test_[i])\n",
    "        elif max_adc > 5 and max_adc <=10:\n",
    "            adc_5_10_y.append(wave)\n",
    "            adc_5_10_p.append(pred[i])\n",
    "            adc_5_10_x.append(x_test_[i])\n",
    "        elif max_adc > 10 and max_adc <= 15:\n",
    "            adc_10_15_y.append(wave)\n",
    "            adc_10_15_p.append(pred[i])\n",
    "            adc_10_15_x.append(x_test_[i])\n",
    "        elif max_adc > 15 and max_adc <= 20:\n",
    "            adc_15_20_y.append(wave)\n",
    "            adc_15_20_p.append(pred[i])\n",
    "            adc_15_20_x.append(x_test_[i])\n",
    "        else:\n",
    "            adc_gt_20_y.append(wave)\n",
    "            adc_gt_20_p.append(pred[i])\n",
    "            adc_gt_20_x.append(x_test_[i])\n",
    "\n",
    "    grouped_waves = [\n",
    "        [adc_3_5_x, adc_3_5_y, adc_3_5_p], \n",
    "        [adc_5_10_x, adc_5_10_y, adc_5_10_p], \n",
    "        [adc_10_15_x, adc_10_15_y, adc_10_15_p],\n",
    "        [adc_15_20_x, adc_15_20_y, adc_15_20_p],\n",
    "        [adc_gt_20_x, adc_gt_20_y, adc_gt_20_p],\n",
    "        [noise_x, noise_y, noise_p]\n",
    "    ]\n",
    "\n",
    "    return grouped_waves\n"
   ]
  },
  {
   "cell_type": "code",
   "execution_count": 10,
   "metadata": {},
   "outputs": [],
   "source": [
    "group_num_labels = {\n",
    "                    0: 'adc_3_5',\n",
    "                    1: 'adc_5_10',\n",
    "                    2: 'adc_10_15',\n",
    "                    3: 'adc_15_20',\n",
    "                    4: 'adc_gt_20',\n",
    "                    5: 'noise'\n",
    "                    }"
   ]
  },
  {
   "cell_type": "code",
   "execution_count": 11,
   "metadata": {},
   "outputs": [],
   "source": [
    "def eval_group(group_num, grouped_waves):\n",
    "    if group_num > 4:\n",
    "        print('arg should be less than 6')\n",
    "        return -1\n",
    "    x = grouped_waves[group_num][0]\n",
    "    y = grouped_waves[group_num][1]\n",
    "    infer = grouped_waves[group_num][2]\n",
    "\n",
    "    positive_x = []\n",
    "    positive_y = []\n",
    "    positive_p = []\n",
    "\n",
    "    negative_x = []\n",
    "    negative_y = []\n",
    "    negative_p = []\n",
    "\n",
    "    for i, wave in enumerate(infer):\n",
    "        if max(abs(wave)) > 3:\n",
    "            positive_x.append(x[i])\n",
    "            positive_y.append(y[i])\n",
    "            positive_p.append(wave)\n",
    "        else:\n",
    "            negative_x.append(x[i])\n",
    "            negative_y.append(y[i])\n",
    "            negative_p.append(wave)\n",
    "    print(group_num_labels[group_num])\n",
    "    print('{:<12}{}'.format('Total:', len(x)))\n",
    "    print('{:<12}{}'.format('True Pos: ', len(positive_x)))\n",
    "    print('{:<12}{}'.format('False Pos: ', len(negative_x)))\n",
    "    print()\n",
    "\n",
    "    return [[positive_x, positive_y, positive_p], [negative_x, negative_y, negative_p]]"
   ]
  },
  {
   "cell_type": "code",
   "execution_count": 12,
   "metadata": {},
   "outputs": [
    {
     "name": "stderr",
     "output_type": "stream",
     "text": [
      "2023-06-02 13:23:18.095270: I tensorflow/compiler/xla/stream_executor/cuda/cuda_dnn.cc:424] Loaded cuDNN version 8600\n",
      "2023-06-02 13:23:18.851792: I tensorflow/tsl/platform/default/subprocess.cc:304] Start cannot spawn child process: No such file or directory\n"
     ]
    },
    {
     "name": "stdout",
     "output_type": "stream",
     "text": [
      "25/25 [==============================] - 3s 14ms/step\n"
     ]
    }
   ],
   "source": [
    "x_test_scaled0 = x_test.copy()\n",
    "x_test_scaled0 = (x_test_scaled0-mean0)/std0\n",
    "y_test_scaled0 = y_test.copy()\n",
    "y_test_scaled0 = (y_test_scaled0-mean0)/std0\n",
    "\n",
    "predictions0 = model0.predict(x_test_scaled0, batch_size=4096)\n",
    "predictions0 = predictions0.reshape(predictions0.shape[0], predictions0.shape[1])\n",
    "\n",
    "pred0 = predictions0*std0 + mean0\n",
    "\n",
    "grouped_waves0 = get_adc_group(x_test, y_test, pred0)\n"
   ]
  },
  {
   "cell_type": "code",
   "execution_count": 13,
   "metadata": {},
   "outputs": [
    {
     "name": "stdout",
     "output_type": "stream",
     "text": [
      "25/25 [==============================] - 0s 14ms/step\n"
     ]
    }
   ],
   "source": [
    "x_test_scaled1 = x_test.copy()\n",
    "x_test_scaled1 = (x_test_scaled1-mean1)/std1\n",
    "y_test_scaled1 = y_test.copy()\n",
    "y_test_scaled1 = (y_test_scaled1-mean1)/std1\n",
    "\n",
    "predictions1 = model1.predict(x_test_scaled1, batch_size=4096)\n",
    "predictions1 = predictions1.reshape(predictions1.shape[0], predictions1.shape[1])\n",
    "\n",
    "pred1 = predictions1*std1 + mean1\n",
    "\n",
    "grouped_waves1 = get_adc_group(x_test, y_test, pred1)"
   ]
  },
  {
   "cell_type": "code",
   "execution_count": 14,
   "metadata": {},
   "outputs": [
    {
     "name": "stdout",
     "output_type": "stream",
     "text": [
      "25/25 [==============================] - 1s 15ms/step\n"
     ]
    }
   ],
   "source": [
    "x_test_scaled2 = x_test.copy()\n",
    "x_test_scaled2 = (x_test_scaled2-mean2)/std2\n",
    "y_test_scaled2 = y_test.copy()\n",
    "y_test_scaled2 = (y_test_scaled2-mean2)/std2\n",
    "\n",
    "predictions2 = model2.predict(x_test_scaled2, batch_size=4096)\n",
    "predictions2 = predictions2.reshape(predictions2.shape[0], predictions2.shape[1])\n",
    "\n",
    "pred2 = predictions2*std2 + mean2\n",
    "\n",
    "grouped_waves2 = get_adc_group(x_test, y_test, pred2)"
   ]
  },
  {
   "cell_type": "code",
   "execution_count": 15,
   "metadata": {},
   "outputs": [],
   "source": [
    "# [[positive_x, positive_y, positive_p], [negative_x, negative_y, negative_p]]"
   ]
  },
  {
   "cell_type": "code",
   "execution_count": 16,
   "metadata": {},
   "outputs": [
    {
     "name": "stdout",
     "output_type": "stream",
     "text": [
      "adc_3_5\n",
      "Total:      3951\n",
      "True Pos:   439\n",
      "False Pos:  3512\n",
      "\n",
      "adc_5_10\n",
      "Total:      6610\n",
      "True Pos:   2815\n",
      "False Pos:  3795\n",
      "\n",
      "adc_10_15\n",
      "Total:      4486\n",
      "True Pos:   4071\n",
      "False Pos:  415\n",
      "\n",
      "adc_15_20\n",
      "Total:      3304\n",
      "True Pos:   3294\n",
      "False Pos:  10\n",
      "\n",
      "adc_gt_20\n",
      "Total:      31649\n",
      "True Pos:   31649\n",
      "False Pos:  0\n",
      "\n",
      "arg should be less than 6\n"
     ]
    },
    {
     "ename": "TypeError",
     "evalue": "'int' object is not subscriptable",
     "output_type": "error",
     "traceback": [
      "\u001b[0;31m---------------------------------------------------------------------------\u001b[0m",
      "\u001b[0;31mTypeError\u001b[0m                                 Traceback (most recent call last)",
      "Cell \u001b[0;32mIn[16], line 3\u001b[0m\n\u001b[1;32m      1\u001b[0m tpr0 \u001b[39m=\u001b[39m []\n\u001b[1;32m      2\u001b[0m \u001b[39mfor\u001b[39;00m i \u001b[39min\u001b[39;00m \u001b[39mrange\u001b[39m(\u001b[39m6\u001b[39m):\n\u001b[0;32m----> 3\u001b[0m     tpr0\u001b[39m.\u001b[39mappend(\u001b[39mlen\u001b[39m(eval_group(i, grouped_waves0)[\u001b[39m0\u001b[39;49m][\u001b[39m0\u001b[39m]))\n",
      "\u001b[0;31mTypeError\u001b[0m: 'int' object is not subscriptable"
     ]
    }
   ],
   "source": [
    "tpr0 = []\n",
    "total0 = []\n",
    "for i in range(5):\n",
    "    eval0 = eval_group(i, grouped_waves0)\n",
    "\n",
    "    tpr0.append(len(eval0[0][0]))\n",
    "\n",
    "    total0.append(len(eval_group(i, grouped_waves0)[0][0]))"
   ]
  },
  {
   "cell_type": "code",
   "execution_count": 17,
   "metadata": {},
   "outputs": [
    {
     "name": "stdout",
     "output_type": "stream",
     "text": [
      "adc_3_5\n",
      "Total:      3951\n",
      "True Pos:   826\n",
      "False Pos:  3125\n",
      "\n",
      "adc_5_10\n",
      "Total:      6610\n",
      "True Pos:   3686\n",
      "False Pos:  2924\n",
      "\n",
      "adc_10_15\n",
      "Total:      4486\n",
      "True Pos:   4212\n",
      "False Pos:  274\n",
      "\n",
      "adc_15_20\n",
      "Total:      3304\n",
      "True Pos:   3289\n",
      "False Pos:  15\n",
      "\n",
      "adc_gt_20\n",
      "Total:      31649\n",
      "True Pos:   31646\n",
      "False Pos:  3\n",
      "\n",
      "arg should be less than 6\n"
     ]
    },
    {
     "ename": "TypeError",
     "evalue": "'int' object is not subscriptable",
     "output_type": "error",
     "traceback": [
      "\u001b[0;31m---------------------------------------------------------------------------\u001b[0m",
      "\u001b[0;31mTypeError\u001b[0m                                 Traceback (most recent call last)",
      "Cell \u001b[0;32mIn[17], line 3\u001b[0m\n\u001b[1;32m      1\u001b[0m tpr1 \u001b[39m=\u001b[39m []\n\u001b[1;32m      2\u001b[0m \u001b[39mfor\u001b[39;00m i \u001b[39min\u001b[39;00m \u001b[39mrange\u001b[39m(\u001b[39m6\u001b[39m):\n\u001b[0;32m----> 3\u001b[0m     tpr1\u001b[39m.\u001b[39mappend(\u001b[39mlen\u001b[39m(eval_group(i, grouped_waves1)[\u001b[39m0\u001b[39;49m][\u001b[39m0\u001b[39m]))\n",
      "\u001b[0;31mTypeError\u001b[0m: 'int' object is not subscriptable"
     ]
    }
   ],
   "source": [
    "tpr1 = []\n",
    "for i in range(6):\n",
    "    tpr1.append(len(eval_group(i, grouped_waves1)[0][0]))"
   ]
  },
  {
   "cell_type": "code",
   "execution_count": 18,
   "metadata": {},
   "outputs": [
    {
     "name": "stdout",
     "output_type": "stream",
     "text": [
      "adc_3_5\n",
      "Total:      3951\n",
      "True Pos:   855\n",
      "False Pos:  3096\n",
      "\n",
      "adc_5_10\n",
      "Total:      6610\n",
      "True Pos:   3696\n",
      "False Pos:  2914\n",
      "\n",
      "adc_10_15\n",
      "Total:      4486\n",
      "True Pos:   4216\n",
      "False Pos:  270\n",
      "\n",
      "adc_15_20\n",
      "Total:      3304\n",
      "True Pos:   3292\n",
      "False Pos:  12\n",
      "\n",
      "adc_gt_20\n",
      "Total:      31649\n",
      "True Pos:   31648\n",
      "False Pos:  1\n",
      "\n",
      "arg should be less than 6\n"
     ]
    },
    {
     "ename": "TypeError",
     "evalue": "'int' object is not subscriptable",
     "output_type": "error",
     "traceback": [
      "\u001b[0;31m---------------------------------------------------------------------------\u001b[0m",
      "\u001b[0;31mTypeError\u001b[0m                                 Traceback (most recent call last)",
      "Cell \u001b[0;32mIn[18], line 3\u001b[0m\n\u001b[1;32m      1\u001b[0m tpr2 \u001b[39m=\u001b[39m []\n\u001b[1;32m      2\u001b[0m \u001b[39mfor\u001b[39;00m i \u001b[39min\u001b[39;00m \u001b[39mrange\u001b[39m(\u001b[39m6\u001b[39m):\n\u001b[0;32m----> 3\u001b[0m     tpr2\u001b[39m.\u001b[39mappend(\u001b[39mlen\u001b[39m(eval_group(i, grouped_waves2)[\u001b[39m0\u001b[39;49m][\u001b[39m0\u001b[39m]))\n",
      "\u001b[0;31mTypeError\u001b[0m: 'int' object is not subscriptable"
     ]
    }
   ],
   "source": [
    "tpr2 = []\n",
    "for i in range(6):\n",
    "    tpr2.append(len(eval_group(i, grouped_waves2)[0][0]))"
   ]
  },
  {
   "cell_type": "code",
   "execution_count": 21,
   "metadata": {},
   "outputs": [
    {
     "data": {
      "image/png": "[encoded data removed]",
      "text/plain": [
       "<Figure size 1200x800 with 1 Axes>"
      ]
     },
     "metadata": {},
     "output_type": "display_data"
    }
   ],
   "source": [
    "fig = plt.figure(figsize=(12,8))\n",
    "plt.title('Number of signal waves grouped by ADC ranges ', size=15)\n",
    "\n",
    "x_labels = [group_num_labels[i] for i in range(5)]\n",
    "bar_width = 0.2\n",
    "\n",
    "plt.bar([i for i in range(5)], tpr0, width=bar_width, color='blue', label='Induction Plane (U)')\n",
    "plt.bar([i-bar_width - bar_width/4 for i in range(5)], tpr1, width=bar_width, color='green', label='Induction Plane (V)')\n",
    "plt.bar([i+bar_width + bar_width/4 for i in range(5)], tpr2, width=bar_width, color='red', label='Collection Plane (Z)')\n",
    "\n",
    "\n",
    "\n",
    "plt.xticks([i for i in range(5)], x_labels, size=12)\n",
    "plt.yticks(size=12)\n",
    "plt.legend()\n",
    "plt.xlabel('ADC Range', size=15)\n",
    "plt.ylabel('Count', size=15)\n",
    "#filename = './histograms/file_group' + str(grp) +'.png'\n",
    "#plt.savefig(filename, facecolor='w', bbox_inches='tight')\n",
    "#plt.close()\n",
    "plt.show()"
   ]
  },
  {
   "cell_type": "code",
   "execution_count": null,
   "metadata": {},
   "outputs": [],
   "source": []
  }
 ],
 "metadata": {
  "kernelspec": {
   "display_name": "tf",
   "language": "python",
   "name": "python3"
  },
  "language_info": {
   "codemirror_mode": {
    "name": "ipython",
    "version": 3
   },
   "file_extension": ".py",
   "mimetype": "text/x-python",
   "name": "python",
   "nbconvert_exporter": "python",
   "pygments_lexer": "ipython3",
   "version": "3.9.16"
  },
  "orig_nbformat": 4
 },
 "nbformat": 4,
 "nbformat_minor": 2
}
