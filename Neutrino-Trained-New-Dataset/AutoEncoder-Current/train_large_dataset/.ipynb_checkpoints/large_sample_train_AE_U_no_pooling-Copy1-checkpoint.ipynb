{
 "cells": [
  {
   "cell_type": "markdown",
   "metadata": {},
   "source": [
    "train autoencoder WITHOUT using 1DCNN roi finder"
   ]
  },
  {
   "cell_type": "code",
   "execution_count": 2,
   "metadata": {},
   "outputs": [
    {
     "name": "stderr",
     "output_type": "stream",
     "text": [
      "2023-05-25 02:59:48.813907: I tensorflow/tsl/cuda/cudart_stub.cc:28] Could not find cuda drivers on your machine, GPU will not be used.\n",
      "2023-05-25 02:59:48.848244: I tensorflow/tsl/cuda/cudart_stub.cc:28] Could not find cuda drivers on your machine, GPU will not be used.\n",
      "2023-05-25 02:59:48.849044: I tensorflow/core/platform/cpu_feature_guard.cc:182] This TensorFlow binary is optimized to use available CPU instructions in performance-critical operations.\n",
      "To enable the following instructions: AVX2 FMA, in other operations, rebuild TensorFlow with the appropriate compiler flags.\n",
      "2023-05-25 02:59:51.753587: W tensorflow/compiler/tf2tensorrt/utils/py_utils.cc:38] TF-TRT Warning: Could not find TensorRT\n"
     ]
    }
   ],
   "source": [
    "import sys\n",
    "from os import listdir\n",
    "from os.path import isfile, join\n",
    "import pandas as pd\n",
    "import numpy as np\n",
    "import matplotlib.pyplot as plt\n",
    "import tensorflow as tf\n",
    "from tensorflow import keras \n",
    "from sklearn.preprocessing import StandardScaler\n",
    "from sklearn.compose import ColumnTransformer, make_column_transformer\n",
    "from sklearn.model_selection import train_test_split \n",
    "from sklearn.utils import shuffle\n",
    "from PyPDF2 import PdfMerger\n",
    "import os\n",
    "from tensorflow.keras.models import load_model\n",
    "import pp_large_samples as pp"
   ]
  },
  {
   "cell_type": "markdown",
   "metadata": {},
   "source": [
    "### Load and split data"
   ]
  },
  {
   "cell_type": "code",
   "execution_count": 3,
   "metadata": {},
   "outputs": [],
   "source": [
    "wireplane = \"U\"\n",
    "np.random.seed(77)\n",
    "path = '/home/vlian/Workspace/processed_ar39/'"
   ]
  },
  {
   "cell_type": "code",
   "execution_count": 4,
   "metadata": {},
   "outputs": [],
   "source": [
    "dataset = np.load(path+'Sample_'+wireplane+'_Plane.npy', allow_pickle=True)"
   ]
  },
  {
   "cell_type": "code",
   "execution_count": 5,
   "metadata": {},
   "outputs": [],
   "source": [
    "mins_ = [max(abs(wave)) for wave in dataset[0][0][1]]"
   ]
  },
  {
   "cell_type": "code",
   "execution_count": 8,
   "metadata": {},
   "outputs": [
    {
     "data": {
      "text/plain": [
       "5"
      ]
     },
     "execution_count": 8,
     "metadata": {},
     "output_type": "execute_result"
    }
   ],
   "source": [
    "min(mins_)"
   ]
  },
  {
   "cell_type": "code",
   "execution_count": 9,
   "metadata": {},
   "outputs": [],
   "source": [
    "del mins_"
   ]
  },
  {
   "cell_type": "code",
   "execution_count": 7,
   "metadata": {},
   "outputs": [
    {
     "data": {
      "text/plain": [
       "{0: 'adc_5_7',\n",
       " 1: 'adc_8_10',\n",
       " 2: 'adc_11_13',\n",
       " 3: 'adc_14_16',\n",
       " 4: 'adc_17_19',\n",
       " 5: 'adc_20_22',\n",
       " 6: 'adc_gt_22'}"
      ]
     },
     "execution_count": 7,
     "metadata": {},
     "output_type": "execute_result"
    }
   ],
   "source": [
    "pp.group_num_labels"
   ]
  },
  {
   "cell_type": "code",
   "execution_count": 10,
   "metadata": {},
   "outputs": [
    {
     "data": {
      "image/png": "[encoded data removed]",
      "text/plain": [
       "<Figure size 800x400 with 1 Axes>"
      ]
     },
     "metadata": {},
     "output_type": "display_data"
    }
   ],
   "source": [
    "fig = plt.figure(figsize=(8,4))\n",
    "x_labels = [pp.group_num_labels[i] for i in range(7)]\n",
    "bar_width = 0.2\n",
    "\n",
    "plt.bar([i for i in range(7)], dataset[1], width=bar_width, color='blue', label=wireplane)\n",
    "\n",
    "for i in range(7):\n",
    "    dist = 1000\n",
    "    plt.text(i, dataset[1][i] + dist, dataset[1][i], color='blue', size=10)\n",
    "\n",
    "plt.xticks([i for i in range(7)], x_labels)\n",
    "plt.legend()\n",
    "plt.xlabel('ADC Range', size=12)\n",
    "plt.ylabel('Count', size=12)\n",
    "plt.show()"
   ]
  },
  {
   "cell_type": "markdown",
   "metadata": {},
   "source": [
    "### get additonal samples for adc_gt_21 from NU_CC and NU_ES"
   ]
  },
  {
   "cell_type": "code",
   "execution_count": 11,
   "metadata": {},
   "outputs": [],
   "source": [
    "test_min = [max(abs(wave)) for wave in dataset[0][4][1]]"
   ]
  },
  {
   "cell_type": "code",
   "execution_count": 12,
   "metadata": {},
   "outputs": [
    {
     "data": {
      "text/plain": [
       "106302"
      ]
     },
     "execution_count": 12,
     "metadata": {},
     "output_type": "execute_result"
    }
   ],
   "source": [
    "len(test_min)"
   ]
  },
  {
   "cell_type": "code",
   "execution_count": 13,
   "metadata": {},
   "outputs": [
    {
     "data": {
      "text/plain": [
       "17"
      ]
     },
     "execution_count": 13,
     "metadata": {},
     "output_type": "execute_result"
    }
   ],
   "source": [
    "min(test_min)"
   ]
  },
  {
   "cell_type": "code",
   "execution_count": 14,
   "metadata": {},
   "outputs": [],
   "source": [
    "del test_min"
   ]
  },
  {
   "cell_type": "code",
   "execution_count": 15,
   "metadata": {},
   "outputs": [
    {
     "name": "stdout",
     "output_type": "stream",
     "text": [
      "nu_cc:  /home/vlian/Workspace/train_dune_lartpc_v2/nu_cc/\n",
      "nu_es:  /home/vlian/Workspace/train_dune_lartpc_v2/nu_es/\n",
      "noise:  /home/vlian/Workspace/more-noise/\n",
      "\n",
      "----------loading----------\n",
      "--------data loaded!-------\n",
      "---------------------------------\n",
      "     signal+noise:  218916\n",
      "     clean signal:  218916\n",
      "     noise       :  1400000\n",
      "---------------------------------\n",
      "\n",
      "filtering out small signals --> ADC > 15\n",
      "     noise+signal :  (218916, 200)\n",
      "     clean signal :  (218916, 200)\n",
      "------------after filtering------------\n",
      "     noise+signal :  (90708, 200)\n",
      "     clean signal :  (90708, 200)\n"
     ]
    }
   ],
   "source": [
    "path = '/home/vlian/Workspace/train_dune_lartpc_v2/'\n",
    "nticks = 200\n",
    "ADC_MIN = 15\n",
    "signal_waveforms, clean_signal_waveforms, noise_waveforms, noiseless_waveform = pp.process_data(wireplane=wireplane, path=path, ADC_MIN=ADC_MIN)\n",
    "\n",
    "for i in range(10):\n",
    "    signal_waveforms, clean_signal_waveforms = shuffle(signal_waveforms, clean_signal_waveforms)"
   ]
  },
  {
   "cell_type": "code",
   "execution_count": 16,
   "metadata": {},
   "outputs": [
    {
     "name": "stdout",
     "output_type": "stream",
     "text": [
      " 0: adc_5_7             1: adc_8_10             2: adc_11_13             3: adc_14_16             4: adc_17_19             5: adc_20_22             6: adc_gt_22           \n",
      "\n",
      "adc_5_7\n",
      "count       0\n",
      "\n",
      "adc_8_10\n",
      "count       0\n",
      "\n",
      "adc_11_13\n",
      "count       0\n",
      "\n",
      "adc_14_16\n",
      "count       3894\n",
      "\n",
      "adc_17_19\n",
      "count       4987\n",
      "\n",
      "adc_20_22\n",
      "count       4366\n",
      "\n",
      "adc_gt_22\n",
      "count       77461\n",
      "\n",
      "     Total:    90708\n"
     ]
    }
   ],
   "source": [
    "nu_es_cc_grouped_by_ADC = pp.adc_grouping(signal_waveforms, clean_signal_waveforms)\n",
    "nu_es_cc_grouped_by_ADC = np.array(nu_es_cc_grouped_by_ADC, dtype=object)\n",
    "for_combining = nu_es_cc_grouped_by_ADC[:, :7]"
   ]
  },
  {
   "cell_type": "code",
   "execution_count": 17,
   "metadata": {},
   "outputs": [
    {
     "name": "stdout",
     "output_type": "stream",
     "text": [
      "(2, 7) (2, 7)\n"
     ]
    }
   ],
   "source": [
    "print(dataset.shape, for_combining.shape)"
   ]
  },
  {
   "cell_type": "code",
   "execution_count": 18,
   "metadata": {},
   "outputs": [],
   "source": [
    "waves_idx = 0\n",
    "count_idx = 1\n",
    "x_idx = 0\n",
    "y_idx= 1\n",
    "\n",
    "adc_grp = 6\n",
    "\n",
    "# dataset[waves_idx][adc_group_idx][x_idx]"
   ]
  },
  {
   "cell_type": "code",
   "execution_count": 19,
   "metadata": {},
   "outputs": [
    {
     "name": "stdout",
     "output_type": "stream",
     "text": [
      "<class 'list'> <class 'list'>\n"
     ]
    }
   ],
   "source": [
    "print(type(dataset[waves_idx][adc_grp][x_idx]),\n",
    "            type(for_combining[waves_idx][adc_grp][x_idx]))"
   ]
  },
  {
   "cell_type": "code",
   "execution_count": 20,
   "metadata": {},
   "outputs": [
    {
     "name": "stdout",
     "output_type": "stream",
     "text": [
      "13934 77461\n"
     ]
    }
   ],
   "source": [
    "print(len(dataset[waves_idx][adc_grp][x_idx]),\n",
    "            len(for_combining[waves_idx][adc_grp][x_idx]))"
   ]
  },
  {
   "cell_type": "code",
   "execution_count": 21,
   "metadata": {},
   "outputs": [
    {
     "name": "stdout",
     "output_type": "stream",
     "text": [
      "200000 200000\n",
      "200000 200000\n",
      "200000 200000\n",
      "200000 200000\n",
      "106302 106302\n",
      "38036 38036\n",
      "13934 13934\n"
     ]
    }
   ],
   "source": [
    "for i in range(7):\n",
    "    print(len(dataset[waves_idx][i][x_idx]), dataset[count_idx][i])"
   ]
  },
  {
   "cell_type": "code",
   "execution_count": 22,
   "metadata": {},
   "outputs": [
    {
     "name": "stdout",
     "output_type": "stream",
     "text": [
      "Debug:  111289 4987\n",
      "Debug:  42402 4366\n",
      "Debug:  91395 77461\n"
     ]
    }
   ],
   "source": [
    "# sudo code\n",
    "for adc_group_idx in range(7):\n",
    "    if len(for_combining[waves_idx][adc_group_idx][x_idx]) > 0 and len(dataset[waves_idx][adc_group_idx][y_idx]) < 200000:\n",
    "        dataset[waves_idx][adc_group_idx][x_idx] += for_combining[waves_idx][adc_group_idx][x_idx]\n",
    "        dataset[waves_idx][adc_group_idx][y_idx] += for_combining[waves_idx][adc_group_idx][y_idx]\n",
    "        \n",
    "        print('Debug: ', len(dataset[waves_idx][adc_group_idx][x_idx]), len(for_combining[waves_idx][adc_group_idx][x_idx]))\n",
    "        \n",
    "        dataset[count_idx][adc_group_idx] += len(for_combining[waves_idx][adc_group_idx][x_idx])\n",
    "        dataset[count_idx][adc_group_idx] += len(for_combining[waves_idx][adc_group_idx][y_idx])\n",
    "\n",
    "\n"
   ]
  },
  {
   "cell_type": "code",
   "execution_count": 23,
   "metadata": {},
   "outputs": [
    {
     "data": {
      "text/plain": [
       "91395"
      ]
     },
     "execution_count": 23,
     "metadata": {},
     "output_type": "execute_result"
    }
   ],
   "source": [
    "len(dataset[waves_idx][6][y_idx])"
   ]
  },
  {
   "cell_type": "code",
   "execution_count": 24,
   "metadata": {},
   "outputs": [
    {
     "data": {
      "image/png": "[encoded data removed]",
      "text/plain": [
       "<Figure size 800x400 with 1 Axes>"
      ]
     },
     "metadata": {},
     "output_type": "display_data"
    }
   ],
   "source": [
    "fig = plt.figure(figsize=(8,4))\n",
    "x_labels = [pp.group_num_labels[i] for i in range(7)]\n",
    "bar_width = 0.2\n",
    "\n",
    "plt.bar([i for i in range(7)], dataset[1], width=bar_width, color='blue', label=wireplane)\n",
    "plt.title('Add samples from NU_CC/NU_ES')\n",
    "\n",
    "for i in range(7):\n",
    "    dist = 1000\n",
    "    plt.text(i, dataset[1][i] + dist, dataset[1][i], color='blue', size=10)\n",
    "\n",
    "plt.xticks([i for i in range(7)], x_labels)\n",
    "plt.legend()\n",
    "plt.xlabel('ADC Range', size=12)\n",
    "plt.ylabel('Count', size=12)\n",
    "plt.show()"
   ]
  },
  {
   "cell_type": "code",
   "execution_count": 25,
   "metadata": {},
   "outputs": [
    {
     "name": "stdout",
     "output_type": "stream",
     "text": [
      "0 200000\n",
      "200000 200000\n",
      "1 200000\n",
      "400000 400000\n",
      "2 200000\n",
      "600000 600000\n",
      "3 200000\n",
      "800000 800000\n",
      "4 111289\n",
      "911289 911289\n",
      "5 42402\n",
      "953691 953691\n",
      "6 91395\n",
      "1045086 1045086\n"
     ]
    }
   ],
   "source": [
    "dataset_to_train_small_adc_x = []\n",
    "dataset_to_train_small_adc_y = []\n",
    "adc_group_idx = 0\n",
    "for adc_group_idx in range(7):\n",
    "    print(adc_group_idx, len(dataset[waves_idx][adc_group_idx][x_idx]))\n",
    "    dataset_to_train_small_adc_x += dataset[waves_idx][adc_group_idx][x_idx]\n",
    "    dataset_to_train_small_adc_y += dataset[waves_idx][adc_group_idx][y_idx]\n",
    "    print(len(dataset_to_train_small_adc_x), len(dataset_to_train_small_adc_y))"
   ]
  },
  {
   "cell_type": "code",
   "execution_count": 26,
   "metadata": {},
   "outputs": [
    {
     "data": {
      "text/plain": [
       "1045086"
      ]
     },
     "execution_count": 26,
     "metadata": {},
     "output_type": "execute_result"
    }
   ],
   "source": [
    "(len(dataset_to_train_small_adc_y))"
   ]
  },
  {
   "cell_type": "code",
   "execution_count": 27,
   "metadata": {},
   "outputs": [
    {
     "data": {
      "text/plain": [
       "{0: 'adc_5_7',\n",
       " 1: 'adc_8_10',\n",
       " 2: 'adc_11_13',\n",
       " 3: 'adc_14_16',\n",
       " 4: 'adc_17_19',\n",
       " 5: 'adc_20_22',\n",
       " 6: 'adc_gt_22'}"
      ]
     },
     "execution_count": 27,
     "metadata": {},
     "output_type": "execute_result"
    }
   ],
   "source": [
    "pp.group_num_labels"
   ]
  },
  {
   "cell_type": "code",
   "execution_count": 28,
   "metadata": {},
   "outputs": [
    {
     "name": "stdout",
     "output_type": "stream",
     "text": [
      " 0: adc_5_7             1: adc_8_10             2: adc_11_13             3: adc_14_16             4: adc_17_19             5: adc_20_22             6: adc_gt_22           \n",
      "\n",
      "adc_5_7\n",
      "count       200000\n",
      "\n",
      "adc_8_10\n",
      "count       200000\n",
      "\n",
      "adc_11_13\n",
      "count       200000\n",
      "\n",
      "adc_14_16\n",
      "count       200000\n",
      "\n",
      "adc_17_19\n",
      "count       111289\n",
      "\n",
      "adc_20_22\n",
      "count       42402\n",
      "\n",
      "adc_gt_22\n",
      "count       91395\n",
      "\n",
      "     Total:    1045086\n"
     ]
    }
   ],
   "source": [
    "dataset_to_train_small_adc_grouping = pp.adc_grouping(dataset_to_train_small_adc_x, dataset_to_train_small_adc_y)"
   ]
  },
  {
   "cell_type": "code",
   "execution_count": 29,
   "metadata": {},
   "outputs": [
    {
     "data": {
      "image/png": "[encoded data removed]",
      "text/plain": [
       "<Figure size 800x400 with 1 Axes>"
      ]
     },
     "metadata": {},
     "output_type": "display_data"
    }
   ],
   "source": [
    "fig = plt.figure(figsize=(8,4))\n",
    "x_labels = [pp.group_num_labels[i] for i in range(7)]\n",
    "bar_width = 0.2\n",
    "\n",
    "plt.bar([i for i in range(7)], dataset_to_train_small_adc_grouping[1], width=bar_width, color='blue', label=wireplane)\n",
    "\n",
    "for i in range(7):\n",
    "    dist = 1000\n",
    "    plt.text(i, dataset_to_train_small_adc_grouping[1][i] + dist, dataset_to_train_small_adc_grouping[1][i], color='blue', size=10)\n",
    "\n",
    "plt.xticks([i for i in range(7)], x_labels)\n",
    "plt.legend()\n",
    "plt.xlabel('ADC Range', size=12)\n",
    "plt.ylabel('Count', size=12)\n",
    "plt.show()"
   ]
  },
  {
   "cell_type": "code",
   "execution_count": 30,
   "metadata": {},
   "outputs": [
    {
     "name": "stdout",
     "output_type": "stream",
     "text": [
      "1045086 1045086\n"
     ]
    }
   ],
   "source": [
    "print(len(dataset_to_train_small_adc_x), len(dataset_to_train_small_adc_y))"
   ]
  },
  {
   "cell_type": "code",
   "execution_count": 31,
   "metadata": {},
   "outputs": [],
   "source": [
    "for i in range(10):\n",
    "    dataset_to_train_small_adc_x, dataset_to_train_small_adc_y = shuffle(dataset_to_train_small_adc_x, dataset_to_train_small_adc_y)"
   ]
  },
  {
   "cell_type": "code",
   "execution_count": 32,
   "metadata": {},
   "outputs": [],
   "source": [
    "dataset_to_train_small_adc_x_train, dataset_to_train_small_adc_x_test, dataset_to_train_small_adc_y_train, dataset_to_train_small_adc_y_test = train_test_split(dataset_to_train_small_adc_x, dataset_to_train_small_adc_y, test_size=0.5, shuffle=True)"
   ]
  },
  {
   "cell_type": "code",
   "execution_count": 33,
   "metadata": {},
   "outputs": [
    {
     "name": "stdout",
     "output_type": "stream",
     "text": [
      "522543\n"
     ]
    }
   ],
   "source": [
    "print(len(dataset_to_train_small_adc_x_train))"
   ]
  },
  {
   "cell_type": "code",
   "execution_count": 34,
   "metadata": {},
   "outputs": [],
   "source": [
    "noise_waveforms = noise_waveforms[:len(dataset_to_train_small_adc_x_train)*2]\n",
    "noiseless_waveform = noiseless_waveform[:len(dataset_to_train_small_adc_x_train)*2]"
   ]
  },
  {
   "cell_type": "code",
   "execution_count": 35,
   "metadata": {},
   "outputs": [],
   "source": [
    "x_noise_train, x_noise_test, y_noise_train, y_noise_test = train_test_split(noise_waveforms, noiseless_waveform, test_size=0.5, shuffle=True)"
   ]
  },
  {
   "cell_type": "code",
   "execution_count": 36,
   "metadata": {},
   "outputs": [
    {
     "name": "stdout",
     "output_type": "stream",
     "text": [
      "522543 522543\n"
     ]
    }
   ],
   "source": [
    "print(len(x_noise_train), len(x_noise_test))"
   ]
  },
  {
   "cell_type": "code",
   "execution_count": 37,
   "metadata": {},
   "outputs": [],
   "source": [
    "for i in range(10):\n",
    "    dataset_to_train_small_adc_x_train, dataset_to_train_small_adc_y_train = shuffle(dataset_to_train_small_adc_x_train, dataset_to_train_small_adc_y_train)\n",
    "    dataset_to_train_small_adc_x_test, dataset_to_train_small_adc_y_test = shuffle(dataset_to_train_small_adc_x_test, dataset_to_train_small_adc_y_test)\n",
    "    x_noise_train, y_noise_train = shuffle(x_noise_train, y_noise_train)\n",
    "    x_noise_test, y_noise_test = shuffle(x_noise_test, y_noise_test)"
   ]
  },
  {
   "cell_type": "code",
   "execution_count": 38,
   "metadata": {},
   "outputs": [],
   "source": [
    "x_train = np.concatenate((dataset_to_train_small_adc_x_train, x_noise_train))\n",
    "y_train = np.concatenate((dataset_to_train_small_adc_y_train, y_noise_train))\n",
    "\n",
    "x_test = np.concatenate((dataset_to_train_small_adc_x_test, x_noise_test))\n",
    "y_test = np.concatenate((dataset_to_train_small_adc_y_test, y_noise_test))"
   ]
  },
  {
   "cell_type": "code",
   "execution_count": 39,
   "metadata": {},
   "outputs": [],
   "source": [
    "for i in range(10):\n",
    "    x_train, y_train = shuffle(x_train, y_train)\n",
    "    x_test, y_test = shuffle(x_test, y_test)"
   ]
  },
  {
   "cell_type": "markdown",
   "metadata": {},
   "source": [
    "### training validation split"
   ]
  },
  {
   "cell_type": "code",
   "execution_count": 40,
   "metadata": {},
   "outputs": [],
   "source": [
    "x_train, x_valid, y_train, y_valid = train_test_split(\n",
    "    x_train, y_train, test_size=0.2, shuffle=False\n",
    ")"
   ]
  },
  {
   "cell_type": "code",
   "execution_count": null,
   "metadata": {},
   "outputs": [],
   "source": []
  },
  {
   "cell_type": "code",
   "execution_count": 41,
   "metadata": {},
   "outputs": [
    {
     "name": "stdout",
     "output_type": "stream",
     "text": [
      " 0: adc_5_7             1: adc_8_10             2: adc_11_13             3: adc_14_16             4: adc_17_19             5: adc_20_22             6: adc_gt_22           \n",
      "\n",
      "adc_5_7\n",
      "count       79796\n",
      "\n",
      "adc_8_10\n",
      "count       80268\n",
      "\n",
      "adc_11_13\n",
      "count       80184\n",
      "\n",
      "adc_14_16\n",
      "count       79877\n",
      "\n",
      "adc_17_19\n",
      "count       44485\n",
      "\n",
      "adc_20_22\n",
      "count       16864\n",
      "\n",
      "adc_gt_22\n",
      "count       36584\n",
      "\n",
      "     Total:    418058\n",
      " 0: adc_5_7             1: adc_8_10             2: adc_11_13             3: adc_14_16             4: adc_17_19             5: adc_20_22             6: adc_gt_22           \n",
      "\n",
      "adc_5_7\n",
      "count       100178\n",
      "\n",
      "adc_8_10\n",
      "count       99879\n",
      "\n",
      "adc_11_13\n",
      "count       99789\n",
      "\n",
      "adc_14_16\n",
      "count       100371\n",
      "\n",
      "adc_17_19\n",
      "count       55582\n",
      "\n",
      "adc_20_22\n",
      "count       21264\n",
      "\n",
      "adc_gt_22\n",
      "count       45480\n",
      "\n",
      "     Total:    522543\n",
      " 0: adc_5_7             1: adc_8_10             2: adc_11_13             3: adc_14_16             4: adc_17_19             5: adc_20_22             6: adc_gt_22           \n",
      "\n",
      "adc_5_7\n",
      "count       20026\n",
      "\n",
      "adc_8_10\n",
      "count       19853\n",
      "\n",
      "adc_11_13\n",
      "count       20027\n",
      "\n",
      "adc_14_16\n",
      "count       19752\n",
      "\n",
      "adc_17_19\n",
      "count       11222\n",
      "\n",
      "adc_20_22\n",
      "count       4274\n",
      "\n",
      "adc_gt_22\n",
      "count       9331\n",
      "\n",
      "     Total:    104485\n"
     ]
    }
   ],
   "source": [
    "train_set = pp.adc_grouping(x_train, y_train)\n",
    "test_set = pp.adc_grouping(x_test, y_test)\n",
    "val_set = pp.adc_grouping(x_valid, y_valid)"
   ]
  },
  {
   "cell_type": "code",
   "execution_count": 42,
   "metadata": {},
   "outputs": [
    {
     "data": {
      "image/png": "[encoded data removed]",
      "text/plain": [
       "<Figure size 1200x800 with 1 Axes>"
      ]
     },
     "metadata": {},
     "output_type": "display_data"
    }
   ],
   "source": [
    "fig = plt.figure(figsize=(12,8))\n",
    "plt.title('Number of signal waves grouped by ADC ranges in plane ' + wireplane, size=15)\n",
    "\n",
    "x_labels = [pp.group_num_labels[i] for i in range(7)]\n",
    "bar_width = 0.2\n",
    "\n",
    "plt.bar([i - 2*bar_width for i in range(7)], dataset_to_train_small_adc_grouping[1], width=bar_width, color='blue', label='Full Set')\n",
    "plt.bar([i - bar_width for i in range(7)], train_set[1], width=bar_width, color='m', label='Training Set')\n",
    "plt.bar([i for i in range(7)], test_set[1], width=bar_width, color='r', label='Testing Set')\n",
    "plt.bar([i + bar_width for i in range(7)], val_set[1], width=bar_width, color='green', label='Validation Set')\n",
    "\n",
    "for i in range(7):\n",
    "    dist = 2000\n",
    "    plt.text(i - 2*bar_width, dataset_to_train_small_adc_grouping[1][i] + dist, dataset_to_train_small_adc_grouping[1][i], color='blue')\n",
    "    plt.text(i - bar_width, train_set[1][i] + dist, train_set[1][i], color='m')\n",
    "    plt.text(i, test_set[1][i] + 2*dist, test_set[1][i], color='r')\n",
    "    plt.text(i + bar_width, val_set[1][i] + dist, val_set[1][i], color='g')\n",
    "\n",
    "\n",
    "plt.xticks([i for i in range(7)], x_labels, size=12)\n",
    "plt.yticks(size=12)\n",
    "plt.legend()\n",
    "plt.xlabel('ADC Range', size=15)\n",
    "plt.ylabel('Count', size=15)\n",
    "plt.show()"
   ]
  },
  {
   "cell_type": "code",
   "execution_count": 43,
   "metadata": {},
   "outputs": [],
   "source": [
    "mean = x_train.mean()\n",
    "std = x_train.std()"
   ]
  },
  {
   "cell_type": "code",
   "execution_count": 44,
   "metadata": {},
   "outputs": [],
   "source": [
    "x_train_scaled = (x_train-mean)/std\n",
    "x_test_scaled = (x_test-mean)/std\n",
    "x_valid_scaled = (x_valid-mean)/std\n",
    "\n",
    "y_train_scaled = (y_train-mean)/std\n",
    "y_test_scaled = (y_test-mean)/std\n",
    "y_valid_scaled = (y_valid-mean)/std"
   ]
  },
  {
   "cell_type": "code",
   "execution_count": 45,
   "metadata": {},
   "outputs": [
    {
     "data": {
      "image/png": "[encoded data removed]",
      "text/plain": [
       "<Figure size 1200x200 with 1 Axes>"
      ]
     },
     "metadata": {},
     "output_type": "display_data"
    },
    {
     "data": {
      "image/png": "[encoded data removed]",
      "text/plain": [
       "<Figure size 1200x200 with 1 Axes>"
      ]
     },
     "metadata": {},
     "output_type": "display_data"
    }
   ],
   "source": [
    "for idx in range(1,3):\n",
    "    fig, (ax1) = plt.subplots(figsize=(12, 2), facecolor='white')\n",
    "    ax1.plot(x_train_scaled[idx],color='blue', label='signal+noise')\n",
    "    ax1.plot(y_train_scaled[idx],color='m',alpha=0.7, label='target')\n",
    "    ax1.set_title(\"waveform\", fontsize=15)\n",
    "    ax1.legend()\n",
    "\n",
    "    plt.show()"
   ]
  },
  {
   "cell_type": "code",
   "execution_count": 46,
   "metadata": {},
   "outputs": [],
   "source": [
    "from tensorflow.keras.models import Sequential\n",
    "from tensorflow.keras.layers import Conv1D, MaxPooling1D, GlobalAveragePooling1D, Dropout, Dense,Flatten, AveragePooling1D\n",
    "from tensorflow.keras.layers import Input,  UpSampling1D\n",
    "from tensorflow.keras.models import Model\n",
    "\n",
    "from tensorflow.keras.models import Sequential\n",
    "from tensorflow.keras.layers import Conv1D, MaxPooling1D, GlobalMaxPooling1D, \\\n",
    "    Dropout, Dense,Flatten, AveragePooling1D, BatchNormalization\n",
    "#from keras import backend as K"
   ]
  },
  {
   "cell_type": "code",
   "execution_count": 47,
   "metadata": {},
   "outputs": [],
   "source": [
    "from tensorflow.keras.layers import Reshape\n",
    "from tensorflow.keras.layers import Conv1DTranspose"
   ]
  },
  {
   "cell_type": "code",
   "execution_count": 48,
   "metadata": {},
   "outputs": [
    {
     "name": "stderr",
     "output_type": "stream",
     "text": [
      "2023-05-25 03:02:30.218709: I tensorflow/compiler/xla/stream_executor/cuda/cuda_gpu_executor.cc:996] successful NUMA node read from SysFS had negative value (-1), but there must be at least one NUMA node, so returning NUMA node zero. See more at https://github.com/torvalds/linux/blob/v6.0/Documentation/ABI/testing/sysfs-bus-pci#L344-L355\n",
      "2023-05-25 03:02:30.219328: W tensorflow/core/common_runtime/gpu/gpu_device.cc:1956] Cannot dlopen some GPU libraries. Please make sure the missing libraries mentioned above are installed properly if you would like to use GPU. Follow the guide at https://www.tensorflow.org/install/gpu for how to download and setup the required libraries for your platform.\n",
      "Skipping registering GPU devices...\n"
     ]
    }
   ],
   "source": [
    "time_periods = 200\n",
    "autoencoder = Sequential()\n",
    "# encoder\n",
    "autoencoder.add(Conv1D(filters=16, kernel_size=3, padding=\"same\", strides=2, activation = \"relu\", input_shape=(time_periods,1)))\n",
    "autoencoder.add(Conv1D(filters=32, kernel_size=5, padding=\"same\", strides=4, activation = \"relu\"))\n",
    "autoencoder.add(Conv1D(filters=64, kernel_size=9, padding=\"same\", strides=5, activation = \"relu\"))\n",
    "\n",
    "# decoder\n",
    "autoencoder.add(Conv1DTranspose(filters=64, kernel_size=9, padding=\"same\", strides=5, activation = \"relu\"))\n",
    "autoencoder.add(Conv1DTranspose(filters=32, kernel_size=5, padding=\"same\", strides=4, activation = \"relu\"))\n",
    "autoencoder.add(Conv1DTranspose(filters=16, kernel_size=3, padding=\"same\", strides=2, activation = \"relu\"))\n",
    "\n",
    "autoencoder.add(Conv1DTranspose(filters=1, kernel_size=3, padding=\"same\"))\n",
    "\n",
    "autoencoder.compile(loss='mse', optimizer='adam')\n"
   ]
  },
  {
   "cell_type": "code",
   "execution_count": 49,
   "metadata": {},
   "outputs": [
    {
     "name": "stdout",
     "output_type": "stream",
     "text": [
      "Model: \"sequential\"\n",
      "_________________________________________________________________\n",
      " Layer (type)                Output Shape              Param #   \n",
      "=================================================================\n",
      " conv1d (Conv1D)             (None, 100, 16)           64        \n",
      "                                                                 \n",
      " conv1d_1 (Conv1D)           (None, 25, 32)            2592      \n",
      "                                                                 \n",
      " conv1d_2 (Conv1D)           (None, 5, 64)             18496     \n",
      "                                                                 \n",
      " conv1d_transpose (Conv1DTra  (None, 25, 64)           36928     \n",
      " nspose)                                                         \n",
      "                                                                 \n",
      " conv1d_transpose_1 (Conv1DT  (None, 100, 32)          10272     \n",
      " ranspose)                                                       \n",
      "                                                                 \n",
      " conv1d_transpose_2 (Conv1DT  (None, 200, 16)          1552      \n",
      " ranspose)                                                       \n",
      "                                                                 \n",
      " conv1d_transpose_3 (Conv1DT  (None, 200, 1)           49        \n",
      " ranspose)                                                       \n",
      "                                                                 \n",
      "=================================================================\n",
      "Total params: 69,953\n",
      "Trainable params: 69,953\n",
      "Non-trainable params: 0\n",
      "_________________________________________________________________\n"
     ]
    }
   ],
   "source": [
    "autoencoder.summary()"
   ]
  },
  {
   "cell_type": "code",
   "execution_count": 50,
   "metadata": {},
   "outputs": [
    {
     "name": "stdout",
     "output_type": "stream",
     "text": [
      "0 conv1d\n",
      "1 conv1d_1\n",
      "2 conv1d_2\n",
      "3 conv1d_transpose\n",
      "4 conv1d_transpose_1\n",
      "5 conv1d_transpose_2\n",
      "6 conv1d_transpose_3\n"
     ]
    }
   ],
   "source": [
    "for i,layer in enumerate(autoencoder.layers):                                      \n",
    "    print(i,layer.name)"
   ]
  },
  {
   "cell_type": "code",
   "execution_count": 51,
   "metadata": {},
   "outputs": [],
   "source": [
    "earlystop = tf.keras.callbacks.EarlyStopping(\n",
    "    monitor=\"val_loss\",\n",
    "    min_delta=0,\n",
    "    patience=10,\n",
    "    verbose=0,\n",
    "    mode=\"auto\",\n",
    "    baseline=None,\n",
    "    restore_best_weights=True,\n",
    ")"
   ]
  },
  {
   "cell_type": "code",
   "execution_count": 57,
   "metadata": {},
   "outputs": [
    {
     "name": "stdout",
     "output_type": "stream",
     "text": [
      "ADC_MIN\t AveragePooling1D\t BatchNormalization\t ColumnTransformer\t Conv1D\t Conv1DTranspose\t Dense\t Dropout\t Flatten\t \n",
      "GlobalAveragePooling1D\t GlobalMaxPooling1D\t Input\t MaxPooling1D\t Model\t PdfMerger\t Reshape\t Sequential\t StandardScaler\t \n",
      "UpSampling1D\t adc_group_idx\t adc_grp\t autoencoder\t ax1\t bar_width\t clean_signal_waveforms\t count_idx\t dataset\t \n",
      "dataset_to_train_small_adc_grouping\t dataset_to_train_small_adc_x\t dataset_to_train_small_adc_x_test\t dataset_to_train_small_adc_x_train\t dataset_to_train_small_adc_y\t dataset_to_train_small_adc_y_test\t dataset_to_train_small_adc_y_train\t dist\t earlystop\t \n",
      "fig\t for_combining\t i\t idx\t isfile\t join\t keras\t layer\t listdir\t \n",
      "load_model\t make_column_transformer\t mean\t noiseless_waveform\t np\t nticks\t nu_es_cc_grouped_by_ADC\t os\t path\t \n",
      "pd\t plt\t pp\t shuffle\t signal_waveforms\t std\t sys\t test_set\t tf\t \n",
      "time_periods\t train_set\t train_test_split\t val_set\t waves_idx\t wireplane\t x_idx\t x_labels\t x_test_scaled\t \n",
      "x_train\t x_train_scaled\t x_valid\t x_valid_scaled\t y_idx\t y_test_scaled\t y_train\t y_train_scaled\t y_valid\t \n",
      "y_valid_scaled\t \n"
     ]
    }
   ],
   "source": [
    "%who"
   ]
  },
  {
   "cell_type": "code",
   "execution_count": 58,
   "metadata": {},
   "outputs": [],
   "source": [
    "del dataset, dataset_to_train_small_adc_grouping, dataset_to_train_small_adc_x, dataset_to_train_small_adc_x_test\n",
    "del clean_signal_waveforms, dataset_to_train_small_adc_x_train, dataset_to_train_small_adc_y, dataset_to_train_small_adc_y_test\n",
    "del dataset_to_train_small_adc_y_train, for_combining, signal_waveforms, test_set, train_set, val_set, y_train, y_valid"
   ]
  },
  {
   "cell_type": "code",
   "execution_count": 59,
   "metadata": {},
   "outputs": [
    {
     "name": "stdout",
     "output_type": "stream",
     "text": [
      "ADC_MIN\t AveragePooling1D\t BatchNormalization\t ColumnTransformer\t Conv1D\t Conv1DTranspose\t Dense\t Dropout\t Flatten\t \n",
      "GlobalAveragePooling1D\t GlobalMaxPooling1D\t Input\t MaxPooling1D\t Model\t PdfMerger\t Reshape\t Sequential\t StandardScaler\t \n",
      "UpSampling1D\t adc_group_idx\t adc_grp\t autoencoder\t ax1\t bar_width\t count_idx\t dist\t earlystop\t \n",
      "fig\t i\t idx\t isfile\t join\t keras\t layer\t listdir\t load_model\t \n",
      "make_column_transformer\t mean\t noiseless_waveform\t np\t nticks\t nu_es_cc_grouped_by_ADC\t os\t path\t pd\t \n",
      "plt\t pp\t shuffle\t std\t sys\t tf\t time_periods\t train_test_split\t waves_idx\t \n",
      "wireplane\t x_idx\t x_labels\t x_test_scaled\t x_train\t x_train_scaled\t x_valid\t x_valid_scaled\t y_idx\t \n",
      "y_test_scaled\t y_train_scaled\t y_valid_scaled\t \n"
     ]
    }
   ],
   "source": [
    "%who"
   ]
  },
  {
   "cell_type": "code",
   "execution_count": 60,
   "metadata": {},
   "outputs": [],
   "source": [
    "del noiseless_waveform, nu_es_cc_grouped_by_ADC, x_train, x_valid"
   ]
  },
  {
   "cell_type": "code",
   "execution_count": 61,
   "metadata": {},
   "outputs": [
    {
     "name": "stdout",
     "output_type": "stream",
     "text": [
      "ADC_MIN\t AveragePooling1D\t BatchNormalization\t ColumnTransformer\t Conv1D\t Conv1DTranspose\t Dense\t Dropout\t Flatten\t \n",
      "GlobalAveragePooling1D\t GlobalMaxPooling1D\t Input\t MaxPooling1D\t Model\t PdfMerger\t Reshape\t Sequential\t StandardScaler\t \n",
      "UpSampling1D\t adc_group_idx\t adc_grp\t autoencoder\t ax1\t bar_width\t count_idx\t dist\t earlystop\t \n",
      "fig\t i\t idx\t isfile\t join\t keras\t layer\t listdir\t load_model\t \n",
      "make_column_transformer\t mean\t np\t nticks\t os\t path\t pd\t plt\t pp\t \n",
      "shuffle\t std\t sys\t tf\t time_periods\t train_test_split\t waves_idx\t wireplane\t x_idx\t \n",
      "x_labels\t x_test_scaled\t x_train_scaled\t x_valid_scaled\t y_idx\t y_test_scaled\t y_train_scaled\t y_valid_scaled\t \n"
     ]
    }
   ],
   "source": [
    "%who"
   ]
  },
  {
   "cell_type": "code",
   "execution_count": 68,
   "metadata": {},
   "outputs": [],
   "source": [
    "list_ = %who_ls"
   ]
  },
  {
   "cell_type": "code",
   "execution_count": 72,
   "metadata": {},
   "outputs": [
    {
     "data": {
      "text/plain": [
       "24"
      ]
     },
     "execution_count": 72,
     "metadata": {},
     "output_type": "execute_result"
    }
   ],
   "source": [
    "sum_= 0\n",
    "for var in list_:\n",
    "    size_ = sys.getsizeof(var)\n",
    "    size_in_mb = size_ / (1024 ** 2)\n",
    "    sum_ =+ sys.getsizeof(size_in_mb)\n",
    "    #print(sys.getsizeof(var))\n",
    "sum_"
   ]
  },
  {
   "cell_type": "code",
   "execution_count": 73,
   "metadata": {},
   "outputs": [],
   "source": [
    "batch_size_ = 2048"
   ]
  },
  {
   "cell_type": "code",
   "execution_count": null,
   "metadata": {},
   "outputs": [
    {
     "name": "stdout",
     "output_type": "stream",
     "text": [
      "Epoch 1/1000\n",
      "409/409 [==============================] - 250s 608ms/step - loss: 0.0599 - val_loss: 0.0262\n",
      "Epoch 2/1000\n",
      "409/409 [==============================] - 234s 572ms/step - loss: 0.0248 - val_loss: 0.0241\n",
      "Epoch 3/1000\n",
      "409/409 [==============================] - 216s 527ms/step - loss: 0.0234 - val_loss: 0.0233\n",
      "Epoch 4/1000\n",
      "409/409 [==============================] - 200s 490ms/step - loss: 0.0227 - val_loss: 0.0227\n",
      "Epoch 5/1000\n",
      "409/409 [==============================] - 208s 508ms/step - loss: 0.0223 - val_loss: 0.0223\n",
      "Epoch 6/1000\n",
      "409/409 [==============================] - 207s 507ms/step - loss: 0.0220 - val_loss: 0.0220\n",
      "Epoch 7/1000\n",
      "409/409 [==============================] - 214s 523ms/step - loss: 0.0218 - val_loss: 0.0219\n",
      "Epoch 8/1000\n",
      "409/409 [==============================] - 224s 547ms/step - loss: 0.0217 - val_loss: 0.0222\n",
      "Epoch 9/1000\n",
      "409/409 [==============================] - 218s 533ms/step - loss: 0.0215 - val_loss: 0.0215\n",
      "Epoch 10/1000\n",
      "409/409 [==============================] - 219s 535ms/step - loss: 0.0214 - val_loss: 0.0215\n",
      "Epoch 11/1000\n",
      "409/409 [==============================] - 226s 551ms/step - loss: 0.0214 - val_loss: 0.0216\n",
      "Epoch 12/1000\n",
      "409/409 [==============================] - 223s 546ms/step - loss: 0.0213 - val_loss: 0.0214\n",
      "Epoch 13/1000\n",
      "409/409 [==============================] - 225s 551ms/step - loss: 0.0213 - val_loss: 0.0217\n",
      "Epoch 14/1000\n",
      "409/409 [==============================] - 202s 495ms/step - loss: 0.0212 - val_loss: 0.0214\n",
      "Epoch 15/1000\n",
      "409/409 [==============================] - 168s 411ms/step - loss: 0.0212 - val_loss: 0.0213\n",
      "Epoch 16/1000\n",
      "337/409 [=======================>......] - ETA: 25s - loss: 0.0211"
     ]
    }
   ],
   "source": [
    "%%time\n",
    "history = autoencoder.fit(x_train_scaled,                                                              \n",
    "            y_train_scaled,                                                            \n",
    "            batch_size=batch_size_,                                              \n",
    "            epochs=1000,                                                      \n",
    "            callbacks= [earlystop], #[NewCallback(alpha)], # callbacks=callbacks_list,\n",
    "            validation_data=(x_valid_scaled, y_valid_scaled),                                                                      \n",
    "            verbose=1)"
   ]
  },
  {
   "cell_type": "code",
   "execution_count": 59,
   "metadata": {},
   "outputs": [
    {
     "data": {
      "image/png": "[encoded data removed]",
      "text/plain": [
       "<Figure size 1200x800 with 1 Axes>"
      ]
     },
     "metadata": {},
     "output_type": "display_data"
    }
   ],
   "source": [
    "plt.figure(figsize=(12, 8))                                                     \n",
    "plt.plot(history.history['loss'], \"r\", label=\"Loss of training data\", antialiased=True)\n",
    "plt.plot(history.history['val_loss'], \"g--\", label=\"Loss of validation data\", antialiased=True)\n",
    "plt.title('Model Loss',fontsize=15)                                            \n",
    "plt.ylabel('Loss (MSE)', fontsize=12)                                                 \n",
    "plt.xlabel('Training Epoch', fontsize=12)                                                                                                                       \n",
    "plt.legend(fontsize=12)                                                                    \n",
    "plt.show()     "
   ]
  },
  {
   "cell_type": "code",
   "execution_count": null,
   "metadata": {},
   "outputs": [],
   "source": []
  },
  {
   "cell_type": "code",
   "execution_count": 60,
   "metadata": {},
   "outputs": [
    {
     "data": {
      "text/plain": [
       "5880"
      ]
     },
     "execution_count": 60,
     "metadata": {},
     "output_type": "execute_result"
    }
   ],
   "source": [
    "#del x_train\n",
    "\n",
    "import gc\n",
    "gc.collect()"
   ]
  },
  {
   "cell_type": "code",
   "execution_count": null,
   "metadata": {},
   "outputs": [],
   "source": [
    "#autoencoder.save('./models/model_AE_'+str(batch_size_)+'_no_pooling' + wireplane + 'plane_nu.h5')"
   ]
  },
  {
   "cell_type": "code",
   "execution_count": null,
   "metadata": {},
   "outputs": [],
   "source": [
    "#autoencoder = load_model('./models/model_AE_'+str(batch_size_)+'_no_pooling' + wireplane + 'plane_nu.h5')"
   ]
  },
  {
   "cell_type": "code",
   "execution_count": 61,
   "metadata": {},
   "outputs": [
    {
     "name": "stdout",
     "output_type": "stream",
     "text": [
      "256/256 [==============================] - 86s 337ms/step - loss: 0.0209\n"
     ]
    },
    {
     "data": {
      "text/plain": [
       "0.020852241665124893"
      ]
     },
     "execution_count": 61,
     "metadata": {},
     "output_type": "execute_result"
    }
   ],
   "source": [
    "autoencoder.evaluate(x_test_scaled, y_test_scaled, batch_size=4096)"
   ]
  },
  {
   "cell_type": "code",
   "execution_count": null,
   "metadata": {},
   "outputs": [],
   "source": [
    "autoencoder.evaluate(x_train_scaled, y_train_scaled, batch_size=4096)"
   ]
  },
  {
   "cell_type": "code",
   "execution_count": null,
   "metadata": {},
   "outputs": [],
   "source": [
    "autoencoder.evaluate(x_valid_scaled, y_valid_scaled, batch_size=4096)"
   ]
  },
  {
   "cell_type": "code",
   "execution_count": null,
   "metadata": {},
   "outputs": [],
   "source": [
    "#ae128 = load_model('./AE_models/model_AE_'+str(batch_size_)+'_mse' + wireplane + 'plane_nu.h5')"
   ]
  },
  {
   "cell_type": "code",
   "execution_count": 62,
   "metadata": {},
   "outputs": [
    {
     "name": "stdout",
     "output_type": "stream",
     "text": [
      "256/256 [==============================] - 67s 262ms/step\n",
      "CPU times: user 3min 8s, sys: 1min 22s, total: 4min 30s\n",
      "Wall time: 1min 8s\n"
     ]
    }
   ],
   "source": [
    "%%time\n",
    "predictions = autoencoder.predict(x_test_scaled, batch_size=4096)\n",
    "predictions = predictions.reshape(predictions.shape[0], predictions.shape[1])\n",
    "\n"
   ]
  },
  {
   "cell_type": "code",
   "execution_count": null,
   "metadata": {},
   "outputs": [],
   "source": [
    "from scipy import stats\n",
    "x_test_ = std*x_test_scaled+mean\n",
    "y_test_ = y_test_scaled*std + mean\n",
    "\n",
    "\n",
    "pred = predictions*std + mean"
   ]
  },
  {
   "cell_type": "code",
   "execution_count": null,
   "metadata": {},
   "outputs": [],
   "source": [
    "# takes in prediction of AE and for every wave assigns 0 or 1\n",
    "# 0 --> predicted as noise\n",
    "# 1 --> pricicted as containing some kind of signals\n",
    "# note that this is crude and does not consider how close the predicted signal is from truth\n",
    "def label_predictions(ae_pred_wave):\n",
    "    label_ = 0\n",
    "    if max(abs(ae_pred_wave)) > 3:\n",
    "        label_ = 1\n",
    "    return label_\n",
    "\n",
    "\n",
    "def label_truths(wave):\n",
    "    label_ = 1\n",
    "    if max(abs(wave)) <= 3:\n",
    "        label_ = 0\n",
    "    return label_"
   ]
  },
  {
   "cell_type": "code",
   "execution_count": null,
   "metadata": {},
   "outputs": [],
   "source": [
    "pred_labels = [label_predictions(wave) for wave in pred]\n",
    "truth_labels = [label_truths(t_wave) for t_wave in y_test_]"
   ]
  },
  {
   "cell_type": "code",
   "execution_count": null,
   "metadata": {},
   "outputs": [],
   "source": []
  },
  {
   "cell_type": "code",
   "execution_count": null,
   "metadata": {},
   "outputs": [],
   "source": [
    "for i in range(100,115):\n",
    "    if max(abs(y_test_[i])) < 10 and sum(abs(y_test_[i])) !=0:\n",
    "        fig = plt.figure(figsize=(6,2))\n",
    "        plt.plot(x_test_[i], color='black', alpha=0.3, label='input')\n",
    "        plt.plot(y_test_[i], color='blue', alpha=0.9, label='truth ----- ' + str(truth_labels[i]))\n",
    "        plt.plot(pred[i], color='m', alpha=0.7, label='pred ----- ' + str(pred_labels[i]))\n",
    "        plt.legend()\n",
    "        plt.show()\n"
   ]
  },
  {
   "cell_type": "code",
   "execution_count": null,
   "metadata": {},
   "outputs": [],
   "source": [
    "from sklearn.metrics import roc_curve\n",
    "from sklearn.metrics import auc\n",
    "\n",
    "fpr, tpr, thresholds = roc_curve(truth_labels, pred_labels, drop_intermediate=False)\n",
    "roc_auc = auc(fpr, tpr)\n"
   ]
  },
  {
   "cell_type": "code",
   "execution_count": null,
   "metadata": {},
   "outputs": [],
   "source": [
    "fig = plt.figure(figsize=(8, 4))\n",
    "plt.plot(fpr, tpr, color='m', label='(area = %0.2f)' % roc_auc)\n",
    "plt.plot([0, 1], [0, 1], color='red', linestyle='--', lw=2)\n",
    "#plt.xlim([0.0, 1.0])\n",
    "#plt.ylim([0.0, 1.0])\n",
    "plt.xlabel('False Positive Rate', size=12)\n",
    "plt.ylabel('True Positive Rate', size=12)\n",
    "plt.title('ROC Curve', size=12)\n",
    "plt.legend(loc=\"lower right\")\n",
    "plt.show()"
   ]
  },
  {
   "cell_type": "code",
   "execution_count": null,
   "metadata": {},
   "outputs": [],
   "source": [
    "# dataset_x -> noisy signal waveforms\n",
    "# dataset_y -> clean signal waveforms\n",
    "# splits data set into subsets based on ADC ranges\n",
    "def adc_grouping(dataset_x, dataset_y, pred):\n",
    "    adc_4_6_x = []\n",
    "    adc_4_6_y = []\n",
    "    adc_4_6_p = []\n",
    "\n",
    "    adc_7_9_x = []\n",
    "    adc_7_9_y = []\n",
    "    adc_7_9_p = []\n",
    "\n",
    "    adc_10_12_x = []\n",
    "    adc_10_12_y = []\n",
    "    adc_10_12_p = []\n",
    "\n",
    "    adc_13_15_x = []\n",
    "    adc_13_15_y = []\n",
    "    adc_13_15_p = []\n",
    "\n",
    "    adc_16_18_x = []\n",
    "    adc_16_18_y = []\n",
    "    adc_16_18_p = []\n",
    "\n",
    "    adc_19_21_x = []\n",
    "    adc_19_21_y = []\n",
    "    adc_19_21_p = []\n",
    "\n",
    "    adc_gt_21_x = []\n",
    "    adc_gt_21_y = []\n",
    "    adc_gt_21_p = []\n",
    "\n",
    "    noise_x = []\n",
    "    noise_y = []\n",
    "    noise_p = []\n",
    "\n",
    "    for i, wave in enumerate(dataset_y):\n",
    "        if sum(abs(wave)) == 0:\n",
    "            noise_x.append(x_test_[i])\n",
    "            noise_y.append(wave)\n",
    "            noise_p.append(pred[i])\n",
    "            continue\n",
    "        max_adc = max(abs(wave))\n",
    "        if max_adc >= 4 and max_adc <= 6:\n",
    "            adc_4_6_x.append(dataset_x[i])\n",
    "            adc_4_6_y.append(wave)\n",
    "            adc_4_6_p.append(pred[i])\n",
    "\n",
    "        elif max_adc >= 7 and max_adc <=9:\n",
    "            adc_7_9_x.append(dataset_x[i])\n",
    "            adc_7_9_y.append(wave)\n",
    "            adc_7_9_p.append(pred[i])\n",
    "        elif max_adc >= 10 and max_adc <= 12:\n",
    "            adc_10_12_x.append(dataset_x[i])\n",
    "            adc_10_12_y.append(wave)\n",
    "            adc_10_12_p.append(pred[i])\n",
    "        elif max_adc >= 13 and max_adc <= 15:\n",
    "            adc_13_15_x.append(dataset_x[i])\n",
    "            adc_13_15_y.append(wave)\n",
    "            adc_13_15_p.append(pred[i])\n",
    "        elif max_adc >= 16 and max_adc <= 18:\n",
    "            adc_16_18_x.append(dataset_x[i])\n",
    "            adc_16_18_y.append(wave)\n",
    "            adc_16_18_p.append(pred[i])\n",
    "        elif max_adc >= 19 and max_adc <= 21:\n",
    "            adc_19_21_x.append(dataset_x[i])\n",
    "            adc_19_21_y.append(wave)\n",
    "            adc_19_21_p.append(pred[i])\n",
    "        else:\n",
    "            adc_gt_21_x.append(dataset_x[i])\n",
    "            adc_gt_21_y.append(wave)\n",
    "            adc_gt_21_p.append(pred[i])\n",
    "\n",
    "    grouped_waves = [\n",
    "                    [adc_4_6_x, adc_4_6_y, adc_4_6_p],\n",
    "                    [adc_7_9_x, adc_7_9_y, adc_7_9_p],\n",
    "                    [adc_10_12_x, adc_10_12_y, adc_10_12_p],\n",
    "                    [adc_13_15_x, adc_13_15_y, adc_13_15_p],\n",
    "                    [adc_16_18_x, adc_16_18_y, adc_16_18_p],\n",
    "                    [adc_19_21_x, adc_19_21_y, adc_19_21_p],\n",
    "                    [adc_gt_21_x, adc_gt_21_y, adc_gt_21_p],\n",
    "                    [noise_x, noise_y, noise_p]  \n",
    "                    ]\n",
    "    print(' 0: adc_4_6 \\\n",
    "            1: adc_7_9 \\\n",
    "            2: adc_10_12 \\\n",
    "            3: adc_13_15 \\\n",
    "            4: adc_16_18 \\\n",
    "            5: adc_19_21 \\\n",
    "            6: adc_gt_21\\\n",
    "            7: noise')\n",
    "    print()\n",
    "    \n",
    "\n",
    "    return grouped_waves\n",
    "\n",
    "group_num_labels = {\n",
    "                    0: 'adc_4_6',\n",
    "                    1: 'adc_6_9',\n",
    "                    2: 'adc_10_12',\n",
    "                    3: 'adc_13_15',\n",
    "                    4: 'adc_16_18',\n",
    "                    5: 'adc_19_21',\n",
    "                    6: 'adc_gt_21',\n",
    "                    7: 'noise'\n",
    "                    }\n",
    "\n",
    "# prints summary\n",
    "def print_counts(data_x, data_y, pred):\n",
    "    grouped = adc_grouping(data_x, data_y, pred)\n",
    "    sum_ = 0\n",
    "    \n",
    "    res = []\n",
    "    for i in range(8):\n",
    "        count = len(grouped[i][0])\n",
    "        print(group_num_labels[i])\n",
    "        print('{:<12}{}'.format('count', count))\n",
    "        print()\n",
    "        res.append(count)\n",
    "        if i < 7:\n",
    "            sum_ += count\n",
    "\n",
    "    print('{:<15}{}'.format('     signal:', sum_))\n",
    "    print('{:<15}{}'.format('     noise:', len(grouped[7][0])))\n",
    "    print('{:<15}{}'.format('     TOTAL', sum_+len(grouped[7][0])))\n",
    "\n",
    "    return res"
   ]
  },
  {
   "cell_type": "code",
   "execution_count": null,
   "metadata": {},
   "outputs": [],
   "source": [
    "grouped_waves = adc_grouping(x_test_, y_test_, pred)"
   ]
  },
  {
   "cell_type": "code",
   "execution_count": null,
   "metadata": {},
   "outputs": [],
   "source": [
    "print_counts(x_test_, y_test_, pred)"
   ]
  },
  {
   "cell_type": "code",
   "execution_count": null,
   "metadata": {},
   "outputs": [],
   "source": [
    "len(grouped_waves[0][0])"
   ]
  },
  {
   "cell_type": "code",
   "execution_count": null,
   "metadata": {},
   "outputs": [],
   "source": [
    "len(grouped_waves[0][2])"
   ]
  },
  {
   "cell_type": "code",
   "execution_count": null,
   "metadata": {},
   "outputs": [],
   "source": [
    "def make_single_pdf(wave_idx, pg_num, group_num):\n",
    "\n",
    "    fig, axs = plt.subplots(3,2, figsize=(20, 12), facecolor='w', edgecolor='k')\n",
    "    fig.subplots_adjust(hspace = .375, wspace=.1)\n",
    "\n",
    "    axes = axs.ravel()\n",
    "\n",
    "    for i in range(6):\n",
    "        index_ = i + wave_idx\n",
    "        wave_idx = index_\n",
    "\n",
    "\n",
    "        axes[i].set_title('clean sig. +peak amplitude: ' + str(int(max(grouped_waves[group_num][1][index_]))),size=15)\n",
    "        axes[i].plot(grouped_waves[group_num][0][index_], color='black', alpha=0.3, label='input')\n",
    "        axes[i].plot(grouped_waves[group_num][1][index_], color='blue', alpha=0.9, label='truth')\n",
    "        axes[i].plot(grouped_waves[group_num][2][index_], color='m', alpha=0.7, label='pred')\n",
    "        axes[i].legend(fontsize=12)\n",
    "    \n",
    "\n",
    "\n",
    "    plt.savefig('./plots/tmp/tmp' +str(pg_num) + '.pdf',\n",
    "                dpi=300,\n",
    "                bbox_inches='tight', pad_inches=0.75)\n",
    "    plt.close()\n",
    "\n",
    "    return wave_idx"
   ]
  },
  {
   "cell_type": "code",
   "execution_count": null,
   "metadata": {},
   "outputs": [],
   "source": [
    "# creates and merges pdf, removes all single page pdfs from tmp folder\n",
    "def make_complete_pdf(num_pages, group_num):\n",
    "    wave_idx_ = 0\n",
    "    page_num = 0\n",
    "\n",
    "    while page_num < num_pages:\n",
    "        wave_idx_ = make_single_pdf(wave_idx_, page_num, group_num) + 1\n",
    "        page_num += 1\n",
    "\n",
    "    merger = PdfMerger()\n",
    "    path = './plots/tmp/'\n",
    "    pdf_files = [path+f for f in listdir(path) if (isfile(join(path, f)))]\n",
    "    print(pdf_files)\n",
    "    for pdf_file in pdf_files:\n",
    "        #Append PDF files\n",
    "        merger.append(pdf_file)\n",
    "    #merger.write('pdfs/plts_tmp/plts_' + wireplane + '_cnn_'+str(int(min_cnn*100)) + '-' + str(int(max_cnn*100)) + '_' + str(num_pages) +  'pages.pdf')\n",
    "    merger.write('./plots/'+wireplane+'/plane_' + wireplane + '_' + group_num_labels[group_num] + '.pdf')\n",
    "    merger.close()\n",
    "\n",
    "    for file in pdf_files:\n",
    "        os.remove(file)"
   ]
  },
  {
   "cell_type": "code",
   "execution_count": null,
   "metadata": {},
   "outputs": [],
   "source": [
    "for i in range(4):\n",
    "    make_complete_pdf(15, i)"
   ]
  },
  {
   "cell_type": "markdown",
   "metadata": {},
   "source": [
    "Rejection rate at each group"
   ]
  },
  {
   "cell_type": "code",
   "execution_count": null,
   "metadata": {},
   "outputs": [],
   "source": [
    "def eval_group(group_num):\n",
    "    if group_num > 4:\n",
    "        print('arg should be less than 6')\n",
    "        return -1\n",
    "    x = grouped_waves[group_num][0]\n",
    "    y = grouped_waves[group_num][1]\n",
    "    infer = grouped_waves[group_num][2]\n",
    "\n",
    "    positive_x = []\n",
    "    positive_y = []\n",
    "    positive_p = []\n",
    "\n",
    "    negative_x = []\n",
    "    negative_y = []\n",
    "    negative_p = []\n",
    "\n",
    "    for i, wave in enumerate(infer):\n",
    "        if max(abs(wave)) > 3:\n",
    "            positive_x.append(x[i])\n",
    "            positive_y.append(y[i])\n",
    "            positive_p.append(wave)\n",
    "        else:\n",
    "            negative_x.append(x[i])\n",
    "            negative_y.append(y[i])\n",
    "            negative_p.append(wave)\n",
    "    print(group_num_labels[group_num])\n",
    "    print('{:<12}{}'.format('Total:', len(x)))\n",
    "    print('{:<12}{}'.format('True Pos: ', len(positive_x)))\n",
    "    print('{:<12}{}'.format('False Pos: ', len(negative_x)))\n",
    "    print()\n",
    "\n",
    "    return [[positive_x, positive_y, positive_p], [negative_x, negative_y, negative_p]]"
   ]
  },
  {
   "cell_type": "code",
   "execution_count": null,
   "metadata": {},
   "outputs": [],
   "source": [
    "for i in range(6):\n",
    "    eval_group(i)"
   ]
  },
  {
   "cell_type": "code",
   "execution_count": null,
   "metadata": {},
   "outputs": [],
   "source": [
    "len(grouped_waves)"
   ]
  },
  {
   "cell_type": "code",
   "execution_count": null,
   "metadata": {},
   "outputs": [],
   "source": [
    "noise_p = grouped_waves[7][2]"
   ]
  },
  {
   "cell_type": "code",
   "execution_count": null,
   "metadata": {},
   "outputs": [],
   "source": [
    "noise__ = [max(abs(wave)) for wave in noise_p if max(abs(wave)) > 3]"
   ]
  },
  {
   "cell_type": "code",
   "execution_count": null,
   "metadata": {},
   "outputs": [],
   "source": [
    "print('{:<12}{}'.format('Total:', len(grouped_waves[7][0])))\n",
    "print('{:<12}{}'.format('True Neg: ', len(grouped_waves[7][0]) - len(noise__)))\n",
    "print('{:<12}{}'.format('False Neg: ', len(noise__)))\n",
    "print()"
   ]
  },
  {
   "cell_type": "code",
   "execution_count": null,
   "metadata": {},
   "outputs": [],
   "source": [
    "grouped_pred_waves = adc_grouping(pred, y_test, pred)"
   ]
  },
  {
   "cell_type": "code",
   "execution_count": null,
   "metadata": {},
   "outputs": [],
   "source": [
    "def get_num_TP(group_num):\n",
    "    if group_num > 6:\n",
    "        print('arg should be less than 6')\n",
    "        return -1\n",
    "    y = grouped_pred_waves[group_num][1]\n",
    "    infer = grouped_pred_waves[group_num][0]\n",
    "\n",
    "    positive_y = []\n",
    "    positive_p = []\n",
    "\n",
    "    negative_y = []\n",
    "    negative_p = []\n",
    "\n",
    "    for i, wave in enumerate(infer):\n",
    "        if max(abs(wave)) > 3:\n",
    "            positive_y.append(y[i])\n",
    "            positive_p.append(wave)\n",
    "        else:\n",
    "            negative_y.append(y[i])\n",
    "            negative_p.append(wave)\n",
    "    print(group_num_labels[group_num])\n",
    "    print('{:<12}{}'.format('Total:', len(y)))\n",
    "    print('{:<12}{}'.format('True Pos: ', len(positive_y)))\n",
    "    print('{:<12}{}'.format('False Pos: ', len(negative_y)))\n",
    "    print()\n",
    "\n",
    "    return len(positive_y)"
   ]
  },
  {
   "cell_type": "code",
   "execution_count": null,
   "metadata": {},
   "outputs": [],
   "source": [
    "test_set_TP = []\n",
    "for i in range(7):\n",
    "    test_set_TP.append(get_num_TP(i))\n",
    "    "
   ]
  },
  {
   "cell_type": "code",
   "execution_count": null,
   "metadata": {},
   "outputs": [],
   "source": [
    "fig = plt.figure(figsize=(12,8))\n",
    "num_x = 7\n",
    "plt.title('Number of signal waves grouped by ADC ranges in plane ' + wireplane, size=15)\n",
    "\n",
    "x_labels = [group_num_labels[i] for i in range(num_x)]\n",
    "bar_width = 0.1\n",
    "\n",
    "plt.bar([i - 2*bar_width for i in range(num_x)], dataset_to_train_small_adc_grouping[1][:num_x], width=bar_width, color='blue', label='Full Set')\n",
    "plt.bar([i - bar_width for i in range(num_x)], train_set[1][:num_x], width=bar_width, color='m', label='Training Set')\n",
    "plt.bar([i for i in range(num_x)], test_set[1][:num_x], width=bar_width, color='r', label='Testing Set')\n",
    "plt.bar([i + bar_width for i in range(num_x)], val_set[1][:num_x], width=bar_width, color='green', label='Validation Set')\n",
    "\n",
    "for i in range(num_x):\n",
    "    dist = 500\n",
    "    plt.text(i - 2*bar_width, dataset_to_train_small_adc_grouping[1][i] + dist, dataset_to_train_small_adc_grouping[1][i], color='blue')\n",
    "    plt.text(i - bar_width, train_set[1][i] + dist, train_set[1][i], color='m')\n",
    "    plt.text(i, test_set[1][i] + 2*dist, test_set[1][i], color='r')\n",
    "    plt.text(i + bar_width, val_set[1][i] + dist, val_set[1][i], color='g')\n",
    "\n",
    "    plt.text(i+bar_width, 140000, 'TPr', size=12)\n",
    "    plt.text(i+bar_width, 130000, round((test_set_TP[i]/test_set[1][i])*100, 1), size=12)\n",
    "\n",
    "    #plt.text(1, 17000, 'TPrs are for the testing set', size=12)\n",
    "\n",
    "plt.xticks([i+bar_width for i in range(num_x)], x_labels, size=12)\n",
    "plt.yticks(size=12)\n",
    "plt.legend()\n",
    "plt.xlabel('ADC Range', size=15)\n",
    "plt.ylabel('Count', size=15)\n",
    "plt.show()"
   ]
  },
  {
   "cell_type": "code",
   "execution_count": null,
   "metadata": {},
   "outputs": [],
   "source": []
  },
  {
   "cell_type": "code",
   "execution_count": null,
   "metadata": {},
   "outputs": [],
   "source": []
  },
  {
   "cell_type": "code",
   "execution_count": null,
   "metadata": {},
   "outputs": [],
   "source": []
  }
 ],
 "metadata": {
  "kernelspec": {
   "display_name": "tf",
   "language": "python",
   "name": "tf"
  },
  "language_info": {
   "codemirror_mode": {
    "name": "ipython",
    "version": 3
   },
   "file_extension": ".py",
   "mimetype": "text/x-python",
   "name": "python",
   "nbconvert_exporter": "python",
   "pygments_lexer": "ipython3",
   "version": "3.9.16"
  }
 },
 "nbformat": 4,
 "nbformat_minor": 4
}
