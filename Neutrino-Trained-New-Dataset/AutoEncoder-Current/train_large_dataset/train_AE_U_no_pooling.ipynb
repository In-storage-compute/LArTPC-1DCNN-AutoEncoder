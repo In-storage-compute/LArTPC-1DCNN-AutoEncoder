{
 "cells": [
  {
   "attachments": {},
   "cell_type": "markdown",
   "metadata": {},
   "source": [
    "train autoencoder WITHOUT using 1DCNN roi finder"
   ]
  },
  {
   "cell_type": "code",
   "execution_count": 1,
   "metadata": {},
   "outputs": [
    {
     "name": "stderr",
     "output_type": "stream",
     "text": [
      "2023-05-18 13:33:03.546449: I tensorflow/core/platform/cpu_feature_guard.cc:182] This TensorFlow binary is optimized to use available CPU instructions in performance-critical operations.\n",
      "To enable the following instructions: AVX2 FMA, in other operations, rebuild TensorFlow with the appropriate compiler flags.\n",
      "2023-05-18 13:33:04.068903: W tensorflow/compiler/tf2tensorrt/utils/py_utils.cc:38] TF-TRT Warning: Could not find TensorRT\n"
     ]
    }
   ],
   "source": [
    "import sys\n",
    "from os import listdir\n",
    "from os.path import isfile, join\n",
    "import pandas as pd\n",
    "import numpy as np\n",
    "import matplotlib.pyplot as plt\n",
    "import tensorflow as tf\n",
    "from tensorflow import keras \n",
    "from sklearn.preprocessing import StandardScaler\n",
    "from sklearn.compose import ColumnTransformer, make_column_transformer\n",
    "from sklearn.model_selection import train_test_split \n",
    "from sklearn.utils import shuffle\n",
    "from PyPDF2 import PdfMerger\n",
    "import os\n",
    "from tensorflow.keras.models import load_model\n",
    "import preprocess_functs as pp"
   ]
  },
  {
   "attachments": {},
   "cell_type": "markdown",
   "metadata": {},
   "source": [
    "### Load and split data"
   ]
  },
  {
   "cell_type": "code",
   "execution_count": 2,
   "metadata": {},
   "outputs": [],
   "source": [
    "wireplane = \"U\"\n",
    "np.random.seed(77)\n",
    "path = '/home/vlian/Workspace/processed_ar39/'"
   ]
  },
  {
   "cell_type": "code",
   "execution_count": 3,
   "metadata": {},
   "outputs": [],
   "source": [
    "dataset = np.load(path+'Sample_'+wireplane+'_Plane.npy', allow_pickle=True)"
   ]
  },
  {
   "cell_type": "code",
   "execution_count": 5,
   "metadata": {},
   "outputs": [
    {
     "data": {
      "text/plain": [
       "{0: 'adc_4_6',\n",
       " 1: 'adc_7_9',\n",
       " 2: 'adc_10_12',\n",
       " 3: 'adc_13_15',\n",
       " 4: 'adc_16_18',\n",
       " 5: 'adc_19_21',\n",
       " 6: 'adc_gt_21'}"
      ]
     },
     "execution_count": 5,
     "metadata": {},
     "output_type": "execute_result"
    }
   ],
   "source": [
    "pp.group_num_labels_ar39"
   ]
  },
  {
   "cell_type": "code",
   "execution_count": 6,
   "metadata": {},
   "outputs": [
    {
     "data": {
      "image/png": "[encoded data removed]",
      "text/plain": [
       "<Figure size 800x400 with 1 Axes>"
      ]
     },
     "metadata": {},
     "output_type": "display_data"
    }
   ],
   "source": [
    "fig = plt.figure(figsize=(8,4))\n",
    "x_labels = [pp.group_num_labels_ar39[i] for i in range(7)]\n",
    "bar_width = 0.2\n",
    "\n",
    "plt.bar([i for i in range(7)], dataset[1], width=bar_width, color='blue', label=wireplane)\n",
    "\n",
    "for i in range(7):\n",
    "    dist = 1000\n",
    "    plt.text(i, dataset[1][i] + dist, dataset[1][i], color='blue', size=10)\n",
    "\n",
    "plt.xticks([i for i in range(7)], x_labels)\n",
    "plt.legend()\n",
    "plt.xlabel('ADC Range', size=12)\n",
    "plt.ylabel('Count', size=12)\n",
    "plt.show()"
   ]
  },
  {
   "attachments": {},
   "cell_type": "markdown",
   "metadata": {},
   "source": [
    "### get additonal samples for adc_gt_21 from NU_CC and NU_ES"
   ]
  },
  {
   "cell_type": "code",
   "execution_count": 8,
   "metadata": {},
   "outputs": [
    {
     "name": "stdout",
     "output_type": "stream",
     "text": [
      "nu_cc:  /home/vlian/Workspace/train_dune_lartpc_v2/nu_cc/\n",
      "nu_es:  /home/vlian/Workspace/train_dune_lartpc_v2/nu_es/\n",
      "noise:  /home/vlian/Workspace/train_dune_lartpc_v2/noise/\n",
      "\n",
      "----------loading----------\n",
      "--------data loaded!-------\n",
      "---------------------------------\n",
      "     signal+noise:  218916\n",
      "     clean signal:  218916\n",
      "     noise       :  100000\n",
      "---------------------------------\n",
      "\n",
      "filtering out small signals --> ADC > 15\n",
      "     noise+signal :  (218916, 200)\n",
      "     clean signal :  (218916, 200)\n",
      "------------after filtering------------\n",
      "     noise+signal :  (88644, 200)\n",
      "     clean signal :  (88644, 200)\n"
     ]
    }
   ],
   "source": [
    "path = '/home/vlian/Workspace/train_dune_lartpc_v2/'\n",
    "nticks = 200\n",
    "ADC_MIN = 15\n",
    "signal_waveforms, clean_signal_waveforms = pp.process_data(wireplane=wireplane, path=path, ADC_MIN=ADC_MIN)\n",
    "\n",
    "for i in range(10):\n",
    "    signal_waveforms, clean_signal_waveforms = shuffle(signal_waveforms, clean_signal_waveforms)"
   ]
  },
  {
   "cell_type": "code",
   "execution_count": 23,
   "metadata": {},
   "outputs": [
    {
     "name": "stdout",
     "output_type": "stream",
     "text": [
      " 0: adc_4_6             1: adc_7_9             2: adc_10_12             3: adc_13_15             4: adc_16_18             5: adc_19_21             6: adc_gt_21            7: noise\n",
      "\n",
      "adc_4_6\n",
      "count       0\n",
      "\n",
      "adc_6_9\n",
      "count       0\n",
      "\n",
      "adc_10_12\n",
      "count       0\n",
      "\n",
      "adc_13_15\n",
      "count       0\n",
      "\n",
      "adc_16_18\n",
      "count       5250\n",
      "\n",
      "adc_19_21\n",
      "count       4573\n",
      "\n",
      "adc_gt_21\n",
      "count       78821\n",
      "\n",
      "noise\n",
      "count       0\n",
      "\n",
      "     Total:    88644\n"
     ]
    }
   ],
   "source": [
    "nu_es_cc_grouped_by_ADC = pp.adc_grouping(signal_waveforms, clean_signal_waveforms)\n",
    "nu_es_cc_grouped_by_ADC = np.array(nu_es_cc_grouped_by_ADC, dtype=object)\n",
    "for_combining = nu_es_cc_grouped_by_ADC[:, :7]"
   ]
  },
  {
   "cell_type": "code",
   "execution_count": 24,
   "metadata": {},
   "outputs": [
    {
     "name": "stdout",
     "output_type": "stream",
     "text": [
      "(2, 7) (2, 7)\n"
     ]
    }
   ],
   "source": [
    "print(dataset.shape, for_combining.shape)"
   ]
  },
  {
   "cell_type": "code",
   "execution_count": 56,
   "metadata": {},
   "outputs": [
    {
     "ename": "IndexError",
     "evalue": "index 8 is out of bounds for axis 0 with size 7",
     "output_type": "error",
     "traceback": [
      "\u001b[0;31m---------------------------------------------------------------------------\u001b[0m",
      "\u001b[0;31mIndexError\u001b[0m                                Traceback (most recent call last)",
      "Cell \u001b[0;32mIn[56], line 2\u001b[0m\n\u001b[1;32m      1\u001b[0m \u001b[39mfor\u001b[39;00m i, wave \u001b[39min\u001b[39;00m dataset[\u001b[39m0\u001b[39m]:\n\u001b[0;32m----> 2\u001b[0m     wave\u001b[39m.\u001b[39mextend(for_combining[\u001b[39m0\u001b[39;49m][i])\n\u001b[1;32m      3\u001b[0m     dataset[\u001b[39m1\u001b[39m][i] \u001b[39m=\u001b[39m\u001b[39m+\u001b[39m for_combining[\u001b[39m1\u001b[39m][i]\n",
      "\u001b[0;31mIndexError\u001b[0m: index 8 is out of bounds for axis 0 with size 7"
     ]
    }
   ],
   "source": [
    "for i, wave in dataset[0]:\n",
    "    wave.extend(for_combining[0][i])\n",
    "    dataset[1][i] =+ for_combining[1][i]"
   ]
  },
  {
   "cell_type": "code",
   "execution_count": 53,
   "metadata": {},
   "outputs": [],
   "source": [
    "a = [1, 3, 4, 5]\n",
    "b = [34, 32, 453]"
   ]
  },
  {
   "cell_type": "code",
   "execution_count": 54,
   "metadata": {},
   "outputs": [],
   "source": [
    "d = []\n",
    "d = a.copy()\n",
    "d.extend(b)"
   ]
  },
  {
   "cell_type": "code",
   "execution_count": 55,
   "metadata": {},
   "outputs": [
    {
     "data": {
      "text/plain": [
       "[1, 3, 4, 5, 34, 32, 453]"
      ]
     },
     "execution_count": 55,
     "metadata": {},
     "output_type": "execute_result"
    }
   ],
   "source": [
    "d"
   ]
  },
  {
   "cell_type": "code",
   "execution_count": 25,
   "metadata": {},
   "outputs": [
    {
     "name": "stdout",
     "output_type": "stream",
     "text": [
      "0\n",
      "0\n",
      "0\n",
      "0\n",
      "5250\n",
      "4573\n",
      "78821\n"
     ]
    }
   ],
   "source": [
    "for i in for_combining[1]:\n",
    "    print(i)"
   ]
  },
  {
   "cell_type": "code",
   "execution_count": 19,
   "metadata": {},
   "outputs": [],
   "source": [
    "waves_idx = 0\n",
    "count_idx = 1\n",
    "x_idx = 0\n",
    "y_idx= 1\n",
    "\n",
    "adc_group_idx = 0\n"
   ]
  },
  {
   "cell_type": "code",
   "execution_count": 22,
   "metadata": {},
   "outputs": [
    {
     "data": {
      "text/plain": [
       "array([  3,   3,   1,   2,  -1,  -1,  -1,   4,   5,   3,   3,  -1,   2,\n",
       "         3,   2,   8,   2,   4,   9,   9,   8,   7,   2,  -4,  -7,  -6,\n",
       "        -6,   0,   2,   5,   1,   2,  -3,  -3,  -7,  -7,  -3,  -3,   2,\n",
       "         2,   5,   5,   6,   3,   2,   5,   2,   6,   9,   4,   4,   0,\n",
       "        -5,  -7,   1,   2,   4,   6,   4,   4,  -2,  -3,   2,   4,   4,\n",
       "         4,   1,  -6,  -9, -10,  -7,  -2,   0,   3,   1,   0,  -1,  -1,\n",
       "         2,   1,   0,   0,  -1,  -2,   1,   1,   0,   1,   2,   1,   4,\n",
       "         8,   8,   6,   2,  -5,  -6,  -4,   1,   6,   3,   2,   0,  -3,\n",
       "        -1,   2,   4,   4,   2,   3,   3,   2,   2,   3,   4,  -3,  -3,\n",
       "        -1,   3,   4,   2,  -2,  -2,  -1,  -4, -10, -10,  -6,  -4,  -3,\n",
       "        -1,   0,  -2,  -1,  -2,   4,   5,   3,   3,  -2,  -5,  -7,  -7,\n",
       "        -4,  -1,   3,   3,   4,   5,  -1,   1,   0,  -1,   0,   2,   2,\n",
       "         1,   0,  -3,  -1,   3,   4,   1,   3,   2,   0,  -2,  -1,   0,\n",
       "         5,   3,   6,   5,   5,  -1,   1,  -1,  -2,  -1,   0,   2,   2,\n",
       "         6,   7,   6,   1,   1,  -4,  -3,  -4,  -3,   1,   4,   3,  -1,\n",
       "        -1,   2,   5,   5,   1], dtype=int16)"
      ]
     },
     "execution_count": 22,
     "metadata": {},
     "output_type": "execute_result"
    }
   ],
   "source": [
    "dataset[waves_idx][adc_group_idx][x_idx][0]"
   ]
  },
  {
   "cell_type": "code",
   "execution_count": 21,
   "metadata": {},
   "outputs": [
    {
     "data": {
      "text/plain": [
       "numpy.ndarray"
      ]
     },
     "execution_count": 21,
     "metadata": {},
     "output_type": "execute_result"
    }
   ],
   "source": [
    "type(dataset)"
   ]
  },
  {
   "cell_type": "code",
   "execution_count": null,
   "metadata": {},
   "outputs": [],
   "source": [
    "for idx in range(6,9):\n",
    "    fig, (ax1) = plt.subplots(figsize=(12, 2), facecolor='white')\n",
    "    ax1.plot(x_train_scaled[idx],color='blue', label='signal+noise')\n",
    "    ax1.plot(y_train_scaled[idx],color='m',alpha=0.7, label='target')\n",
    "    ax1.set_title(\"waveform\", fontsize=15)\n",
    "    ax1.legend()\n",
    "\n",
    "    plt.show()"
   ]
  },
  {
   "cell_type": "code",
   "execution_count": null,
   "metadata": {},
   "outputs": [],
   "source": [
    "from tensorflow.keras.models import Sequential\n",
    "from tensorflow.keras.layers import Conv1D, MaxPooling1D, GlobalAveragePooling1D, Dropout, Dense,Flatten, AveragePooling1D\n",
    "from tensorflow.keras.layers import Input,  UpSampling1D\n",
    "from tensorflow.keras.models import Model\n",
    "\n",
    "from tensorflow.keras.models import Sequential\n",
    "from tensorflow.keras.layers import Conv1D, MaxPooling1D, GlobalMaxPooling1D, \\\n",
    "    Dropout, Dense,Flatten, AveragePooling1D, BatchNormalization\n",
    "#from keras import backend as K"
   ]
  },
  {
   "cell_type": "code",
   "execution_count": null,
   "metadata": {},
   "outputs": [],
   "source": [
    "from tensorflow.keras.layers import Reshape\n",
    "from tensorflow.keras.layers import Conv1DTranspose"
   ]
  },
  {
   "cell_type": "code",
   "execution_count": null,
   "metadata": {},
   "outputs": [],
   "source": [
    "time_periods = 200\n",
    "autoencoder = Sequential()\n",
    "# encoder\n",
    "autoencoder.add(Conv1D(filters=16, kernel_size=3, padding=\"same\", strides=2, activation = \"relu\", input_shape=(time_periods,1)))\n",
    "autoencoder.add(Conv1D(filters=32, kernel_size=5, padding=\"same\", strides=4, activation = \"relu\"))\n",
    "autoencoder.add(Conv1D(filters=64, kernel_size=9, padding=\"same\", strides=5, activation = \"relu\"))\n",
    "\n",
    "# decoder\n",
    "autoencoder.add(Conv1DTranspose(filters=64, kernel_size=9, padding=\"same\", strides=5, activation = \"relu\"))\n",
    "autoencoder.add(Conv1DTranspose(filters=32, kernel_size=5, padding=\"same\", strides=4, activation = \"relu\"))\n",
    "autoencoder.add(Conv1DTranspose(filters=16, kernel_size=3, padding=\"same\", strides=2, activation = \"relu\"))\n",
    "\n",
    "autoencoder.add(Conv1DTranspose(filters=1, kernel_size=3, padding=\"same\"))\n",
    "\n",
    "autoencoder.compile(loss='mse', optimizer='adam')\n"
   ]
  },
  {
   "cell_type": "code",
   "execution_count": null,
   "metadata": {},
   "outputs": [],
   "source": [
    "autoencoder.summary()"
   ]
  },
  {
   "cell_type": "code",
   "execution_count": null,
   "metadata": {},
   "outputs": [],
   "source": [
    "for i,layer in enumerate(autoencoder.layers):                                      \n",
    "  print(i,layer.name)"
   ]
  },
  {
   "cell_type": "code",
   "execution_count": null,
   "metadata": {},
   "outputs": [],
   "source": []
  },
  {
   "cell_type": "code",
   "execution_count": null,
   "metadata": {},
   "outputs": [],
   "source": []
  },
  {
   "cell_type": "code",
   "execution_count": null,
   "metadata": {},
   "outputs": [],
   "source": [
    "earlystop = tf.keras.callbacks.EarlyStopping(\n",
    "    monitor=\"val_loss\",\n",
    "    min_delta=0,\n",
    "    patience=10,\n",
    "    verbose=0,\n",
    "    mode=\"auto\",\n",
    "    baseline=None,\n",
    "    restore_best_weights=True,\n",
    ")"
   ]
  },
  {
   "cell_type": "code",
   "execution_count": null,
   "metadata": {},
   "outputs": [],
   "source": [
    "batch_size_ = 2048"
   ]
  },
  {
   "cell_type": "code",
   "execution_count": null,
   "metadata": {},
   "outputs": [],
   "source": [
    "%%time\n",
    "history = autoencoder.fit(x_train_scaled,                                                              \n",
    "            y_train_scaled,                                                            \n",
    "            batch_size=batch_size_,                                              \n",
    "            epochs=1000,                                                      \n",
    "            callbacks= [earlystop], #[NewCallback(alpha)], # callbacks=callbacks_list,\n",
    "            validation_data=(x_valid_scaled, y_valid_scaled),                                                                      \n",
    "            verbose=1)"
   ]
  },
  {
   "cell_type": "code",
   "execution_count": null,
   "metadata": {},
   "outputs": [],
   "source": [
    "plt.figure(figsize=(12, 8))                                                     \n",
    "plt.plot(history.history['loss'], \"r\", label=\"Loss of training data\", antialiased=True)\n",
    "plt.plot(history.history['val_loss'], \"g--\", label=\"Loss of validation data\", antialiased=True)\n",
    "plt.title('Model Loss',fontsize=15)                                            \n",
    "plt.ylabel('Loss (MSE)', fontsize=12)                                                 \n",
    "plt.xlabel('Training Epoch', fontsize=12)                                                                                                                       \n",
    "plt.legend(fontsize=12)                                                                    \n",
    "plt.show()     "
   ]
  },
  {
   "cell_type": "code",
   "execution_count": null,
   "metadata": {},
   "outputs": [],
   "source": [
    "plt.figure(figsize=(12, 8))                                                     \n",
    "plt.plot(history.history['loss'], \"r\", label=\"Loss of training data\", antialiased=True)\n",
    "plt.plot(history.history['val_loss'], \"g--\", label=\"Loss of validation data\", antialiased=True)\n",
    "plt.title('Model Loss',fontsize=15)                                            \n",
    "plt.ylabel('Loss (MSE)', fontsize=12)                                                 \n",
    "plt.xlabel('Training Epoch', fontsize=12)                                                                                                                       \n",
    "plt.legend(fontsize=12)   \n",
    "plt.ylim(0, 0.1)                                                                 \n",
    "plt.show()     "
   ]
  },
  {
   "cell_type": "code",
   "execution_count": null,
   "metadata": {},
   "outputs": [],
   "source": [
    "#del x_train\n",
    "\n",
    "import gc\n",
    "gc.collect()"
   ]
  },
  {
   "cell_type": "code",
   "execution_count": null,
   "metadata": {},
   "outputs": [],
   "source": [
    "#autoencoder.save('./models/model_AE_'+str(batch_size_)+'_no_pooling' + wireplane + 'plane_nu.h5')"
   ]
  },
  {
   "cell_type": "code",
   "execution_count": null,
   "metadata": {},
   "outputs": [],
   "source": [
    "autoencoder = load_model('./models/model_AE_'+str(batch_size_)+'_no_pooling' + wireplane + 'plane_nu.h5')"
   ]
  },
  {
   "cell_type": "code",
   "execution_count": null,
   "metadata": {},
   "outputs": [],
   "source": [
    "autoencoder.evaluate(x_test_scaled, y_test_scaled, batch_size=4096)"
   ]
  },
  {
   "cell_type": "code",
   "execution_count": null,
   "metadata": {},
   "outputs": [],
   "source": [
    "autoencoder.evaluate(x_train_scaled, y_train_scaled, batch_size=4096)"
   ]
  },
  {
   "cell_type": "code",
   "execution_count": null,
   "metadata": {},
   "outputs": [],
   "source": [
    "autoencoder.evaluate(x_valid_scaled, y_valid_scaled, batch_size=4096)"
   ]
  },
  {
   "cell_type": "code",
   "execution_count": null,
   "metadata": {},
   "outputs": [],
   "source": [
    "#ae128 = load_model('./AE_models/model_AE_'+str(batch_size_)+'_mse' + wireplane + 'plane_nu.h5')"
   ]
  },
  {
   "cell_type": "code",
   "execution_count": null,
   "metadata": {},
   "outputs": [],
   "source": [
    "%%time\n",
    "predictions = autoencoder.predict(x_test_scaled, batch_size=4096)\n",
    "predictions = predictions.reshape(predictions.shape[0], predictions.shape[1])\n",
    "\n"
   ]
  },
  {
   "cell_type": "code",
   "execution_count": null,
   "metadata": {},
   "outputs": [],
   "source": [
    "from scipy import stats\n",
    "x_test_ = std*x_test_scaled+mean\n",
    "y_test_ = y_test_scaled*std + mean\n",
    "\n",
    "\n",
    "pred = predictions*std + mean"
   ]
  },
  {
   "cell_type": "code",
   "execution_count": null,
   "metadata": {},
   "outputs": [],
   "source": [
    "# takes in prediction of AE and for every wave assigns 0 or 1\n",
    "# 0 --> predicted as noise\n",
    "# 1 --> pricicted as containing some kind of signals\n",
    "# note that this is crude and does not consider how close the predicted signal is from truth\n",
    "def label_predictions(ae_pred_wave):\n",
    "    label_ = 0\n",
    "    if max(abs(ae_pred_wave)) > 3:\n",
    "        label_ = 1\n",
    "    return label_\n",
    "\n",
    "\n",
    "def label_truths(wave):\n",
    "    label_ = 1\n",
    "    if max(abs(wave)) <= 3:\n",
    "        label_ = 0\n",
    "    return label_"
   ]
  },
  {
   "cell_type": "code",
   "execution_count": null,
   "metadata": {},
   "outputs": [],
   "source": [
    "pred_labels = [label_predictions(wave) for wave in pred]\n",
    "truth_labels = [label_truths(t_wave) for t_wave in y_test_]"
   ]
  },
  {
   "cell_type": "code",
   "execution_count": null,
   "metadata": {},
   "outputs": [],
   "source": [
    "cnn = load_model('../ROI_finder/ROI_models/model_'+wireplane+'plane_nu_ROI.h5')\n",
    "cnn_pred = cnn.predict(x_test_scaled, batch_size=4096)\n",
    "cnn_pred = cnn_pred.squeeze()"
   ]
  },
  {
   "cell_type": "code",
   "execution_count": null,
   "metadata": {},
   "outputs": [],
   "source": [
    "for i in range(100,200):\n",
    "    if max(abs(y_test_[i])) < 20 and sum(abs(y_test_[i])) !=0:\n",
    "        fig = plt.figure(figsize=(10,4))\n",
    "        plt.plot(x_test_[i], color='black', alpha=0.3, label='input')\n",
    "        plt.plot(y_test_[i], color='blue', alpha=0.9, label='truth ----- ' + str(truth_labels[i]))\n",
    "        plt.plot(pred[i], color='m', alpha=0.7, label='pred ----- ' + str(pred_labels[i]))\n",
    "        plt.title('CNN output: ' + str( round(cnn_pred[i], 3)))\n",
    "        plt.legend()\n",
    "        plt.show()\n"
   ]
  },
  {
   "cell_type": "code",
   "execution_count": null,
   "metadata": {},
   "outputs": [],
   "source": [
    "from sklearn.metrics import roc_curve\n",
    "from sklearn.metrics import auc\n",
    "\n",
    "fpr, tpr, thresholds = roc_curve(truth_labels, pred_labels, drop_intermediate=False)\n",
    "roc_auc = auc(fpr, tpr)\n"
   ]
  },
  {
   "cell_type": "code",
   "execution_count": null,
   "metadata": {},
   "outputs": [],
   "source": [
    "fig = plt.figure(figsize=(8, 4))\n",
    "plt.plot(fpr, tpr, color='m', label='(area = %0.2f)' % roc_auc)\n",
    "plt.plot([0, 1], [0, 1], color='red', linestyle='--', lw=2)\n",
    "#plt.xlim([0.0, 1.0])\n",
    "#plt.ylim([0.0, 1.0])\n",
    "plt.xlabel('False Positive Rate', size=12)\n",
    "plt.ylabel('True Positive Rate', size=12)\n",
    "plt.title('ROC Curve', size=12)\n",
    "plt.legend(loc=\"lower right\")\n",
    "plt.show()"
   ]
  },
  {
   "cell_type": "code",
   "execution_count": null,
   "metadata": {},
   "outputs": [],
   "source": [
    "def make_single_pdf(wave_idx, pg_num, min_cnn, max_cnn):\n",
    "\n",
    "    fig, axs = plt.subplots(3,2, figsize=(30, 18), facecolor='w', edgecolor='k')\n",
    "    fig.subplots_adjust(hspace = .375, wspace=.1)\n",
    "\n",
    "    axes = axs.ravel()\n",
    "\n",
    "    for i in range(6):\n",
    "        index_ = i + wave_idx\n",
    "        max_adc = int((max(x_test_[index_])))\n",
    "        \n",
    "        if not (max_adc < 20 and cnn_pred[index_] > min_cnn and cnn_pred[index_] <= max_cnn and sum(abs(y_test_[index_])) != 0):\n",
    "            while True:\n",
    "                index_ += 1\n",
    "                max_adc = int((max(x_test_[index_])))\n",
    "                \n",
    "                if (max_adc < 20 and cnn_pred[index_] > min_cnn and cnn_pred[index_] <= max_cnn and sum(abs(y_test_[index_])) != 0):\n",
    "                    break\n",
    "        wave_idx = index_\n",
    "\n",
    "\n",
    "        axes[i].plot(x_test_[index_], color='black',alpha=0.2, label = 'original input (adc_max: ' + str(max_adc) + ')')\n",
    "        axes[i].plot(y_test_[index_],color='blue', label='target', alpha=1)\n",
    "        axes[i].plot(pred128[index_], color='m', label='model_128  ---   ' + str(pred_labels128[index_]))\n",
    "        axes[i].plot(pred128_cmse[index_], color='green', label='model_128_cmse  ---   ' + str(pred_labels128_cmse[index_]))\n",
    "        axes[i].legend(fontsize=12)\n",
    "        axes[i].set_title('CNN output: ' + str(round(cnn_pred[index_], 4)) + ' --- [idx: ' + str(index_) + ']', size=15)\n",
    "        axes[i].set_ylabel('ADC', size=12)\n",
    "\n",
    "\n",
    "    plt.savefig('./AE_TEST/pdfs/tmp_plts/plts_cnn_page' + str(pg_num) +  '.pdf',\n",
    "                dpi=300,\n",
    "                bbox_inches='tight', pad_inches=0.75)\n",
    "    plt.close()\n",
    "\n",
    "    return wave_idx"
   ]
  },
  {
   "cell_type": "code",
   "execution_count": null,
   "metadata": {},
   "outputs": [],
   "source": [
    "# creates and merges pdf, removes all single page pdfs from tmp folder\n",
    "def make_complete_pdf(num_pages, min_cnn, max_cnn):\n",
    "    wave_idx_ = 0\n",
    "    page_num = 0\n",
    "\n",
    "    while page_num < num_pages:\n",
    "        wave_idx_ = make_single_pdf(wave_idx_, page_num, min_cnn, max_cnn) + 1\n",
    "        page_num += 1\n",
    "\n",
    "    merger = PdfMerger()\n",
    "    path = './AE_TEST/pdfs/tmp_plts/'\n",
    "    pdf_files = [path+f for f in listdir(path) if (isfile(join(path, f)))]\n",
    "    print(pdf_files)\n",
    "    for pdf_file in pdf_files:\n",
    "        #Append PDF files\n",
    "        merger.append(pdf_file)\n",
    "    #merger.write('pdfs/plts_tmp/plts_' + wireplane + '_cnn_'+str(int(min_cnn*100)) + '-' + str(int(max_cnn*100)) + '_' + str(num_pages) +  'pages.pdf')\n",
    "    merger.write('./AE_TEST/pdfs/'+wireplane+'/plts_' + wireplane + '_cnn_'+str(int(min_cnn*100)) + '-' + str(int(max_cnn*100)) + '_' + str(num_pages) +  'pages.pdf')\n",
    "    merger.close()\n",
    "\n",
    "    for file in pdf_files:\n",
    "        os.remove(file)"
   ]
  },
  {
   "cell_type": "code",
   "execution_count": null,
   "metadata": {},
   "outputs": [],
   "source": [
    "make_complete_pdf(10, 0.94, 1)"
   ]
  },
  {
   "cell_type": "code",
   "execution_count": null,
   "metadata": {},
   "outputs": [],
   "source": [
    "min_ = 0.94\n",
    "prev = min_\n",
    "max_ = 1\n",
    "while min_ > 0:\n",
    "    min_ = min_ - 0.2 \n",
    "    make_complete_pdf(10, min_, prev)\n",
    "    prev = min_\n"
   ]
  },
  {
   "cell_type": "code",
   "execution_count": null,
   "metadata": {},
   "outputs": [],
   "source": []
  }
 ],
 "metadata": {
  "kernelspec": {
   "display_name": "Python 3",
   "language": "python",
   "name": "python3"
  },
  "language_info": {
   "codemirror_mode": {
    "name": "ipython",
    "version": 3
   },
   "file_extension": ".py",
   "mimetype": "text/x-python",
   "name": "python",
   "nbconvert_exporter": "python",
   "pygments_lexer": "ipython3",
   "version": "3.9.16"
  }
 },
 "nbformat": 4,
 "nbformat_minor": 4
}
