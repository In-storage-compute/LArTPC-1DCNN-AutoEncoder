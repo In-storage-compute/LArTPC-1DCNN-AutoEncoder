{
 "cells": [
  {
   "cell_type": "code",
   "execution_count": 1,
   "metadata": {},
   "outputs": [],
   "source": [
    "#PP"
   ]
  },
  {
   "cell_type": "code",
   "execution_count": 2,
   "metadata": {},
   "outputs": [],
   "source": [
    "import matplotlib.pyplot as plt\n",
    "import numpy as np\n",
    "from sklearn.model_selection import train_test_split\n",
    "import prepocess_functs_CL as pp\n",
    "from sklearn.utils import shuffle"
   ]
  },
  {
   "cell_type": "code",
   "execution_count": 3,
   "metadata": {},
   "outputs": [],
   "source": [
    "nticks = 200\n",
    "ADC_MIN = 3\n",
    "path = '../../../../train_dune_lartpc_v2/'\n",
    "wireplane='U'"
   ]
  },
  {
   "cell_type": "code",
   "execution_count": 4,
   "metadata": {},
   "outputs": [
    {
     "name": "stdout",
     "output_type": "stream",
     "text": [
      "nu_cc:  ../../../../train_dune_lartpc_v2/nu_cc/\n",
      "nu_es:  ../../../../train_dune_lartpc_v2/nu_es/\n",
      "noise:  ../../../../train_dune_lartpc_v2/noise/\n",
      "\n",
      "----------loading----------\n",
      "--------data loaded!-------\n",
      "---------------------------------\n",
      "     signal+noise:  218916\n",
      "     clean signal:  218916\n",
      "     noise       :  100000\n",
      "---------------------------------\n",
      "\n",
      "filtering out small signals --> ADC > 3\n",
      "     noise+signal :  (218916, 200)\n",
      "     clean signal :  (218916, 200)\n",
      "------------after filtering------------\n",
      "     noise+signal :  (126967, 200)\n",
      "     clean signal :  (126967, 200)\n",
      " 0: adc_4_6             1: adc_7_9             2: adc_10_12             3: adc_13_15             4: adc_16_18             5: adc_19_21             6: adc_gt_21          \n",
      "\n",
      "adc_4_6\n",
      "count       14155\n",
      "\n",
      "adc_7_9\n",
      "count       9914\n",
      "\n",
      "adc_10_12\n",
      "count       7921\n",
      "\n",
      "adc_13_15\n",
      "count       6396\n",
      "\n",
      "adc_16_18\n",
      "count       5210\n",
      "\n",
      "adc_19_21\n",
      "count       4561\n",
      "\n",
      "adc_gt_21\n",
      "count       78810\n",
      "\n",
      "     Total:    126967\n"
     ]
    }
   ],
   "source": [
    "wireplane = 'U'\n",
    "# load raw data\n",
    "combined_data, combined_clean_data, combined_noise = pp.get_data(wireplane, path)\n",
    "print('---------------------------------')\n",
    "print('     signal+noise: ', len(combined_data))\n",
    "print('     clean signal: ', len(combined_clean_data))\n",
    "print('     noise       : ', len(combined_noise))\n",
    "print('---------------------------------')\n",
    "\n",
    "# extract waveforms\n",
    "signal_waveforms = pp.get_std_waveforms(combined_data, nticks)\n",
    "clean_signal_waveforms = pp.get_std_waveforms(combined_clean_data, nticks)  # for autoencoder\n",
    "print('')\n",
    "print('filtering out small signals --> ADC >', ADC_MIN)\n",
    "print('     noise+signal : ', signal_waveforms.shape)\n",
    "print('     clean signal : ', clean_signal_waveforms.shape)\n",
    "#Filter out tiny signals < ADC_MIN, but leave big signals to test on (incl > ADC_MAX)\n",
    "signal_waveforms, clean_signal_waveforms = pp.filter_signal_ADC_min(signal_waveforms,\n",
    "                                            clean_signal_waveforms, ADC_MIN)\n",
    "print('------------after filtering------------')\n",
    "print('     noise+signal : ', signal_waveforms.shape)\n",
    "print('     clean signal : ', clean_signal_waveforms.shape)\n",
    "\n",
    "grouped_waves = pp.adc_grouping(signal_waveforms, clean_signal_waveforms)\n",
    "grouped_waves = grouped_waves[0]\n"
   ]
  },
  {
   "cell_type": "code",
   "execution_count": 5,
   "metadata": {},
   "outputs": [
    {
     "name": "stdout",
     "output_type": "stream",
     "text": [
      "----\n",
      "4000 4000\n",
      "----\n",
      "4000 4000\n",
      "----\n",
      "4000 4000\n",
      "----\n",
      "4000 4000\n",
      "----\n",
      "4000 4000\n",
      "----\n",
      "4000 4000\n",
      "----\n",
      "4000 4000\n"
     ]
    }
   ],
   "source": [
    "# shuffle dataset\n",
    "for k in range(10):\n",
    "    for i in range(len(grouped_waves)):\n",
    "        grouped_waves[i][0], grouped_waves[i][1] = shuffle(grouped_waves[i][0], grouped_waves[i][1])\n",
    "\n",
    "num_samples = 4000\n",
    "for i in range(len(grouped_waves)):\n",
    "    grouped_waves[i][0] = grouped_waves[i][0][:num_samples]\n",
    "    grouped_waves[i][1] = grouped_waves[i][1][:num_samples]\n",
    "\n",
    "for i in range(len(grouped_waves)):\n",
    "    print('----')\n",
    "    print(len(grouped_waves[i][0]), len(grouped_waves[i][1]))\n",
    "\n",
    "# shuffle dataset\n",
    "for k in range(10):\n",
    "    for i in range(len(grouped_waves)):\n",
    "        grouped_waves[i][0], grouped_waves[i][1] = shuffle(grouped_waves[i][0], grouped_waves[i][1])\n",
    "\n"
   ]
  },
  {
   "cell_type": "code",
   "execution_count": 6,
   "metadata": {},
   "outputs": [
    {
     "data": {
      "text/plain": [
       "{0: 'adc_4_6',\n",
       " 1: 'adc_7_9',\n",
       " 2: 'adc_10_12',\n",
       " 3: 'adc_13_15',\n",
       " 4: 'adc_16_18',\n",
       " 5: 'adc_19_21',\n",
       " 6: 'adc_gt_21'}"
      ]
     },
     "execution_count": 6,
     "metadata": {},
     "output_type": "execute_result"
    }
   ],
   "source": [
    "pp.group_num_labels"
   ]
  },
  {
   "cell_type": "code",
   "execution_count": 7,
   "metadata": {},
   "outputs": [
    {
     "name": "stdout",
     "output_type": "stream",
     "text": [
      "100000 100000\n"
     ]
    }
   ],
   "source": [
    "noise_waveforms = pp.get_std_waveforms(combined_noise, nticks)\n",
    "noiseless_waveform = noise_waveforms*0 # for autoencoder\n",
    "print(len(noise_waveforms), len(noiseless_waveform))\n",
    "\n",
    "for i in range(100):\n",
    "    noise_waveforms, noiseless_waveform = shuffle(noise_waveforms, noiseless_waveform)\n"
   ]
  },
  {
   "cell_type": "code",
   "execution_count": 8,
   "metadata": {},
   "outputs": [
    {
     "name": "stdout",
     "output_type": "stream",
     "text": [
      "4000 4000\n",
      "4000\n",
      "----\n",
      "4000 4000\n",
      "8000\n",
      "----\n",
      "4000 4000\n",
      "12000\n",
      "----\n",
      "4000 4000\n",
      "16000\n",
      "----\n",
      "4000 4000\n",
      "20000\n",
      "----\n",
      "4000 4000\n",
      "24000\n",
      "----\n",
      "4000 4000\n",
      "28000\n",
      "----\n"
     ]
    }
   ],
   "source": [
    "idx = 0\n",
    "noise_x_0 = noise_waveforms[idx:num_samples+idx]\n",
    "noise_y_0 = noiseless_waveform[idx:num_samples+idx]\n",
    "idx+=num_samples\n",
    "print(len(noise_x_0), len(noise_y_0))\n",
    "print(idx)\n",
    "print('----')\n",
    "\n",
    "noise_x_1 = noise_waveforms[idx:num_samples+idx]\n",
    "noise_y_1 = noiseless_waveform[idx:num_samples+idx]\n",
    "idx+=num_samples\n",
    "print(len(noise_x_1), len(noise_y_1))\n",
    "print(idx)\n",
    "print('----')\n",
    "\n",
    "\n",
    "noise_x_2 = noise_waveforms[idx:num_samples+idx]\n",
    "noise_y_2 = noiseless_waveform[idx:num_samples+idx]\n",
    "idx+=num_samples\n",
    "print(len(noise_x_2), len(noise_y_2))\n",
    "print(idx)\n",
    "print('----')\n",
    "\n",
    "noise_x_3 = noise_waveforms[idx:num_samples+idx]\n",
    "noise_y_3 = noiseless_waveform[idx:num_samples+idx]\n",
    "idx+=num_samples\n",
    "print(len(noise_x_3), len(noise_y_3))\n",
    "print(idx)\n",
    "print('----')\n",
    "\n",
    "noise_x_4 = noise_waveforms[idx:num_samples+idx]\n",
    "noise_y_4 = noiseless_waveform[idx:num_samples+idx]\n",
    "idx+=num_samples\n",
    "print(len(noise_x_4), len(noise_y_4))\n",
    "print(idx)\n",
    "print('----')\n",
    "\n",
    "noise_x_5 = noise_waveforms[idx:num_samples+idx]\n",
    "noise_y_5 = noiseless_waveform[idx:num_samples+idx]\n",
    "idx+=num_samples\n",
    "print(len(noise_x_5), len(noise_y_5))\n",
    "print(idx)\n",
    "print('----')\n",
    "\n",
    "noise_x_6 = noise_waveforms[idx:num_samples+idx]\n",
    "noise_y_6 = noiseless_waveform[idx:num_samples+idx]\n",
    "idx+=num_samples\n",
    "print(len(noise_x_6), len(noise_y_6))\n",
    "print(idx)\n",
    "print('----')\n",
    "\n"
   ]
  },
  {
   "cell_type": "code",
   "execution_count": 9,
   "metadata": {},
   "outputs": [
    {
     "name": "stdout",
     "output_type": "stream",
     "text": [
      "3200 4000 3200 4000 800 800\n",
      "-----\n",
      "3200 4000 3200 4000 800 800\n",
      "-----\n",
      "3200 4000 3200 4000 800 800\n",
      "-----\n",
      "3200 4000 3200 4000 800 800\n",
      "-----\n",
      "3200 4000 3200 4000 800 800\n",
      "-----\n",
      "3200 4000 3200 4000 800 800\n",
      "-----\n",
      "3200 4000 3200 4000 800 800\n",
      "-----\n"
     ]
    }
   ],
   "source": [
    "group_ = 0\n",
    "idx = 0\n",
    "adc_0_x_train, adc_0_x_test, adc_0_y_train, adc_0_y_test = train_test_split(grouped_waves[group_][0], \n",
    "                                                                                            grouped_waves[group_][1],\n",
    "                                                                                            test_size=0.5, shuffle=True)\n",
    "\n",
    "noise_0_x_train, noise_0_x_test, noise_0_y_train, noise_0_y_test = train_test_split(noise_x_0, \n",
    "                                                                                            noise_y_0,\n",
    "                                                                                            test_size=0.5, shuffle=True)\n",
    "\n",
    "adc_0_x_train = np.concatenate((adc_0_x_train, noise_0_x_train))\n",
    "adc_0_y_train = np.concatenate((adc_0_y_train, noise_0_y_train))\n",
    "\n",
    "adc_0_x_test = np.concatenate((adc_0_x_test, noise_0_x_train))\n",
    "adc_0_y_test = np.concatenate((adc_0_y_test, noise_0_y_test))\n",
    "\n",
    "adc_0_x_train, adc_0_x_valid, adc_0_y_train, adc_0_y_valid = train_test_split(adc_0_x_train, adc_0_y_train, test_size=0.2, shuffle=True)\n",
    "\n",
    "print(len(adc_0_x_train), len(adc_0_x_test), len(adc_0_y_train), len(adc_0_y_test), len(adc_0_x_valid), len(adc_0_y_valid))\n",
    "\n",
    "for i in range(10):\n",
    "    adc_0_x_train, adc_0_y_train = shuffle(adc_0_x_train, adc_0_y_train)\n",
    "    adc_0_x_test, adc_0_y_test = shuffle(adc_0_x_test, adc_0_y_test)\n",
    "    adc_0_x_valid, adc_0_y_valid = shuffle(adc_0_x_valid, adc_0_y_valid)\n",
    "\n",
    "print('-----')\n",
    "\n",
    "\n",
    "\n",
    "\n",
    "\n",
    "group_ = 1\n",
    "adc_1_x_train, adc_1_x_test, adc_1_y_train, adc_1_y_test = train_test_split(grouped_waves[group_][0], \n",
    "                                                                                            grouped_waves[group_][1],\n",
    "                                                                                            test_size=0.5, shuffle=True)\n",
    "\n",
    "noise_1_x_train, noise_1_x_test, noise_1_y_train, noise_1_y_test = train_test_split(noise_x_1, \n",
    "                                                                                            noise_y_1,\n",
    "                                                                                            test_size=0.5, shuffle=True)\n",
    "\n",
    "adc_1_x_train = np.concatenate((adc_1_x_train, noise_0_x_train))\n",
    "adc_1_y_train = np.concatenate((adc_1_y_train, noise_0_y_train))\n",
    "\n",
    "adc_1_x_test = np.concatenate((adc_1_x_test, noise_1_x_train))\n",
    "adc_1_y_test = np.concatenate((adc_1_y_test, noise_1_y_test))\n",
    "\n",
    "adc_1_x_train, adc_1_x_valid, adc_1_y_train, adc_1_y_valid = train_test_split(adc_1_x_train, adc_1_y_train, test_size=0.2, shuffle=True)\n",
    "\n",
    "print(len(adc_1_x_train), len(adc_1_x_test), len(adc_1_y_train), len(adc_1_y_test), len(adc_1_x_valid), len(adc_1_y_valid))\n",
    "\n",
    "for i in range(10):\n",
    "    adc_1_x_train, adc_1_y_train = shuffle(adc_1_x_train, adc_1_y_train)\n",
    "    adc_1_x_test, adc_1_y_test = shuffle(adc_1_x_test, adc_1_y_test)\n",
    "    adc_1_x_valid, adc_1_y_valid = shuffle(adc_1_x_valid, adc_1_y_valid)\n",
    "\n",
    "print('-----')\n",
    "\n",
    "group_ = 2\n",
    "adc_2_x_train, adc_2_x_test, adc_2_y_train, adc_2_y_test = train_test_split(grouped_waves[group_][0], \n",
    "                                                                                            grouped_waves[group_][1],\n",
    "                                                                                            test_size=0.5, shuffle=True)\n",
    "noise_2_x_train, noise_2_x_test, noise_2_y_train, noise_2_y_test = train_test_split(noise_x_2, \n",
    "                                                                                            noise_y_2,\n",
    "                                                                                            test_size=0.5, shuffle=True)\n",
    "\n",
    "adc_2_x_train = np.concatenate((adc_2_x_train, noise_2_x_train))\n",
    "adc_2_y_train = np.concatenate((adc_2_y_train, noise_2_y_train))\n",
    "\n",
    "adc_2_x_test = np.concatenate((adc_2_x_test, noise_2_x_train))\n",
    "adc_2_y_test = np.concatenate((adc_2_y_test, noise_2_y_test))\n",
    "\n",
    "adc_2_x_train, adc_2_x_valid, adc_2_y_train, adc_2_y_valid = train_test_split(adc_2_x_train, adc_2_y_train, test_size=0.2, shuffle=True)\n",
    "\n",
    "print(len(adc_2_x_train), len(adc_2_x_test), len(adc_2_y_train), len(adc_2_y_test), len(adc_2_x_valid), len(adc_2_y_valid))\n",
    "\n",
    "for i in range(10):\n",
    "    adc_2_x_train, adc_2_y_train = shuffle(adc_2_x_train, adc_2_y_train)\n",
    "    adc_2_x_test, adc_2_y_test = shuffle(adc_2_x_test, adc_2_y_test)\n",
    "    adc_2_x_valid, adc_2_y_valid = shuffle(adc_2_x_valid, adc_2_y_valid)\n",
    "\n",
    "print('-----')\n",
    "\n",
    "group_ = 3\n",
    "adc_3_x_train, adc_3_x_test, adc_3_y_train, adc_3_y_test = train_test_split(grouped_waves[group_][0], \n",
    "                                                                                            grouped_waves[group_][1],\n",
    "                                                                                            test_size=0.5, shuffle=True)\n",
    "noise_3_x_train, noise_3_x_test, noise_3_y_train, noise_3_y_test = train_test_split(noise_x_3, \n",
    "                                                                                            noise_y_3,\n",
    "                                                                                            test_size=0.5, shuffle=True)\n",
    "\n",
    "adc_3_x_train = np.concatenate((adc_3_x_train, noise_3_x_train))\n",
    "adc_3_y_train = np.concatenate((adc_3_y_train, noise_3_y_train))\n",
    "\n",
    "adc_3_x_test = np.concatenate((adc_3_x_test, noise_3_x_train))\n",
    "adc_3_y_test = np.concatenate((adc_3_y_test, noise_3_y_test))\n",
    "\n",
    "adc_3_x_train, adc_3_x_valid, adc_3_y_train, adc_3_y_valid = train_test_split(adc_3_x_train, adc_3_y_train, test_size=0.2, shuffle=True)\n",
    "\n",
    "print(len(adc_3_x_train), len(adc_3_x_test), len(adc_3_y_train), len(adc_3_y_test), len(adc_3_x_valid), len(adc_3_y_valid))\n",
    "\n",
    "for i in range(10):\n",
    "    adc_3_x_train, adc_3_y_train = shuffle(adc_3_x_train, adc_3_y_train)\n",
    "    adc_3_x_test, adc_3_y_test = shuffle(adc_3_x_test, adc_3_y_test)\n",
    "    adc_3_x_valid, adc_3_y_valid = shuffle(adc_3_x_valid, adc_3_y_valid)\n",
    "\n",
    "print('-----')\n",
    "\n",
    "group_ = 4\n",
    "adc_4_x_train, adc_4_x_test, adc_4_y_train, adc_4_y_test = train_test_split(grouped_waves[group_][0], \n",
    "                                                                                            grouped_waves[group_][1],\n",
    "                                                                                            test_size=0.5, shuffle=True)\n",
    "noise_4_x_train, noise_4_x_test, noise_4_y_train, noise_4_y_test = train_test_split(noise_x_4, \n",
    "                                                                                            noise_y_4,\n",
    "                                                                                            test_size=0.5, shuffle=True)\n",
    "\n",
    "adc_4_x_train = np.concatenate((adc_4_x_train, noise_4_x_train))\n",
    "adc_4_y_train = np.concatenate((adc_4_y_train, noise_4_y_train))\n",
    "\n",
    "adc_4_x_test = np.concatenate((adc_4_x_test, noise_4_x_train))\n",
    "adc_4_y_test = np.concatenate((adc_4_y_test, noise_4_y_test))\n",
    "\n",
    "adc_4_x_train, adc_4_x_valid, adc_4_y_train, adc_4_y_valid = train_test_split(adc_4_x_train, adc_4_y_train, test_size=0.2, shuffle=True)\n",
    "\n",
    "print(len(adc_4_x_train), len(adc_4_x_test), len(adc_4_y_train), len(adc_4_y_test), len(adc_4_x_valid), len(adc_4_y_valid))\n",
    "\n",
    "for i in range(10):\n",
    "    adc_4_x_train, adc_4_y_train = shuffle(adc_4_x_train, adc_4_y_train)\n",
    "    adc_4_x_test, adc_4_y_test = shuffle(adc_4_x_test, adc_4_y_test)\n",
    "    adc_4_x_valid, adc_4_y_valid = shuffle(adc_4_x_valid, adc_4_y_valid)\n",
    "\n",
    "print('-----')\n",
    "\n",
    "group_ = 5\n",
    "adc_5_x_train, adc_5_x_test, adc_5_y_train, adc_5_y_test = train_test_split(grouped_waves[group_][0], \n",
    "                                                                                            grouped_waves[group_][1],\n",
    "                                                                                            test_size=0.5, shuffle=True)\n",
    "noise_5_x_train, noise_5_x_test, noise_5_y_train, noise_5_y_test = train_test_split(noise_x_5, \n",
    "                                                                                            noise_y_5,\n",
    "                                                                                            test_size=0.5, shuffle=True)\n",
    "\n",
    "adc_5_x_train = np.concatenate((adc_5_x_train, noise_5_x_train))\n",
    "adc_5_y_train = np.concatenate((adc_5_y_train, noise_5_y_train))\n",
    "\n",
    "adc_5_x_test = np.concatenate((adc_5_x_test, noise_5_x_train))\n",
    "adc_5_y_test = np.concatenate((adc_5_y_test, noise_5_y_test))\n",
    "\n",
    "adc_5_x_train, adc_5_x_valid, adc_5_y_train, adc_5_y_valid = train_test_split(adc_5_x_train, adc_5_y_train, test_size=0.2, shuffle=True)\n",
    "\n",
    "print(len(adc_5_x_train), len(adc_5_x_test), len(adc_5_y_train), len(adc_5_y_test), len(adc_5_x_valid), len(adc_5_y_valid))\n",
    "\n",
    "for i in range(10):\n",
    "    adc_5_x_train, adc_5_y_train = shuffle(adc_5_x_train, adc_5_y_train)\n",
    "    adc_5_x_test, adc_5_y_test = shuffle(adc_5_x_test, adc_5_y_test)\n",
    "    adc_5_x_valid, adc_5_y_valid = shuffle(adc_5_x_valid, adc_5_y_valid)\n",
    "\n",
    "print('-----')\n",
    "\n",
    "group_ = 6\n",
    "adc_6_x_train, adc_6_x_test, adc_6_y_train, adc_6_y_test = train_test_split(grouped_waves[group_][0], \n",
    "                                                                                            grouped_waves[group_][1],\n",
    "                                                                                            test_size=0.5, shuffle=True)\n",
    "\n",
    "noise_6_x_train, noise_6_x_test, noise_6_y_train, noise_6_y_test = train_test_split(noise_x_6, \n",
    "                                                                                            noise_y_6,\n",
    "                                                                                            test_size=0.5, shuffle=True)\n",
    "\n",
    "adc_6_x_train = np.concatenate((adc_6_x_train, noise_6_x_train))\n",
    "adc_6_y_train = np.concatenate((adc_6_y_train, noise_6_y_train))\n",
    "\n",
    "adc_6_x_test = np.concatenate((adc_6_x_test, noise_6_x_train))\n",
    "adc_6_y_test = np.concatenate((adc_6_y_test, noise_6_y_test))\n",
    "\n",
    "adc_6_x_train, adc_6_x_valid, adc_6_y_train, adc_6_y_valid = train_test_split(adc_6_x_train, adc_6_y_train, test_size=0.2, shuffle=True)\n",
    "\n",
    "print(len(adc_6_x_train), len(adc_6_x_test), len(adc_6_y_train), len(adc_6_y_test), len(adc_6_x_valid), len(adc_6_y_valid))\n",
    "\n",
    "for i in range(10):\n",
    "    adc_6_x_train, adc_6_y_train = shuffle(adc_6_x_train, adc_6_y_train)\n",
    "    adc_6_x_test, adc_6_y_test = shuffle(adc_6_x_test, adc_6_y_test)\n",
    "    adc_6_x_valid, adc_6_y_valid = shuffle(adc_6_x_valid, adc_6_y_valid)\n",
    "\n",
    "print('-----')\n"
   ]
  },
  {
   "cell_type": "code",
   "execution_count": 10,
   "metadata": {},
   "outputs": [
    {
     "name": "stdout",
     "output_type": "stream",
     "text": [
      "(7, 3, 2)\n"
     ]
    },
    {
     "data": {
      "text/plain": [
       "{0: 'adc_4_6',\n",
       " 1: 'adc_7_9',\n",
       " 2: 'adc_10_12',\n",
       " 3: 'adc_13_15',\n",
       " 4: 'adc_16_18',\n",
       " 5: 'adc_19_21',\n",
       " 6: 'adc_gt_21'}"
      ]
     },
     "execution_count": 10,
     "metadata": {},
     "output_type": "execute_result"
    }
   ],
   "source": [
    "grouped_samples = np.array((\n",
    "    [[adc_0_x_train, adc_0_y_train], [adc_0_x_valid, adc_0_y_valid], [adc_0_x_test, adc_0_y_test]],\n",
    "    [[adc_1_x_train, adc_1_y_train], [adc_1_x_valid, adc_1_y_valid], [adc_1_x_test, adc_1_y_test]],\n",
    "    [[adc_2_x_train, adc_2_y_train], [adc_2_x_valid, adc_2_y_valid], [adc_2_x_test, adc_2_y_test]],\n",
    "    [[adc_3_x_train, adc_3_y_train], [adc_3_x_valid, adc_3_y_valid], [adc_3_x_test, adc_3_y_test]],\n",
    "    [[adc_4_x_train, adc_4_y_train], [adc_4_x_valid, adc_4_y_valid], [adc_4_x_test, adc_4_y_test]],\n",
    "    [[adc_5_x_train, adc_5_y_train], [adc_5_x_valid, adc_5_y_valid], [adc_5_x_test, adc_5_y_test]],\n",
    "    [[adc_6_x_train, adc_6_y_train], [adc_6_x_valid, adc_6_y_valid], [adc_6_x_test, adc_6_y_test]]), dtype='object'\n",
    ")\n",
    "\n",
    "print(grouped_samples.shape)\n",
    "pp.group_num_labels"
   ]
  },
  {
   "cell_type": "code",
   "execution_count": 11,
   "metadata": {},
   "outputs": [
    {
     "data": {
      "text/plain": [
       "(3200, 200)"
      ]
     },
     "execution_count": 11,
     "metadata": {},
     "output_type": "execute_result"
    }
   ],
   "source": [
    "grouped_samples[0][0][0].shape"
   ]
  },
  {
   "cell_type": "code",
   "execution_count": 15,
   "metadata": {},
   "outputs": [
    {
     "data": {
      "image/png": "[encoded data removed]",
      "text/plain": [
       "<Figure size 800x200 with 1 Axes>"
      ]
     },
     "metadata": {},
     "output_type": "display_data"
    }
   ],
   "source": [
    "fig = plt.figure(figsize=(8,2))\n",
    "plt.plot(grouped_samples[0][2][0][100])\n",
    "plt.plot(grouped_samples[0][2][1][100])\n",
    "plt.show()"
   ]
  },
  {
   "cell_type": "code",
   "execution_count": 16,
   "metadata": {},
   "outputs": [],
   "source": [
    "train_set = np.concatenate((adc_0_x_train, adc_1_x_train, adc_2_x_train, adc_3_x_train, adc_4_x_train, adc_5_x_train, adc_6_x_train))"
   ]
  },
  {
   "cell_type": "code",
   "execution_count": 17,
   "metadata": {},
   "outputs": [
    {
     "data": {
      "text/plain": [
       "(22400, 200)"
      ]
     },
     "execution_count": 17,
     "metadata": {},
     "output_type": "execute_result"
    }
   ],
   "source": [
    "train_set.shape"
   ]
  },
  {
   "cell_type": "code",
   "execution_count": 18,
   "metadata": {},
   "outputs": [],
   "source": [
    "mean = np.mean(train_set)\n",
    "std = np.std(train_set)"
   ]
  },
  {
   "cell_type": "code",
   "execution_count": 19,
   "metadata": {},
   "outputs": [],
   "source": [
    "np.save('./small_sample/mean_' + wireplane, mean)\n",
    "np.save('./small_sample/std_' + wireplane, std)\n",
    "np.save('./small_sample/processed_'+wireplane, grouped_samples)"
   ]
  },
  {
   "cell_type": "code",
   "execution_count": null,
   "metadata": {},
   "outputs": [],
   "source": []
  }
 ],
 "metadata": {
  "kernelspec": {
   "display_name": "tf",
   "language": "python",
   "name": "python3"
  },
  "language_info": {
   "codemirror_mode": {
    "name": "ipython",
    "version": 3
   },
   "file_extension": ".py",
   "mimetype": "text/x-python",
   "name": "python",
   "nbconvert_exporter": "python",
   "pygments_lexer": "ipython3",
   "version": "3.9.16"
  },
  "orig_nbformat": 4
 },
 "nbformat": 4,
 "nbformat_minor": 2
}
