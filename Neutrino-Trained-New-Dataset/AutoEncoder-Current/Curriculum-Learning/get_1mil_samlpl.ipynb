{
 "cells": [
  {
   "cell_type": "markdown",
   "metadata": {},
   "source": [
    "Preprocess data for curriculum learnining approach"
   ]
  },
  {
   "cell_type": "code",
   "execution_count": 1,
   "metadata": {},
   "outputs": [],
   "source": [
    "import matplotlib.pyplot as plt\n",
    "import numpy as np\n",
    "from sklearn.model_selection import train_test_split\n",
    "import prepocess_functs_CL as pp\n",
    "from os import listdir\n",
    "from os.path import isfile, join"
   ]
  },
  {
   "cell_type": "code",
   "execution_count": null,
   "metadata": {},
   "outputs": [],
   "source": []
  },
  {
   "cell_type": "code",
   "execution_count": 2,
   "metadata": {},
   "outputs": [],
   "source": [
    "nticks = 200\n",
    "ADC_MIN = 5\n",
    "path = '/home/vlian/Workspace/ar39-samples-full/'\n"
   ]
  },
  {
   "cell_type": "code",
   "execution_count": 3,
   "metadata": {},
   "outputs": [],
   "source": [
    "# data loader\n",
    "def get_data(wireplane, path, group, num_files):\n",
    "\n",
    "    start = group*num_files\n",
    "    end = start+num_files\n",
    "\n",
    "    #noise_path = '../../../../train_dune_lartpc_v2/noise/'\n",
    "    noise_path = '/home/vlian/Workspace/noise/'\n",
    "    print('ar39: ', path)\n",
    "    print('noise: ', noise_path)\n",
    "    print('')\n",
    "    print('----------loading----------')\n",
    "    sig_name = wireplane+\"-signal\"\n",
    "    cln_name = wireplane+\"-clnsig\"\n",
    "    \n",
    "    filenames1 = sorted([path+f for f in listdir(path) if (isfile(join(path, f)) and sig_name in f)])\n",
    "    clean_filenames1 = sorted([path+f for f in listdir(path) if (isfile(join(path, f)) and cln_name in f)])\n",
    "    filenames =  filenames1[start:end]\n",
    "    #filenames =  filenames1\n",
    "    clean_filenames = clean_filenames1[start:end]\n",
    "    #clean_filenames = clean_filenames1\n",
    "    noise_filenames = sorted([f for f in listdir(noise_path) if (isfile(join(noise_path, f)) and wireplane in f)])\n",
    "\n",
    "    combined_data = np.concatenate([np.load(fname, mmap_mode='r') for fname in filenames])\n",
    "    combined_clean_data = np.concatenate([np.load(fname, mmap_mode='r') for fname in clean_filenames])\n",
    "    combined_noise = np.concatenate([np.load(noise_path+fname, mmap_mode='r') for fname in noise_filenames])\n",
    "    print('--------data loaded!-------')\n",
    "\n",
    "    return combined_data, combined_clean_data, combined_noise\n",
    "    #return combined_clean_data, combined_noise"
   ]
  },
  {
   "cell_type": "code",
   "execution_count": 4,
   "metadata": {},
   "outputs": [],
   "source": [
    "grouping = {\n",
    "    0: '(first 20 files)',\n",
    "    1: '(secound 20 files)',\n",
    "    2: '(third 20 files)',\n",
    "    3: '(fourth 20 files)',\n",
    "    4: '(fith 20 files)',\n",
    "    5: '(sixth 20 files)',\n",
    "    6: '(seventh 20 files)',\n",
    "    7: '(eigth 20 files)',\n",
    "    8: '(ninth 20 files)',\n",
    "    9: '(last 20 files)'\n",
    "}"
   ]
  },
  {
   "cell_type": "markdown",
   "metadata": {},
   "source": [
    "Load data, filter of signal waveforms with ADC <= 3"
   ]
  },
  {
   "cell_type": "code",
   "execution_count": 5,
   "metadata": {},
   "outputs": [],
   "source": [
    "def get_waves(wireplane, grp, num_files, ADC_MIN):\n",
    "    # load raw data\n",
    "    combined_data, combined_clean_data, combined_noise = get_data(wireplane, path, grp, num_files)\n",
    "\n",
    "    # extract waveforms\n",
    "    signal_waveforms = pp.get_std_waveforms(combined_data, nticks)\n",
    "    clean_signal_waveforms = pp.get_std_waveforms(combined_clean_data, nticks)  # for autoencoder\n",
    "    print('')\n",
    "    signal_waveforms, clean_signal_waveforms = pp.filter_signal_ADC_min(signal_waveforms,\n",
    "                                                clean_signal_waveforms, ADC_MIN)\n",
    "    grouped_waves= pp.adc_grouping(signal_waveforms, clean_signal_waveforms)\n",
    "\n",
    "    return grouped_waves"
   ]
  },
  {
   "cell_type": "code",
   "execution_count": 6,
   "metadata": {},
   "outputs": [],
   "source": [
    "def get_samples(wireplane):\n",
    "    adc_5_7_x = []\n",
    "    adc_5_7_y = []\n",
    "\n",
    "    adc_8_10_x = []\n",
    "    adc_8_10_y = []\n",
    "\n",
    "    adc_11_13_x = []\n",
    "    adc_11_13_y = []\n",
    "\n",
    "    adc_14_16_x = []\n",
    "    adc_14_16_y = []\n",
    "\n",
    "    adc_17_19_x = []\n",
    "    adc_17_19_y = []\n",
    "\n",
    "    adc_20_22_x = []\n",
    "    adc_20_22_y = []\n",
    "\n",
    "    adc_gt_22_x = []\n",
    "    adc_gt_22_y = []\n",
    "\n",
    "    grouped_waves = [\n",
    "                    [adc_5_7_x, adc_5_7_y],\n",
    "                    [adc_8_10_x, adc_8_10_y],\n",
    "                    [adc_11_13_x, adc_11_13_y],\n",
    "                    [adc_14_16_x, adc_14_16_y],\n",
    "                    [adc_17_19_x, adc_17_19_y],\n",
    "                    [adc_20_22_x, adc_20_22_y],\n",
    "                    [adc_gt_22_x, adc_gt_22_y]\n",
    "    ]\n",
    "\n",
    "    for file_group in range(10):\n",
    "        gr0 = get_waves(wireplane=wireplane, grp=file_group, num_files=20, ADC_MIN=ADC_MIN)\n",
    "        num_samples = 200000\n",
    "\n",
    "        for i, wave_set in enumerate(gr0[0]):\n",
    "            if i == 0:\n",
    "                continue\n",
    "            grp = i\n",
    "            x_idx = 0\n",
    "            y_idx = 1\n",
    "            num_entries_grp = len(grouped_waves[grp-1][x_idx])\n",
    "            num_entries_ws = len(wave_set[x_idx])\n",
    "            if num_entries_grp < num_samples and num_entries_grp == 0:\n",
    "                if num_entries_ws > num_samples:\n",
    "                    \n",
    "                    grouped_waves[grp-1][x_idx] = [wave for wave in wave_set[x_idx][0:num_samples]]\n",
    "                    grouped_waves[grp-1][y_idx] = [wave for wave in wave_set[y_idx][0:num_samples]]\n",
    "                else:\n",
    "                    grouped_waves[grp-1][x_idx] = [wave for wave in wave_set[x_idx][0:num_entries_ws]]\n",
    "                    grouped_waves[grp-1][y_idx] = [wave for wave in wave_set[y_idx][0:num_entries_ws]]\n",
    "            else:\n",
    "                append_indx = num_entries_grp\n",
    "                if append_indx > (num_samples-num_entries_grp):\n",
    "                    append_indx = num_samples-num_entries_grp\n",
    "                for j, wave in enumerate(wave_set[x_idx][:append_indx]):\n",
    "                    grouped_waves[grp-1][x_idx].append(wave)\n",
    "                    grouped_waves[grp-1][y_idx].append(wave_set[y_idx][j])\n",
    "    \n",
    "\n",
    "    count = []\n",
    "    for i in range(7):\n",
    "        count.append(len(grouped_waves[i][0]))\n",
    "        print(len(grouped_waves[i][0]))\n",
    "    \n",
    "    return [grouped_waves, count]\n",
    "        \n",
    "\n"
   ]
  },
  {
   "cell_type": "code",
   "execution_count": null,
   "metadata": {},
   "outputs": [],
   "source": [
    "sample_U_plane = get_samples('U')"
   ]
  },
  {
   "cell_type": "code",
   "execution_count": null,
   "metadata": {},
   "outputs": [],
   "source": [
    "sample_U_plane = np.array(sample_U_plane, dtype=object)"
   ]
  },
  {
   "cell_type": "code",
   "execution_count": null,
   "metadata": {},
   "outputs": [],
   "source": [
    "np.save('/home/vlian/Workspace/processed_ar39/Sample_U_Plane', sample_U_plane)"
   ]
  },
  {
   "cell_type": "code",
   "execution_count": null,
   "metadata": {},
   "outputs": [],
   "source": [
    "sample_V_plane = get_samples('V')\n",
    "sample_V_plane = np.array(sample_V_plane, dtype=object)\n",
    "np.save('/home/vlian/Workspace/processed_ar39/Sample_V_Plane', sample_V_plane)"
   ]
  },
  {
   "cell_type": "code",
   "execution_count": null,
   "metadata": {},
   "outputs": [],
   "source": [
    "sample_Z_plane = get_samples('Z')\n",
    "sample_Z_plane = np.array(sample_Z_plane, dtype=object)\n",
    "np.save('/home/vlian/Workspace/processed_ar39/Sample_Z_Plane', sample_Z_plane)"
   ]
  },
  {
   "cell_type": "code",
   "execution_count": 7,
   "metadata": {},
   "outputs": [],
   "source": [
    "plane_U = np.load('/home/vlian/Workspace/processed_ar39/Sample_U_Plane.npy', allow_pickle=True)\n",
    "plane_V = np.load('/home/vlian/Workspace/processed_ar39/Sample_V_Plane.npy', allow_pickle=True)\n",
    "plane_Z = np.load('/home/vlian/Workspace/processed_ar39/Sample_Z_Plane.npy', allow_pickle=True)"
   ]
  },
  {
   "cell_type": "code",
   "execution_count": 11,
   "metadata": {},
   "outputs": [
    {
     "data": {
      "text/plain": [
       "(2, 7)"
      ]
     },
     "execution_count": 11,
     "metadata": {},
     "output_type": "execute_result"
    }
   ],
   "source": [
    "plane_U.shape"
   ]
  },
  {
   "cell_type": "code",
   "execution_count": 15,
   "metadata": {},
   "outputs": [
    {
     "data": {
      "text/plain": [
       "0"
      ]
     },
     "execution_count": 15,
     "metadata": {},
     "output_type": "execute_result"
    }
   ],
   "source": [
    "len(plane_U[0][6][0])"
   ]
  },
  {
   "cell_type": "code",
   "execution_count": 10,
   "metadata": {},
   "outputs": [
    {
     "data": {
      "image/png": "[encoded data removed]",
      "text/plain": [
       "<Figure size 1200x800 with 1 Axes>"
      ]
     },
     "metadata": {},
     "output_type": "display_data"
    }
   ],
   "source": [
    "fig = plt.figure(figsize=(12,8))\n",
    "#plt.title('Number of signal waves grouped by ADC ranges ' + grouping[grp], size=15)\n",
    "\n",
    "x_labels = [pp.group_num_labels[i] for i in range(7)]\n",
    "bar_width = 0.2\n",
    "\n",
    "plt.bar([i for i in range(7)], plane_U[1], width=bar_width, color='blue', label='Induction Plane (U)')\n",
    "plt.bar([i-bar_width - bar_width/4 for i in range(7)], plane_V[1], width=bar_width, color='green', label='Induction Plane (V)')\n",
    "plt.bar([i+bar_width + bar_width/4 for i in range(7)], plane_Z[1], width=bar_width, color='red', label='Collection Plane (Z)')\n",
    "\n",
    "for i in range(7):\n",
    "    dist = 1000\n",
    "    plt.text(i, plane_U[1][i] + dist, plane_U[1][i], color='blue', size=10)\n",
    "    plt.text(i-bar_width - bar_width/4, plane_V[1][i] + dist, plane_V[1][i], color='green', size=10)\n",
    "    plt.text(i+bar_width + bar_width/4, plane_Z[1][i] + dist, plane_Z[1][i], color='red', size=10)\n",
    "\n",
    "\n",
    "plt.xticks([i for i in range(7)], x_labels, size=12)\n",
    "plt.yticks(size=12)\n",
    "plt.legend()\n",
    "plt.xlabel('ADC Range', size=15)\n",
    "plt.ylabel('Count', size=15)\n",
    "#filename = './histograms/file_group' + str(grp) +'.png'\n",
    "#plt.savefig(filename, facecolor='w', bbox_inches='tight')\n",
    "plt.show()\n",
    "plt.close()"
   ]
  },
  {
   "cell_type": "code",
   "execution_count": null,
   "metadata": {},
   "outputs": [],
   "source": []
  }
 ],
 "metadata": {
  "kernelspec": {
   "display_name": "tf",
   "language": "python",
   "name": "tf"
  },
  "language_info": {
   "codemirror_mode": {
    "name": "ipython",
    "version": 3
   },
   "file_extension": ".py",
   "mimetype": "text/x-python",
   "name": "python",
   "nbconvert_exporter": "python",
   "pygments_lexer": "ipython3",
   "version": "3.9.16"
  }
 },
 "nbformat": 4,
 "nbformat_minor": 4
}
