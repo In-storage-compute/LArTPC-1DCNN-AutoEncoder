{
 "cells": [
  {
   "attachments": {},
   "cell_type": "markdown",
   "metadata": {},
   "source": [
    "Preprocess data for curriculum learnining approach"
   ]
  },
  {
   "cell_type": "code",
   "execution_count": 2,
   "metadata": {},
   "outputs": [],
   "source": [
    "import matplotlib.pyplot as plt\n",
    "import numpy as np\n",
    "from sklearn.model_selection import train_test_split\n",
    "import prepocess_functs_CL as pp\n",
    "from os import listdir\n",
    "from os.path import isfile, join"
   ]
  },
  {
   "cell_type": "code",
   "execution_count": 3,
   "metadata": {},
   "outputs": [],
   "source": [
    "nticks = 200\n",
    "ADC_MIN = 0\n",
    "path = '/home/vlian/Workspace/ar39-samples-full/'\n",
    "wireplane = 'U'"
   ]
  },
  {
   "cell_type": "code",
   "execution_count": 4,
   "metadata": {},
   "outputs": [],
   "source": [
    "# data loader\n",
    "def get_data(wireplane, path):\n",
    "    noise_path = '../../../../train_dune_lartpc_v2/noise/'\n",
    "    print('ar39: ', path)\n",
    "    print('noise: ', noise_path)\n",
    "    print('')\n",
    "    print('----------loading----------')\n",
    "    sig_name = wireplane+\"-signal\"\n",
    "    cln_name = wireplane+\"-clnsig\"\n",
    "    \n",
    "    filenames1 = sorted([path+f for f in listdir(path) if (isfile(join(path, f)) and sig_name in f)])\n",
    "    clean_filenames1 = sorted([path+f for f in listdir(path) if (isfile(join(path, f)) and cln_name in f)])\n",
    "    #filenames =  filenames1[:int(len(filenames1)/10)]\n",
    "    filenames =  filenames1\n",
    "    #clean_filenames = clean_filenames1[:int(len(clean_filenames1)/10)]\n",
    "    clean_filenames = clean_filenames1\n",
    "    noise_filenames = sorted([f for f in listdir(noise_path) if (isfile(join(noise_path, f)) and wireplane in f)])\n",
    "\n",
    "    combined_data = np.concatenate([np.load(fname, mmap_mode='r') for fname in filenames])\n",
    "    combined_clean_data = np.concatenate([np.load(fname, mmap_mode='r') for fname in clean_filenames])\n",
    "    combined_noise = np.concatenate([np.load(noise_path+fname, mmap_mode='r') for fname in noise_filenames])\n",
    "    print('--------data loaded!-------')\n",
    "\n",
    "    return combined_data, combined_clean_data, combined_noise\n",
    "    #return combined_clean_data, combined_noise"
   ]
  },
  {
   "attachments": {},
   "cell_type": "markdown",
   "metadata": {},
   "source": [
    "Load data, filter of signal waveforms with ADC <= 3"
   ]
  },
  {
   "attachments": {},
   "cell_type": "markdown",
   "metadata": {},
   "source": [
    "# PLANE U"
   ]
  },
  {
   "cell_type": "code",
   "execution_count": 5,
   "metadata": {},
   "outputs": [
    {
     "name": "stdout",
     "output_type": "stream",
     "text": [
      "ar39:  /home/vlian/Workspace/ar39-samples-full/\n",
      "noise:  ../../../../train_dune_lartpc_v2/noise/\n",
      "\n",
      "----------loading----------\n"
     ]
    },
    {
     "ename": "",
     "evalue": "",
     "output_type": "error",
     "traceback": [
      "\u001b[1;31mCanceled future for execute_request message before replies were done"
     ]
    },
    {
     "ename": "",
     "evalue": "",
     "output_type": "error",
     "traceback": [
      "\u001b[1;31mThe Kernel crashed while executing code in the the current cell or a previous cell. Please review the code in the cell(s) to identify a possible cause of the failure. Click <a href='https://aka.ms/vscodeJupyterKernelCrash'>here</a> for more info. View Jupyter <a href='command:jupyter.viewOutput'>log</a> for further details."
     ]
    }
   ],
   "source": [
    "# load raw data\n",
    "combined_data, combined_clean_data, combined_noise = get_data(wireplane, path)\n",
    "#combined_clean_data, combined_noise = get_data(wireplane, path)\n",
    "print('---------------------------------')\n",
    "#print('     signal+noise: ', len(combined_data))\n",
    "print('     clean signal: ', len(combined_clean_data))\n",
    "print('     noise       : ', len(combined_noise))\n",
    "print('---------------------------------')\n",
    "\n",
    "# extract waveforms\n",
    "signal_waveforms = pp.get_std_waveforms(combined_data, nticks)\n",
    "clean_signal_waveforms = pp.get_std_waveforms(combined_clean_data, nticks)  # for autoencoder\n",
    "print('')\n",
    "print('filtering out small signals --> ADC >', ADC_MIN)\n",
    "#print('     noise+signal : ', signal_waveforms.shape)\n",
    "print('     clean signal : ', clean_signal_waveforms.shape)\n",
    "#Filter out tiny signals < ADC_MIN, but leave big signals to test on (incl > ADC_MAX)\n",
    "signal_waveforms, clean_signal_waveforms = pp.filter_signal_ADC_min(signal_waveforms,\n",
    "                                            clean_signal_waveforms, ADC_MIN)\n",
    "\n",
    "#_, clean_signal_waveforms = pp.filter_signal_ADC_min(clean_signal_waveforms,\n",
    "#                                            clean_signal_waveforms, ADC_MIN)\n",
    "print('------------after filtering------------')\n",
    "print('     noise+signal : ', signal_waveforms.shape)\n",
    "print('     clean signal : ', clean_signal_waveforms.shape)\n",
    "\n",
    "grouped_waves= pp.adc_grouping(signal_waveforms, clean_signal_waveforms)"
   ]
  },
  {
   "cell_type": "code",
   "execution_count": null,
   "metadata": {},
   "outputs": [],
   "source": [
    "fig = plt.figure(figsize=(12,8))\n",
    "plt.title('Number of signal waves grouped by ADC ranges', size=15)\n",
    "\n",
    "x_labels = [pp.group_num_labels[i] for i in range(8)]\n",
    "bar_width = 0.2\n",
    "\n",
    "plt.bar([i for i in range(7)], grouped_waves[1][0:7], width=bar_width, color='blue', label='Induction Plane (U)')\n",
    "\n",
    "for i in range(7):\n",
    "    dist = 1000\n",
    "    plt.text(i, grouped_waves[1][i] + dist, grouped_waves[1][i], color='blue')\n",
    "\n",
    "\n",
    "plt.xticks([i for i in range(7)], x_labels, size=12)\n",
    "plt.yticks(size=12)\n",
    "plt.legend()\n",
    "plt.xlabel('ADC Range', size=15)\n",
    "plt.ylabel('Count', size=15)\n",
    "plt.show()"
   ]
  },
  {
   "cell_type": "code",
   "execution_count": null,
   "metadata": {},
   "outputs": [],
   "source": []
  }
 ],
 "metadata": {
  "kernelspec": {
   "display_name": "tf",
   "language": "python",
   "name": "python3"
  },
  "language_info": {
   "codemirror_mode": {
    "name": "ipython",
    "version": 3
   },
   "file_extension": ".py",
   "mimetype": "text/x-python",
   "name": "python",
   "nbconvert_exporter": "python",
   "pygments_lexer": "ipython3",
   "version": "3.9.16"
  },
  "orig_nbformat": 4
 },
 "nbformat": 4,
 "nbformat_minor": 2
}
