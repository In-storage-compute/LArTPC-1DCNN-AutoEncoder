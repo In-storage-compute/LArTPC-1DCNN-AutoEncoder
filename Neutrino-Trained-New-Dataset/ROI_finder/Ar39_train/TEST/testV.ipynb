{
 "cells": [
  {
   "cell_type": "code",
   "execution_count": 1,
   "id": "20816539-b144-47bb-9c82-525b154bee3d",
   "metadata": {
    "tags": []
   },
   "outputs": [
    {
     "name": "stderr",
     "output_type": "stream",
     "text": [
      "2023-07-26 18:54:43.952318: I tensorflow/core/platform/cpu_feature_guard.cc:182] This TensorFlow binary is optimized to use available CPU instructions in performance-critical operations.\n",
      "To enable the following instructions: AVX2 FMA, in other operations, rebuild TensorFlow with the appropriate compiler flags.\n",
      "2023-07-26 18:54:44.851652: W tensorflow/compiler/tf2tensorrt/utils/py_utils.cc:38] TF-TRT Warning: Could not find TensorRT\n"
     ]
    }
   ],
   "source": [
    "import sys\n",
    "import numpy as np\n",
    "from os import listdir\n",
    "from os.path import isfile, join\n",
    "import matplotlib.pyplot as plt\n",
    "import tensorflow as tf\n",
    "from tensorflow import keras \n",
    "from sklearn.model_selection import train_test_split\n",
    "from sklearn.utils import shuffle\n",
    "from tensorflow.keras.models import load_model\n",
    "import helper_functions as f"
   ]
  },
  {
   "cell_type": "code",
   "execution_count": 2,
   "id": "04a56cae-0639-4ca8-85e3-711b8bd4b88a",
   "metadata": {
    "tags": []
   },
   "outputs": [],
   "source": [
    "wireplane = 'V'"
   ]
  },
  {
   "cell_type": "code",
   "execution_count": 3,
   "id": "080496cf-68c2-459b-afaa-7525e2793b31",
   "metadata": {
    "tags": []
   },
   "outputs": [],
   "source": [
    "model_5_10_mean = np.load('../models_scales/mean_5_10' + wireplane + '_nu.npy')\n",
    "model_5_10_std = np.load('../models_scales/scale_5_10' + wireplane + '_nu.npy')\n",
    "\n",
    "model_5_15_mean = np.load('../models_scales/mean_5_15' + wireplane + '_nu.npy')\n",
    "model_5_15_std = np.load('../models_scales/scale_5_15' + wireplane + '_nu.npy')\n",
    "\n",
    "model_5_18_mean = np.load('../models_scales/mean_5_18' + wireplane + '_nu.npy')\n",
    "model_5_18_std = np.load('../models_scales/scale_5_18' + wireplane + '_nu.npy')\n",
    "\n",
    "model_60k_mean = np.load('../models_scales/mean_60k' + wireplane + '_nu.npy')\n",
    "model_60k_std = np.load('../models_scales/scale_60k' + wireplane + '_nu.npy')"
   ]
  },
  {
   "cell_type": "code",
   "execution_count": 4,
   "id": "d4a16068-4d9b-446e-b908-de0892c53db0",
   "metadata": {
    "tags": []
   },
   "outputs": [],
   "source": [
    "scalers = [[model_5_10_mean, model_5_10_std], [model_5_15_mean, model_5_15_std], \n",
    "           [model_5_18_mean, model_5_18_std], [model_60k_mean, model_60k_std]]"
   ]
  },
  {
   "cell_type": "code",
   "execution_count": 5,
   "id": "0d6ae520-040f-428d-8196-2049295e6046",
   "metadata": {
    "tags": []
   },
   "outputs": [
    {
     "name": "stderr",
     "output_type": "stream",
     "text": [
      "2023-07-26 18:54:47.753924: I tensorflow/compiler/xla/stream_executor/cuda/cuda_gpu_executor.cc:996] successful NUMA node read from SysFS had negative value (-1), but there must be at least one NUMA node, so returning NUMA node zero. See more at https://github.com/torvalds/linux/blob/v6.0/Documentation/ABI/testing/sysfs-bus-pci#L344-L355\n",
      "2023-07-26 18:54:47.788873: I tensorflow/compiler/xla/stream_executor/cuda/cuda_gpu_executor.cc:996] successful NUMA node read from SysFS had negative value (-1), but there must be at least one NUMA node, so returning NUMA node zero. See more at https://github.com/torvalds/linux/blob/v6.0/Documentation/ABI/testing/sysfs-bus-pci#L344-L355\n",
      "2023-07-26 18:54:47.789210: I tensorflow/compiler/xla/stream_executor/cuda/cuda_gpu_executor.cc:996] successful NUMA node read from SysFS had negative value (-1), but there must be at least one NUMA node, so returning NUMA node zero. See more at https://github.com/torvalds/linux/blob/v6.0/Documentation/ABI/testing/sysfs-bus-pci#L344-L355\n",
      "2023-07-26 18:54:47.795062: I tensorflow/compiler/xla/stream_executor/cuda/cuda_gpu_executor.cc:996] successful NUMA node read from SysFS had negative value (-1), but there must be at least one NUMA node, so returning NUMA node zero. See more at https://github.com/torvalds/linux/blob/v6.0/Documentation/ABI/testing/sysfs-bus-pci#L344-L355\n",
      "2023-07-26 18:54:47.795462: I tensorflow/compiler/xla/stream_executor/cuda/cuda_gpu_executor.cc:996] successful NUMA node read from SysFS had negative value (-1), but there must be at least one NUMA node, so returning NUMA node zero. See more at https://github.com/torvalds/linux/blob/v6.0/Documentation/ABI/testing/sysfs-bus-pci#L344-L355\n",
      "2023-07-26 18:54:47.795759: I tensorflow/compiler/xla/stream_executor/cuda/cuda_gpu_executor.cc:996] successful NUMA node read from SysFS had negative value (-1), but there must be at least one NUMA node, so returning NUMA node zero. See more at https://github.com/torvalds/linux/blob/v6.0/Documentation/ABI/testing/sysfs-bus-pci#L344-L355\n",
      "2023-07-26 18:54:48.379270: I tensorflow/compiler/xla/stream_executor/cuda/cuda_gpu_executor.cc:996] successful NUMA node read from SysFS had negative value (-1), but there must be at least one NUMA node, so returning NUMA node zero. See more at https://github.com/torvalds/linux/blob/v6.0/Documentation/ABI/testing/sysfs-bus-pci#L344-L355\n",
      "2023-07-26 18:54:48.379648: I tensorflow/compiler/xla/stream_executor/cuda/cuda_gpu_executor.cc:996] successful NUMA node read from SysFS had negative value (-1), but there must be at least one NUMA node, so returning NUMA node zero. See more at https://github.com/torvalds/linux/blob/v6.0/Documentation/ABI/testing/sysfs-bus-pci#L344-L355\n",
      "2023-07-26 18:54:48.379922: I tensorflow/compiler/xla/stream_executor/cuda/cuda_gpu_executor.cc:996] successful NUMA node read from SysFS had negative value (-1), but there must be at least one NUMA node, so returning NUMA node zero. See more at https://github.com/torvalds/linux/blob/v6.0/Documentation/ABI/testing/sysfs-bus-pci#L344-L355\n",
      "2023-07-26 18:54:48.380184: I tensorflow/core/common_runtime/gpu/gpu_device.cc:1635] Created device /job:localhost/replica:0/task:0/device:GPU:0 with 18083 MB memory:  -> device: 0, name: NVIDIA A100 80GB PCIe MIG 2g.20gb, pci bus id: 0000:04:00.0, compute capability: 8.0\n"
     ]
    }
   ],
   "source": [
    "model_5_10 = load_model('../ROI_ar39_models/model_5_10' + wireplane + 'plane_nu_ROI.h5')\n",
    "\n",
    "model_5_15 = load_model('../ROI_ar39_models/model_5_15' + wireplane + 'plane_nu_ROI.h5')\n",
    "\n",
    "model_5_18 = load_model('../ROI_ar39_models/model_5_18' + wireplane + 'plane_nu_ROI.h5')\n",
    "\n",
    "model_60k = load_model('../ROI_ar39_models/model_60k' + wireplane + 'plane_nu_ROI.h5')"
   ]
  },
  {
   "cell_type": "code",
   "execution_count": 6,
   "id": "c46aa550-682b-4694-8dca-57f497038490",
   "metadata": {
    "tags": []
   },
   "outputs": [],
   "source": [
    "models = [model_5_10, model_5_15, model_5_18, model_60k]"
   ]
  },
  {
   "cell_type": "code",
   "execution_count": 7,
   "id": "4dee40bb-a369-4a95-8719-314c6060c13a",
   "metadata": {
    "tags": []
   },
   "outputs": [
    {
     "name": "stdout",
     "output_type": "stream",
     "text": [
      "(100000, 200) (100000,)\n"
     ]
    }
   ],
   "source": [
    "noise_path = '/home/vlian/Workspace/noise_100k_for_test/V/'\n",
    "noise_filenames = sorted([f for f in listdir(noise_path) if (isfile(join(noise_path, f)) and wireplane in f)])\n",
    "combined_noise = np.concatenate([np.load(noise_path+fname, mmap_mode='r') for fname in noise_filenames])\n",
    "\n",
    "noise_waveforms = f.get_std_waveforms(combined_noise, 200)\n",
    "roi_truth_noise = np.zeros(noise_waveforms.shape[0]) # for autoencoder\n",
    "print(noise_waveforms.shape, roi_truth_noise.shape)"
   ]
  },
  {
   "cell_type": "code",
   "execution_count": 8,
   "id": "31e8e7d1-37eb-42d1-8318-956869373ee7",
   "metadata": {
    "tags": []
   },
   "outputs": [],
   "source": [
    "def eval_model(idx):\n",
    "    model_idx = idx\n",
    "\n",
    "    noise_scaled = (noise_waveforms-scalers[model_idx][0])/scalers[model_idx][1]\n",
    "    infer = models[model_idx].predict(noise_scaled)\n",
    "    \n",
    "    print((1-(len([i for i in infer if i >= 0.94])/len(infer)))*100)"
   ]
  },
  {
   "cell_type": "code",
   "execution_count": 9,
   "id": "c70820aa-7d9d-4fc8-9380-92f4ac02d0f8",
   "metadata": {
    "tags": []
   },
   "outputs": [
    {
     "name": "stdout",
     "output_type": "stream",
     "text": [
      "model: 0\n"
     ]
    },
    {
     "name": "stderr",
     "output_type": "stream",
     "text": [
      "2023-07-26 18:54:52.732163: I tensorflow/compiler/xla/stream_executor/cuda/cuda_dnn.cc:424] Loaded cuDNN version 8600\n"
     ]
    },
    {
     "name": "stdout",
     "output_type": "stream",
     "text": [
      "3125/3125 [==============================] - 6s 1ms/step\n",
      "99.53999999999999\n",
      "model: 1\n",
      "3125/3125 [==============================] - 4s 1ms/step\n",
      "99.544\n",
      "model: 2\n",
      "3125/3125 [==============================] - 4s 1ms/step\n",
      "99.625\n",
      "model: 3\n",
      "3125/3125 [==============================] - 4s 1ms/step\n",
      "99.675\n"
     ]
    }
   ],
   "source": [
    "for i in range(4):\n",
    "    print('model:', i)\n",
    "    eval_model(i)"
   ]
  },
  {
   "cell_type": "code",
   "execution_count": 10,
   "id": "07383fa0-5c43-4163-974a-9277e7f8a8c0",
   "metadata": {
    "tags": []
   },
   "outputs": [],
   "source": [
    "dataset_adc_5_16 = np.load('/home/vlian/Workspace/ar39_samples/adc_5_16_V.npz', allow_pickle=True)"
   ]
  },
  {
   "cell_type": "code",
   "execution_count": 11,
   "id": "d6c625a8-24cc-402b-8376-e4397ad8e272",
   "metadata": {
    "tags": []
   },
   "outputs": [],
   "source": [
    "adc_5 = dataset_adc_5_16['adc_5']\n",
    "adc_6 = dataset_adc_5_16['adc_6']\n",
    "adc_7 = dataset_adc_5_16['adc_7']\n",
    "adc_8 = dataset_adc_5_16['adc_8']\n",
    "adc_9 = dataset_adc_5_16['adc_9']\n",
    "adc_10 = dataset_adc_5_16['adc_10']\n",
    "adc_11 = dataset_adc_5_16['adc_11']\n",
    "adc_12 = dataset_adc_5_16['adc_12']\n",
    "adc_13 = dataset_adc_5_16['adc_13']\n",
    "adc_14 = dataset_adc_5_16['adc_14']\n",
    "adc_15 = dataset_adc_5_16['adc_15']\n",
    "adc_16 = dataset_adc_5_16['adc_16']"
   ]
  },
  {
   "cell_type": "code",
   "execution_count": 12,
   "id": "74ce4955-1236-4817-bf51-5193734b23cb",
   "metadata": {
    "tags": []
   },
   "outputs": [],
   "source": [
    "def cut_data(adc_group, type_):\n",
    "    if type_:\n",
    "        num_samples = 100000\n",
    "    else:\n",
    "        num_samples = 60000\n",
    "    \n",
    "    x = adc_group[0][0:num_samples]\n",
    "    y = adc_group[1][0:num_samples]\n",
    "    \n",
    "    print(x.shape, y.shape)\n",
    "    \n",
    "    return x, y"
   ]
  },
  {
   "cell_type": "code",
   "execution_count": 13,
   "id": "7154b1ca-8472-48ff-8bc5-d8a494724213",
   "metadata": {
    "tags": []
   },
   "outputs": [
    {
     "name": "stdout",
     "output_type": "stream",
     "text": [
      "(100000, 200) (100000, 200)\n",
      "(100000, 200) (100000, 200)\n",
      "(100000, 200) (100000, 200)\n",
      "(100000, 200) (100000, 200)\n",
      "(100000, 200) (100000, 200)\n",
      "(100000, 200) (100000, 200)\n",
      "(100000, 200) (100000, 200)\n",
      "(100000, 200) (100000, 200)\n",
      "(100000, 200) (100000, 200)\n",
      "(100000, 200) (100000, 200)\n",
      "(78346, 200) (78346, 200)\n",
      "(54758, 200) (54758, 200)\n"
     ]
    }
   ],
   "source": [
    "adc_5_x, adc_5_y = cut_data(adc_5, True)\n",
    "adc_6_x, adc_6_y = cut_data(adc_6, True)\n",
    "adc_7_x, adc_7_y = cut_data(adc_7, True)\n",
    "adc_8_x, adc_8_y = cut_data(adc_8, True)\n",
    "adc_9_x, adc_9_y = cut_data(adc_9, True)\n",
    "adc_10_x, adc_10_y = cut_data(adc_10, True)\n",
    "adc_11_x, adc_11_y = cut_data(adc_11, True)\n",
    "adc_12_x, adc_12_y = cut_data(adc_12, True)\n",
    "adc_13_x, adc_13_y = cut_data(adc_13, True)\n",
    "\n",
    "adc_14_x, adc_14_y = cut_data(adc_14, True)\n",
    "adc_15_x, adc_15_y = cut_data(adc_15, True)\n",
    "adc_16_x, adc_16_y = cut_data(adc_16, True)"
   ]
  },
  {
   "cell_type": "code",
   "execution_count": 14,
   "id": "c61b7aad-8c91-435e-ae69-67834519a90c",
   "metadata": {
    "tags": []
   },
   "outputs": [
    {
     "data": {
      "text/plain": [
       "[<matplotlib.lines.Line2D at 0x7f9b8c7815e0>]"
      ]
     },
     "execution_count": 14,
     "metadata": {},
     "output_type": "execute_result"
    },
    {
     "data": {
      "image/png": "[encoded data removed]",
      "text/plain": [
       "<Figure size 640x480 with 1 Axes>"
      ]
     },
     "metadata": {},
     "output_type": "display_data"
    }
   ],
   "source": [
    "plt.plot(adc_16_x[100])\n",
    "plt.plot(adc_16_y[100])"
   ]
  },
  {
   "cell_type": "code",
   "execution_count": 15,
   "id": "0ab646a1-6745-42b3-a2be-4ec7e4cef3ba",
   "metadata": {
    "tags": []
   },
   "outputs": [],
   "source": [
    "signals_per_adc = [adc_5_x, adc_6_x, adc_7_x, adc_8_x, adc_9_x, adc_10_x, adc_11_x, adc_12_x, adc_13_x, adc_14_x, adc_15_x, adc_16_x]"
   ]
  },
  {
   "cell_type": "code",
   "execution_count": 16,
   "id": "c63822b6-af3f-4f49-af3e-e45fd4343df5",
   "metadata": {
    "tags": []
   },
   "outputs": [],
   "source": [
    "def eval_model_adc(adc_group_waveforms, model_idx):\n",
    "\n",
    "    waveforms_scaled = (adc_group_waveforms-scalers[model_idx][0])/scalers[model_idx][1]\n",
    "    infer = models[model_idx].predict(waveforms_scaled, verbose=0)\n",
    "    \n",
    "    print((len([i for i in infer if i >= 0.94])/len(infer))*100)"
   ]
  },
  {
   "cell_type": "code",
   "execution_count": 17,
   "id": "b2c77349-c27e-423b-bbeb-c0fb9d559b9d",
   "metadata": {
    "tags": []
   },
   "outputs": [
    {
     "name": "stdout",
     "output_type": "stream",
     "text": [
      "adc: 5\n",
      "    model: 0\n",
      "4.84\n",
      "    model: 1\n",
      "4.852\n",
      "    model: 2\n",
      "4.399\n",
      "    model: 3\n",
      "4.02\n",
      "--------------\n",
      "\n",
      "adc: 6\n",
      "    model: 0\n",
      "8.797\n",
      "    model: 1\n",
      "8.834999999999999\n",
      "    model: 2\n",
      "8.013\n",
      "    model: 3\n",
      "7.534000000000001\n",
      "--------------\n",
      "\n",
      "adc: 7\n",
      "    model: 0\n",
      "15.189\n",
      "    model: 1\n",
      "15.315000000000001\n",
      "    model: 2\n",
      "14.222000000000001\n",
      "    model: 3\n",
      "13.483\n",
      "--------------\n",
      "\n",
      "adc: 8\n",
      "    model: 0\n",
      "23.966\n",
      "    model: 1\n",
      "24.121000000000002\n",
      "    model: 2\n",
      "22.724\n",
      "    model: 3\n",
      "21.712\n",
      "--------------\n",
      "\n",
      "adc: 9\n",
      "    model: 0\n",
      "34.719\n",
      "    model: 1\n",
      "35.134\n",
      "    model: 2\n",
      "33.562999999999995\n",
      "    model: 3\n",
      "32.317\n",
      "--------------\n",
      "\n",
      "adc: 10\n",
      "    model: 0\n",
      "47.124\n",
      "    model: 1\n",
      "47.804\n",
      "    model: 2\n",
      "46.171\n",
      "    model: 3\n",
      "44.833\n",
      "--------------\n",
      "\n",
      "adc: 11\n",
      "    model: 0\n",
      "59.194\n",
      "    model: 1\n",
      "59.974000000000004\n",
      "    model: 2\n",
      "58.412\n",
      "    model: 3\n",
      "57.145999999999994\n",
      "--------------\n",
      "\n",
      "adc: 12\n",
      "    model: 0\n",
      "70.165\n",
      "    model: 1\n",
      "71.202\n",
      "    model: 2\n",
      "69.8\n",
      "    model: 3\n",
      "68.648\n",
      "--------------\n",
      "\n",
      "adc: 13\n",
      "    model: 0\n",
      "79.482\n",
      "    model: 1\n",
      "80.444\n",
      "    model: 2\n",
      "79.465\n",
      "    model: 3\n",
      "78.526\n",
      "--------------\n",
      "\n",
      "adc: 14\n",
      "    model: 0\n",
      "86.797\n",
      "    model: 1\n",
      "87.819\n",
      "    model: 2\n",
      "87.044\n",
      "    model: 3\n",
      "86.33800000000001\n",
      "--------------\n",
      "\n",
      "adc: 15\n",
      "    model: 0\n",
      "91.96002348556404\n",
      "    model: 1\n",
      "92.76670155464222\n",
      "    model: 2\n",
      "92.31103055676103\n",
      "    model: 3\n",
      "91.8119623209864\n",
      "--------------\n",
      "\n",
      "adc: 16\n",
      "    model: 0\n",
      "95.34131998977318\n",
      "    model: 1\n",
      "96.00971547536433\n",
      "    model: 2\n",
      "95.65908177800505\n",
      "    model: 3\n",
      "95.34314620694693\n",
      "--------------\n",
      "\n"
     ]
    }
   ],
   "source": [
    "for i, signals_at_adc in enumerate(signals_per_adc):\n",
    "    print('adc:', i+5)\n",
    "    for j in range(4):\n",
    "        print('    model:', j) \n",
    "        eval_model_adc(signals_at_adc, j)\n",
    "    print('--------------')\n",
    "    print()"
   ]
  },
  {
   "cell_type": "code",
   "execution_count": 18,
   "id": "71c833d5-8f8c-495b-ba4d-9fbee150eea6",
   "metadata": {
    "tags": []
   },
   "outputs": [],
   "source": [
    "adc_5_16_x = np.empty((0,200))\n",
    "adc_5_16_x = np.concatenate((adc_5_16_x, adc_5_x))\n",
    "adc_5_16_x = np.concatenate((adc_5_16_x, adc_6_x))\n",
    "adc_5_16_x = np.concatenate((adc_5_16_x, adc_7_x))\n",
    "adc_5_16_x = np.concatenate((adc_5_16_x, adc_8_x))\n",
    "adc_5_16_x = np.concatenate((adc_5_16_x, adc_9_x))\n",
    "adc_5_16_x = np.concatenate((adc_5_16_x, adc_10_x))\n",
    "adc_5_16_x = np.concatenate((adc_5_16_x, adc_11_x))\n",
    "adc_5_16_x = np.concatenate((adc_5_16_x, adc_12_x))\n",
    "adc_5_16_x = np.concatenate((adc_5_16_x, adc_13_x))\n",
    "adc_5_16_x = np.concatenate((adc_5_16_x, adc_14_x))\n",
    "adc_5_16_x = np.concatenate((adc_5_16_x, adc_15_x))\n",
    "adc_5_16_x = np.concatenate((adc_5_16_x, adc_16_x))"
   ]
  },
  {
   "cell_type": "code",
   "execution_count": 19,
   "id": "5d685dba-71e3-4239-be07-981443963845",
   "metadata": {
    "tags": []
   },
   "outputs": [],
   "source": [
    "for i in range(10):\n",
    "    adc_5_16_x = shuffle(adc_5_16_x)"
   ]
  },
  {
   "cell_type": "code",
   "execution_count": null,
   "id": "8df24cba-4a7f-446f-9e3c-8ce51a35f13b",
   "metadata": {
    "tags": []
   },
   "outputs": [
    {
     "name": "stdout",
     "output_type": "stream",
     "text": [
      "    model: 0\n",
      "48.93875584235869\n",
      "    model: 1\n",
      "49.4881317160649\n",
      "    model: 2\n",
      "48.40826614326664\n",
      "    model: 3\n"
     ]
    }
   ],
   "source": [
    "for j in range(4):\n",
    "    print('    model:', j) \n",
    "    eval_model_adc(adc_5_16_x, j)"
   ]
  },
  {
   "cell_type": "code",
   "execution_count": null,
   "id": "cbc43d64-0119-408f-a6d0-eace8bc62816",
   "metadata": {
    "tags": []
   },
   "outputs": [],
   "source": [
    "orig_model = load_model('../../ROI_models/model_Vplane_nu_ROI.h5')\n",
    "mean = np.load('../../ROI_models/mean_V_nu_ROI.npy')\n",
    "std = np.load('../../ROI_models/scale_V_nu_ROI.npy')"
   ]
  },
  {
   "cell_type": "code",
   "execution_count": null,
   "id": "0f6f40f4-dc03-4b31-bb73-8e609eda4e1e",
   "metadata": {
    "tags": []
   },
   "outputs": [],
   "source": [
    "def eval_model_adc_orig(adc_group_waveforms):\n",
    "\n",
    "    waveforms_scaled = (adc_group_waveforms-mean)/std\n",
    "    infer = orig_model.predict(waveforms_scaled, verbose=0)\n",
    "    \n",
    "    print((len([i for i in infer if i >= 0.94])/len(infer))*100)"
   ]
  },
  {
   "cell_type": "code",
   "execution_count": null,
   "id": "0c7bdfd3-b840-41ed-9500-ad73801a4fcc",
   "metadata": {
    "tags": []
   },
   "outputs": [],
   "source": [
    "for i, signals_at_adc in enumerate(signals_per_adc):\n",
    "    print('adc:', i+5)\n",
    "    eval_model_adc_orig(signals_at_adc)\n",
    "    print('--------------')"
   ]
  },
  {
   "cell_type": "code",
   "execution_count": null,
   "id": "98e2c26c-57ba-42b5-9cb9-a496e25bf321",
   "metadata": {
    "tags": []
   },
   "outputs": [],
   "source": [
    "eval_model_adc_orig(adc_5_16_x)"
   ]
  },
  {
   "cell_type": "code",
   "execution_count": null,
   "id": "96a86af5-1bd7-4d8b-bf97-c58040ca41c8",
   "metadata": {
    "tags": []
   },
   "outputs": [],
   "source": [
    "eval_model_adc_orig(noise_waveforms)"
   ]
  },
  {
   "cell_type": "code",
   "execution_count": null,
   "id": "6f9bbb8a-d712-4a88-a0dd-d2f6952ad278",
   "metadata": {
    "tags": []
   },
   "outputs": [],
   "source": [
    "100-(0.135)"
   ]
  },
  {
   "cell_type": "code",
   "execution_count": null,
   "id": "9942bd0c-ec16-421d-9f83-541a30a2a236",
   "metadata": {},
   "outputs": [],
   "source": []
  },
  {
   "cell_type": "markdown",
   "id": "7e624036-36f2-4cc4-9263-0fe08c64233c",
   "metadata": {},
   "source": [
    "# AE_TEST"
   ]
  },
  {
   "cell_type": "code",
   "execution_count": null,
   "id": "748cdf7a-2d42-4947-9e07-fa149bfd4e4e",
   "metadata": {
    "tags": []
   },
   "outputs": [],
   "source": [
    "model_5_10_AE = load_model('../AE_ar39_models/model_5_10' + wireplane + 'plane_nu_AE.h5')\n",
    "\n",
    "model_5_15_AE = load_model('../AE_ar39_models/model_5_15' + wireplane + 'plane_nu_AE.h5')\n",
    "\n",
    "model_5_18_AE = load_model('../AE_ar39_models/model_5_18' + wireplane + 'plane_nu_AE.h5')\n",
    "\n",
    "model_60k_AE = load_model('../AE_ar39_models/model_60k' + wireplane + 'plane_nu_AE.h5')"
   ]
  },
  {
   "cell_type": "code",
   "execution_count": null,
   "id": "16e37461-18d1-4b6a-91b9-6eb549b7ba19",
   "metadata": {
    "tags": []
   },
   "outputs": [],
   "source": [
    "cln_signals_per_adc = [adc_5_y, adc_6_y, adc_7_y, adc_8_y, adc_9_y, adc_10_y, adc_11_y, adc_12_y, adc_13_y, adc_14_y, adc_15_y, adc_16_y]"
   ]
  },
  {
   "cell_type": "code",
   "execution_count": null,
   "id": "7bdf72ba-27cc-41a1-9bfb-f230670b8776",
   "metadata": {
    "tags": []
   },
   "outputs": [],
   "source": [
    "def roi_ae(roi_model, ae_model, roi_scalers, ae_scalers, adc_idx, num_pred):\n",
    "    waveform_noisy = signals_per_adc[adc_idx]\n",
    "    noisy_wave_scaled_ROI = (waveform_noisy-roi_scalers[0])/roi_scalers[1]\n",
    "    noisy_wave_scaled_AE = (waveform_noisy-ae_scalers[0])/ae_scalers[1]\n",
    "    \n",
    "    waveform_clean = cln_signals_per_adc[adc_idx]\n",
    "    clean_wave_scaled = (waveform_clean-ae_scalers[0])/ae_scalers[1]\n",
    "    counter = 0\n",
    "    for i in range(100000):\n",
    "        wave_roi = noisy_wave_scaled_ROI[i:i+1]\n",
    "        if roi_model.predict(wave_roi) >= -0.94:\n",
    "            wave_AE = noisy_wave_scaled_AE[i:i+1]\n",
    "            ae_pred = ae_model(wave_AE)\n",
    "            pred = ae_pred*ae_scalers[1] + ae_scalers[0]\n",
    "            \n",
    "            fig = plt.figure(figsize=(8,2))\n",
    "            plt.plot(pred[0], color='m', label='pred')\n",
    "            plt.plot(waveform_clean[i:i+1][0], color='blue', label='target')\n",
    "            plt.legend()\n",
    "            plt.show()\n",
    "            \n",
    "            counter += 1\n",
    "            \n",
    "            if counter >= num_pred:\n",
    "                break"
   ]
  },
  {
   "cell_type": "code",
   "execution_count": null,
   "id": "42a83bdd-26dd-47fb-b295-05a4f804de9b",
   "metadata": {
    "tags": []
   },
   "outputs": [],
   "source": [
    "roi_ae(model_60k, model_60k_AE, [model_60k_mean, model_60k_std], [model_60k_mean, model_60k_std], 0, 10)"
   ]
  },
  {
   "cell_type": "code",
   "execution_count": null,
   "id": "5ac723cd-5e9a-4d0d-b712-64f26d1da43e",
   "metadata": {
    "tags": []
   },
   "outputs": [],
   "source": [
    "roi_ae(model_5_18, model_5_18_AE, [model_5_18_mean, model_5_18_std], [model_5_18_mean, model_5_18_std], 10, 10)"
   ]
  },
  {
   "cell_type": "code",
   "execution_count": null,
   "id": "8f0943ca-777f-4b9b-8dde-64577ba53c88",
   "metadata": {},
   "outputs": [],
   "source": [
    "roi_ae(model_60k, model_60k_AE, [model_60k_mean, model_60k_std], [model_60k_mean, model_60k_std], 10, 10)"
   ]
  },
  {
   "cell_type": "code",
   "execution_count": null,
   "id": "021bcbc4-f730-4e9c-a77d-8ee490093703",
   "metadata": {},
   "outputs": [],
   "source": []
  }
 ],
 "metadata": {
  "kernelspec": {
   "display_name": "Python [conda env:.conda-tf]",
   "language": "python",
   "name": "conda-env-.conda-tf-py"
  },
  "language_info": {
   "codemirror_mode": {
    "name": "ipython",
    "version": 3
   },
   "file_extension": ".py",
   "mimetype": "text/x-python",
   "name": "python",
   "nbconvert_exporter": "python",
   "pygments_lexer": "ipython3",
   "version": "3.9.16"
  }
 },
 "nbformat": 4,
 "nbformat_minor": 5
}
