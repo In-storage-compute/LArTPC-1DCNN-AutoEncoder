{
 "cells": [
  {
   "cell_type": "code",
   "execution_count": 1,
   "metadata": {},
   "outputs": [],
   "source": [
    "import sys\n",
    "import numpy as np\n",
    "import matplotlib.pyplot as plt\n",
    "import tensorflow as tf\n",
    "from tensorflow import keras \n",
    "from sklearn.model_selection import train_test_split\n",
    "from tensorflow.keras.models import load_model\n",
    "from sklearn.metrics import roc_curve\n",
    "from sklearn.metrics import auc\n",
    "import math\n",
    "import tqdm\n",
    "from PyPDF2 import PdfMerger\n",
    "import os\n",
    "from os import listdir\n",
    "from os.path import isfile, join"
   ]
  },
  {
   "cell_type": "code",
   "execution_count": 2,
   "metadata": {},
   "outputs": [],
   "source": [
    "wireplane = 'Z'\n",
    "np.random.seed(42)\n",
    "\n",
    "def filter_signal_ADC(data, clean_data, adc_value, filter_by_max):\n",
    "    data_wf = []\n",
    "    clean_wf = []\n",
    "    for i in range(clean_data.shape[0]):\n",
    "        if filter_by_max:\n",
    "            if max(clean_data[i]) < adc_value or sum(clean_data[i]) == 0:\n",
    "                data_wf.append(data[i])\n",
    "                clean_wf.append(clean_data[i])\n",
    "        else:\n",
    "            if max(clean_data[i]) > adc_value or sum(clean_data[i]) == 0:\n",
    "                data_wf.append(data[i])\n",
    "                clean_wf.append(clean_data[i])\n",
    "    data_wf = np.array(data_wf)\n",
    "    clean_wf = np.array(clean_wf)\n",
    "    return data_wf, clean_wf"
   ]
  },
  {
   "cell_type": "code",
   "execution_count": 3,
   "metadata": {},
   "outputs": [],
   "source": [
    "x_test = np.load('../../processed_data/current/x_test_' + wireplane + '.npy')\n",
    "y_test = np.load('../../processed_data/current/y_test_AE_' + wireplane + '.npy')\n",
    "\n",
    "\n",
    "mean = np.load('../results/mean_AE_' + wireplane + '.npy')\n",
    "std = np.load('../results/std_AE_' + wireplane + '.npy')"
   ]
  },
  {
   "cell_type": "code",
   "execution_count": 4,
   "metadata": {},
   "outputs": [],
   "source": [
    "x_test_scaled = (x_test-mean)/std\n",
    "y_test_scaled = (y_test-mean)/std"
   ]
  },
  {
   "cell_type": "code",
   "execution_count": 5,
   "metadata": {},
   "outputs": [
    {
     "name": "stdout",
     "output_type": "stream",
     "text": [
      "22443 50000\n"
     ]
    }
   ],
   "source": [
    "max_adcs_test_signals = [max(wave) for wave in y_test if sum(abs(wave) != 0)]\n",
    "print(sum(1 for val in max_adcs_test_signals if val < 20 and val !=0), len(max_adcs_test_signals))"
   ]
  },
  {
   "cell_type": "code",
   "execution_count": 6,
   "metadata": {},
   "outputs": [
    {
     "data": {
      "text/plain": [
       "50000"
      ]
     },
     "execution_count": 6,
     "metadata": {},
     "output_type": "execute_result"
    }
   ],
   "source": [
    "len(max_adcs_test_signals)"
   ]
  },
  {
   "cell_type": "code",
   "execution_count": 7,
   "metadata": {},
   "outputs": [],
   "source": [
    "def custom_mse2(y_true, y_pred):\n",
    "\n",
    "    return -1"
   ]
  },
  {
   "cell_type": "code",
   "execution_count": 8,
   "metadata": {},
   "outputs": [],
   "source": [
    "cnn = load_model('../../latest_models/model_' + wireplane + 'plane_nu.h5')\n",
    "\n",
    "autoencoder9 = load_model(\"../results/batch_size1_epochs_100_w1_1-w2_dot7_\" + wireplane + 'plane_nu.h5', custom_objects={'custom_mse2':custom_mse2})  # ~ 20 epochs\n"
   ]
  },
  {
   "cell_type": "code",
   "execution_count": 9,
   "metadata": {},
   "outputs": [
    {
     "name": "stdout",
     "output_type": "stream",
     "text": [
      "25/25 [==============================] - 1s 43ms/step\n",
      "Wall time: 1.3 s\n"
     ]
    }
   ],
   "source": [
    "%%time\n",
    "\n",
    "predictions9 = autoencoder9.predict(x_test_scaled, batch_size=4096)\n",
    "predictions9 = predictions9.reshape(predictions9.shape[0], predictions9.shape[1])"
   ]
  },
  {
   "cell_type": "code",
   "execution_count": 10,
   "metadata": {},
   "outputs": [],
   "source": [
    "x_test_ = std*x_test_scaled+mean\n",
    "y_test_ = y_test_ = y_test_scaled*std + mean"
   ]
  },
  {
   "cell_type": "code",
   "execution_count": 11,
   "metadata": {},
   "outputs": [],
   "source": [
    "pred9 = predictions9*std + mean"
   ]
  },
  {
   "cell_type": "code",
   "execution_count": 12,
   "metadata": {},
   "outputs": [
    {
     "name": "stdout",
     "output_type": "stream",
     "text": [
      "0.7170297\n"
     ]
    }
   ],
   "source": [
    "from scipy import stats\n",
    "print(stats.mode(pred9[0], keepdims=False)[0])"
   ]
  },
  {
   "cell_type": "code",
   "execution_count": 13,
   "metadata": {},
   "outputs": [],
   "source": [
    "pred9 = pred9-stats.mode(pred9[0], keepdims=False)[0]"
   ]
  },
  {
   "cell_type": "code",
   "execution_count": 14,
   "metadata": {},
   "outputs": [],
   "source": [
    "noise_data = [data for data in y_test_ if sum(abs(data)) == 0]"
   ]
  },
  {
   "cell_type": "code",
   "execution_count": 15,
   "metadata": {},
   "outputs": [
    {
     "data": {
      "text/plain": [
       "50000"
      ]
     },
     "execution_count": 15,
     "metadata": {},
     "output_type": "execute_result"
    }
   ],
   "source": [
    "len(noise_data)"
   ]
  },
  {
   "cell_type": "code",
   "execution_count": 16,
   "metadata": {},
   "outputs": [],
   "source": [
    "noise_tN_pred = []\n",
    "noise_tN_truth = []\n",
    "\n",
    "noise_fP_pred = []\n",
    "noise_fP_truth = []\n",
    "\n",
    "signal_present_pred = []\n",
    "signal_present_truth = []\n",
    "\n",
    "\n",
    "for i in range(len(pred9)):\n",
    "    if np.std(pred9[i]) == 0 and np.std(y_test_[i]) == 0:\n",
    "        noise_tN_pred.append(pred9[i])\n",
    "        noise_tN_truth.append(y_test_[i])\n",
    "    elif np.std(pred9[i]) != 0 and np.std(y_test_[i]) == 0:\n",
    "        noise_fP_pred.append(pred9[i])\n",
    "        noise_fP_truth.append(y_test_[i])\n",
    "    else:\n",
    "        signal_present_pred.append(pred9[i])\n",
    "        signal_present_truth.append(y_test_[i])"
   ]
  },
  {
   "cell_type": "code",
   "execution_count": 17,
   "metadata": {},
   "outputs": [
    {
     "name": "stdout",
     "output_type": "stream",
     "text": [
      "43601 6399 50000\n"
     ]
    }
   ],
   "source": [
    "print(len(noise_tN_pred), len(noise_fP_pred), len(signal_present_pred))"
   ]
  },
  {
   "cell_type": "code",
   "execution_count": 18,
   "metadata": {},
   "outputs": [
    {
     "data": {
      "image/png": "[encoded data removed]",
      "text/plain": [
       "<Figure size 720x144 with 1 Axes>"
      ]
     },
     "metadata": {
      "needs_background": "light"
     },
     "output_type": "display_data"
    }
   ],
   "source": [
    "for i in range(1):\n",
    "    fig = plt.figure(figsize=(10, 2))\n",
    "    plt.plot(noise_fP_pred[i], color='m', label='pred')\n",
    "    plt.plot(noise_fP_truth[i], color='blue', label='truth')\n",
    "    plt.legend()\n",
    "    plt.show()"
   ]
  },
  {
   "cell_type": "code",
   "execution_count": 19,
   "metadata": {},
   "outputs": [],
   "source": [
    "max_adc_noise_fP = [max(wave) for wave in noise_fP_pred]"
   ]
  },
  {
   "cell_type": "code",
   "execution_count": 20,
   "metadata": {},
   "outputs": [
    {
     "data": {
      "image/png": "[encoded data removed]",
      "text/plain": [
       "<Figure size 864x432 with 1 Axes>"
      ]
     },
     "metadata": {
      "needs_background": "light"
     },
     "output_type": "display_data"
    }
   ],
   "source": [
    "fig = plt.figure(figsize=(12, 6))\n",
    "plt.hist(max_adc_noise_fP, bins=100, color='blue')\n",
    "plt.title('max adc dist. of noise fPs (total: ' + str(len(max_adc_noise_fP)) + ')', size=15)\n",
    "plt.xlabel('ADC', size=12)\n",
    "plt.ylabel('counts', size=12)\n",
    "plt.show()"
   ]
  },
  {
   "cell_type": "code",
   "execution_count": 21,
   "metadata": {},
   "outputs": [
    {
     "name": "stdout",
     "output_type": "stream",
     "text": [
      "4230\n"
     ]
    }
   ],
   "source": [
    "count = sum(1 for val in max_adc_noise_fP if val <= 3)\n",
    "print(count)"
   ]
  },
  {
   "cell_type": "code",
   "execution_count": 22,
   "metadata": {},
   "outputs": [
    {
     "data": {
      "text/plain": [
       "0.04338"
      ]
     },
     "execution_count": 22,
     "metadata": {},
     "output_type": "execute_result"
    }
   ],
   "source": [
    "2169/50000"
   ]
  },
  {
   "cell_type": "code",
   "execution_count": 23,
   "metadata": {},
   "outputs": [
    {
     "data": {
      "text/plain": [
       "50000"
      ]
     },
     "execution_count": 23,
     "metadata": {},
     "output_type": "execute_result"
    }
   ],
   "source": [
    "len(signal_present_pred)"
   ]
  },
  {
   "cell_type": "code",
   "execution_count": 24,
   "metadata": {},
   "outputs": [],
   "source": [
    "#signal_present_pred\n",
    "#signal_present_truth\n",
    "\n",
    "signal_fN_pred = []\n",
    "signal_fN_truth = []\n",
    "\n",
    "remain_pred = []\n",
    "remain_truth = []\n",
    "\n",
    "for i in range(len(signal_present_pred)):\n",
    "    if np.std(signal_present_pred[i]) == 0 and np.std(signal_present_truth[i]) != 0:\n",
    "        signal_fN_pred.append(signal_present_pred[i])\n",
    "        signal_fN_truth.append(signal_present_truth[i])\n",
    "    else:\n",
    "        remain_pred.append(signal_present_pred[i])\n",
    "        remain_truth.append(signal_present_truth[i])"
   ]
  },
  {
   "cell_type": "code",
   "execution_count": 25,
   "metadata": {},
   "outputs": [
    {
     "name": "stdout",
     "output_type": "stream",
     "text": [
      "9687 40313\n"
     ]
    }
   ],
   "source": [
    "print(len(signal_fN_pred), len(remain_pred))"
   ]
  },
  {
   "cell_type": "code",
   "execution_count": 26,
   "metadata": {},
   "outputs": [
    {
     "data": {
      "image/png": "[encoded data removed]",
      "text/plain": [
       "<Figure size 720x144 with 1 Axes>"
      ]
     },
     "metadata": {
      "needs_background": "light"
     },
     "output_type": "display_data"
    }
   ],
   "source": [
    "for i in range(1):\n",
    "    fig = plt.figure(figsize=(10, 2))\n",
    "    plt.plot(signal_fN_pred[i], color='m', label='pred')\n",
    "    plt.plot(signal_fN_truth[i], color='blue', label='truth')\n",
    "    plt.legend()\n",
    "    plt.show()"
   ]
  },
  {
   "cell_type": "code",
   "execution_count": 27,
   "metadata": {},
   "outputs": [],
   "source": [
    "max_adc_signal_fN = [max(wave) for wave in signal_fN_truth]"
   ]
  },
  {
   "cell_type": "code",
   "execution_count": 28,
   "metadata": {},
   "outputs": [
    {
     "data": {
      "image/png": "[encoded data removed]",
      "text/plain": [
       "<Figure size 864x432 with 1 Axes>"
      ]
     },
     "metadata": {
      "needs_background": "light"
     },
     "output_type": "display_data"
    }
   ],
   "source": [
    "fig = plt.figure(figsize=(12, 6))\n",
    "plt.hist(max_adc_signal_fN, bins=100, color='blue')\n",
    "plt.title('max adc dist. of signal false negatives (total: ' + str(len(max_adc_signal_fN)) + ')', size=15)\n",
    "plt.xlabel('ADC', size=12)\n",
    "plt.ylabel('counts', size=12)\n",
    "plt.show()"
   ]
  },
  {
   "cell_type": "code",
   "execution_count": 29,
   "metadata": {},
   "outputs": [
    {
     "name": "stdout",
     "output_type": "stream",
     "text": [
      "9509\n"
     ]
    }
   ],
   "source": [
    "print(sum(1 for val in max_adc_signal_fN if val < 20))"
   ]
  },
  {
   "attachments": {},
   "cell_type": "markdown",
   "metadata": {},
   "source": [
    "________________________"
   ]
  },
  {
   "cell_type": "code",
   "execution_count": 30,
   "metadata": {},
   "outputs": [
    {
     "data": {
      "image/png": "[encoded data removed]",
      "text/plain": [
       "<Figure size 720x144 with 1 Axes>"
      ]
     },
     "metadata": {
      "needs_background": "light"
     },
     "output_type": "display_data"
    },
    {
     "data": {
      "image/png": "[encoded data removed]",
      "text/plain": [
       "<Figure size 720x144 with 1 Axes>"
      ]
     },
     "metadata": {
      "needs_background": "light"
     },
     "output_type": "display_data"
    },
    {
     "data": {
      "image/png": "[encoded data removed]",
      "text/plain": [
       "<Figure size 720x144 with 1 Axes>"
      ]
     },
     "metadata": {
      "needs_background": "light"
     },
     "output_type": "display_data"
    }
   ],
   "source": [
    "for i in range(3):\n",
    "    fig = plt.figure(figsize=(10, 2))\n",
    "    plt.plot(remain_pred[i], color='m', label='pred')\n",
    "    plt.plot(remain_truth[i], color='blue', label='truth')\n",
    "    plt.legend()\n",
    "    plt.show()"
   ]
  },
  {
   "cell_type": "code",
   "execution_count": 31,
   "metadata": {},
   "outputs": [],
   "source": [
    "max_adcs_remain = [max(wave) for wave in remain_truth]"
   ]
  },
  {
   "cell_type": "code",
   "execution_count": 32,
   "metadata": {},
   "outputs": [
    {
     "data": {
      "image/png": "[encoded data removed]",
      "text/plain": [
       "<Figure size 864x432 with 1 Axes>"
      ]
     },
     "metadata": {
      "needs_background": "light"
     },
     "output_type": "display_data"
    }
   ],
   "source": [
    "fig = plt.figure(figsize=(12, 6))\n",
    "plt.hist(max_adcs_remain, bins=100, color='blue')\n",
    "plt.title('max adc dist. of -- (total: ' + str(len(max_adcs_remain)) + ')', size=15)\n",
    "plt.xlabel('ADC', size=12)\n",
    "plt.ylabel('counts', size=12)\n",
    "plt.show()"
   ]
  },
  {
   "cell_type": "code",
   "execution_count": 33,
   "metadata": {},
   "outputs": [
    {
     "name": "stdout",
     "output_type": "stream",
     "text": [
      "12934\n"
     ]
    }
   ],
   "source": [
    "print(sum(1 for val in max_adcs_remain if val < 20))"
   ]
  },
  {
   "cell_type": "code",
   "execution_count": 34,
   "metadata": {},
   "outputs": [],
   "source": [
    "max_adcs_test = [max(wave) for wave in y_test_]"
   ]
  },
  {
   "cell_type": "code",
   "execution_count": 35,
   "metadata": {},
   "outputs": [
    {
     "data": {
      "image/png": "[encoded data removed]",
      "text/plain": [
       "<Figure size 864x432 with 1 Axes>"
      ]
     },
     "metadata": {
      "needs_background": "light"
     },
     "output_type": "display_data"
    }
   ],
   "source": [
    "fig = plt.figure(figsize=(12, 6))\n",
    "plt.hist(max_adcs_test, bins=100, color='blue')\n",
    "plt.title('max adc dist. of -- (total: ' + str(len(max_adcs_test)) + ')', size=15)\n",
    "plt.xlabel('ADC', size=12)\n",
    "plt.ylabel('counts', size=12)\n",
    "plt.show()"
   ]
  },
  {
   "cell_type": "code",
   "execution_count": 36,
   "metadata": {},
   "outputs": [
    {
     "name": "stdout",
     "output_type": "stream",
     "text": [
      "22443\n"
     ]
    }
   ],
   "source": [
    "print(sum(1 for val in max_adcs_test if val < 20 and val !=0))"
   ]
  },
  {
   "cell_type": "code",
   "execution_count": 37,
   "metadata": {},
   "outputs": [
    {
     "name": "stdout",
     "output_type": "stream",
     "text": [
      "3006\n"
     ]
    }
   ],
   "source": [
    "max_adcs_remain_pred = [max(wave) for wave in remain_pred]\n",
    "count = sum(1 for val in max_adcs_remain_pred if val <= 3)\n",
    "print(count)"
   ]
  },
  {
   "cell_type": "code",
   "execution_count": null,
   "metadata": {},
   "outputs": [],
   "source": []
  }
 ],
 "metadata": {
  "kernelspec": {
   "display_name": "Python 3",
   "language": "python",
   "name": "python3"
  },
  "language_info": {
   "codemirror_mode": {
    "name": "ipython",
    "version": 3
   },
   "file_extension": ".py",
   "mimetype": "text/x-python",
   "name": "python",
   "nbconvert_exporter": "python",
   "pygments_lexer": "ipython3",
   "version": "3.9.5"
  },
  "orig_nbformat": 4
 },
 "nbformat": 4,
 "nbformat_minor": 2
}
