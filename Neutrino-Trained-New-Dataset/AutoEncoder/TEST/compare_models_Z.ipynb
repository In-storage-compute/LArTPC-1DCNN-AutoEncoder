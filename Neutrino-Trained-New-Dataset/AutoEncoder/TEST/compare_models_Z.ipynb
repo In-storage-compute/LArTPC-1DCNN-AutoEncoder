{
 "cells": [
  {
   "cell_type": "markdown",
   "metadata": {},
   "source": [
    "In this notebook, we evaluate the AutoEncoder at different ADC ranges"
   ]
  },
  {
   "cell_type": "code",
   "execution_count": 1,
   "metadata": {},
   "outputs": [
    {
     "name": "stderr",
     "output_type": "stream",
     "text": [
      "2023-04-23 23:07:32.666778: I tensorflow/core/util/port.cc:110] oneDNN custom operations are on. You may see slightly different numerical results due to floating-point round-off errors from different computation orders. To turn them off, set the environment variable `TF_ENABLE_ONEDNN_OPTS=0`.\n",
      "2023-04-23 23:07:32.668493: I tensorflow/tsl/cuda/cudart_stub.cc:28] Could not find cuda drivers on your machine, GPU will not be used.\n",
      "2023-04-23 23:07:32.699199: I tensorflow/tsl/cuda/cudart_stub.cc:28] Could not find cuda drivers on your machine, GPU will not be used.\n",
      "2023-04-23 23:07:32.699707: I tensorflow/core/platform/cpu_feature_guard.cc:182] This TensorFlow binary is optimized to use available CPU instructions in performance-critical operations.\n",
      "To enable the following instructions: AVX2 AVX512F AVX512_VNNI FMA, in other operations, rebuild TensorFlow with the appropriate compiler flags.\n",
      "2023-04-23 23:07:33.190346: W tensorflow/compiler/tf2tensorrt/utils/py_utils.cc:38] TF-TRT Warning: Could not find TensorRT\n"
     ]
    }
   ],
   "source": [
    "import sys\n",
    "import numpy as np\n",
    "import matplotlib.pyplot as plt\n",
    "import tensorflow as tf\n",
    "from tensorflow import keras \n",
    "from sklearn.model_selection import train_test_split\n",
    "from tensorflow.keras.models import load_model\n",
    "from sklearn.metrics import roc_curve\n",
    "from sklearn.metrics import auc\n",
    "import math\n",
    "import tqdm\n",
    "from PyPDF2 import PdfMerger\n",
    "import os\n",
    "from os import listdir\n",
    "from os.path import isfile, join"
   ]
  },
  {
   "cell_type": "code",
   "execution_count": 2,
   "metadata": {},
   "outputs": [],
   "source": [
    "wireplane = 'Z'\n",
    "path = '../../processed_data/current/'\n",
    "np.random.seed(42)"
   ]
  },
  {
   "cell_type": "markdown",
   "metadata": {},
   "source": [
    "Load testing set"
   ]
  },
  {
   "cell_type": "code",
   "execution_count": 3,
   "metadata": {},
   "outputs": [],
   "source": [
    "x_test = np.load('../../processed_data/current/x_test_' + wireplane + '.npy')\n",
    "y_test = np.load('../../processed_data/current/y_test_AE_' + wireplane + '.npy')\n",
    "\n",
    "\n",
    "mean = np.load('../results/'+wireplane+'/models/mean_AE_'+wireplane+'.npy')\n",
    "std = np.load('../results/'+wireplane+'/models/std_AE_'+wireplane+'.npy')"
   ]
  },
  {
   "cell_type": "code",
   "execution_count": 4,
   "metadata": {},
   "outputs": [],
   "source": [
    "x_test_scaled = (x_test-mean)/std\n",
    "y_test_scaled = (y_test-mean)/std"
   ]
  },
  {
   "cell_type": "markdown",
   "metadata": {},
   "source": [
    "_______________________________________________________________________________________________________________________________"
   ]
  },
  {
   "cell_type": "markdown",
   "metadata": {},
   "source": [
    "Load trained model"
   ]
  },
  {
   "cell_type": "code",
   "execution_count": 5,
   "metadata": {},
   "outputs": [],
   "source": [
    "def custom_mse2(y_true, y_pred):\n",
    "\n",
    "    return -1"
   ]
  },
  {
   "cell_type": "code",
   "execution_count": 6,
   "metadata": {},
   "outputs": [],
   "source": [
    "cnn = load_model('../../latest_models/model_Uplane_nu.h5')\n",
    "\n",
    "ae1_0 = load_model('../results/' + wireplane + '/models/batch_size1_epochs_100_w1_1-w2_dot7_' + wireplane + 'plane_nu.h5', custom_objects={'custom_mse2':custom_mse2})\n",
    "ae1_1 = load_model('../results/' + wireplane + '/models/batch_size1_CHECK_' + wireplane + 'plane_nu.h5', custom_objects={'custom_mse2':custom_mse2})\n",
    "ae2048 = load_model('../results/' + wireplane + '/models/batch_size2048_epochs_100_w1_1-w2_dot7_' + wireplane + 'plane_nu.h5', custom_objects={'custom_mse2':custom_mse2})\n",
    "\n"
   ]
  },
  {
   "cell_type": "code",
   "execution_count": 7,
   "metadata": {},
   "outputs": [
    {
     "data": {
      "text/plain": [
       "True"
      ]
     },
     "execution_count": 7,
     "metadata": {},
     "output_type": "execute_result"
    }
   ],
   "source": [
    "tf.executing_eagerly()"
   ]
  },
  {
   "cell_type": "code",
   "execution_count": 8,
   "metadata": {},
   "outputs": [
    {
     "name": "stdout",
     "output_type": "stream",
     "text": [
      "25/25 [==============================] - 0s 12ms/step\n"
     ]
    }
   ],
   "source": [
    "cnn_pred = cnn.predict(x_test_scaled, batch_size=4096)\n",
    "cnn_pred = cnn_pred.squeeze()"
   ]
  },
  {
   "cell_type": "markdown",
   "metadata": {},
   "source": [
    "### let's see what the MSE is at the region where signal exists"
   ]
  },
  {
   "cell_type": "code",
   "execution_count": null,
   "metadata": {},
   "outputs": [],
   "source": []
  },
  {
   "cell_type": "code",
   "execution_count": 9,
   "metadata": {},
   "outputs": [
    {
     "name": "stdout",
     "output_type": "stream",
     "text": [
      "25/25 [==============================] - 1s 35ms/step\n",
      "25/25 [==============================] - 1s 33ms/step\n",
      "25/25 [==============================] - 1s 33ms/step\n",
      "CPU times: user 10.2 s, sys: 187 ms, total: 10.4 s\n",
      "Wall time: 3.07 s\n"
     ]
    }
   ],
   "source": [
    "%%time\n",
    "\n",
    "predictions1_0 = ae1_0.predict(x_test_scaled, batch_size=4096)\n",
    "predictions1_0 = predictions1_0.reshape(predictions1_0.shape[0], predictions1_0.shape[1])\n",
    "\n",
    "predictions1_1= ae1_1.predict(x_test_scaled, batch_size=4096)\n",
    "predictions1_1 = predictions1_1.reshape(predictions1_1.shape[0], predictions1_1.shape[1])\n",
    "\n",
    "predictions2048 = ae2048.predict(x_test_scaled, batch_size=4096)\n",
    "predictions2048 = predictions2048.reshape(predictions2048.shape[0], predictions2048.shape[1])"
   ]
  },
  {
   "cell_type": "code",
   "execution_count": 10,
   "metadata": {},
   "outputs": [],
   "source": [
    "x_test_ = std*x_test_scaled+mean\n",
    "y_test_ = y_test_ = y_test_scaled*std + mean"
   ]
  },
  {
   "cell_type": "markdown",
   "metadata": {},
   "source": [
    "Plot predicted wave on top of target and input"
   ]
  },
  {
   "cell_type": "code",
   "execution_count": 11,
   "metadata": {},
   "outputs": [],
   "source": [
    "pred1_0 = predictions1_0*std + mean\n",
    "pred1_1 = predictions1_1*std + mean\n",
    "pred2048 = predictions2048*std + mean"
   ]
  },
  {
   "cell_type": "code",
   "execution_count": 12,
   "metadata": {},
   "outputs": [
    {
     "data": {
      "text/plain": [
       "0.17154531"
      ]
     },
     "execution_count": 12,
     "metadata": {},
     "output_type": "execute_result"
    }
   ],
   "source": [
    "cnn_pred[0]"
   ]
  },
  {
   "cell_type": "markdown",
   "metadata": {},
   "source": [
    "### DEBUG -- apply ADC-CUT"
   ]
  },
  {
   "cell_type": "markdown",
   "metadata": {},
   "source": [
    "save plots to PDF - only saving model 5, best so far"
   ]
  },
  {
   "cell_type": "code",
   "execution_count": 13,
   "metadata": {},
   "outputs": [],
   "source": [
    "def make_single_pdf(wave_idx, pg_num, min_cnn, max_cnn):\n",
    "\n",
    "    fig, axs = plt.subplots(3,2, figsize=(30, 18), facecolor='w', edgecolor='k')\n",
    "    fig.subplots_adjust(hspace = .375, wspace=.1)\n",
    "\n",
    "    axes = axs.ravel()\n",
    "\n",
    "    for i in range(6):\n",
    "        index_ = i + wave_idx\n",
    "        max_adc = int((max(x_test_[index_])))\n",
    "        \n",
    "        if not (max_adc < 20 and cnn_pred[index_] > min_cnn and cnn_pred[index_] <= max_cnn and sum(y_test_[index_]) != 0):\n",
    "            while True:\n",
    "                index_ += 1\n",
    "                max_adc = int((max(x_test_[index_])))\n",
    "                \n",
    "                if (max_adc < 20 and cnn_pred[index_] > min_cnn and cnn_pred[index_] <= max_cnn and sum(y_test_[index_]) != 0):\n",
    "                    break\n",
    "        wave_idx = index_\n",
    "\n",
    "\n",
    "        #axes[i].plot(x_test_[index_], color='black',alpha=0.2, label = 'original input (adc_max: ' + str(max_adc) + ')')\n",
    "        axes[i].plot(y_test_[index_],color='blue', label='target', alpha=1)\n",
    "        #axes[i].plot(pred1_0[index_],color='m',alpha=0.9, label='pred1_0')\n",
    "        #axes[i].plot(pred10[index_],color='m',alpha=0.9, label='model_10')\n",
    "        axes[i].plot(pred1_1[index_],color='green',alpha=0.7, label='pred1_1')\n",
    "        axes[i].plot(pred2048[index_],color='red',alpha=1, label='pred2048')\n",
    "        #axes[i].plot(pred256[index_],alpha=0.9, label='model_256')\n",
    "        #axes[i].plot(pred512[index_],alpha=0.9, label='model_512')\n",
    "        #axes[i].plot(pred1024[index_],alpha=0.9, label='model_1024')\n",
    "        axes[i].legend(fontsize=12)\n",
    "        axes[i].set_title('CNN output: ' + str(round(cnn_pred[index_], 4)) + ' --- [idx: ' + str(index_) + ']', size=15)\n",
    "        axes[i].set_ylabel('ADC', size=12)\n",
    "\n",
    "\n",
    "    plt.savefig('pdfs/tmp_plts/plts_cnn_page' + str(pg_num) +  '.pdf',\n",
    "                dpi=300,\n",
    "                bbox_inches='tight', pad_inches=0.75)\n",
    "    plt.close()\n",
    "\n",
    "    return wave_idx"
   ]
  },
  {
   "cell_type": "code",
   "execution_count": 14,
   "metadata": {},
   "outputs": [],
   "source": [
    "# creates and merges pdf, removes all single page pdfs from tmp folder\n",
    "def make_complete_pdf(num_pages, min_cnn, max_cnn):\n",
    "    wave_idx_ = 0\n",
    "    page_num = 0\n",
    "\n",
    "    while page_num < num_pages:\n",
    "        wave_idx_ = make_single_pdf(wave_idx_, page_num, min_cnn, max_cnn) + 1\n",
    "        page_num += 1\n",
    "\n",
    "    merger = PdfMerger()\n",
    "    path = 'pdfs/tmp_plts/'\n",
    "    pdf_files = [path+f for f in listdir(path) if (isfile(join(path, f)))]\n",
    "    print(pdf_files)\n",
    "    for pdf_file in pdf_files:\n",
    "        #Append PDF files\n",
    "        merger.append(pdf_file)\n",
    "    merger.write('pdfs/plts_tmp/plts_' + wireplane + '_cnn_'+str(int(min_cnn*100)) + '-' + str(int(max_cnn*100)) + '_' + str(num_pages) +  'pages.pdf')\n",
    "    #merger.write('pdfs/'+wireplane+'/plts_' + wireplane + '_cnn_'+str(int(min_cnn*100)) + '-' + str(int(max_cnn*100)) + '_' + str(num_pages) +  'pages.pdf')\n",
    "    merger.close()\n",
    "\n",
    "    for file in pdf_files:\n",
    "        os.remove(file)"
   ]
  },
  {
   "cell_type": "code",
   "execution_count": 15,
   "metadata": {},
   "outputs": [
    {
     "name": "stdout",
     "output_type": "stream",
     "text": [
      "['pdfs/tmp_plts/plts_cnn_page2.pdf', 'pdfs/tmp_plts/plts_cnn_page1.pdf', 'pdfs/tmp_plts/plts_cnn_page9.pdf', 'pdfs/tmp_plts/plts_cnn_page4.pdf', 'pdfs/tmp_plts/plts_cnn_page6.pdf', 'pdfs/tmp_plts/plts_cnn_page0.pdf', 'pdfs/tmp_plts/plts_cnn_page7.pdf', 'pdfs/tmp_plts/plts_cnn_page3.pdf', 'pdfs/tmp_plts/plts_cnn_page8.pdf', 'pdfs/tmp_plts/plts_cnn_page5.pdf']\n"
     ]
    }
   ],
   "source": [
    "make_complete_pdf(10, 0.94, 1)"
   ]
  },
  {
   "cell_type": "code",
   "execution_count": 16,
   "metadata": {},
   "outputs": [
    {
     "name": "stdout",
     "output_type": "stream",
     "text": [
      "['pdfs/tmp_plts/plts_cnn_page2.pdf', 'pdfs/tmp_plts/plts_cnn_page1.pdf', 'pdfs/tmp_plts/plts_cnn_page9.pdf', 'pdfs/tmp_plts/plts_cnn_page4.pdf', 'pdfs/tmp_plts/plts_cnn_page6.pdf', 'pdfs/tmp_plts/plts_cnn_page0.pdf', 'pdfs/tmp_plts/plts_cnn_page7.pdf', 'pdfs/tmp_plts/plts_cnn_page3.pdf', 'pdfs/tmp_plts/plts_cnn_page8.pdf', 'pdfs/tmp_plts/plts_cnn_page5.pdf']\n",
      "['pdfs/tmp_plts/plts_cnn_page2.pdf', 'pdfs/tmp_plts/plts_cnn_page1.pdf', 'pdfs/tmp_plts/plts_cnn_page9.pdf', 'pdfs/tmp_plts/plts_cnn_page4.pdf', 'pdfs/tmp_plts/plts_cnn_page6.pdf', 'pdfs/tmp_plts/plts_cnn_page0.pdf', 'pdfs/tmp_plts/plts_cnn_page7.pdf', 'pdfs/tmp_plts/plts_cnn_page3.pdf', 'pdfs/tmp_plts/plts_cnn_page8.pdf', 'pdfs/tmp_plts/plts_cnn_page5.pdf']\n",
      "['pdfs/tmp_plts/plts_cnn_page2.pdf', 'pdfs/tmp_plts/plts_cnn_page1.pdf', 'pdfs/tmp_plts/plts_cnn_page9.pdf', 'pdfs/tmp_plts/plts_cnn_page4.pdf', 'pdfs/tmp_plts/plts_cnn_page6.pdf', 'pdfs/tmp_plts/plts_cnn_page0.pdf', 'pdfs/tmp_plts/plts_cnn_page7.pdf', 'pdfs/tmp_plts/plts_cnn_page3.pdf', 'pdfs/tmp_plts/plts_cnn_page8.pdf', 'pdfs/tmp_plts/plts_cnn_page5.pdf']\n",
      "['pdfs/tmp_plts/plts_cnn_page2.pdf', 'pdfs/tmp_plts/plts_cnn_page1.pdf', 'pdfs/tmp_plts/plts_cnn_page9.pdf', 'pdfs/tmp_plts/plts_cnn_page4.pdf', 'pdfs/tmp_plts/plts_cnn_page6.pdf', 'pdfs/tmp_plts/plts_cnn_page0.pdf', 'pdfs/tmp_plts/plts_cnn_page7.pdf', 'pdfs/tmp_plts/plts_cnn_page3.pdf', 'pdfs/tmp_plts/plts_cnn_page8.pdf', 'pdfs/tmp_plts/plts_cnn_page5.pdf']\n",
      "['pdfs/tmp_plts/plts_cnn_page2.pdf', 'pdfs/tmp_plts/plts_cnn_page1.pdf', 'pdfs/tmp_plts/plts_cnn_page9.pdf', 'pdfs/tmp_plts/plts_cnn_page4.pdf', 'pdfs/tmp_plts/plts_cnn_page6.pdf', 'pdfs/tmp_plts/plts_cnn_page0.pdf', 'pdfs/tmp_plts/plts_cnn_page7.pdf', 'pdfs/tmp_plts/plts_cnn_page3.pdf', 'pdfs/tmp_plts/plts_cnn_page8.pdf', 'pdfs/tmp_plts/plts_cnn_page5.pdf']\n"
     ]
    }
   ],
   "source": [
    "min_ = 0.94\n",
    "prev = min_\n",
    "max_ = 1\n",
    "while min_ > 0:\n",
    "    min_ = min_ - 0.2 \n",
    "    make_complete_pdf(10, min_, prev)\n",
    "    prev = min_\n"
   ]
  },
  {
   "cell_type": "markdown",
   "metadata": {},
   "source": [
    "## ----------------------------------------------------------------------------"
   ]
  },
  {
   "cell_type": "markdown",
   "metadata": {},
   "source": [
    "#### generate plots of model's prediction on top of input & clean target (ADC CUT APPLIED)"
   ]
  },
  {
   "cell_type": "code",
   "execution_count": 17,
   "metadata": {},
   "outputs": [
    {
     "ename": "NameError",
     "evalue": "name 'pred9' is not defined",
     "output_type": "error",
     "traceback": [
      "\u001b[0;31m---------------------------------------------------------------------------\u001b[0m",
      "\u001b[0;31mNameError\u001b[0m                                 Traceback (most recent call last)",
      "Cell \u001b[0;32mIn[17], line 14\u001b[0m\n\u001b[1;32m      7\u001b[0m ax1\u001b[39m.\u001b[39mplot(x_test_[idx], color\u001b[39m=\u001b[39m\u001b[39m'\u001b[39m\u001b[39mblack\u001b[39m\u001b[39m'\u001b[39m,alpha\u001b[39m=\u001b[39m\u001b[39m0.2\u001b[39m, label \u001b[39m=\u001b[39m \u001b[39m'\u001b[39m\u001b[39moriginal input (adc_max: \u001b[39m\u001b[39m'\u001b[39m \u001b[39m+\u001b[39m \u001b[39mstr\u001b[39m(max_adc) \u001b[39m+\u001b[39m \u001b[39m'\u001b[39m\u001b[39m)\u001b[39m\u001b[39m'\u001b[39m)\n\u001b[1;32m      9\u001b[0m \u001b[39m#ax1.plot(pred0[idx],color='m',alpha=0.5, label='model_0')\u001b[39;00m\n\u001b[1;32m     10\u001b[0m \u001b[39m#ax1.plot(pred1[idx],color='g',alpha=0.3, label='model_1')\u001b[39;00m\n\u001b[1;32m     11\u001b[0m \u001b[39m#ax1.plot(pred2[idx],color='r',alpha=0.3, label='model_2')\u001b[39;00m\n\u001b[1;32m     12\u001b[0m \u001b[39m#ax1.plot(pred3[idx],color='yellow',alpha=0.3, label='model_3')\u001b[39;00m\n\u001b[1;32m     13\u001b[0m \u001b[39m#ax1.plot(pred4[idx],color='orange',alpha=0.5, label='model_4')\u001b[39;00m\n\u001b[0;32m---> 14\u001b[0m ax1\u001b[39m.\u001b[39mplot(pred9[idx],color\u001b[39m=\u001b[39m\u001b[39m'\u001b[39m\u001b[39mm\u001b[39m\u001b[39m'\u001b[39m,alpha\u001b[39m=\u001b[39m\u001b[39m0.5\u001b[39m, label\u001b[39m=\u001b[39m\u001b[39m'\u001b[39m\u001b[39mmodel_9\u001b[39m\u001b[39m'\u001b[39m)\n\u001b[1;32m     15\u001b[0m ax1\u001b[39m.\u001b[39mplot(pred10[idx],color\u001b[39m=\u001b[39m\u001b[39m'\u001b[39m\u001b[39mgreen\u001b[39m\u001b[39m'\u001b[39m,alpha\u001b[39m=\u001b[39m\u001b[39m0.5\u001b[39m, label\u001b[39m=\u001b[39m\u001b[39m'\u001b[39m\u001b[39mmodel_10\u001b[39m\u001b[39m'\u001b[39m)\n\u001b[1;32m     16\u001b[0m \u001b[39m#ax1.plot(pred6[idx],color='r',alpha=0.3, label='model_6')\u001b[39;00m\n",
      "\u001b[0;31mNameError\u001b[0m: name 'pred9' is not defined"
     ]
    },
    {
     "data": {
      "image/png": "[encoded data removed]",
      "text/plain": [
       "<Figure size 1500x400 with 1 Axes>"
      ]
     },
     "metadata": {},
     "output_type": "display_data"
    }
   ],
   "source": [
    "for idx in range(1000):\n",
    "    max_adc = int((max(x_test_[idx])))\n",
    "    if sum(y_test_scaled[idx]) != 0:\n",
    "        if max_adc < 20 and cnn_pred[idx] > 0.94:\n",
    "            fig, (ax1) = plt.subplots(figsize=(15, 4), facecolor='white')\n",
    "            ax1.plot(y_test_[idx],color='blue', label='target', alpha=1)\n",
    "            ax1.plot(x_test_[idx], color='black',alpha=0.2, label = 'original input (adc_max: ' + str(max_adc) + ')')\n",
    "\n",
    "            #ax1.plot(pred0[idx],color='m',alpha=0.5, label='model_0')\n",
    "            #ax1.plot(pred1[idx],color='g',alpha=0.3, label='model_1')\n",
    "            #ax1.plot(pred2[idx],color='r',alpha=0.3, label='model_2')\n",
    "            #ax1.plot(pred3[idx],color='yellow',alpha=0.3, label='model_3')\n",
    "            #ax1.plot(pred4[idx],color='orange',alpha=0.5, label='model_4')\n",
    "            ax1.plot(pred9[idx],color='m',alpha=0.5, label='model_9')\n",
    "            ax1.plot(pred10[idx],color='green',alpha=0.5, label='model_10')\n",
    "            #ax1.plot(pred6[idx],color='r',alpha=0.3, label='model_6')\n",
    "            \n",
    "            \n",
    "            ax1.set_title(\"cnn output: \" + str(round(cnn_pred[idx], 4)), fontsize=15)\n",
    "            ax1.legend()\n",
    "            #filename = 'plane_u_AE_plots_ADC_MAX_15_no_noise/'+str(idx)+'.png' \n",
    "            #plt.savefig(filename, facecolor='w'\n",
    "            plt.show()"
   ]
  },
  {
   "cell_type": "markdown",
   "metadata": {},
   "source": [
    "### DEBUG -- apply ADC-CUT -- NOT DONE"
   ]
  },
  {
   "cell_type": "markdown",
   "metadata": {},
   "source": [
    "-----------------------------------------------------------------------------"
   ]
  },
  {
   "cell_type": "code",
   "execution_count": null,
   "metadata": {},
   "outputs": [],
   "source": []
  }
 ],
 "metadata": {
  "kernelspec": {
   "display_name": "tf",
   "language": "python",
   "name": "python3"
  },
  "language_info": {
   "codemirror_mode": {
    "name": "ipython",
    "version": 3
   },
   "file_extension": ".py",
   "mimetype": "text/x-python",
   "name": "python",
   "nbconvert_exporter": "python",
   "pygments_lexer": "ipython3",
   "version": "3.9.16"
  }
 },
 "nbformat": 4,
 "nbformat_minor": 4
}
