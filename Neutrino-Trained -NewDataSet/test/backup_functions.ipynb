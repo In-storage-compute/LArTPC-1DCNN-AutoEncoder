{
 "cells": [
  {
   "cell_type": "code",
   "execution_count": null,
   "metadata": {},
   "outputs": [],
   "source": [
    "# helper to calculate mse of segments or full wave\n",
    "def calculate_single_mse_helper(seqment_wave, seqment_pred_wave):\n",
    "    single_mse = np.mean((seqment_wave-seqment_pred_wave)**2)\n",
    "    return single_mse\n",
    "def calculate_single_mse(expected, prediction, wave_ranges):\n",
    "    print(str(wave_ranges))\n",
    "    mse = 0\n",
    "    print(\"full window :\", calculate_single_mse_helper(expected, prediction))\n",
    "    if sum(expected) == 0:\n",
    "        mse = calculate_single_mse_helper(expected, prediction)\n",
    "    else:\n",
    "        expected_waves = []\n",
    "        pred_waves = []\n",
    "        mses = []\n",
    "\n",
    "        for range_ in wave_ranges:\n",
    "            expected_wave = expected[range_[0]:range_[1]]\n",
    "            pred_wave = prediction[range_[0]:range_[1]]\n",
    "            curr_mse = calculate_single_mse_helper(expected_wave, pred_wave)\n",
    "            mses.append(curr_mse)\n",
    "            print(\"signal region: \", curr_mse)\n",
    "            \n",
    "        mse = sum(mses)\n",
    "        print(\"sum: \", mse)\n",
    "    return mse "
   ]
  }
 ],
 "metadata": {
  "kernelspec": {
   "display_name": "tf",
   "language": "python",
   "name": "python3"
  },
  "language_info": {
   "name": "python",
   "version": "3.9.13 | packaged by conda-forge | (main, May 27 2022, 16:51:29) [MSC v.1929 64 bit (AMD64)]"
  },
  "orig_nbformat": 4,
  "vscode": {
   "interpreter": {
    "hash": "0953303bb76e642cf0da4dd84c14ec5ff8cbb4c1b534b77010e5be534f549796"
   }
  }
 },
 "nbformat": 4,
 "nbformat_minor": 2
}
