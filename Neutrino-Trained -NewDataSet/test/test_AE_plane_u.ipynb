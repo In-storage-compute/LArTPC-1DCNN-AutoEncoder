{
 "cells": [
  {
   "attachments": {},
   "cell_type": "markdown",
   "metadata": {},
   "source": [
    "In this notebook, we evaluate the AutoEncoder at different ADC ranges"
   ]
  },
  {
   "cell_type": "code",
   "execution_count": 1,
   "metadata": {},
   "outputs": [],
   "source": [
    "import sys\n",
    "import numpy as np\n",
    "import matplotlib.pyplot as plt\n",
    "import tensorflow as tf\n",
    "from tensorflow import keras \n",
    "from sklearn.model_selection import train_test_split\n",
    "from tensorflow.keras.models import load_model\n",
    "from sklearn.metrics import roc_curve\n",
    "from sklearn.metrics import auc"
   ]
  },
  {
   "cell_type": "code",
   "execution_count": 2,
   "metadata": {},
   "outputs": [],
   "source": [
    "wireplane = 'U'\n",
    "np.random.seed(42)\n",
    "\n",
    "def filter_signal_ADC(data, clean_data, adc_value, filter_by_max):\n",
    "    data_wf = []\n",
    "    clean_wf = []\n",
    "    for i in range(clean_data.shape[0]):\n",
    "        if filter_by_max:\n",
    "            if max(clean_data[i]) < adc_value or sum(clean_data[i]) == 0:\n",
    "                data_wf.append(data[i])\n",
    "                clean_wf.append(clean_data[i])\n",
    "        else:\n",
    "            if max(clean_data[i]) > adc_value or sum(clean_data[i]) == 0:\n",
    "                data_wf.append(data[i])\n",
    "                clean_wf.append(clean_data[i])\n",
    "    data_wf = np.array(data_wf)\n",
    "    clean_wf = np.array(clean_wf)\n",
    "    return data_wf, clean_wf"
   ]
  },
  {
   "cell_type": "markdown",
   "metadata": {},
   "source": [
    "Load testing set"
   ]
  },
  {
   "cell_type": "code",
   "execution_count": 3,
   "metadata": {},
   "outputs": [],
   "source": [
    "x_test = np.load('../processed_data/x_test_' + wireplane + '.npy')\n",
    "y_test = np.load('../processed_data/y_test_AE_' + wireplane + '.npy')\n",
    "mean = np.load('../latest_models/mean_' + wireplane + '_nu.npy')\n",
    "std = np.load('../latest_models/scale_' + wireplane + '_nu.npy')"
   ]
  },
  {
   "cell_type": "code",
   "execution_count": 4,
   "metadata": {},
   "outputs": [],
   "source": [
    "x_test_scaled = (x_test-mean)/std\n",
    "y_test_scaled = (y_test-mean)/std"
   ]
  },
  {
   "attachments": {},
   "cell_type": "markdown",
   "metadata": {},
   "source": [
    "Load trained model"
   ]
  },
  {
   "cell_type": "code",
   "execution_count": 5,
   "metadata": {},
   "outputs": [],
   "source": [
    "autoencoder = load_model('../latest_models/model_AE_' + wireplane + 'plane_nu.h5')"
   ]
  },
  {
   "cell_type": "code",
   "execution_count": 6,
   "metadata": {},
   "outputs": [
    {
     "name": "stdout",
     "output_type": "stream",
     "text": [
      "25/25 [==============================] - 7s 17ms/step - loss: 0.0672\n"
     ]
    },
    {
     "data": {
      "text/plain": [
       "0.0671805590391159"
      ]
     },
     "execution_count": 6,
     "metadata": {},
     "output_type": "execute_result"
    }
   ],
   "source": [
    "autoencoder.evaluate(x_test_scaled, y_test_scaled, batch_size=4096)"
   ]
  },
  {
   "attachments": {},
   "cell_type": "markdown",
   "metadata": {},
   "source": [
    "### let's see what the MSE is at the region where signal exists"
   ]
  },
  {
   "cell_type": "code",
   "execution_count": 10,
   "metadata": {},
   "outputs": [
    {
     "name": "stdout",
     "output_type": "stream",
     "text": [
      "25/25 [==============================] - 0s 19ms/step\n",
      "Wall time: 760 ms\n"
     ]
    }
   ],
   "source": [
    "%%time\n",
    "prediction = autoencoder.predict(x_test_scaled, batch_size=4096)\n",
    "prediction = prediction.reshape(prediction.shape[0], prediction.shape[1])"
   ]
  },
  {
   "cell_type": "code",
   "execution_count": 11,
   "metadata": {},
   "outputs": [
    {
     "name": "stdout",
     "output_type": "stream",
     "text": [
      "MSE for entire range: 0.06718056442345544\n"
     ]
    }
   ],
   "source": [
    "# calculate MSE for the entire range\n",
    "mse = np.mean((y_test_scaled - prediction)**2)\n",
    "print(\"MSE for entire range:\", mse)"
   ]
  },
  {
   "cell_type": "code",
   "execution_count": null,
   "metadata": {},
   "outputs": [],
   "source": []
  }
 ],
 "metadata": {
  "kernelspec": {
   "display_name": "tf",
   "language": "python",
   "name": "python3"
  },
  "language_info": {
   "codemirror_mode": {
    "name": "ipython",
    "version": 3
   },
   "file_extension": ".py",
   "mimetype": "text/x-python",
   "name": "python",
   "nbconvert_exporter": "python",
   "pygments_lexer": "ipython3",
   "version": "3.9.13"
  },
  "orig_nbformat": 4,
  "vscode": {
   "interpreter": {
    "hash": "0953303bb76e642cf0da4dd84c14ec5ff8cbb4c1b534b77010e5be534f549796"
   }
  }
 },
 "nbformat": 4,
 "nbformat_minor": 2
}
