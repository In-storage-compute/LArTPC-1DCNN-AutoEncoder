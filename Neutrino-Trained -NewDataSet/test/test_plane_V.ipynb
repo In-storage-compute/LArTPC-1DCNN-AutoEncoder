{
 "cells": [
  {
   "cell_type": "markdown",
   "metadata": {},
   "source": [
    "In this notebook, we evaluate the 1D-CNN ROI finder at different ADC ranges"
   ]
  },
  {
   "cell_type": "code",
   "execution_count": 1,
   "metadata": {},
   "outputs": [],
   "source": [
    "import sys\n",
    "import numpy as np\n",
    "import matplotlib.pyplot as plt\n",
    "import tensorflow as tf\n",
    "from tensorflow import keras \n",
    "from sklearn.model_selection import train_test_split\n",
    "from tensorflow.keras.models import load_model\n",
    "from sklearn.metrics import roc_curve\n",
    "from sklearn.metrics import auc"
   ]
  },
  {
   "cell_type": "code",
   "execution_count": 2,
   "metadata": {},
   "outputs": [],
   "source": [
    "wireplane = 'V'\n",
    "np.random.seed(42)\n",
    "\n",
    "def filter_signal_ADC(data, clean_data, roi_targets, adc_value, filter_by_max):\n",
    "    data_wf = []\n",
    "    clean_wf = []\n",
    "    roi_tar = []\n",
    "    for i in range(clean_data.shape[0]):\n",
    "        if filter_by_max:\n",
    "            if max(clean_data[i]) < adc_value or sum(clean_data[i]) == 0:\n",
    "                data_wf.append(data[i])\n",
    "                clean_wf.append(clean_data[i])\n",
    "                roi_tar.append(roi_targets[i])\n",
    "        else:\n",
    "            if max(clean_data[i]) > adc_value or sum(clean_data[i]) == 0:\n",
    "                data_wf.append(data[i])\n",
    "                clean_wf.append(clean_data[i])\n",
    "                roi_tar.append(roi_targets[i])\n",
    "    data_wf = np.array(data_wf)\n",
    "    clean_wf = np.array(clean_wf)\n",
    "    roi_tar = np.array(roi_tar)\n",
    "    return data_wf, clean_wf, roi_tar"
   ]
  },
  {
   "cell_type": "markdown",
   "metadata": {},
   "source": [
    "Load testing set"
   ]
  },
  {
   "cell_type": "code",
   "execution_count": 3,
   "metadata": {},
   "outputs": [],
   "source": [
    "x_test = np.load('../processed_data/x_test_' + wireplane + '.npy')\n",
    "y_test = np.load('../processed_data/y_test_ROI_' + wireplane + '.npy')\n",
    "mean = np.load('../latest_models/mean_' + wireplane + '_nu.npy')\n",
    "std = np.load('../latest_models/scale_' + wireplane + '_nu.npy')"
   ]
  },
  {
   "cell_type": "code",
   "execution_count": 4,
   "metadata": {},
   "outputs": [
    {
     "name": "stdout",
     "output_type": "stream",
     "text": [
      "(100000, 200) <class 'numpy.ndarray'>\n"
     ]
    }
   ],
   "source": [
    "print(x_test.shape, type(x_test))"
   ]
  },
  {
   "cell_type": "markdown",
   "metadata": {},
   "source": [
    "Load trained model"
   ]
  },
  {
   "cell_type": "code",
   "execution_count": 5,
   "metadata": {},
   "outputs": [],
   "source": [
    "model = load_model('../latest_models/model_' + wireplane + 'plane_nu.h5')"
   ]
  },
  {
   "cell_type": "markdown",
   "metadata": {},
   "source": [
    "Evaluate model with full testing set"
   ]
  },
  {
   "cell_type": "markdown",
   "metadata": {},
   "source": [
    "## Below we evaluate testing set with ADC cuts. Note all ADC at the moment are > 3"
   ]
  },
  {
   "cell_type": "code",
   "execution_count": 6,
   "metadata": {},
   "outputs": [],
   "source": [
    "# need to load clean data test set meant for the AE in order to perform ADC CUTS\n",
    "full_test_clean = np.load('../processed_data/y_test_AE_' + wireplane + '.npy')"
   ]
  },
  {
   "cell_type": "markdown",
   "metadata": {},
   "source": [
    "New development"
   ]
  },
  {
   "cell_type": "code",
   "execution_count": 7,
   "metadata": {},
   "outputs": [],
   "source": [
    "# adc_max = 0 means no max cut is applied\n",
    "def eval_cut_(full_test_clean, x_test, adc_min, adc_max):\n",
    "    full_test = x_test\n",
    "    print(x_test.shape, y_test.shape)\n",
    "\n",
    "    test_, clean_, y_test_ =  filter_signal_ADC(full_test, full_test_clean, y_test, adc_min, False)\n",
    "    print(test_.shape, y_test_.shape)\n",
    "    if adc_max != 0:\n",
    "        test_, clean_, y_test_ =  filter_signal_ADC(test_, clean_, y_test_, adc_max, True)\n",
    "    print(test_.shape, y_test_.shape)\n",
    "    \n",
    "    x_test_scaled = (test_-mean)/std\n",
    "    all_infer = model.predict(x_test_scaled, batch_size=4096)\n",
    "    all_y_test = y_test_\n",
    "    fpr_keras, tpr_keras, thresholds_keras = roc_curve(all_y_test, all_infer)\n",
    "\n",
    "    fpr_keras, tpr_keras, thresholds_keras = roc_curve(all_y_test, all_infer)\n",
    "    plt.figure(figsize=(8, 6))  \n",
    "    plt.plot(fpr_keras, tpr_keras, label='auc: ' + str(round(auc(fpr_keras, tpr_keras), 3)))\n",
    "    \n",
    "    if adc_max == 0:\n",
    "        plt.title(\"ROC Curve - Test Dataset Plane \" + wireplane + ' (ADC > ' + str(adc_min) + ')' )\n",
    "    else:\n",
    "        plt.title(\"ROC Curve - Test Dataset Plane \" + wireplane +  ' (' + str(adc_min) + ' < ADC < ' + str(adc_max) + ')' )\n",
    "    plt.xlabel(\"False Positive Rate\")\n",
    "    plt.ylabel(\"True Positive Rate\")\n",
    "    plt.legend(loc='center')\n",
    "    \n",
    "    if adc_max == 0:\n",
    "        filename = '../roc_curves/'+ wireplane + '/plane_' + wireplane + '_roc_adc_gt_'+str(adc_min)+'.png'\n",
    "    else:\n",
    "        filename = '../roc_curves/'+ wireplane + '/plane_' + wireplane + '_roc_adc_' + str(adc_min) + '-' + str(adc_max) + '.png'\n",
    "    plt.savefig(filename, facecolor='w')\n",
    "    #plt.show()\n",
    "    plt.close()"
   ]
  },
  {
   "cell_type": "code",
   "execution_count": 8,
   "metadata": {},
   "outputs": [
    {
     "name": "stdout",
     "output_type": "stream",
     "text": [
      "(100000, 200) (100000,)\n",
      "(100000, 200) (100000,)\n",
      "(100000, 200) (100000,)\n",
      "25/25 [==============================] - 7s 27ms/step\n",
      "(100000, 200) (100000,)\n",
      "(96954, 200) (96954,)\n",
      "(96954, 200) (96954,)\n",
      "24/24 [==============================] - 0s 7ms/step\n",
      "(100000, 200) (100000,)\n",
      "(94692, 200) (94692,)\n",
      "(94692, 200) (94692,)\n",
      "24/24 [==============================] - 0s 10ms/step\n",
      "(100000, 200) (100000,)\n",
      "(92725, 200) (92725,)\n",
      "(92725, 200) (92725,)\n",
      "23/23 [==============================] - 0s 3ms/step\n",
      "(100000, 200) (100000,)\n",
      "(91086, 200) (91086,)\n",
      "(91086, 200) (91086,)\n",
      "23/23 [==============================] - 0s 9ms/step\n",
      "(100000, 200) (100000,)\n",
      "(89633, 200) (89633,)\n",
      "(89633, 200) (89633,)\n",
      "22/22 [==============================] - 0s 11ms/step\n",
      "(100000, 200) (100000,)\n",
      "(88363, 200) (88363,)\n",
      "(88363, 200) (88363,)\n",
      "22/22 [==============================] - 0s 6ms/step\n",
      "(100000, 200) (100000,)\n",
      "(87284, 200) (87284,)\n",
      "(87284, 200) (87284,)\n",
      "22/22 [==============================] - 0s 13ms/step\n",
      "(100000, 200) (100000,)\n",
      "(86265, 200) (86265,)\n",
      "(86265, 200) (86265,)\n",
      "22/22 [==============================] - 0s 12ms/step\n",
      "(100000, 200) (100000,)\n",
      "(85322, 200) (85322,)\n",
      "(85322, 200) (85322,)\n",
      "21/21 [==============================] - 0s 7ms/step\n",
      "(100000, 200) (100000,)\n",
      "(84470, 200) (84470,)\n",
      "(84470, 200) (84470,)\n",
      "21/21 [==============================] - 0s 12ms/step\n",
      "(100000, 200) (100000,)\n",
      "(83666, 200) (83666,)\n",
      "(83666, 200) (83666,)\n",
      "21/21 [==============================] - 0s 9ms/step\n",
      "(100000, 200) (100000,)\n",
      "(82888, 200) (82888,)\n",
      "(82888, 200) (82888,)\n",
      "21/21 [==============================] - 0s 7ms/step\n"
     ]
    }
   ],
   "source": [
    "for i in range(3, 16):\n",
    "    eval_cut_(full_test_clean, x_test, i, 0)"
   ]
  },
  {
   "cell_type": "code",
   "execution_count": 9,
   "metadata": {},
   "outputs": [
    {
     "name": "stdout",
     "output_type": "stream",
     "text": [
      "(100000, 200) (100000,)\n",
      "(100000, 200) (100000,)\n",
      "(50396, 200) (50396,)\n",
      "13/13 [==============================] - 0s 14ms/step\n",
      "(100000, 200) (100000,)\n",
      "(100000, 200) (100000,)\n",
      "(53442, 200) (53442,)\n",
      "14/14 [==============================] - 0s 19ms/step\n",
      "(100000, 200) (100000,)\n",
      "(100000, 200) (100000,)\n",
      "(55704, 200) (55704,)\n",
      "14/14 [==============================] - 0s 21ms/step\n",
      "(100000, 200) (100000,)\n",
      "(100000, 200) (100000,)\n",
      "(57671, 200) (57671,)\n",
      "15/15 [==============================] - 0s 22ms/step\n",
      "(100000, 200) (100000,)\n",
      "(100000, 200) (100000,)\n",
      "(59310, 200) (59310,)\n",
      "15/15 [==============================] - 0s 6ms/step\n",
      "(100000, 200) (100000,)\n",
      "(100000, 200) (100000,)\n",
      "(60763, 200) (60763,)\n",
      "15/15 [==============================] - 0s 3ms/step\n",
      "(100000, 200) (100000,)\n",
      "(100000, 200) (100000,)\n",
      "(62033, 200) (62033,)\n",
      "16/16 [==============================] - 0s 3ms/step\n",
      "(100000, 200) (100000,)\n",
      "(100000, 200) (100000,)\n",
      "(63112, 200) (63112,)\n",
      "16/16 [==============================] - 0s 19ms/step\n",
      "(100000, 200) (100000,)\n",
      "(100000, 200) (100000,)\n",
      "(64131, 200) (64131,)\n",
      "16/16 [==============================] - 0s 14ms/step\n",
      "(100000, 200) (100000,)\n",
      "(100000, 200) (100000,)\n",
      "(65074, 200) (65074,)\n",
      "16/16 [==============================] - 0s 14ms/step\n",
      "(100000, 200) (100000,)\n",
      "(100000, 200) (100000,)\n",
      "(65926, 200) (65926,)\n",
      "17/17 [==============================] - 0s 18ms/step\n",
      "(100000, 200) (100000,)\n",
      "(100000, 200) (100000,)\n",
      "(66730, 200) (66730,)\n",
      "17/17 [==============================] - 0s 17ms/step\n"
     ]
    }
   ],
   "source": [
    "for i in range(12):\n",
    "    eval_cut_(full_test_clean, x_test, 3, 4 + i)"
   ]
  },
  {
   "cell_type": "code",
   "execution_count": 10,
   "metadata": {},
   "outputs": [
    {
     "name": "stdout",
     "output_type": "stream",
     "text": [
      "(100000, 200) (100000,)\n",
      "(100000, 200) (100000,)\n",
      "(66730, 200) (66730,)\n",
      "17/17 [==============================] - 0s 13ms/step\n",
      "(100000, 200) (100000,)\n",
      "(96954, 200) (96954,)\n",
      "(63684, 200) (63684,)\n",
      "16/16 [==============================] - 0s 20ms/step\n",
      "(100000, 200) (100000,)\n",
      "(94692, 200) (94692,)\n",
      "(61422, 200) (61422,)\n",
      "15/15 [==============================] - 0s 13ms/step\n",
      "(100000, 200) (100000,)\n",
      "(92725, 200) (92725,)\n",
      "(59455, 200) (59455,)\n",
      "15/15 [==============================] - 0s 17ms/step\n",
      "(100000, 200) (100000,)\n",
      "(91086, 200) (91086,)\n",
      "(57816, 200) (57816,)\n",
      "15/15 [==============================] - 0s 9ms/step\n",
      "(100000, 200) (100000,)\n",
      "(89633, 200) (89633,)\n",
      "(56363, 200) (56363,)\n",
      "14/14 [==============================] - 0s 26ms/step\n",
      "(100000, 200) (100000,)\n",
      "(88363, 200) (88363,)\n",
      "(55093, 200) (55093,)\n",
      "14/14 [==============================] - 0s 21ms/step\n",
      "(100000, 200) (100000,)\n",
      "(87284, 200) (87284,)\n",
      "(54014, 200) (54014,)\n",
      "14/14 [==============================] - 0s 20ms/step\n",
      "(100000, 200) (100000,)\n",
      "(86265, 200) (86265,)\n",
      "(52995, 200) (52995,)\n",
      "13/13 [==============================] - 0s 18ms/step\n",
      "(100000, 200) (100000,)\n",
      "(85322, 200) (85322,)\n",
      "(52052, 200) (52052,)\n",
      "13/13 [==============================] - 0s 30ms/step\n",
      "(100000, 200) (100000,)\n",
      "(84470, 200) (84470,)\n",
      "(51200, 200) (51200,)\n",
      "13/13 [==============================] - 0s 16ms/step\n",
      "(100000, 200) (100000,)\n",
      "(83666, 200) (83666,)\n",
      "(50396, 200) (50396,)\n",
      "13/13 [==============================] - 0s 14ms/step\n"
     ]
    }
   ],
   "source": [
    "for i in range(12):\n",
    "    eval_cut_(full_test_clean, x_test, 3+i, 15)"
   ]
  },
  {
   "cell_type": "code",
   "execution_count": null,
   "metadata": {},
   "outputs": [],
   "source": []
  },
  {
   "cell_type": "code",
   "execution_count": null,
   "metadata": {},
   "outputs": [],
   "source": []
  }
 ],
 "metadata": {
  "kernelspec": {
   "display_name": "Python 3.9.13 ('tf')",
   "language": "python",
   "name": "python3"
  },
  "language_info": {
   "codemirror_mode": {
    "name": "ipython",
    "version": 3
   },
   "file_extension": ".py",
   "mimetype": "text/x-python",
   "name": "python",
   "nbconvert_exporter": "python",
   "pygments_lexer": "ipython3",
   "version": "3.9.13 | packaged by conda-forge | (main, May 27 2022, 16:51:29) [MSC v.1929 64 bit (AMD64)]"
  },
  "orig_nbformat": 4,
  "vscode": {
   "interpreter": {
    "hash": "0953303bb76e642cf0da4dd84c14ec5ff8cbb4c1b534b77010e5be534f549796"
   }
  }
 },
 "nbformat": 4,
 "nbformat_minor": 2
}
