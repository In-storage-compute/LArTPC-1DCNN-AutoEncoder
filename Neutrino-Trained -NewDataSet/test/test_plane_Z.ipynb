{
 "cells": [
  {
   "cell_type": "markdown",
   "metadata": {},
   "source": [
    "In this notebook, we evaluate the 1D-CNN ROI finder at different ADC ranges"
   ]
  },
  {
   "cell_type": "code",
   "execution_count": 1,
   "metadata": {},
   "outputs": [],
   "source": [
    "import sys\n",
    "import numpy as np\n",
    "import matplotlib.pyplot as plt\n",
    "import tensorflow as tf\n",
    "from tensorflow import keras \n",
    "from sklearn.model_selection import train_test_split\n",
    "from tensorflow.keras.models import load_model\n",
    "from sklearn.metrics import roc_curve\n",
    "from sklearn.metrics import auc"
   ]
  },
  {
   "cell_type": "code",
   "execution_count": 2,
   "metadata": {},
   "outputs": [],
   "source": [
    "wireplane = 'Z'\n",
    "np.random.seed(42)\n",
    "\n",
    "def filter_signal_ADC(data, clean_data, roi_targets, adc_value, filter_by_max):\n",
    "    data_wf = []\n",
    "    clean_wf = []\n",
    "    roi_tar = []\n",
    "    for i in range(clean_data.shape[0]):\n",
    "        if filter_by_max:\n",
    "            if max(clean_data[i]) < adc_value or sum(clean_data[i]) == 0:\n",
    "                data_wf.append(data[i])\n",
    "                clean_wf.append(clean_data[i])\n",
    "                roi_tar.append(roi_targets[i])\n",
    "        else:\n",
    "            if max(clean_data[i]) > adc_value or sum(clean_data[i]) == 0:\n",
    "                data_wf.append(data[i])\n",
    "                clean_wf.append(clean_data[i])\n",
    "                roi_tar.append(roi_targets[i])\n",
    "    data_wf = np.array(data_wf)\n",
    "    clean_wf = np.array(clean_wf)\n",
    "    roi_tar = np.array(roi_tar)\n",
    "    return data_wf, clean_wf, roi_tar"
   ]
  },
  {
   "cell_type": "markdown",
   "metadata": {},
   "source": [
    "Load testing set"
   ]
  },
  {
   "cell_type": "code",
   "execution_count": 3,
   "metadata": {},
   "outputs": [],
   "source": [
    "x_test = np.load('../processed_data/x_test_' + wireplane + '.npy')\n",
    "y_test = np.load('../processed_data/y_test_ROI_' + wireplane + '.npy')\n",
    "mean = np.load('../latest_models/mean_' + wireplane + '_nu.npy')\n",
    "std = np.load('../latest_models/scale_' + wireplane + '_nu.npy')"
   ]
  },
  {
   "cell_type": "code",
   "execution_count": 4,
   "metadata": {},
   "outputs": [
    {
     "name": "stdout",
     "output_type": "stream",
     "text": [
      "(100000, 200) <class 'numpy.ndarray'>\n"
     ]
    }
   ],
   "source": [
    "print(x_test.shape, type(x_test))"
   ]
  },
  {
   "cell_type": "markdown",
   "metadata": {},
   "source": [
    "Load trained model"
   ]
  },
  {
   "cell_type": "code",
   "execution_count": 5,
   "metadata": {},
   "outputs": [],
   "source": [
    "model = load_model('../latest_models/model_' + wireplane + 'plane_nu.h5')"
   ]
  },
  {
   "cell_type": "markdown",
   "metadata": {},
   "source": [
    "Evaluate model with full testing set"
   ]
  },
  {
   "cell_type": "markdown",
   "metadata": {},
   "source": [
    "## Below we evaluate testing set with ADC cuts. Note all ADC at the moment are > 3"
   ]
  },
  {
   "cell_type": "code",
   "execution_count": 6,
   "metadata": {},
   "outputs": [],
   "source": [
    "# need to load clean data test set meant for the AE in order to perform ADC CUTS\n",
    "full_test_clean = np.load('../processed_data/y_test_AE_' + wireplane + '.npy')"
   ]
  },
  {
   "cell_type": "markdown",
   "metadata": {},
   "source": [
    "New development"
   ]
  },
  {
   "cell_type": "code",
   "execution_count": 7,
   "metadata": {},
   "outputs": [],
   "source": [
    "# adc_max = 0 means no max cut is applied\n",
    "def eval_cut_(full_test_clean, x_test, adc_min, adc_max):\n",
    "    full_test = x_test\n",
    "    print(x_test.shape, y_test.shape)\n",
    "\n",
    "    test_, clean_, y_test_ =  filter_signal_ADC(full_test, full_test_clean, y_test, adc_min, False)\n",
    "    print(test_.shape, y_test_.shape)\n",
    "    if adc_max != 0:\n",
    "        test_, clean_, y_test_ =  filter_signal_ADC(test_, clean_, y_test_, adc_max, True)\n",
    "    print(test_.shape, y_test_.shape)\n",
    "    \n",
    "    x_test_scaled = (test_-mean)/std\n",
    "    all_infer = model.predict(x_test_scaled, batch_size=4096)\n",
    "    all_y_test = y_test_\n",
    "    fpr_keras, tpr_keras, thresholds_keras = roc_curve(all_y_test, all_infer)\n",
    "\n",
    "    fpr_keras, tpr_keras, thresholds_keras = roc_curve(all_y_test, all_infer)\n",
    "    plt.figure(figsize=(8, 6))  \n",
    "    plt.plot(fpr_keras, tpr_keras, label='auc: ' + str(round(auc(fpr_keras, tpr_keras), 3)))\n",
    "    \n",
    "    if adc_max == 0:\n",
    "        plt.title(\"ROC Curve - Test Dataset Plane \" + wireplane + ' (ADC > ' + str(adc_min) + ')' )\n",
    "    else:\n",
    "        plt.title(\"ROC Curve - Test Dataset Plane \" + wireplane +  ' (' + str(adc_min) + ' < ADC < ' + str(adc_max) + ')' )\n",
    "    plt.xlabel(\"False Positive Rate\")\n",
    "    plt.ylabel(\"True Positive Rate\")\n",
    "    plt.legend(loc='center')\n",
    "    \n",
    "    if adc_max == 0:\n",
    "        filename = '../roc_curves/'+ wireplane + '/plane_' + wireplane + '_roc_adc_gt_'+str(adc_min)+'.png'\n",
    "    else:\n",
    "        filename = '../roc_curves/'+ wireplane + '/plane_' + wireplane + '_roc_adc_' + str(adc_min) + '-' + str(adc_max) + '.png'\n",
    "    plt.savefig(filename, facecolor='w')\n",
    "    #plt.show()\n",
    "    plt.close()"
   ]
  },
  {
   "cell_type": "code",
   "execution_count": 8,
   "metadata": {},
   "outputs": [
    {
     "name": "stdout",
     "output_type": "stream",
     "text": [
      "(100000, 200) (100000,)\n",
      "(100000, 200) (100000,)\n",
      "(100000, 200) (100000,)\n",
      "25/25 [==============================] - 8s 2ms/step\n",
      "(100000, 200) (100000,)\n",
      "(96230, 200) (96230,)\n",
      "(96230, 200) (96230,)\n",
      "24/24 [==============================] - 0s 2ms/step\n",
      "(100000, 200) (100000,)\n",
      "(93169, 200) (93169,)\n",
      "(93169, 200) (93169,)\n",
      "23/23 [==============================] - 0s 11ms/step\n",
      "(100000, 200) (100000,)\n",
      "(90669, 200) (90669,)\n",
      "(90669, 200) (90669,)\n",
      "23/23 [==============================] - 0s 5ms/step\n",
      "(100000, 200) (100000,)\n",
      "(88534, 200) (88534,)\n",
      "(88534, 200) (88534,)\n",
      "22/22 [==============================] - 0s 9ms/step\n",
      "(100000, 200) (100000,)\n",
      "(86753, 200) (86753,)\n",
      "(86753, 200) (86753,)\n",
      "22/22 [==============================] - 0s 12ms/step\n",
      "(100000, 200) (100000,)\n",
      "(85312, 200) (85312,)\n",
      "(85312, 200) (85312,)\n",
      "21/21 [==============================] - 0s 14ms/step\n",
      "(100000, 200) (100000,)\n",
      "(84016, 200) (84016,)\n",
      "(84016, 200) (84016,)\n",
      "21/21 [==============================] - 0s 11ms/step\n",
      "(100000, 200) (100000,)\n",
      "(82873, 200) (82873,)\n",
      "(82873, 200) (82873,)\n",
      "21/21 [==============================] - 0s 5ms/step\n",
      "(100000, 200) (100000,)\n",
      "(81924, 200) (81924,)\n",
      "(81924, 200) (81924,)\n",
      "21/21 [==============================] - 0s 15ms/step\n",
      "(100000, 200) (100000,)\n",
      "(81081, 200) (81081,)\n",
      "(81081, 200) (81081,)\n",
      "20/20 [==============================] - 0s 13ms/step\n",
      "(100000, 200) (100000,)\n",
      "(80322, 200) (80322,)\n",
      "(80322, 200) (80322,)\n",
      "20/20 [==============================] - 0s 6ms/step\n",
      "(100000, 200) (100000,)\n",
      "(79681, 200) (79681,)\n",
      "(79681, 200) (79681,)\n",
      "20/20 [==============================] - 0s 13ms/step\n"
     ]
    }
   ],
   "source": [
    "for i in range(3, 16):\n",
    "    eval_cut_(full_test_clean, x_test, i, 0)"
   ]
  },
  {
   "cell_type": "code",
   "execution_count": 9,
   "metadata": {},
   "outputs": [
    {
     "name": "stdout",
     "output_type": "stream",
     "text": [
      "(100000, 200) (100000,)\n",
      "(100000, 200) (100000,)\n",
      "(50092, 200) (50092,)\n",
      "13/13 [==============================] - 0s 8ms/step\n",
      "(100000, 200) (100000,)\n",
      "(100000, 200) (100000,)\n",
      "(53862, 200) (53862,)\n",
      "14/14 [==============================] - 0s 13ms/step\n",
      "(100000, 200) (100000,)\n",
      "(100000, 200) (100000,)\n",
      "(56923, 200) (56923,)\n",
      "14/14 [==============================] - 0s 22ms/step\n",
      "(100000, 200) (100000,)\n",
      "(100000, 200) (100000,)\n",
      "(59423, 200) (59423,)\n",
      "15/15 [==============================] - 0s 15ms/step\n",
      "(100000, 200) (100000,)\n",
      "(100000, 200) (100000,)\n",
      "(61558, 200) (61558,)\n",
      "16/16 [==============================] - 0s 16ms/step\n",
      "(100000, 200) (100000,)\n",
      "(100000, 200) (100000,)\n",
      "(63339, 200) (63339,)\n",
      "16/16 [==============================] - 0s 15ms/step\n",
      "(100000, 200) (100000,)\n",
      "(100000, 200) (100000,)\n",
      "(64780, 200) (64780,)\n",
      "16/16 [==============================] - 0s 13ms/step\n",
      "(100000, 200) (100000,)\n",
      "(100000, 200) (100000,)\n",
      "(66076, 200) (66076,)\n",
      "17/17 [==============================] - 0s 12ms/step\n",
      "(100000, 200) (100000,)\n",
      "(100000, 200) (100000,)\n",
      "(67219, 200) (67219,)\n",
      "17/17 [==============================] - 0s 15ms/step\n",
      "(100000, 200) (100000,)\n",
      "(100000, 200) (100000,)\n",
      "(68168, 200) (68168,)\n",
      "17/17 [==============================] - 0s 9ms/step\n",
      "(100000, 200) (100000,)\n",
      "(100000, 200) (100000,)\n",
      "(69011, 200) (69011,)\n",
      "17/17 [==============================] - 0s 16ms/step\n",
      "(100000, 200) (100000,)\n",
      "(100000, 200) (100000,)\n",
      "(69770, 200) (69770,)\n",
      "18/18 [==============================] - 0s 8ms/step\n"
     ]
    }
   ],
   "source": [
    "for i in range(12):\n",
    "    eval_cut_(full_test_clean, x_test, 3, 4 + i)"
   ]
  },
  {
   "cell_type": "code",
   "execution_count": 10,
   "metadata": {},
   "outputs": [
    {
     "name": "stdout",
     "output_type": "stream",
     "text": [
      "(100000, 200) (100000,)\n",
      "(100000, 200) (100000,)\n",
      "(69770, 200) (69770,)\n",
      "18/18 [==============================] - 0s 9ms/step\n",
      "(100000, 200) (100000,)\n",
      "(96230, 200) (96230,)\n",
      "(66000, 200) (66000,)\n",
      "17/17 [==============================] - 0s 2ms/step\n",
      "(100000, 200) (100000,)\n",
      "(93169, 200) (93169,)\n",
      "(62939, 200) (62939,)\n",
      "16/16 [==============================] - 0s 17ms/step\n",
      "(100000, 200) (100000,)\n",
      "(90669, 200) (90669,)\n",
      "(60439, 200) (60439,)\n",
      "15/15 [==============================] - 0s 8ms/step\n",
      "(100000, 200) (100000,)\n",
      "(88534, 200) (88534,)\n",
      "(58304, 200) (58304,)\n",
      "15/15 [==============================] - 0s 12ms/step\n",
      "(100000, 200) (100000,)\n",
      "(86753, 200) (86753,)\n",
      "(56523, 200) (56523,)\n",
      "14/14 [==============================] - 0s 15ms/step\n",
      "(100000, 200) (100000,)\n",
      "(85312, 200) (85312,)\n",
      "(55082, 200) (55082,)\n",
      "14/14 [==============================] - 0s 15ms/step\n",
      "(100000, 200) (100000,)\n",
      "(84016, 200) (84016,)\n",
      "(53786, 200) (53786,)\n",
      "14/14 [==============================] - 0s 19ms/step\n",
      "(100000, 200) (100000,)\n",
      "(82873, 200) (82873,)\n",
      "(52643, 200) (52643,)\n",
      "13/13 [==============================] - 0s 8ms/step\n",
      "(100000, 200) (100000,)\n",
      "(81924, 200) (81924,)\n",
      "(51694, 200) (51694,)\n",
      "13/13 [==============================] - 0s 28ms/step\n",
      "(100000, 200) (100000,)\n",
      "(81081, 200) (81081,)\n",
      "(50851, 200) (50851,)\n",
      "13/13 [==============================] - 0s 17ms/step\n",
      "(100000, 200) (100000,)\n",
      "(80322, 200) (80322,)\n",
      "(50092, 200) (50092,)\n",
      "13/13 [==============================] - 0s 21ms/step\n"
     ]
    }
   ],
   "source": [
    "for i in range(12):\n",
    "    eval_cut_(full_test_clean, x_test, 3+i, 15)"
   ]
  },
  {
   "cell_type": "code",
   "execution_count": null,
   "metadata": {},
   "outputs": [],
   "source": []
  },
  {
   "cell_type": "code",
   "execution_count": null,
   "metadata": {},
   "outputs": [],
   "source": []
  }
 ],
 "metadata": {
  "kernelspec": {
   "display_name": "Python 3.9.13 ('tf')",
   "language": "python",
   "name": "python3"
  },
  "language_info": {
   "codemirror_mode": {
    "name": "ipython",
    "version": 3
   },
   "file_extension": ".py",
   "mimetype": "text/x-python",
   "name": "python",
   "nbconvert_exporter": "python",
   "pygments_lexer": "ipython3",
   "version": "3.9.13"
  },
  "orig_nbformat": 4,
  "vscode": {
   "interpreter": {
    "hash": "0953303bb76e642cf0da4dd84c14ec5ff8cbb4c1b534b77010e5be534f549796"
   }
  }
 },
 "nbformat": 4,
 "nbformat_minor": 2
}
