{
 "cells": [
  {
   "cell_type": "markdown",
   "metadata": {},
   "source": [
    "In this notebook, we evaluate the 1D-CNN ROI finder at different ADC ranges"
   ]
  },
  {
   "cell_type": "code",
   "execution_count": 1,
   "metadata": {},
   "outputs": [],
   "source": [
    "import sys\n",
    "import numpy as np\n",
    "import matplotlib.pyplot as plt\n",
    "import tensorflow as tf\n",
    "from tensorflow import keras \n",
    "from sklearn.model_selection import train_test_split\n",
    "from tensorflow.keras.models import load_model\n",
    "from sklearn.metrics import roc_curve\n",
    "from sklearn.metrics import auc"
   ]
  },
  {
   "cell_type": "code",
   "execution_count": 2,
   "metadata": {},
   "outputs": [],
   "source": [
    "wireplane = 'U'\n",
    "np.random.seed(42)\n",
    "\n",
    "def filter_signal_ADC(data, clean_data, roi_targets, adc_value, filter_by_max):\n",
    "    data_wf = []\n",
    "    clean_wf = []\n",
    "    roi_tar = []\n",
    "    for i in range(clean_data.shape[0]):\n",
    "        if filter_by_max:\n",
    "            if max(clean_data[i]) < adc_value or sum(clean_data[i]) == 0:\n",
    "                data_wf.append(data[i])\n",
    "                clean_wf.append(clean_data[i])\n",
    "                roi_tar.append(roi_targets[i])\n",
    "        else:\n",
    "            if max(clean_data[i]) > adc_value or sum(clean_data[i]) == 0:\n",
    "                data_wf.append(data[i])\n",
    "                clean_wf.append(clean_data[i])\n",
    "                roi_tar.append(roi_targets[i])\n",
    "    data_wf = np.array(data_wf)\n",
    "    clean_wf = np.array(clean_wf)\n",
    "    roi_tar = np.array(roi_tar)\n",
    "    return data_wf, clean_wf, roi_tar"
   ]
  },
  {
   "cell_type": "markdown",
   "metadata": {},
   "source": [
    "Load testing set"
   ]
  },
  {
   "cell_type": "code",
   "execution_count": 3,
   "metadata": {},
   "outputs": [],
   "source": [
    "x_test = np.load('../processed_data/x_test_' + wireplane + '.npy')\n",
    "y_test = np.load('../processed_data/y_test_ROI_' + wireplane + '.npy')\n",
    "mean = np.load('../latest_models/mean_' + wireplane + '_nu.npy')\n",
    "std = np.load('../latest_models/scale_' + wireplane + '_nu.npy')"
   ]
  },
  {
   "cell_type": "code",
   "execution_count": 4,
   "metadata": {},
   "outputs": [
    {
     "name": "stdout",
     "output_type": "stream",
     "text": [
      "(100000, 200) <class 'numpy.ndarray'>\n"
     ]
    }
   ],
   "source": [
    "print(x_test.shape, type(x_test))"
   ]
  },
  {
   "cell_type": "markdown",
   "metadata": {},
   "source": [
    "Load trained model"
   ]
  },
  {
   "cell_type": "code",
   "execution_count": 5,
   "metadata": {},
   "outputs": [],
   "source": [
    "model = load_model('../latest_models/model_' + wireplane + 'plane_nu.h5')"
   ]
  },
  {
   "cell_type": "markdown",
   "metadata": {},
   "source": [
    "Evaluate model with full testing set"
   ]
  },
  {
   "cell_type": "markdown",
   "metadata": {},
   "source": [
    "## Below we evaluate testing set with ADC cuts. Note all ADC at the moment are > 3"
   ]
  },
  {
   "cell_type": "code",
   "execution_count": 6,
   "metadata": {},
   "outputs": [],
   "source": [
    "# need to load clean data test set meant for the AE in order to perform ADC CUTS\n",
    "full_test_clean = np.load('../processed_data/y_test_AE_' + wireplane + '.npy')"
   ]
  },
  {
   "cell_type": "markdown",
   "metadata": {},
   "source": [
    "New development"
   ]
  },
  {
   "cell_type": "code",
   "execution_count": 9,
   "metadata": {},
   "outputs": [],
   "source": [
    "# adc_max = 0 means no max cut is applied\n",
    "def eval_cut_(full_test_clean, x_test, adc_min, adc_max):\n",
    "    full_test = x_test\n",
    "    print(x_test.shape, y_test.shape)\n",
    "\n",
    "    test_, clean_, y_test_ =  filter_signal_ADC(full_test, full_test_clean, y_test, adc_min, False)\n",
    "    print(test_.shape, y_test_.shape)\n",
    "    if adc_max != 0:\n",
    "        test_, clean_, y_test_ =  filter_signal_ADC(test_, clean_, y_test_, adc_max, True)\n",
    "    print(test_.shape, y_test_.shape)\n",
    "    \n",
    "    x_test_scaled = (test_-mean)/std\n",
    "    all_infer = model.predict(x_test_scaled, batch_size=4096)\n",
    "    all_y_test = y_test_\n",
    "    fpr_keras, tpr_keras, thresholds_keras = roc_curve(all_y_test, all_infer)\n",
    "\n",
    "    fpr_keras, tpr_keras, thresholds_keras = roc_curve(all_y_test, all_infer)\n",
    "    plt.figure(figsize=(8, 6))  \n",
    "    plt.plot(fpr_keras, tpr_keras, label='auc: ' + str(round(auc(fpr_keras, tpr_keras), 3)))\n",
    "    \n",
    "    if adc_max == 0:\n",
    "        plt.title(\"ROC Curve - Test Dataset Plane \" + wireplane + ' (ADC > ' + str(adc_min) + ')' )\n",
    "    else:\n",
    "        plt.title(\"ROC Curve - Test Dataset Plane \" + wireplane +  ' (' + str(adc_min) + ' < ADC < ' + str(adc_max) + ')' )\n",
    "    plt.xlabel(\"False Positive Rate\")\n",
    "    plt.ylabel(\"True Positive Rate\")\n",
    "    plt.legend(loc='center')\n",
    "    \n",
    "    if adc_max == 0:\n",
    "        filename = '../roc_curves/plane_' + wireplane + '_roc_adc_gt_'+str(adc_min)+'.png'\n",
    "    else:\n",
    "        filename = '../roc_curves/plane_' + wireplane + '_roc_adc_' + str(adc_min) + '-' + str(adc_max) + '.png'\n",
    "    plt.savefig(filename, facecolor='w')\n",
    "    #plt.show()\n",
    "    plt.close()"
   ]
  },
  {
   "cell_type": "code",
   "execution_count": 11,
   "metadata": {},
   "outputs": [
    {
     "name": "stdout",
     "output_type": "stream",
     "text": [
      "(100000, 200) (100000,)\n",
      "(100000, 200) (100000,)\n",
      "(100000, 200) (100000,)\n",
      "25/25 [==============================] - 0s 10ms/step\n",
      "(100000, 200) (100000,)\n",
      "(96875, 200) (96875,)\n",
      "(96875, 200) (96875,)\n",
      "24/24 [==============================] - 0s 3ms/step\n",
      "(100000, 200) (100000,)\n",
      "(94438, 200) (94438,)\n",
      "(94438, 200) (94438,)\n",
      "24/24 [==============================] - 0s 13ms/step\n",
      "(100000, 200) (100000,)\n",
      "(92520, 200) (92520,)\n",
      "(92520, 200) (92520,)\n",
      "23/23 [==============================] - 0s 4ms/step\n",
      "(100000, 200) (100000,)\n",
      "(90830, 200) (90830,)\n",
      "(90830, 200) (90830,)\n",
      "23/23 [==============================] - 0s 11ms/step\n",
      "(100000, 200) (100000,)\n",
      "(89352, 200) (89352,)\n",
      "(89352, 200) (89352,)\n",
      "22/22 [==============================] - 0s 13ms/step\n",
      "(100000, 200) (100000,)\n",
      "(88136, 200) (88136,)\n",
      "(88136, 200) (88136,)\n",
      "22/22 [==============================] - 0s 13ms/step\n",
      "(100000, 200) (100000,)\n",
      "(87020, 200) (87020,)\n",
      "(87020, 200) (87020,)\n",
      "22/22 [==============================] - 0s 12ms/step\n",
      "(100000, 200) (100000,)\n",
      "(86007, 200) (86007,)\n",
      "(86007, 200) (86007,)\n",
      "21/21 [==============================] - 0s 14ms/step\n",
      "(100000, 200) (100000,)\n",
      "(85114, 200) (85114,)\n",
      "(85114, 200) (85114,)\n",
      "21/21 [==============================] - 0s 12ms/step\n",
      "(100000, 200) (100000,)\n",
      "(84265, 200) (84265,)\n",
      "(84265, 200) (84265,)\n",
      "21/21 [==============================] - 0s 12ms/step\n",
      "(100000, 200) (100000,)\n",
      "(83521, 200) (83521,)\n",
      "(83521, 200) (83521,)\n",
      "21/21 [==============================] - 0s 12ms/step\n",
      "(100000, 200) (100000,)\n",
      "(82757, 200) (82757,)\n",
      "(82757, 200) (82757,)\n",
      "21/21 [==============================] - 0s 13ms/step\n"
     ]
    }
   ],
   "source": [
    "for i in range(3, 16):\n",
    "    eval_cut_(full_test_clean, x_test, i, 0)"
   ]
  },
  {
   "cell_type": "code",
   "execution_count": null,
   "metadata": {},
   "outputs": [],
   "source": []
  }
 ],
 "metadata": {
  "kernelspec": {
   "display_name": "Python 3.9.13 ('tf')",
   "language": "python",
   "name": "python3"
  },
  "language_info": {
   "codemirror_mode": {
    "name": "ipython",
    "version": 3
   },
   "file_extension": ".py",
   "mimetype": "text/x-python",
   "name": "python",
   "nbconvert_exporter": "python",
   "pygments_lexer": "ipython3",
   "version": "3.9.13"
  },
  "orig_nbformat": 4,
  "vscode": {
   "interpreter": {
    "hash": "0953303bb76e642cf0da4dd84c14ec5ff8cbb4c1b534b77010e5be534f549796"
   }
  }
 },
 "nbformat": 4,
 "nbformat_minor": 2
}
