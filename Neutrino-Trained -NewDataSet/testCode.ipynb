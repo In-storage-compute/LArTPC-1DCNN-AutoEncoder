{
 "cells": [
  {
   "cell_type": "code",
   "execution_count": 3,
   "metadata": {},
   "outputs": [],
   "source": [
    "import numpy as np\n",
    "import matplotlib.pyplot as plt"
   ]
  },
  {
   "cell_type": "code",
   "execution_count": 4,
   "metadata": {},
   "outputs": [
    {
     "name": "stdout",
     "output_type": "stream",
     "text": [
      "Peak range: 2 11\n"
     ]
    },
    {
     "data": {
      "image/png": "[encoded data removed]",
      "text/plain": [
       "<Figure size 432x288 with 1 Axes>"
      ]
     },
     "metadata": {
      "needs_background": "light"
     },
     "output_type": "display_data"
    }
   ],
   "source": [
    "\n",
    "# define the array with the peak\n",
    "array = np.array([0, 0, 0, 1, 2, 3, 2, 1, -1, -2, -1, 0, 0, 0])\n",
    "\n",
    "plt.plot(array)\n",
    "\n",
    "# find the peak and trough of the wave\n",
    "peak_index = np.argmax(array)\n",
    "trough_index = np.argmin(array[peak_index:]) + peak_index\n",
    "\n",
    "# find the start and end of the peak range\n",
    "start_index = peak_index - 1\n",
    "while start_index > 0 and array[start_index] > 0:\n",
    "    start_index -= 1\n",
    "end_index = trough_index + 1\n",
    "while end_index < len(array) and array[end_index] < 0:\n",
    "    end_index += 1\n",
    "\n",
    "# print the range of the peak\n",
    "print(\"Peak range:\", start_index, end_index)\n"
   ]
  },
  {
   "cell_type": "code",
   "execution_count": 6,
   "metadata": {},
   "outputs": [],
   "source": [
    "import numpy as np\n",
    "\n",
    "def find_peak_range(array):\n",
    "    # find the peak and trough of the wave\n",
    "    peak_index = np.argmax(array)\n",
    "    trough_index = np.argmin(array[peak_index:]) + peak_index\n",
    "\n",
    "    # find the start and end of the peak range\n",
    "    start_index = peak_index - 1\n",
    "    while start_index > 0 and array[start_index] > 0:\n",
    "        start_index -= 1\n",
    "    end_index = trough_index + 1\n",
    "    while end_index < len(array) and array[end_index] < 0:\n",
    "        end_index += 1\n",
    "\n",
    "    return [start_index, end_index]\n"
   ]
  },
  {
   "cell_type": "code",
   "execution_count": 7,
   "metadata": {},
   "outputs": [
    {
     "name": "stdout",
     "output_type": "stream",
     "text": [
      "Peak range: [2, 11]\n"
     ]
    }
   ],
   "source": [
    "# define the array with the peak\n",
    "array = np.array([0, 0, 0, 1, 2, 3, 2, 1, -1, -2, -1, 0, 0, 0])\n",
    "\n",
    "# find the range of the peak\n",
    "peak_range = find_peak_range(array)\n",
    "\n",
    "# print the range of the peak\n",
    "print(\"Peak range:\", peak_range)"
   ]
  },
  {
   "cell_type": "code",
   "execution_count": 17,
   "metadata": {},
   "outputs": [
    {
     "data": {
      "text/plain": [
       "(14,)"
      ]
     },
     "execution_count": 17,
     "metadata": {},
     "output_type": "execute_result"
    }
   ],
   "source": [
    "array.shape"
   ]
  },
  {
   "cell_type": "code",
   "execution_count": 8,
   "metadata": {},
   "outputs": [],
   "source": [
    "import sys\n",
    "from os import listdir\n",
    "from os.path import isfile, join"
   ]
  },
  {
   "cell_type": "code",
   "execution_count": 19,
   "metadata": {},
   "outputs": [
    {
     "data": {
      "text/plain": [
       "['processed_data/mean_Z.npy',\n",
       " 'processed_data/std_Z.npy',\n",
       " 'processed_data/x_test_Z.npy',\n",
       " 'processed_data/x_train_Z.npy',\n",
       " 'processed_data/y_test_AE_Z.npy',\n",
       " 'processed_data/y_test_ROI_Z.npy',\n",
       " 'processed_data/y_train_AE_Z.npy',\n",
       " 'processed_data/y_train_ROI_Z.npy']"
      ]
     },
     "execution_count": 19,
     "metadata": {},
     "output_type": "execute_result"
    }
   ],
   "source": [
    "wireplane = \"Z\"\n",
    "path = 'processed_data/'\n",
    "filenames = [path+f for f in listdir(path) if (isfile(join(path, f)) and wireplane in f)]\n",
    "filenames"
   ]
  },
  {
   "cell_type": "code",
   "execution_count": 20,
   "metadata": {},
   "outputs": [],
   "source": [
    "y_test = np.load(filenames[4])"
   ]
  },
  {
   "cell_type": "code",
   "execution_count": 26,
   "metadata": {},
   "outputs": [
    {
     "data": {
      "image/png": "[encoded data removed]",
      "text/plain": [
       "<Figure size 576x72 with 1 Axes>"
      ]
     },
     "metadata": {},
     "output_type": "display_data"
    }
   ],
   "source": [
    "idx = 2\n",
    "fig, (ax1) = plt.subplots(figsize=(8, 1), facecolor='white')\n",
    "ax1.plot(y_test[idx],color='blue', label='signal+noise')\n",
    "ax1.set_title(\"waveform\", fontsize=15)\n",
    "ax1.legend()\n",
    "\n",
    "plt.show()"
   ]
  },
  {
   "cell_type": "code",
   "execution_count": 27,
   "metadata": {},
   "outputs": [
    {
     "data": {
      "text/plain": [
       "(200,)"
      ]
     },
     "execution_count": 27,
     "metadata": {},
     "output_type": "execute_result"
    }
   ],
   "source": [
    "wave = y_test[2]\n",
    "wave.shape"
   ]
  },
  {
   "cell_type": "code",
   "execution_count": 28,
   "metadata": {},
   "outputs": [
    {
     "name": "stdout",
     "output_type": "stream",
     "text": [
      "Peak range: [12, 33]\n"
     ]
    }
   ],
   "source": [
    "peak_range = find_peak_range(wave)\n",
    "\n",
    "# print the range of the peak\n",
    "print(\"Peak range:\", peak_range)"
   ]
  },
  {
   "cell_type": "code",
   "execution_count": 29,
   "metadata": {},
   "outputs": [
    {
     "name": "stdout",
     "output_type": "stream",
     "text": [
      "MSE for entire range: 0.009999999999999981\n",
      "MSE for first half of range: 0.010000000000000018\n",
      "MSE for second half of range: 0.009999999999999959\n"
     ]
    }
   ],
   "source": [
    "import numpy as np\n",
    "\n",
    "# true values\n",
    "true_values = np.array([1, 2, 3, 4, 5])\n",
    "\n",
    "# predicted values\n",
    "predicted_values = np.array([1.1, 2.1, 2.9, 4.1, 4.9])\n",
    "\n",
    "# calculate MSE for the entire range\n",
    "mse = np.mean((true_values - predicted_values)**2)\n",
    "print(\"MSE for entire range:\", mse)\n",
    "\n",
    "# calculate MSE for values in the first half of the range\n",
    "mse = np.mean((true_values[:len(true_values)//2] - predicted_values[:len(predicted_values)//2])**2)\n",
    "print(\"MSE for first half of range:\", mse)\n",
    "\n",
    "# calculate MSE for values in the second half of the range\n",
    "mse = np.mean((true_values[len(true_values)//2:] - predicted_values[len(predicted_values)//2:])**2)\n",
    "print(\"MSE for second half of range:\", mse)\n"
   ]
  },
  {
   "cell_type": "code",
   "execution_count": null,
   "metadata": {},
   "outputs": [],
   "source": []
  }
 ],
 "metadata": {
  "kernelspec": {
   "display_name": "tf",
   "language": "python",
   "name": "python3"
  },
  "language_info": {
   "codemirror_mode": {
    "name": "ipython",
    "version": 3
   },
   "file_extension": ".py",
   "mimetype": "text/x-python",
   "name": "python",
   "nbconvert_exporter": "python",
   "pygments_lexer": "ipython3",
   "version": "3.9.13"
  },
  "orig_nbformat": 4,
  "vscode": {
   "interpreter": {
    "hash": "0953303bb76e642cf0da4dd84c14ec5ff8cbb4c1b534b77010e5be534f549796"
   }
  }
 },
 "nbformat": 4,
 "nbformat_minor": 2
}
