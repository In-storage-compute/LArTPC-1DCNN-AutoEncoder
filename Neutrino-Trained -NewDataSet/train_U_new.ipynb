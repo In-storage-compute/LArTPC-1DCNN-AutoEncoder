{
 "cells": [
  {
   "cell_type": "code",
   "execution_count": 1,
   "metadata": {},
   "outputs": [],
   "source": [
    "import sys\n",
    "from os import listdir\n",
    "from os.path import isfile, join\n",
    "import pandas as pd\n",
    "#!{sys.executable} -m pip install tensorflow-gpu==2.4\n",
    "#!export LD_LIBRARY_PATH=$LD_LIBRARY_PATH:/home/bhawks/.conda/envs/dune-1dcnn/lib\n",
    "import numpy as np\n",
    "import matplotlib.pyplot as plt\n",
    "import tensorflow as tf\n",
    "from tensorflow import keras \n",
    "from sklearn.preprocessing import StandardScaler\n",
    "from sklearn.compose import ColumnTransformer, make_column_transformer\n",
    "from sklearn.model_selection import train_test_split\n",
    "from sklearn.utils import shuffle"
   ]
  },
  {
   "cell_type": "code",
   "execution_count": 2,
   "metadata": {},
   "outputs": [
    {
     "data": {
      "text/plain": [
       "['processed_data/mean_U.npy',\n",
       " 'processed_data/std_U.npy',\n",
       " 'processed_data/x_test_U.npy',\n",
       " 'processed_data/x_train_U.npy',\n",
       " 'processed_data/y_test_AE_U.npy',\n",
       " 'processed_data/y_test_ROI_U.npy',\n",
       " 'processed_data/y_train_AE_U.npy',\n",
       " 'processed_data/y_train_ROI_U.npy']"
      ]
     },
     "execution_count": 2,
     "metadata": {},
     "output_type": "execute_result"
    }
   ],
   "source": [
    "wireplane = \"U\"\n",
    "path = 'processed_data/'\n",
    "filenames = [path+f for f in listdir(path) if (isfile(join(path, f)) and wireplane in f)]\n",
    "filenames"
   ]
  },
  {
   "cell_type": "code",
   "execution_count": 3,
   "metadata": {},
   "outputs": [],
   "source": [
    "x_test = np.load(filenames[2])\n",
    "x_train = np.load(filenames[3])\n",
    "y_test = np.load(filenames[5])\n",
    "y_train = np.load(filenames[7])"
   ]
  },
  {
   "cell_type": "code",
   "execution_count": 4,
   "metadata": {},
   "outputs": [],
   "source": [
    "#split train and valid sets (40k train 10k valid) \n",
    "x_train, x_valid, y_train, y_valid = train_test_split(\n",
    "    x_train, y_train, test_size=0.2, shuffle=True\n",
    ")"
   ]
  },
  {
   "cell_type": "code",
   "execution_count": 5,
   "metadata": {},
   "outputs": [],
   "source": [
    "mean = x_train.mean()\n",
    "std = x_train.std()"
   ]
  },
  {
   "cell_type": "code",
   "execution_count": 6,
   "metadata": {},
   "outputs": [],
   "source": [
    "x_train_scaled = (x_train-mean)/std\n",
    "x_valid_scaled = (x_valid-mean)/std\n",
    "x_test_scaled = (x_test-mean)/std"
   ]
  },
  {
   "cell_type": "code",
   "execution_count": 7,
   "metadata": {},
   "outputs": [],
   "source": [
    "np.save(\"latest_models/mean_\"+wireplane+\"_nu\", mean)\n",
    "np.save(\"latest_models/scale_\"+wireplane+\"_nu\", std)"
   ]
  },
  {
   "cell_type": "code",
   "execution_count": 8,
   "metadata": {},
   "outputs": [],
   "source": [
    "from tensorflow.keras.models import Sequential\n",
    "from tensorflow.keras.layers import Conv1D, MaxPooling1D, GlobalMaxPooling1D, \\\n",
    "    Dropout, Dense,Flatten, AveragePooling1D, BatchNormalization"
   ]
  },
  {
   "cell_type": "code",
   "execution_count": 9,
   "metadata": {},
   "outputs": [],
   "source": [
    "time_periods = 200\n",
    "def create_model():\n",
    "  model = Sequential()  \n",
    "  #first convolutional block\n",
    "  model.add(Conv1D(filters=16, kernel_size=3, strides=2, activation = \"relu\", input_shape=(time_periods,1)))\n",
    "  model.add(MaxPooling1D(pool_size=2))\n",
    "\n",
    "  #second convolutional block\n",
    "  model.add(Conv1D(filters=32, kernel_size=5, strides=2, activation = \"relu\"))\n",
    "  model.add(MaxPooling1D(pool_size=2))\n",
    "  model.add(Dropout(0.1))\n",
    "  \n",
    "  #forth convolutional block                                      \n",
    "  model.add(Conv1D(filters=64, kernel_size=9, activation = \"relu\"))\n",
    "  model.add(GlobalMaxPooling1D())\n",
    "  model.add(Dropout(0.2)) \n",
    "    \n",
    "  model.add(Flatten())\n",
    "\n",
    "  \n",
    " \n",
    "  model.add(Dense(1, activation=\"sigmoid\", name=\"wavrec_out\"))\n",
    "  return model"
   ]
  },
  {
   "cell_type": "code",
   "execution_count": 10,
   "metadata": {},
   "outputs": [
    {
     "name": "stdout",
     "output_type": "stream",
     "text": [
      "Model: \"sequential\"\n",
      "_________________________________________________________________\n",
      " Layer (type)                Output Shape              Param #   \n",
      "=================================================================\n",
      " conv1d (Conv1D)             (None, 99, 16)            64        \n",
      "                                                                 \n",
      " max_pooling1d (MaxPooling1D  (None, 49, 16)           0         \n",
      " )                                                               \n",
      "                                                                 \n",
      " conv1d_1 (Conv1D)           (None, 23, 32)            2592      \n",
      "                                                                 \n",
      " max_pooling1d_1 (MaxPooling  (None, 11, 32)           0         \n",
      " 1D)                                                             \n",
      "                                                                 \n",
      " dropout (Dropout)           (None, 11, 32)            0         \n",
      "                                                                 \n",
      " conv1d_2 (Conv1D)           (None, 3, 64)             18496     \n",
      "                                                                 \n",
      " global_max_pooling1d (Globa  (None, 64)               0         \n",
      " lMaxPooling1D)                                                  \n",
      "                                                                 \n",
      " dropout_1 (Dropout)         (None, 64)                0         \n",
      "                                                                 \n",
      " flatten (Flatten)           (None, 64)                0         \n",
      "                                                                 \n",
      " wavrec_out (Dense)          (None, 1)                 65        \n",
      "                                                                 \n",
      "=================================================================\n",
      "Total params: 21,217\n",
      "Trainable params: 21,217\n",
      "Non-trainable params: 0\n",
      "_________________________________________________________________\n"
     ]
    }
   ],
   "source": [
    "model = create_model()\n",
    "\n",
    "#lr=0.001\n",
    "adam = tf.keras.optimizers.Adam(learning_rate=0.001, beta_1=0.9, beta_2=0.999, epsilon=None, decay=0.0, amsgrad=False)\n",
    "\n",
    "model.compile(optimizer = adam, loss = 'binary_crossentropy', metrics = ['accuracy'])\n",
    "model.summary()"
   ]
  },
  {
   "cell_type": "code",
   "execution_count": 11,
   "metadata": {},
   "outputs": [],
   "source": [
    "x_train_scaled = x_train_scaled.reshape(x_train_scaled.shape[0], x_train_scaled.shape[1], 1)\n",
    "x_valid_scaled = x_valid_scaled.reshape(x_valid_scaled.shape[0], x_valid_scaled.shape[1], 1)\n",
    "x_test_scaled = x_test_scaled.reshape(x_test_scaled.shape[0], x_test_scaled.shape[1], 1)"
   ]
  },
  {
   "cell_type": "code",
   "execution_count": 12,
   "metadata": {},
   "outputs": [
    {
     "name": "stdout",
     "output_type": "stream",
     "text": [
      "(52902, 200, 1) (13226, 200, 1) (66129, 200, 1)\n"
     ]
    }
   ],
   "source": [
    "print(x_train_scaled.shape, x_valid_scaled.shape, x_test_scaled.shape)"
   ]
  },
  {
   "cell_type": "code",
   "execution_count": 13,
   "metadata": {},
   "outputs": [],
   "source": [
    "earlystop = tf.keras.callbacks.EarlyStopping(\n",
    "    monitor=\"val_loss\",\n",
    "    min_delta=0,\n",
    "    patience=5,\n",
    "    verbose=0,\n",
    "    mode=\"auto\",\n",
    "    baseline=None,\n",
    "    restore_best_weights=True,\n",
    ")"
   ]
  },
  {
   "cell_type": "code",
   "execution_count": 14,
   "metadata": {},
   "outputs": [
    {
     "name": "stdout",
     "output_type": "stream",
     "text": [
      "Epoch 1/100\n",
      "26/26 [==============================] - 3s 14ms/step - loss: 0.5930 - accuracy: 0.7472 - val_loss: 0.5691 - val_accuracy: 0.7537\n",
      "Epoch 2/100\n",
      "26/26 [==============================] - 0s 9ms/step - loss: 0.5621 - accuracy: 0.7564 - val_loss: 0.5607 - val_accuracy: 0.7533\n",
      "Epoch 3/100\n",
      "26/26 [==============================] - 0s 8ms/step - loss: 0.5594 - accuracy: 0.7564 - val_loss: 0.5597 - val_accuracy: 0.7537\n",
      "Epoch 4/100\n",
      "26/26 [==============================] - 0s 9ms/step - loss: 0.5580 - accuracy: 0.7564 - val_loss: 0.5594 - val_accuracy: 0.7537\n",
      "Epoch 5/100\n",
      "26/26 [==============================] - 0s 9ms/step - loss: 0.5568 - accuracy: 0.7567 - val_loss: 0.5591 - val_accuracy: 0.7537\n",
      "Epoch 6/100\n",
      "26/26 [==============================] - 0s 8ms/step - loss: 0.5566 - accuracy: 0.7565 - val_loss: 0.5589 - val_accuracy: 0.7537\n",
      "Epoch 7/100\n",
      "26/26 [==============================] - 0s 9ms/step - loss: 0.5565 - accuracy: 0.7566 - val_loss: 0.5589 - val_accuracy: 0.7537\n",
      "Epoch 8/100\n",
      "26/26 [==============================] - 0s 9ms/step - loss: 0.5563 - accuracy: 0.7567 - val_loss: 0.5588 - val_accuracy: 0.7537\n",
      "Epoch 9/100\n",
      "26/26 [==============================] - 0s 8ms/step - loss: 0.5558 - accuracy: 0.7566 - val_loss: 0.5593 - val_accuracy: 0.7537\n",
      "Epoch 10/100\n",
      "26/26 [==============================] - 0s 9ms/step - loss: 0.5558 - accuracy: 0.7567 - val_loss: 0.5589 - val_accuracy: 0.7537\n",
      "Epoch 11/100\n",
      "26/26 [==============================] - 0s 9ms/step - loss: 0.5552 - accuracy: 0.7566 - val_loss: 0.5589 - val_accuracy: 0.7538\n",
      "Epoch 12/100\n",
      "26/26 [==============================] - 0s 9ms/step - loss: 0.5557 - accuracy: 0.7566 - val_loss: 0.5596 - val_accuracy: 0.7538\n",
      "Epoch 13/100\n",
      "26/26 [==============================] - 0s 9ms/step - loss: 0.5545 - accuracy: 0.7567 - val_loss: 0.5592 - val_accuracy: 0.7537\n",
      "Wall time: 5.38 s\n"
     ]
    }
   ],
   "source": [
    "%%time\n",
    "history = model.fit(x_train_scaled,                                                              \n",
    "                    y_train,                                                            \n",
    "                    batch_size=2048,                                              \n",
    "                    epochs=100,      \n",
    "                    \n",
    "                   # epochs=30, \n",
    "                    #epochs = 6,\n",
    "                    callbacks=[earlystop],\n",
    "                     # callbacks=callbacks_list,                         \n",
    "                    validation_data=(x_valid_scaled, y_valid),                                               \n",
    "                    verbose=1)   "
   ]
  },
  {
   "cell_type": "code",
   "execution_count": null,
   "metadata": {},
   "outputs": [],
   "source": []
  }
 ],
 "metadata": {
  "kernelspec": {
   "display_name": "Python 3.9.13 ('tf')",
   "language": "python",
   "name": "python3"
  },
  "language_info": {
   "codemirror_mode": {
    "name": "ipython",
    "version": 3
   },
   "file_extension": ".py",
   "mimetype": "text/x-python",
   "name": "python",
   "nbconvert_exporter": "python",
   "pygments_lexer": "ipython3",
   "version": "3.9.13"
  },
  "orig_nbformat": 4,
  "vscode": {
   "interpreter": {
    "hash": "0953303bb76e642cf0da4dd84c14ec5ff8cbb4c1b534b77010e5be534f549796"
   }
  }
 },
 "nbformat": 4,
 "nbformat_minor": 2
}
