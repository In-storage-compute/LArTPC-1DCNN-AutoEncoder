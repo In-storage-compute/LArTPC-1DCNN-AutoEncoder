{
 "cells": [
  {
   "cell_type": "markdown",
   "metadata": {},
   "source": [
    "In this notebook, we evaluate the AutoEncoder at different ADC ranges"
   ]
  },
  {
   "cell_type": "code",
   "execution_count": 1,
   "metadata": {},
   "outputs": [
    {
     "name": "stderr",
     "output_type": "stream",
     "text": [
      "2023-03-23 19:17:06.629250: I tensorflow/core/platform/cpu_feature_guard.cc:193] This TensorFlow binary is optimized with oneAPI Deep Neural Network Library (oneDNN) to use the following CPU instructions in performance-critical operations:  SSE4.1 SSE4.2 AVX AVX2 FMA\n",
      "To enable them in other operations, rebuild TensorFlow with the appropriate compiler flags.\n"
     ]
    }
   ],
   "source": [
    "import sys\n",
    "import numpy as np\n",
    "import matplotlib.pyplot as plt\n",
    "import tensorflow as tf\n",
    "from tensorflow import keras \n",
    "from sklearn.model_selection import train_test_split\n",
    "from tensorflow.keras.models import load_model\n",
    "from sklearn.metrics import roc_curve\n",
    "from sklearn.metrics import auc\n",
    "import math\n",
    "import tqdm"
   ]
  },
  {
   "cell_type": "code",
   "execution_count": 2,
   "metadata": {},
   "outputs": [],
   "source": [
    "wireplane = 'Z'\n",
    "np.random.seed(42)\n",
    "\n",
    "def filter_signal_ADC(data, clean_data, adc_value, filter_by_max):\n",
    "    data_wf = []\n",
    "    clean_wf = []\n",
    "    for i in range(clean_data.shape[0]):\n",
    "        if filter_by_max:\n",
    "            if max(clean_data[i]) < adc_value or sum(clean_data[i]) == 0:\n",
    "                data_wf.append(data[i])\n",
    "                clean_wf.append(clean_data[i])\n",
    "        else:\n",
    "            if max(clean_data[i]) > adc_value or sum(clean_data[i]) == 0:\n",
    "                data_wf.append(data[i])\n",
    "                clean_wf.append(clean_data[i])\n",
    "    data_wf = np.array(data_wf)\n",
    "    clean_wf = np.array(clean_wf)\n",
    "    return data_wf, clean_wf"
   ]
  },
  {
   "cell_type": "markdown",
   "metadata": {},
   "source": [
    "Load testing set"
   ]
  },
  {
   "cell_type": "code",
   "execution_count": 3,
   "metadata": {},
   "outputs": [],
   "source": [
    "x_test = np.load('../../processed_data/current/x_test_' + wireplane + '.npy')\n",
    "y_test = np.load('../../processed_data/current//y_test_AE_' + wireplane + '.npy')\n",
    "mean = np.load('../../latest_models/mean_' + wireplane + '_nu.npy')\n",
    "std = np.load('../../latest_models/scale_' + wireplane + '_nu.npy')"
   ]
  },
  {
   "cell_type": "markdown",
   "metadata": {},
   "source": [
    "_______________________________________________________________________________________________________________________________"
   ]
  },
  {
   "cell_type": "code",
   "execution_count": 4,
   "metadata": {},
   "outputs": [],
   "source": [
    "x_test_scaled = (x_test-mean)/std"
   ]
  },
  {
   "cell_type": "code",
   "execution_count": 5,
   "metadata": {},
   "outputs": [],
   "source": [
    "y_test_scaled = []\n",
    "for i in range(len(y_test)):\n",
    "    if sum(y_test[i]) == 0:\n",
    "        y_test_scaled.append(y_test[i])\n",
    "    else:\n",
    "        scaled = (y_test[i]-mean)/std\n",
    "        y_test_scaled.append(scaled)\n",
    "y_test_scaled = np.array(y_test_scaled)\n"
   ]
  },
  {
   "cell_type": "markdown",
   "metadata": {},
   "source": [
    "Load trained model"
   ]
  },
  {
   "cell_type": "code",
   "execution_count": 6,
   "metadata": {},
   "outputs": [],
   "source": [
    "def custom_mse2(y_true, y_pred):\n",
    "\n",
    "    return -1"
   ]
  },
  {
   "cell_type": "code",
   "execution_count": 7,
   "metadata": {},
   "outputs": [
    {
     "name": "stderr",
     "output_type": "stream",
     "text": [
      "2023-03-23 19:17:12.546163: I tensorflow/stream_executor/cuda/cuda_gpu_executor.cc:980] successful NUMA node read from SysFS had negative value (-1), but there must be at least one NUMA node, so returning NUMA node zero\n",
      "2023-03-23 19:17:12.551357: I tensorflow/stream_executor/cuda/cuda_gpu_executor.cc:980] successful NUMA node read from SysFS had negative value (-1), but there must be at least one NUMA node, so returning NUMA node zero\n",
      "2023-03-23 19:17:12.551703: I tensorflow/stream_executor/cuda/cuda_gpu_executor.cc:980] successful NUMA node read from SysFS had negative value (-1), but there must be at least one NUMA node, so returning NUMA node zero\n",
      "2023-03-23 19:17:12.553333: I tensorflow/core/platform/cpu_feature_guard.cc:193] This TensorFlow binary is optimized with oneAPI Deep Neural Network Library (oneDNN) to use the following CPU instructions in performance-critical operations:  SSE4.1 SSE4.2 AVX AVX2 FMA\n",
      "To enable them in other operations, rebuild TensorFlow with the appropriate compiler flags.\n",
      "2023-03-23 19:17:12.581478: I tensorflow/stream_executor/cuda/cuda_gpu_executor.cc:980] successful NUMA node read from SysFS had negative value (-1), but there must be at least one NUMA node, so returning NUMA node zero\n",
      "2023-03-23 19:17:12.582042: I tensorflow/stream_executor/cuda/cuda_gpu_executor.cc:980] successful NUMA node read from SysFS had negative value (-1), but there must be at least one NUMA node, so returning NUMA node zero\n",
      "2023-03-23 19:17:12.582367: I tensorflow/stream_executor/cuda/cuda_gpu_executor.cc:980] successful NUMA node read from SysFS had negative value (-1), but there must be at least one NUMA node, so returning NUMA node zero\n",
      "2023-03-23 19:17:13.247890: I tensorflow/stream_executor/cuda/cuda_gpu_executor.cc:980] successful NUMA node read from SysFS had negative value (-1), but there must be at least one NUMA node, so returning NUMA node zero\n",
      "2023-03-23 19:17:13.248197: I tensorflow/stream_executor/cuda/cuda_gpu_executor.cc:980] successful NUMA node read from SysFS had negative value (-1), but there must be at least one NUMA node, so returning NUMA node zero\n",
      "2023-03-23 19:17:13.248464: I tensorflow/stream_executor/cuda/cuda_gpu_executor.cc:980] successful NUMA node read from SysFS had negative value (-1), but there must be at least one NUMA node, so returning NUMA node zero\n",
      "2023-03-23 19:17:13.248689: I tensorflow/core/common_runtime/gpu/gpu_device.cc:1616] Created device /job:localhost/replica:0/task:0/device:GPU:0 with 18113 MB memory:  -> device: 0, name: NVIDIA A100 80GB PCIe MIG 2g.20gb, pci bus id: 0000:07:00.0, compute capability: 8.0\n"
     ]
    },
    {
     "ename": "TypeError",
     "evalue": "weight_decay is not a valid argument, kwargs should be empty  for `optimizer_experimental.Optimizer`.",
     "output_type": "error",
     "traceback": [
      "\u001b[0;31m---------------------------------------------------------------------------\u001b[0m",
      "\u001b[0;31mTypeError\u001b[0m                                 Traceback (most recent call last)",
      "Cell \u001b[0;32mIn[7], line 3\u001b[0m\n\u001b[1;32m      1\u001b[0m cnn \u001b[38;5;241m=\u001b[39m load_model(\u001b[38;5;124m'\u001b[39m\u001b[38;5;124m../../latest_models/model_Zplane_nu.h5\u001b[39m\u001b[38;5;124m'\u001b[39m)\n\u001b[0;32m----> 3\u001b[0m autoencoder0 \u001b[38;5;241m=\u001b[39m \u001b[43mload_model\u001b[49m\u001b[43m(\u001b[49m\u001b[38;5;124;43m\"\u001b[39;49m\u001b[38;5;124;43m../../latest_models/model_AE_\u001b[39;49m\u001b[38;5;124;43m\"\u001b[39;49m\u001b[43m \u001b[49m\u001b[38;5;241;43m+\u001b[39;49m\u001b[43m \u001b[49m\u001b[43mwireplane\u001b[49m\u001b[43m \u001b[49m\u001b[38;5;241;43m+\u001b[39;49m\u001b[43m \u001b[49m\u001b[38;5;124;43m'\u001b[39;49m\u001b[38;5;124;43mplane_nu.h5\u001b[39;49m\u001b[38;5;124;43m'\u001b[39;49m\u001b[43m)\u001b[49m\n\u001b[1;32m      4\u001b[0m autoencoder1 \u001b[38;5;241m=\u001b[39m load_model(\u001b[38;5;124m\"\u001b[39m\u001b[38;5;124m../batch_size1_epochs_50_w1_1-w2_dot7_Zplane_nu.h5\u001b[39m\u001b[38;5;124m\"\u001b[39m, custom_objects\u001b[38;5;241m=\u001b[39m{\u001b[38;5;124m'\u001b[39m\u001b[38;5;124mcustom_mse2\u001b[39m\u001b[38;5;124m'\u001b[39m:custom_mse2})  \u001b[38;5;66;03m# ~ 20 epochs\u001b[39;00m\n",
      "File \u001b[0;32m/opt/conda/lib/python3.9/site-packages/keras/utils/traceback_utils.py:70\u001b[0m, in \u001b[0;36mfilter_traceback.<locals>.error_handler\u001b[0;34m(*args, **kwargs)\u001b[0m\n\u001b[1;32m     67\u001b[0m     filtered_tb \u001b[38;5;241m=\u001b[39m _process_traceback_frames(e\u001b[38;5;241m.\u001b[39m__traceback__)\n\u001b[1;32m     68\u001b[0m     \u001b[38;5;66;03m# To get the full stack trace, call:\u001b[39;00m\n\u001b[1;32m     69\u001b[0m     \u001b[38;5;66;03m# `tf.debugging.disable_traceback_filtering()`\u001b[39;00m\n\u001b[0;32m---> 70\u001b[0m     \u001b[38;5;28;01mraise\u001b[39;00m e\u001b[38;5;241m.\u001b[39mwith_traceback(filtered_tb) \u001b[38;5;28;01mfrom\u001b[39;00m \u001b[38;5;28mNone\u001b[39m\n\u001b[1;32m     71\u001b[0m \u001b[38;5;28;01mfinally\u001b[39;00m:\n\u001b[1;32m     72\u001b[0m     \u001b[38;5;28;01mdel\u001b[39;00m filtered_tb\n",
      "File \u001b[0;32m/opt/conda/lib/python3.9/site-packages/keras/optimizers/optimizer_experimental/optimizer.py:115\u001b[0m, in \u001b[0;36m_BaseOptimizer._process_kwargs\u001b[0;34m(self, kwargs)\u001b[0m\n\u001b[1;32m    109\u001b[0m     logging\u001b[38;5;241m.\u001b[39mwarning(\n\u001b[1;32m    110\u001b[0m         \u001b[38;5;124m\"\u001b[39m\u001b[38;5;132;01m%s\u001b[39;00m\u001b[38;5;124m is deprecated in `optimizer_experimental.Optimizer`\u001b[39m\u001b[38;5;124m\"\u001b[39m\n\u001b[1;32m    111\u001b[0m         \u001b[38;5;124m\"\u001b[39m\u001b[38;5;124m, please check the docstring for valid arguments.\u001b[39m\u001b[38;5;124m\"\u001b[39m,\n\u001b[1;32m    112\u001b[0m         k,\n\u001b[1;32m    113\u001b[0m     )\n\u001b[1;32m    114\u001b[0m \u001b[38;5;28;01melse\u001b[39;00m:\n\u001b[0;32m--> 115\u001b[0m     \u001b[38;5;28;01mraise\u001b[39;00m \u001b[38;5;167;01mTypeError\u001b[39;00m(\n\u001b[1;32m    116\u001b[0m         \u001b[38;5;124mf\u001b[39m\u001b[38;5;124m\"\u001b[39m\u001b[38;5;132;01m{\u001b[39;00mk\u001b[38;5;132;01m}\u001b[39;00m\u001b[38;5;124m is not a valid argument, kwargs should be empty \u001b[39m\u001b[38;5;124m\"\u001b[39m\n\u001b[1;32m    117\u001b[0m         \u001b[38;5;124m\"\u001b[39m\u001b[38;5;124m for `optimizer_experimental.Optimizer`.\u001b[39m\u001b[38;5;124m\"\u001b[39m\n\u001b[1;32m    118\u001b[0m     )\n",
      "\u001b[0;31mTypeError\u001b[0m: weight_decay is not a valid argument, kwargs should be empty  for `optimizer_experimental.Optimizer`."
     ]
    }
   ],
   "source": [
    "cnn = load_model('../../latest_models/model_Zplane_nu.h5')\n",
    "\n",
    "autoencoder0 = load_model(\"../../latest_models/model_AE_\" + wireplane + 'plane_nu.h5')\n",
    "autoencoder1 = load_model(\"../batch_size1_epochs_50_w1_1-w2_dot7_Zplane_nu.h5\", custom_objects={'custom_mse2':custom_mse2})  # ~ 20 epochs\n"
   ]
  },
  {
   "cell_type": "code",
   "execution_count": null,
   "metadata": {},
   "outputs": [],
   "source": [
    "tf.executing_eagerly()"
   ]
  },
  {
   "cell_type": "code",
   "execution_count": null,
   "metadata": {},
   "outputs": [],
   "source": [
    "cnn_pred = cnn.predict(x_test_scaled, batch_size=4096)\n",
    "cnn_pred = cnn_pred.squeeze()"
   ]
  },
  {
   "cell_type": "markdown",
   "metadata": {},
   "source": [
    "### let's see what the MSE is at the region where signal exists"
   ]
  },
  {
   "cell_type": "code",
   "execution_count": null,
   "metadata": {},
   "outputs": [],
   "source": [
    "%%time\n",
    "predictions0 = autoencoder0.predict(x_test_scaled, batch_size=4096)\n",
    "predictions0 = predictions0.reshape(predictions0.shape[0], predictions0.shape[1])\n",
    "\n",
    "predictions1 = autoencoder1.predict(x_test_scaled, batch_size=4096)\n",
    "predictions1 = predictions1.reshape(predictions1.shape[0], predictions1.shape[1])\n"
   ]
  },
  {
   "cell_type": "code",
   "execution_count": null,
   "metadata": {},
   "outputs": [],
   "source": [
    "x_test_ = std*x_test_scaled+mean\n",
    "y_test_ = np.load('../../processed_data/current//y_test_AE_' + wireplane + '.npy')  # make sure target is original/not scaled before"
   ]
  },
  {
   "cell_type": "markdown",
   "metadata": {},
   "source": [
    "Plot predicted wave on top of target and input"
   ]
  },
  {
   "cell_type": "code",
   "execution_count": null,
   "metadata": {},
   "outputs": [],
   "source": [
    "\n",
    "pred0 = predictions0*std+mean\n",
    "pred1 = predictions1*std+mean"
   ]
  },
  {
   "cell_type": "code",
   "execution_count": null,
   "metadata": {},
   "outputs": [],
   "source": [
    "cnn_pred[0]"
   ]
  },
  {
   "cell_type": "markdown",
   "metadata": {},
   "source": [
    "### DEBUG -- apply ADC-CUT"
   ]
  },
  {
   "cell_type": "markdown",
   "metadata": {},
   "source": [
    "#### generate plots of model's prediction on top of input & clean target (ADC CUT APPLIED)"
   ]
  },
  {
   "cell_type": "code",
   "execution_count": null,
   "metadata": {},
   "outputs": [],
   "source": [
    "for idx in range(1000):\n",
    "    max_adc = int((max(x_test_[idx])))\n",
    "    if sum(y_test_scaled[idx]) != 0:\n",
    "        if max_adc < 20:\n",
    "            fig, (ax1) = plt.subplots(figsize=(15, 4), facecolor='white')\n",
    "            ax1.plot(y_test_[idx],color='yellow', label='target', alpha=0.7)\n",
    "            ax1.plot(x_test_[idx], color='black',alpha=0.2, label = 'original input (adc_max: ' + str(max_adc) + ')')\n",
    "\n",
    "            ax1.plot(pred0[idx],color='m',alpha=0.5, label='model_0')\n",
    "            ax1.plot(pred1[idx],color='g',alpha=0.3, label='model_1')\n",
    "            \n",
    "            ax1.set_title(\"cnn output: \" + str(round(cnn_pred[idx], 4)), fontsize=15)\n",
    "            ax1.legend()\n",
    "            #filename = 'plane_u_AE_plots_ADC_MAX_15_no_noise/'+str(idx)+'.png' \n",
    "            #plt.savefig(filename, facecolor='w'\n",
    "            plt.show()"
   ]
  },
  {
   "cell_type": "markdown",
   "metadata": {},
   "source": [
    "### DEBUG -- apply ADC-CUT -- NOT DONE"
   ]
  },
  {
   "cell_type": "markdown",
   "metadata": {},
   "source": [
    "-----------------------------------------------------------------------------"
   ]
  },
  {
   "cell_type": "markdown",
   "metadata": {},
   "source": [
    "#### generate plots of model's prediction on top of input & clean target (ALL)"
   ]
  },
  {
   "cell_type": "code",
   "execution_count": null,
   "metadata": {},
   "outputs": [],
   "source": [
    "#for idx in range(len(x_test_)):\n",
    "#    fig, (ax1) = plt.subplots(figsize=(12, 4), facecolor='white')\n",
    "#    ax1.plot(y_test_[idx],color='blue', label='target')\n",
    "#    ax1.plot(pred_[idx],color='m',alpha=0.7, label='model prediction')\n",
    "#    ax1.plot(x_test_[idx], color='orange',alpha=0.7, label = 'original input')\n",
    "#    ax1.set_title(\"trained using clean signals as target\", fontsize=15)\n",
    "#    ax1.legend()\n",
    "#    filename = 'plane_u_AE_plots/'+str(idx)+'.png' \n",
    "#    plt.savefig(filename, facecolor='w')\n",
    "#    plt.close()"
   ]
  },
  {
   "cell_type": "markdown",
   "metadata": {},
   "source": [
    "Checkpoint reached"
   ]
  },
  {
   "cell_type": "code",
   "execution_count": null,
   "metadata": {},
   "outputs": [],
   "source": [
    "# calculate MSE for the entire range\n",
    "mse = np.mean((y_test_scaled - predictions)**2)\n",
    "print(\"MSE for entire range:\", mse)"
   ]
  },
  {
   "cell_type": "markdown",
   "metadata": {},
   "source": [
    "### Calculate MSE with new ranges"
   ]
  },
  {
   "cell_type": "code",
   "execution_count": null,
   "metadata": {},
   "outputs": [],
   "source": [
    "# helper to calculate mse of segments or full wave\n",
    "def calculate_single_mse_helper(seqment_wave, seqment_pred_wave):\n",
    "    single_mse = np.mean((seqment_wave-seqment_pred_wave)**2)\n",
    "    return single_mse"
   ]
  },
  {
   "cell_type": "code",
   "execution_count": null,
   "metadata": {},
   "outputs": [],
   "source": [
    "# helper to calculate mse of segments or full wave\n",
    "def calculate_single_mse_helper(seqment_wave, seqment_pred_wave):\n",
    "    single_mse = np.mean((seqment_wave-seqment_pred_wave)**2)\n",
    "    return single_mse\n",
    "\n",
    "# helper method to calculate mse given some ranges\n",
    "def segment_mse_helper(expected, prediction, wave_ranges, flag):\n",
    "    expected_waves = []\n",
    "    pred_waves = []\n",
    "    mses = []\n",
    "\n",
    "    for range_ in wave_ranges:\n",
    "        expected_wave = expected[range_[0]:range_[1]]\n",
    "        pred_wave = prediction[range_[0]:range_[1]]\n",
    "        curr_mse = calculate_single_mse_helper(expected_wave, pred_wave)\n",
    "        if flag:\n",
    "            print('signal region--> range:', range_, ' mse:',curr_mse)\n",
    "        else:\n",
    "            print('non-signal region--> range:', range_, ' mse:',curr_mse)\n",
    "        mses.append(curr_mse)\n",
    "    \n",
    "    mse = sum(mses)\n",
    "    return mse\n",
    "\n",
    "def calculate_single_mse(expected, prediction, signal_ranges, non_signal_ranges):\n",
    "    print('signal ranges: ', str(signal_ranges),'non_signal ranges: ', str(non_signal_ranges))\n",
    "    \n",
    "    signal_region = 0\n",
    "    full_window = calculate_single_mse_helper(expected, prediction)\n",
    "    no_signal_region = 0\n",
    "    print(\"full window :\", full_window)\n",
    "    \n",
    "    if sum(expected) != 0:\n",
    "        signal_region = segment_mse_helper(expected, prediction, signal_ranges, True)\n",
    "        no_signal_region = segment_mse_helper(expected, prediction, non_signal_ranges, False)\n",
    "\n",
    "        print('signal region: ', signal_region)\n",
    "        print('non-signal region: ', no_signal_region)\n",
    "\n",
    "    return [full_window, signal_region, no_signal_region] "
   ]
  },
  {
   "cell_type": "code",
   "execution_count": null,
   "metadata": {},
   "outputs": [],
   "source": [
    "index = 5\n",
    "ex = y_test_scaled[index]\n",
    "pred = predictions[index]\n",
    "rng = ranges[index]"
   ]
  },
  {
   "cell_type": "code",
   "execution_count": null,
   "metadata": {},
   "outputs": [],
   "source": [
    "\n",
    "print(calculate_single_mse(ex, pred, rng,get_non_signal_ranges(rng)))\n",
    "fig = plt.figure(figsize=(10,2))\n",
    "plt.plot(ex, label=\"target\")\n",
    "plt.plot(pred, label=\"prediction\")\n",
    "plt.legend()\n",
    "plt.show()"
   ]
  },
  {
   "cell_type": "code",
   "execution_count": null,
   "metadata": {},
   "outputs": [],
   "source": [
    "\n",
    "tes_ex = ex[rng[0][0]:rng[0][1]]\n",
    "tes_pred = pred[rng[0][0]:rng[0][1]]\n",
    "fig = plt.figure(figsize=(10,2))\n",
    "plt.plot(tes_ex, label=\"target\")\n",
    "plt.plot(tes_pred, label=\"prediction\")\n",
    "plt.legend()\n",
    "plt.show()\n",
    "print(calculate_single_mse_helper(tes_ex, tes_pred))"
   ]
  },
  {
   "cell_type": "code",
   "execution_count": null,
   "metadata": {},
   "outputs": [],
   "source": [
    "i=5\n",
    "ex = y_test_scaled[i]\n",
    "pred = predictions[i]\n",
    "rng = ranges[i]\n",
    "wave_mse = calculate_single_mse(ex, pred, rng, get_non_signal_ranges(rng))\n",
    "for i in range(3):\n",
    "    print(wave_mse[i], i)\n",
    "# runtime ~ 2min\n",
    "print(wave_mse)"
   ]
  },
  {
   "cell_type": "markdown",
   "metadata": {},
   "source": [
    "#### calculate MSES for entire test set"
   ]
  },
  {
   "cell_type": "code",
   "execution_count": null,
   "metadata": {},
   "outputs": [],
   "source": [
    "full = []\n",
    "signal = []\n",
    "no_signal = []\n",
    "for i in range(len(ranges)):\n",
    "    ex = y_test_scaled[i]\n",
    "    pred = predictions[i]\n",
    "    rng = ranges[i]\n",
    "    wave_mse = calculate_single_mse(ex, pred, rng, get_non_signal_ranges(rng))\n",
    "    full.append(wave_mse[0])\n",
    "    signal.append(wave_mse[1])\n",
    "    no_signal.append(wave_mse[2])\n",
    "# runtime ~ 2min"
   ]
  },
  {
   "cell_type": "code",
   "execution_count": null,
   "metadata": {},
   "outputs": [],
   "source": [
    "print(any([math.isnan(x) for x in full]), any([math.isnan(x) for x in signal]), any([math.isnan(x) for x in no_signal]))\n",
    "print(len(full), len(signal), len(no_signal))"
   ]
  },
  {
   "cell_type": "markdown",
   "metadata": {},
   "source": [
    "### RESULT"
   ]
  },
  {
   "cell_type": "code",
   "execution_count": null,
   "metadata": {},
   "outputs": [],
   "source": [
    "print('Total MSE (mean) - full window:        ', np.mean(full))\n",
    "print('Total MSE (mean) - signal region:      ', np.mean(signal))\n",
    "print('Total MSE (mean) - non-signal region:  ', np.mean(no_signal))"
   ]
  },
  {
   "cell_type": "markdown",
   "metadata": {},
   "source": [
    "### Calculate MSE with new ranges ---  DONE"
   ]
  },
  {
   "cell_type": "markdown",
   "metadata": {},
   "source": [
    "______________________________________________________________________________________________________________________"
   ]
  },
  {
   "cell_type": "markdown",
   "metadata": {},
   "source": [
    "### GENERATE PLOTS with 1DCNN FLAGS + MSE INFO"
   ]
  },
  {
   "cell_type": "code",
   "execution_count": null,
   "metadata": {},
   "outputs": [],
   "source": [
    "model_1dcnn = load_model('../latest_models/model_' + wireplane + 'plane_nu.h5')"
   ]
  },
  {
   "cell_type": "code",
   "execution_count": null,
   "metadata": {},
   "outputs": [],
   "source": [
    "y_test_ROI = np.load('../processed_data/current/y_test_ROI_' + wireplane + '.npy')"
   ]
  },
  {
   "cell_type": "code",
   "execution_count": null,
   "metadata": {},
   "outputs": [],
   "source": [
    "x_test_scaled_ROI = np.array(x_test_scaled)\n",
    "all_infer = model_1dcnn.predict(x_test_scaled_ROI, batch_size=4096)\n",
    "fpr_keras, tpr_keras, thresholds_keras = roc_curve(y_test_ROI, all_infer)\n",
    "plt.figure(figsize=(8, 4))  \n",
    "plt.plot(fpr_keras, tpr_keras, label='auc: ' + str(round(auc(fpr_keras, tpr_keras), 3)))\n",
    "plt.title(\"ROC Curve - Test Dataset Plane \" + wireplane)\n",
    "plt.xlabel(\"False Positive Rate\")\n",
    "plt.ylabel(\"True Positive Rate\")\n",
    "plt.legend(loc='center')"
   ]
  },
  {
   "cell_type": "code",
   "execution_count": null,
   "metadata": {},
   "outputs": [],
   "source": [
    "pred_ROI = all_infer.squeeze()\n",
    "print(pred_ROI.shape)"
   ]
  },
  {
   "cell_type": "code",
   "execution_count": null,
   "metadata": {},
   "outputs": [],
   "source": [
    "for idx in range(100):\n",
    "    fig, (ax1) = plt.subplots(figsize=(20, 15), facecolor='white')\n",
    "    ax1.plot(y_test_[idx],color='blue', label='target')\n",
    "    ax1.plot(pred_[idx],color='m',alpha=0.7, label='model prediction')\n",
    "    ax1.plot(x_test_[idx], color='orange',alpha=0.7, label = 'original input')\n",
    "    ax1.set_title(\"trained using clean signals as target\", fontsize=20)\n",
    "    ax1.legend(fontsize=20)\n",
    "    plt.figtext(0.9125, 0.75, 'ROI pred: ' + str(np.round(pred_ROI[idx],5)), fontsize=20)\n",
    "    plt.figtext(0.9125, 0.7, 'ROI truth: ' + str(np.round(y_test_ROI[idx],5)), fontsize=20)\n",
    "    plt.figtext(0.9125, 0.65, 'MSE (full): ' + str(np.round(full[idx],5)), fontsize=20)\n",
    "    plt.figtext(0.9125, 0.6, 'MSE (sig): ' + str(np.round(signal[idx],5)), fontsize=20)\n",
    "    plt.figtext(0.9125, 0.55, 'MSE (no_sig): ' + str(np.round(no_signal[idx],5)), fontsize=20)\n",
    "    plt.xlabel('time', fontsize=20)\n",
    "    plt.ylabel('ADC', fontsize=20)\n",
    "    #filename = 'plane_u_mega_plots/'+str(idx)+'.png' \n",
    "    #plt.savefig(filename, facecolor='w', bbox_inches='tight')\n",
    "\n",
    "    plt.show()\n",
    "\n"
   ]
  },
  {
   "cell_type": "markdown",
   "metadata": {},
   "source": [
    "### GENERATE PLOTS with 1DCNN FLAGS + MSE INFO -- NOT COMPLETE"
   ]
  },
  {
   "cell_type": "markdown",
   "metadata": {},
   "source": [
    "-----------------------------------------------------------------------------------------------------------------------------"
   ]
  },
  {
   "cell_type": "markdown",
   "metadata": {},
   "source": [
    "### BELOW -- NEED TO LOOK AT AGAIN"
   ]
  },
  {
   "cell_type": "markdown",
   "metadata": {},
   "source": [
    "Next: at the moment MSEs are being calculating for just one range. However there are waves with multiple ranges. We need to take this into account"
   ]
  },
  {
   "cell_type": "code",
   "execution_count": null,
   "metadata": {},
   "outputs": [],
   "source": [
    "print(calculate_single_mse(x_test_scaled[0], predictions[15]))"
   ]
  },
  {
   "cell_type": "markdown",
   "metadata": {},
   "source": [
    "NOTE: MSE IS CALCULATED FOR ONE WAVE. NEED TO LOOP TO GET ALL WAVES"
   ]
  },
  {
   "cell_type": "code",
   "execution_count": null,
   "metadata": {},
   "outputs": [],
   "source": [
    "# adc_max = 0 means no max cut is applied\n",
    "def eval_cut_(x_test_, y_test_, adc_min, adc_max):\n",
    "    print(x_test_.shape, y_test_.shape)\n",
    "\n",
    "    test_, clean_ =  filter_signal_ADC(x_test_, y_test_, adc_min, False)\n",
    "    print(test_.shape, clean_.shape)\n",
    "    if adc_max != 0:\n",
    "        test_, clean_ =  filter_signal_ADC(test_, clean_, adc_max, True)\n",
    "    print(test_.shape, clean_.shape)\n",
    "\n",
    "\n",
    "    x_test_scaled_ = (x_test_-mean)/std\n",
    "    clean_scaled_ = clean_\n",
    "    \n",
    "    y_test_scaled_ = []\n",
    "    for i in range(len(y_test_)):\n",
    "        if sum(y_test_[i]) == 0:\n",
    "            y_test_scaled_.append(y_test_[i])\n",
    "        else:\n",
    "            scaled_ = (y_test_[i]-mean)/std\n",
    "            y_test_scaled_.append(scaled_)\n",
    "    y_test_scaled_ = np.array(y_test_scaled_)\n",
    "\n",
    "\n",
    "    all_pred = autoencoder.predict(x_test_scaled, batch_size=4096)\n",
    "    all_pred = all_pred.reshape(all_pred.shape[0], all_pred.shape[1])\n",
    "\n",
    "    MSES_ = []\n",
    "    nan_idxs_ = []\n",
    "    for idx in range(len(y_test_scaled)):\n",
    "        mse_ = calculate_single_mse(y_test_scaled[idx], all_pred[idx])\n",
    "\n",
    "        if not np.isnan(mse_):\n",
    "            MSES.append(mse_)\n",
    "        else:\n",
    "            nan_idxs_.append(idx)\n",
    "    return MSES, nan_idxs_"
   ]
  },
  {
   "cell_type": "code",
   "execution_count": null,
   "metadata": {},
   "outputs": [],
   "source": [
    "mse_3_15 = []\n",
    "nans_3_15 = []\n",
    "for i in range(3, 16):\n",
    "    eval_cut_(x_test, y_test, i, 0)\n",
    "    mses_, nans = eval_cut_(x_test, y_test, i, 0)\n",
    "    mse_3_15.append([mses_])\n",
    "    nans_3_15.append([nans])\n"
   ]
  },
  {
   "cell_type": "code",
   "execution_count": null,
   "metadata": {},
   "outputs": [],
   "source": [
    "print(len(mse_3_15), len(nans_3_15))"
   ]
  },
  {
   "cell_type": "code",
   "execution_count": null,
   "metadata": {},
   "outputs": [],
   "source": [
    "mse_3_15"
   ]
  },
  {
   "cell_type": "code",
   "execution_count": null,
   "metadata": {},
   "outputs": [],
   "source": []
  }
 ],
 "metadata": {
  "kernelspec": {
   "display_name": "Python 3 (ipykernel)",
   "language": "python",
   "name": "py3-preamble"
  },
  "language_info": {
   "codemirror_mode": {
    "name": "ipython",
    "version": 3
   },
   "file_extension": ".py",
   "mimetype": "text/x-python",
   "name": "python",
   "nbconvert_exporter": "python",
   "pygments_lexer": "ipython3",
   "version": "3.9.15"
  }
 },
 "nbformat": 4,
 "nbformat_minor": 4
}
