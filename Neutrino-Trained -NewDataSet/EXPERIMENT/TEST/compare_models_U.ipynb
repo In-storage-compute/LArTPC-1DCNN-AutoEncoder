{
 "cells": [
  {
   "cell_type": "markdown",
   "metadata": {},
   "source": [
    "In this notebook, we evaluate the AutoEncoder at different ADC ranges"
   ]
  },
  {
   "cell_type": "code",
   "execution_count": 1,
   "metadata": {},
   "outputs": [],
   "source": [
    "import sys\n",
    "import numpy as np\n",
    "import matplotlib.pyplot as plt\n",
    "import tensorflow as tf\n",
    "from tensorflow import keras \n",
    "from sklearn.model_selection import train_test_split\n",
    "from tensorflow.keras.models import load_model\n",
    "from sklearn.metrics import roc_curve\n",
    "from sklearn.metrics import auc\n",
    "import math\n",
    "import tqdm\n",
    "from PyPDF2 import PdfMerger\n",
    "import os\n",
    "from os import listdir\n",
    "from os.path import isfile, join"
   ]
  },
  {
   "cell_type": "code",
   "execution_count": 2,
   "metadata": {},
   "outputs": [],
   "source": [
    "wireplane = 'U'\n",
    "np.random.seed(42)\n",
    "\n",
    "def filter_signal_ADC(data, clean_data, adc_value, filter_by_max):\n",
    "    data_wf = []\n",
    "    clean_wf = []\n",
    "    for i in range(clean_data.shape[0]):\n",
    "        if filter_by_max:\n",
    "            if max(clean_data[i]) < adc_value or sum(clean_data[i]) == 0:\n",
    "                data_wf.append(data[i])\n",
    "                clean_wf.append(clean_data[i])\n",
    "        else:\n",
    "            if max(clean_data[i]) > adc_value or sum(clean_data[i]) == 0:\n",
    "                data_wf.append(data[i])\n",
    "                clean_wf.append(clean_data[i])\n",
    "    data_wf = np.array(data_wf)\n",
    "    clean_wf = np.array(clean_wf)\n",
    "    return data_wf, clean_wf"
   ]
  },
  {
   "cell_type": "markdown",
   "metadata": {},
   "source": [
    "Load testing set"
   ]
  },
  {
   "cell_type": "code",
   "execution_count": 3,
   "metadata": {},
   "outputs": [],
   "source": [
    "x_test = np.load('../../processed_data/current/x_test_' + wireplane + '.npy')\n",
    "y_test = np.load('../../processed_data/current/y_test_AE_' + wireplane + '.npy')\n",
    "\n",
    "x_train = np.load('../../processed_data/current/x_train_' + wireplane + '.npy')\n",
    "y_train = np.load('../../processed_data/current/y_train_AE_' + wireplane + '.npy')\n",
    "\n",
    "mean = np.load('../results/mean_AE_U.npy')\n",
    "std = np.load('../results/std_AE_U.npy')"
   ]
  },
  {
   "cell_type": "markdown",
   "metadata": {},
   "source": [
    "_______________________________________________________________________________________________________________________________"
   ]
  },
  {
   "cell_type": "code",
   "execution_count": 4,
   "metadata": {},
   "outputs": [],
   "source": [
    "x_test_scaled = (x_test-mean)/std\n",
    "y_test_scaled = (y_test-mean)/std"
   ]
  },
  {
   "cell_type": "markdown",
   "metadata": {},
   "source": [
    "Load trained model"
   ]
  },
  {
   "cell_type": "code",
   "execution_count": 5,
   "metadata": {},
   "outputs": [],
   "source": [
    "def custom_mse2(y_true, y_pred):\n",
    "\n",
    "    return -1"
   ]
  },
  {
   "cell_type": "code",
   "execution_count": 6,
   "metadata": {},
   "outputs": [],
   "source": [
    "cnn = load_model('../../latest_models/model_Uplane_nu.h5')\n",
    "\n",
    "autoencoder0 = load_model(\"../../latest_models/model_AE_\" + wireplane + 'plane_nu.h5')\n",
    "#autoencoder1 = load_model(\"../batch_size1_epochs_10\" + wireplane + 'plane_nu.h5', custom_objects={'custom_mse2':custom_mse2})\n",
    "#autoencoder2 = load_model(\"../batch_size1\" + wireplane + 'plane_nu.h5', custom_objects={'custom_mse2':custom_mse2})\n",
    "#autoencoder3 = load_model(\"../batch_size1_epochs_50\" + wireplane + 'plane_nu.h5', custom_objects={'custom_mse2':custom_mse2})  # ~ 20 epochs\n",
    "#autoencoder4 = load_model(\"../batch_size1_epochs_50_w1_1-w2_dot3\" + wireplane + 'plane_nu.h5', custom_objects={'custom_mse2':custom_mse2})  # ~ 10 epochs\n",
    "autoencoder5 = load_model(\"../batch_size1_epochs_50_w1_1-w2_dot7\" + wireplane + 'plane_nu.h5', custom_objects={'custom_mse2':custom_mse2})  # ~ 20 epochs\n",
    "#autoencoder6 = load_model(\"../batch_size1_epochs_50_w1_1-w2_dot7_unfreeze_lastCNN_layer_\" + wireplane + 'plane_nu.h5', custom_objects={'custom_mse2':custom_mse2})  # ~ 15 epochs\n",
    "#autoencoder7 = load_model(\"../../UPDATE_AE/TESSSSSSSSSST_prv_NEW_Uplane_nu.h5\", custom_objects={'custom_mse2':custom_mse2})\n",
    "autoencoder8 = load_model(\"../w2_fxd_batch_size1_epochs_50_w1_1-w2_dot7_\" + wireplane + 'plane_nu.h5', custom_objects={'custom_mse2':custom_mse2})  # ~ 20 epochs\n",
    "autoencoder9 = load_model(\"../results/w2_fxd_batch_size1_epochs_50_w1_1-w2_dot7_\" + wireplane + 'plane_nu.h5', custom_objects={'custom_mse2':custom_mse2})  # ~ 20 epochs\n"
   ]
  },
  {
   "cell_type": "code",
   "execution_count": 7,
   "metadata": {},
   "outputs": [
    {
     "data": {
      "text/plain": [
       "True"
      ]
     },
     "execution_count": 7,
     "metadata": {},
     "output_type": "execute_result"
    }
   ],
   "source": [
    "tf.executing_eagerly()"
   ]
  },
  {
   "cell_type": "code",
   "execution_count": 8,
   "metadata": {},
   "outputs": [
    {
     "name": "stdout",
     "output_type": "stream",
     "text": [
      "25/25 [==============================] - 0s 15ms/step\n"
     ]
    }
   ],
   "source": [
    "cnn_pred = cnn.predict(x_test_scaled, batch_size=4096)\n",
    "cnn_pred = cnn_pred.squeeze()"
   ]
  },
  {
   "cell_type": "markdown",
   "metadata": {},
   "source": [
    "### let's see what the MSE is at the region where signal exists"
   ]
  },
  {
   "cell_type": "code",
   "execution_count": 9,
   "metadata": {},
   "outputs": [
    {
     "name": "stdout",
     "output_type": "stream",
     "text": [
      "25/25 [==============================] - 1s 39ms/step\n",
      "25/25 [==============================] - 1s 42ms/step\n",
      "25/25 [==============================] - 1s 42ms/step\n",
      "25/25 [==============================] - 1s 43ms/step\n",
      "Wall time: 4.85 s\n"
     ]
    }
   ],
   "source": [
    "%%time\n",
    "predictions0 = autoencoder0.predict(x_test_scaled, batch_size=4096)\n",
    "predictions0 = predictions0.reshape(predictions0.shape[0], predictions0.shape[1])\n",
    "\n",
    "'''\n",
    "predictions1 = autoencoder1.predict(x_test_scaled, batch_size=4096)\n",
    "predictions1 = predictions1.reshape(predictions1.shape[0], predictions1.shape[1])\n",
    "\n",
    "predictions2 = autoencoder2.predict(x_test_scaled, batch_size=4096)\n",
    "predictions2 = predictions2.reshape(predictions2.shape[0], predictions2.shape[1])\n",
    "\n",
    "predictions3 = autoencoder3.predict(x_test_scaled, batch_size=4096)\n",
    "predictions3 = predictions3.reshape(predictions3.shape[0], predictions3.shape[1])\n",
    "\n",
    "predictions4 = autoencoder4.predict(x_test_scaled, batch_size=4096)\n",
    "predictions4 = predictions4.reshape(predictions4.shape[0], predictions4.shape[1])\n",
    "'''\n",
    "predictions5 = autoencoder5.predict(x_test_scaled, batch_size=4096)\n",
    "predictions5 = predictions5.reshape(predictions5.shape[0], predictions5.shape[1])\n",
    "'''\n",
    "predictions6 = autoencoder6.predict(x_test_scaled, batch_size=4096)\n",
    "predictions6 = predictions6.reshape(predictions6.shape[0], predictions6.shape[1])\n",
    "\n",
    "predictions7 = autoencoder7.predict(x_test_scaled, batch_size=4096)\n",
    "predictions7 = predictions7.reshape(predictions7.shape[0], predictions7.shape[1]\n",
    "'''\n",
    "predictions8 = autoencoder8.predict(x_test_scaled, batch_size=4096)\n",
    "predictions8 = predictions8.reshape(predictions8.shape[0], predictions8.shape[1])\n",
    "\n",
    "predictions9 = autoencoder9.predict(x_test_scaled, batch_size=4096)\n",
    "predictions9 = predictions9.reshape(predictions9.shape[0], predictions9.shape[1])"
   ]
  },
  {
   "cell_type": "code",
   "execution_count": 10,
   "metadata": {},
   "outputs": [],
   "source": [
    "x_test_ = std*x_test_scaled+mean\n",
    "y_test_ = y_test_ = y_test_scaled*std + mean"
   ]
  },
  {
   "cell_type": "markdown",
   "metadata": {},
   "source": [
    "Plot predicted wave on top of target and input"
   ]
  },
  {
   "cell_type": "code",
   "execution_count": 11,
   "metadata": {},
   "outputs": [],
   "source": [
    "\n",
    "pred0 = predictions0 #*std+mean\n",
    "#pred1 = predictions1*std+mean\n",
    "#pred2 = predictions2*std+mean\n",
    "#pred3 = predictions3*std+mean\n",
    "#pred4 = predictions4*std+mean\n",
    "pred5 = predictions5 #*std+mean\n",
    "#pred6 = predictions6*std+mean\n",
    "#pred7 = predictions7*std+mean\n",
    "pred8 = predictions8 #*std+mean\n",
    "\n",
    "\n",
    "pred9 = predictions9*std + mean"
   ]
  },
  {
   "cell_type": "code",
   "execution_count": 12,
   "metadata": {},
   "outputs": [
    {
     "data": {
      "text/plain": [
       "0.17327026"
      ]
     },
     "execution_count": 12,
     "metadata": {},
     "output_type": "execute_result"
    }
   ],
   "source": [
    "cnn_pred[0]"
   ]
  },
  {
   "cell_type": "markdown",
   "metadata": {},
   "source": [
    "### DEBUG -- apply ADC-CUT"
   ]
  },
  {
   "attachments": {},
   "cell_type": "markdown",
   "metadata": {},
   "source": [
    "save plots to PDF - only saving model 5, best so far"
   ]
  },
  {
   "cell_type": "code",
   "execution_count": 30,
   "metadata": {},
   "outputs": [],
   "source": [
    "def make_single_pdf(wave_idx, pg_num, min_cnn, max_cnn):\n",
    "\n",
    "    fig, axs = plt.subplots(3,2, figsize=(30, 18), facecolor='w', edgecolor='k')\n",
    "    fig.subplots_adjust(hspace = .375, wspace=.1)\n",
    "\n",
    "    axes = axs.ravel()\n",
    "\n",
    "    for i in range(6):\n",
    "        index_ = i + wave_idx\n",
    "        max_adc = int((max(x_test_[index_])))\n",
    "        \n",
    "        if not (max_adc < 20 and cnn_pred[index_] > min_cnn and cnn_pred[index_] <= max_cnn and sum(y_test_[index_]) == 0):\n",
    "            while True:\n",
    "                index_ += 1\n",
    "                max_adc = int((max(x_test_[index_])))\n",
    "                \n",
    "                if (max_adc < 20 and cnn_pred[index_] > min_cnn and cnn_pred[index_] <= max_cnn and sum(y_test_[index_]) == 0):\n",
    "                    break\n",
    "        wave_idx = index_\n",
    "\n",
    "\n",
    "        axes[i].plot(x_test_[index_], color='black',alpha=0.2, label = 'original input (adc_max: ' + str(max_adc) + ')')\n",
    "        axes[i].plot(y_test_[index_],color='blue', label='target', alpha=1)\n",
    "        #axes[i].plot(pred8[index_],color='m',alpha=0.7, label='model_8')\n",
    "        axes[i].plot(pred9[index_],color='m',alpha=0.9, label='model_9')\n",
    "        axes[i].legend(fontsize=12)\n",
    "        axes[i].set_title('CNN output: ' + str(round(cnn_pred[index_], 4)) + ' --- [idx: ' + str(index_) + ']', size=15)\n",
    "        axes[i].set_ylabel('ADC', size=12)\n",
    "\n",
    "\n",
    "    plt.savefig('pdfs/tmp/plts_cnn_page' + str(pg_num) +  '.pdf',\n",
    "                dpi=300,\n",
    "                bbox_inches='tight', pad_inches=0.75)\n",
    "    plt.close()\n",
    "\n",
    "    return wave_idx"
   ]
  },
  {
   "cell_type": "code",
   "execution_count": 31,
   "metadata": {},
   "outputs": [],
   "source": [
    "# creates and merges pdf, removes all single page pdfs from tmp folder\n",
    "def make_complete_pdf(num_pages, min_cnn, max_cnn):\n",
    "    wave_idx_ = 0\n",
    "    page_num = 0\n",
    "\n",
    "    while page_num < num_pages:\n",
    "        wave_idx_ = make_single_pdf(wave_idx_, page_num, min_cnn, max_cnn) + 1\n",
    "        page_num += 1\n",
    "\n",
    "    merger = PdfMerger()\n",
    "    path = 'pdfs/tmp/'\n",
    "    pdf_files = [path+f for f in listdir(path) if (isfile(join(path, f)))]\n",
    "    print(pdf_files)\n",
    "    for pdf_file in pdf_files:\n",
    "        #Append PDF files\n",
    "        merger.append(pdf_file)\n",
    "    merger.write('pdfs/lastest_plots/plts_cnn_'+str(int(min_cnn*100)) + '-' + str(int(max_cnn*100)) + '_' + str(num_pages) +  'pages_NOISE.pdf')\n",
    "    merger.close()\n",
    "\n",
    "    for file in pdf_files:\n",
    "        os.remove(file)"
   ]
  },
  {
   "cell_type": "code",
   "execution_count": 32,
   "metadata": {},
   "outputs": [
    {
     "name": "stdout",
     "output_type": "stream",
     "text": [
      "['pdfs/tmp/plts_cnn_page0.pdf', 'pdfs/tmp/plts_cnn_page1.pdf', 'pdfs/tmp/plts_cnn_page2.pdf', 'pdfs/tmp/plts_cnn_page3.pdf', 'pdfs/tmp/plts_cnn_page4.pdf', 'pdfs/tmp/plts_cnn_page5.pdf', 'pdfs/tmp/plts_cnn_page6.pdf', 'pdfs/tmp/plts_cnn_page7.pdf', 'pdfs/tmp/plts_cnn_page8.pdf', 'pdfs/tmp/plts_cnn_page9.pdf']\n"
     ]
    }
   ],
   "source": [
    "make_complete_pdf(10, 0.94, 1)"
   ]
  },
  {
   "cell_type": "code",
   "execution_count": 33,
   "metadata": {},
   "outputs": [
    {
     "name": "stdout",
     "output_type": "stream",
     "text": [
      "['pdfs/tmp/plts_cnn_page0.pdf', 'pdfs/tmp/plts_cnn_page1.pdf', 'pdfs/tmp/plts_cnn_page2.pdf', 'pdfs/tmp/plts_cnn_page3.pdf', 'pdfs/tmp/plts_cnn_page4.pdf', 'pdfs/tmp/plts_cnn_page5.pdf', 'pdfs/tmp/plts_cnn_page6.pdf', 'pdfs/tmp/plts_cnn_page7.pdf', 'pdfs/tmp/plts_cnn_page8.pdf', 'pdfs/tmp/plts_cnn_page9.pdf']\n",
      "['pdfs/tmp/plts_cnn_page0.pdf', 'pdfs/tmp/plts_cnn_page1.pdf', 'pdfs/tmp/plts_cnn_page2.pdf', 'pdfs/tmp/plts_cnn_page3.pdf', 'pdfs/tmp/plts_cnn_page4.pdf', 'pdfs/tmp/plts_cnn_page5.pdf', 'pdfs/tmp/plts_cnn_page6.pdf', 'pdfs/tmp/plts_cnn_page7.pdf', 'pdfs/tmp/plts_cnn_page8.pdf', 'pdfs/tmp/plts_cnn_page9.pdf']\n",
      "['pdfs/tmp/plts_cnn_page0.pdf', 'pdfs/tmp/plts_cnn_page1.pdf', 'pdfs/tmp/plts_cnn_page2.pdf', 'pdfs/tmp/plts_cnn_page3.pdf', 'pdfs/tmp/plts_cnn_page4.pdf', 'pdfs/tmp/plts_cnn_page5.pdf', 'pdfs/tmp/plts_cnn_page6.pdf', 'pdfs/tmp/plts_cnn_page7.pdf', 'pdfs/tmp/plts_cnn_page8.pdf', 'pdfs/tmp/plts_cnn_page9.pdf']\n",
      "['pdfs/tmp/plts_cnn_page0.pdf', 'pdfs/tmp/plts_cnn_page1.pdf', 'pdfs/tmp/plts_cnn_page2.pdf', 'pdfs/tmp/plts_cnn_page3.pdf', 'pdfs/tmp/plts_cnn_page4.pdf', 'pdfs/tmp/plts_cnn_page5.pdf', 'pdfs/tmp/plts_cnn_page6.pdf', 'pdfs/tmp/plts_cnn_page7.pdf', 'pdfs/tmp/plts_cnn_page8.pdf', 'pdfs/tmp/plts_cnn_page9.pdf']\n",
      "['pdfs/tmp/plts_cnn_page0.pdf', 'pdfs/tmp/plts_cnn_page1.pdf', 'pdfs/tmp/plts_cnn_page2.pdf', 'pdfs/tmp/plts_cnn_page3.pdf', 'pdfs/tmp/plts_cnn_page4.pdf', 'pdfs/tmp/plts_cnn_page5.pdf', 'pdfs/tmp/plts_cnn_page6.pdf', 'pdfs/tmp/plts_cnn_page7.pdf', 'pdfs/tmp/plts_cnn_page8.pdf', 'pdfs/tmp/plts_cnn_page9.pdf']\n"
     ]
    }
   ],
   "source": [
    "min_ = 0.94\n",
    "prev = min_\n",
    "max_ = 1\n",
    "while min_ > 0:\n",
    "    min_ = min_ - 0.2 \n",
    "    make_complete_pdf(10, min_, prev)\n",
    "    prev = min_\n"
   ]
  },
  {
   "attachments": {},
   "cell_type": "markdown",
   "metadata": {},
   "source": [
    "## ----------------------------------------------------------------------------"
   ]
  },
  {
   "cell_type": "markdown",
   "metadata": {},
   "source": [
    "#### generate plots of model's prediction on top of input & clean target (ADC CUT APPLIED)"
   ]
  },
  {
   "cell_type": "code",
   "execution_count": null,
   "metadata": {},
   "outputs": [],
   "source": [
    "for idx in range(10):\n",
    "    max_adc = int((max(x_test_[idx])))\n",
    "    if sum(y_test_scaled[idx]) != 0:\n",
    "        if max_adc > 20 and cnn_pred[idx] > 0.94:\n",
    "            fig, (ax1) = plt.subplots(figsize=(15, 12), facecolor='white')\n",
    "            ax1.plot(y_test_[idx],color='yellow', label='target', alpha=0.7)\n",
    "            ax1.plot(x_test_[idx], color='black',alpha=0.2, label = 'original input (adc_max: ' + str(max_adc) + ')')\n",
    "\n",
    "            #ax1.plot(pred0[idx],color='m',alpha=0.5, label='model_0')\n",
    "            #ax1.plot(pred1[idx],color='g',alpha=0.3, label='model_1')\n",
    "            #ax1.plot(pred2[idx],color='r',alpha=0.3, label='model_2')\n",
    "            #ax1.plot(pred3[idx],color='yellow',alpha=0.3, label='model_3')\n",
    "            #ax1.plot(pred4[idx],color='orange',alpha=0.5, label='model_4')\n",
    "            ax1.plot(pred5[idx],color='m',alpha=0.9, label='model_5')\n",
    "            #ax1.plot(pred6[idx],color='r',alpha=0.3, label='model_6')\n",
    "            \n",
    "            \n",
    "            ax1.set_title(\"cnn output: \" + str(round(cnn_pred[idx], 4)), fontsize=15)\n",
    "            ax1.legend()\n",
    "            #filename = 'plane_u_AE_plots_ADC_MAX_15_no_noise/'+str(idx)+'.png' \n",
    "            #plt.savefig(filename, facecolor='w'\n",
    "            plt.show()"
   ]
  },
  {
   "cell_type": "markdown",
   "metadata": {},
   "source": [
    "### DEBUG -- apply ADC-CUT -- NOT DONE"
   ]
  },
  {
   "cell_type": "markdown",
   "metadata": {},
   "source": [
    "-----------------------------------------------------------------------------"
   ]
  },
  {
   "cell_type": "code",
   "execution_count": null,
   "metadata": {},
   "outputs": [],
   "source": []
  }
 ],
 "metadata": {
  "kernelspec": {
   "display_name": "Python 3",
   "language": "python",
   "name": "python3"
  },
  "language_info": {
   "codemirror_mode": {
    "name": "ipython",
    "version": 3
   },
   "file_extension": ".py",
   "mimetype": "text/x-python",
   "name": "python",
   "nbconvert_exporter": "python",
   "pygments_lexer": "ipython3",
   "version": "3.9.5"
  }
 },
 "nbformat": 4,
 "nbformat_minor": 4
}
