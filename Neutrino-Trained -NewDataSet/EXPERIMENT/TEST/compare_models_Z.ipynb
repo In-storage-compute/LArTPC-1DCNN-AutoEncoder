{
 "cells": [
  {
   "cell_type": "markdown",
   "metadata": {},
   "source": [
    "In this notebook, we evaluate the AutoEncoder at different ADC ranges"
   ]
  },
  {
   "cell_type": "code",
   "execution_count": 1,
   "metadata": {},
   "outputs": [],
   "source": [
    "import sys\n",
    "import numpy as np\n",
    "import matplotlib.pyplot as plt\n",
    "import tensorflow as tf\n",
    "from tensorflow import keras \n",
    "from sklearn.model_selection import train_test_split\n",
    "from tensorflow.keras.models import load_model\n",
    "from sklearn.metrics import roc_curve\n",
    "from sklearn.metrics import auc\n",
    "import math\n",
    "import tqdm"
   ]
  },
  {
   "cell_type": "code",
   "execution_count": 2,
   "metadata": {},
   "outputs": [],
   "source": [
    "wireplane = 'Z'\n",
    "np.random.seed(42)\n",
    "\n",
    "def filter_signal_ADC(data, clean_data, adc_value, filter_by_max):\n",
    "    data_wf = []\n",
    "    clean_wf = []\n",
    "    for i in range(clean_data.shape[0]):\n",
    "        if filter_by_max:\n",
    "            if max(clean_data[i]) < adc_value or sum(clean_data[i]) == 0:\n",
    "                data_wf.append(data[i])\n",
    "                clean_wf.append(clean_data[i])\n",
    "        else:\n",
    "            if max(clean_data[i]) > adc_value or sum(clean_data[i]) == 0:\n",
    "                data_wf.append(data[i])\n",
    "                clean_wf.append(clean_data[i])\n",
    "    data_wf = np.array(data_wf)\n",
    "    clean_wf = np.array(clean_wf)\n",
    "    return data_wf, clean_wf"
   ]
  },
  {
   "cell_type": "markdown",
   "metadata": {},
   "source": [
    "Load testing set"
   ]
  },
  {
   "cell_type": "code",
   "execution_count": 3,
   "metadata": {},
   "outputs": [],
   "source": [
    "x_test = np.load('../../processed_data/current/x_test_' + wireplane + '.npy')\n",
    "y_test = np.load('../../processed_data/current//y_test_AE_' + wireplane + '.npy')\n",
    "mean = np.load('../../latest_models/mean_' + wireplane + '_nu.npy')\n",
    "std = np.load('../../latest_models/scale_' + wireplane + '_nu.npy')"
   ]
  },
  {
   "cell_type": "markdown",
   "metadata": {},
   "source": [
    "_______________________________________________________________________________________________________________________________"
   ]
  },
  {
   "cell_type": "code",
   "execution_count": 4,
   "metadata": {},
   "outputs": [],
   "source": [
    "x_test_scaled = (x_test-mean)/std"
   ]
  },
  {
   "cell_type": "code",
   "execution_count": 5,
   "metadata": {},
   "outputs": [],
   "source": [
    "y_test_scaled = []\n",
    "for i in range(len(y_test)):\n",
    "    if sum(y_test[i]) == 0:\n",
    "        y_test_scaled.append(y_test[i])\n",
    "    else:\n",
    "        scaled = (y_test[i]-mean)/std\n",
    "        y_test_scaled.append(scaled)\n",
    "y_test_scaled = np.array(y_test_scaled)\n"
   ]
  },
  {
   "cell_type": "markdown",
   "metadata": {},
   "source": [
    "Load trained model"
   ]
  },
  {
   "cell_type": "code",
   "execution_count": 6,
   "metadata": {},
   "outputs": [],
   "source": [
    "def custom_mse2(y_true, y_pred):\n",
    "\n",
    "    return -1"
   ]
  },
  {
   "cell_type": "code",
   "execution_count": 7,
   "metadata": {},
   "outputs": [
    {
     "ename": "OSError",
     "evalue": "No file or directory found at ../batch_size1_epochs_50_w1_1-w2_dot7Zplane_nu.h5",
     "output_type": "error",
     "traceback": [
      "\u001b[1;31m---------------------------------------------------------------------------\u001b[0m",
      "\u001b[1;31mOSError\u001b[0m                                   Traceback (most recent call last)",
      "\u001b[1;32m<ipython-input-7-bf7ece0bd6c5>\u001b[0m in \u001b[0;36m<module>\u001b[1;34m\u001b[0m\n\u001b[0;32m      2\u001b[0m \u001b[1;33m\u001b[0m\u001b[0m\n\u001b[0;32m      3\u001b[0m \u001b[0mautoencoder0\u001b[0m \u001b[1;33m=\u001b[0m \u001b[0mload_model\u001b[0m\u001b[1;33m(\u001b[0m\u001b[1;34m\"../../latest_models/model_AE_\"\u001b[0m \u001b[1;33m+\u001b[0m \u001b[0mwireplane\u001b[0m \u001b[1;33m+\u001b[0m \u001b[1;34m'plane_nu.h5'\u001b[0m\u001b[1;33m)\u001b[0m\u001b[1;33m\u001b[0m\u001b[1;33m\u001b[0m\u001b[0m\n\u001b[1;32m----> 4\u001b[1;33m \u001b[0mautoencoder1\u001b[0m \u001b[1;33m=\u001b[0m \u001b[0mload_model\u001b[0m\u001b[1;33m(\u001b[0m\u001b[1;34m\"../batch_size1_epochs_50_w1_1-w2_dot7\"\u001b[0m \u001b[1;33m+\u001b[0m \u001b[0mwireplane\u001b[0m \u001b[1;33m+\u001b[0m \u001b[1;34m'plane_nu.h5'\u001b[0m\u001b[1;33m,\u001b[0m \u001b[0mcustom_objects\u001b[0m\u001b[1;33m=\u001b[0m\u001b[1;33m{\u001b[0m\u001b[1;34m'custom_mse2'\u001b[0m\u001b[1;33m:\u001b[0m\u001b[0mcustom_mse2\u001b[0m\u001b[1;33m}\u001b[0m\u001b[1;33m)\u001b[0m  \u001b[1;31m# ~ 20 epochs\u001b[0m\u001b[1;33m\u001b[0m\u001b[1;33m\u001b[0m\u001b[0m\n\u001b[0m",
      "\u001b[1;32mc:\\Users\\vanth\\AppData\\Local\\Programs\\Python\\Python39\\lib\\site-packages\\keras\\utils\\traceback_utils.py\u001b[0m in \u001b[0;36merror_handler\u001b[1;34m(*args, **kwargs)\u001b[0m\n\u001b[0;32m     68\u001b[0m             \u001b[1;31m# To get the full stack trace, call:\u001b[0m\u001b[1;33m\u001b[0m\u001b[1;33m\u001b[0m\u001b[1;33m\u001b[0m\u001b[0m\n\u001b[0;32m     69\u001b[0m             \u001b[1;31m# `tf.debugging.disable_traceback_filtering()`\u001b[0m\u001b[1;33m\u001b[0m\u001b[1;33m\u001b[0m\u001b[1;33m\u001b[0m\u001b[0m\n\u001b[1;32m---> 70\u001b[1;33m             \u001b[1;32mraise\u001b[0m \u001b[0me\u001b[0m\u001b[1;33m.\u001b[0m\u001b[0mwith_traceback\u001b[0m\u001b[1;33m(\u001b[0m\u001b[0mfiltered_tb\u001b[0m\u001b[1;33m)\u001b[0m \u001b[1;32mfrom\u001b[0m \u001b[1;32mNone\u001b[0m\u001b[1;33m\u001b[0m\u001b[1;33m\u001b[0m\u001b[0m\n\u001b[0m\u001b[0;32m     71\u001b[0m         \u001b[1;32mfinally\u001b[0m\u001b[1;33m:\u001b[0m\u001b[1;33m\u001b[0m\u001b[1;33m\u001b[0m\u001b[0m\n\u001b[0;32m     72\u001b[0m             \u001b[1;32mdel\u001b[0m \u001b[0mfiltered_tb\u001b[0m\u001b[1;33m\u001b[0m\u001b[1;33m\u001b[0m\u001b[0m\n",
      "\u001b[1;32mc:\\Users\\vanth\\AppData\\Local\\Programs\\Python\\Python39\\lib\\site-packages\\keras\\saving\\legacy\\save.py\u001b[0m in \u001b[0;36mload_model\u001b[1;34m(filepath, custom_objects, compile, options)\u001b[0m\n\u001b[0;32m    225\u001b[0m                 \u001b[1;32mif\u001b[0m \u001b[0misinstance\u001b[0m\u001b[1;33m(\u001b[0m\u001b[0mfilepath_str\u001b[0m\u001b[1;33m,\u001b[0m \u001b[0mstr\u001b[0m\u001b[1;33m)\u001b[0m\u001b[1;33m:\u001b[0m\u001b[1;33m\u001b[0m\u001b[1;33m\u001b[0m\u001b[0m\n\u001b[0;32m    226\u001b[0m                     \u001b[1;32mif\u001b[0m \u001b[1;32mnot\u001b[0m \u001b[0mtf\u001b[0m\u001b[1;33m.\u001b[0m\u001b[0mio\u001b[0m\u001b[1;33m.\u001b[0m\u001b[0mgfile\u001b[0m\u001b[1;33m.\u001b[0m\u001b[0mexists\u001b[0m\u001b[1;33m(\u001b[0m\u001b[0mfilepath_str\u001b[0m\u001b[1;33m)\u001b[0m\u001b[1;33m:\u001b[0m\u001b[1;33m\u001b[0m\u001b[1;33m\u001b[0m\u001b[0m\n\u001b[1;32m--> 227\u001b[1;33m                         raise IOError(\n\u001b[0m\u001b[0;32m    228\u001b[0m                             \u001b[1;34mf\"No file or directory found at {filepath_str}\"\u001b[0m\u001b[1;33m\u001b[0m\u001b[1;33m\u001b[0m\u001b[0m\n\u001b[0;32m    229\u001b[0m                         )\n",
      "\u001b[1;31mOSError\u001b[0m: No file or directory found at ../batch_size1_epochs_50_w1_1-w2_dot7Zplane_nu.h5"
     ]
    }
   ],
   "source": [
    "cnn = load_model('../../latest_models/model_Zplane_nu.h5')\n",
    "\n",
    "autoencoder0 = load_model(\"../../latest_models/model_AE_\" + wireplane + 'plane_nu.h5')\n",
    "autoencoder1 = load_model(\"../batch_size1_epochs_50_w1_1-w2_dot7_Zplane_nu.h5\", custom_objects={'custom_mse2':custom_mse2})  # ~ 20 epochs\n"
   ]
  },
  {
   "cell_type": "code",
   "execution_count": null,
   "metadata": {},
   "outputs": [],
   "source": [
    "tf.executing_eagerly()"
   ]
  },
  {
   "cell_type": "code",
   "execution_count": null,
   "metadata": {},
   "outputs": [],
   "source": [
    "cnn_pred = cnn.predict(x_test_scaled, batch_size=4096)\n",
    "cnn_pred = cnn_pred.squeeze()"
   ]
  },
  {
   "cell_type": "markdown",
   "metadata": {},
   "source": [
    "### let's see what the MSE is at the region where signal exists"
   ]
  },
  {
   "cell_type": "code",
   "execution_count": null,
   "metadata": {},
   "outputs": [],
   "source": [
    "%%time\n",
    "predictions0 = autoencoder0.predict(x_test_scaled, batch_size=4096)\n",
    "predictions0 = predictions0.reshape(predictions0.shape[0], predictions0.shape[1])\n",
    "\n",
    "predictions1 = autoencoder1.predict(x_test_scaled, batch_size=4096)\n",
    "predictions1 = predictions1.reshape(predictions1.shape[0], predictions1.shape[1])\n",
    "\n",
    "predictions2 = autoencoder2.predict(x_test_scaled, batch_size=4096)\n",
    "predictions2 = predictions2.reshape(predictions2.shape[0], predictions2.shape[1])\n",
    "\n",
    "predictions3 = autoencoder3.predict(x_test_scaled, batch_size=4096)\n",
    "predictions3 = predictions3.reshape(predictions3.shape[0], predictions3.shape[1])\n",
    "\n",
    "predictions4 = autoencoder4.predict(x_test_scaled, batch_size=4096)\n",
    "predictions4 = predictions4.reshape(predictions4.shape[0], predictions4.shape[1])\n",
    "\n",
    "predictions5 = autoencoder5.predict(x_test_scaled, batch_size=4096)\n",
    "predictions5 = predictions5.reshape(predictions5.shape[0], predictions5.shape[1])\n",
    "\n",
    "predictions6 = autoencoder6.predict(x_test_scaled, batch_size=4096)\n",
    "predictions6 = predictions6.reshape(predictions6.shape[0], predictions6.shape[1])"
   ]
  },
  {
   "cell_type": "code",
   "execution_count": null,
   "metadata": {},
   "outputs": [],
   "source": [
    "x_test_ = std*x_test_scaled+mean\n",
    "y_test_ = np.load('../../processed_data/current//y_test_AE_' + wireplane + '.npy')  # make sure target is original/not scaled before"
   ]
  },
  {
   "cell_type": "markdown",
   "metadata": {},
   "source": [
    "Plot predicted wave on top of target and input"
   ]
  },
  {
   "cell_type": "code",
   "execution_count": null,
   "metadata": {},
   "outputs": [],
   "source": [
    "\n",
    "pred0 = predictions0*std+mean\n",
    "pred1 = predictions1*std+mean\n",
    "pred2 = predictions2*std+mean\n",
    "pred3 = predictions3*std+mean\n",
    "pred4 = predictions4*std+mean\n",
    "pred5 = predictions5*std+mean\n",
    "pred6 = predictions6*std+mean"
   ]
  },
  {
   "cell_type": "code",
   "execution_count": null,
   "metadata": {},
   "outputs": [],
   "source": [
    "cnn_pred[0]"
   ]
  },
  {
   "cell_type": "markdown",
   "metadata": {},
   "source": [
    "### DEBUG -- apply ADC-CUT"
   ]
  },
  {
   "cell_type": "markdown",
   "metadata": {},
   "source": [
    "#### generate plots of model's prediction on top of input & clean target (ADC CUT APPLIED)"
   ]
  },
  {
   "cell_type": "code",
   "execution_count": null,
   "metadata": {},
   "outputs": [],
   "source": [
    "for idx in range(10):\n",
    "    max_adc = int((max(x_test_[idx])))\n",
    "    if sum(y_test_scaled[idx]) != 0:\n",
    "        if max_adc > 20 and cnn_pred[idx] > 0.94:\n",
    "            fig, (ax1) = plt.subplots(figsize=(15, 12), facecolor='white')\n",
    "            ax1.plot(y_test_[idx],color='yellow', label='target', alpha=0.7)\n",
    "            ax1.plot(x_test_[idx], color='black',alpha=0.2, label = 'original input (adc_max: ' + str(max_adc) + ')')\n",
    "\n",
    "            ax1.plot(pred0[idx],color='m',alpha=0.5, label='model_0')\n",
    "            #ax1.plot(pred1[idx],color='g',alpha=0.3, label='model_1')\n",
    "            #ax1.plot(pred2[idx],color='r',alpha=0.3, label='model_2')\n",
    "            #ax1.plot(pred3[idx],color='yellow',alpha=0.3, label='model_3')\n",
    "            #ax1.plot(pred4[idx],color='orange',alpha=0.5, label='model_4')\n",
    "            ax1.plot(pred5[idx],color='g',alpha=0.5, label='model_5')\n",
    "            ax1.plot(pred6[idx],color='r',alpha=0.3, label='model_6')\n",
    "            \n",
    "            \n",
    "            ax1.set_title(\"cnn output: \" + str(round(cnn_pred[idx], 4)), fontsize=15)\n",
    "            ax1.legend()\n",
    "            #filename = 'plane_u_AE_plots_ADC_MAX_15_no_noise/'+str(idx)+'.png' \n",
    "            #plt.savefig(filename, facecolor='w'\n",
    "            plt.show()"
   ]
  },
  {
   "cell_type": "markdown",
   "metadata": {},
   "source": [
    "### DEBUG -- apply ADC-CUT -- NOT DONE"
   ]
  },
  {
   "cell_type": "markdown",
   "metadata": {},
   "source": [
    "-----------------------------------------------------------------------------"
   ]
  },
  {
   "cell_type": "markdown",
   "metadata": {},
   "source": [
    "#### generate plots of model's prediction on top of input & clean target (ALL)"
   ]
  },
  {
   "cell_type": "code",
   "execution_count": null,
   "metadata": {},
   "outputs": [],
   "source": [
    "#for idx in range(len(x_test_)):\n",
    "#    fig, (ax1) = plt.subplots(figsize=(12, 4), facecolor='white')\n",
    "#    ax1.plot(y_test_[idx],color='blue', label='target')\n",
    "#    ax1.plot(pred_[idx],color='m',alpha=0.7, label='model prediction')\n",
    "#    ax1.plot(x_test_[idx], color='orange',alpha=0.7, label = 'original input')\n",
    "#    ax1.set_title(\"trained using clean signals as target\", fontsize=15)\n",
    "#    ax1.legend()\n",
    "#    filename = 'plane_u_AE_plots/'+str(idx)+'.png' \n",
    "#    plt.savefig(filename, facecolor='w')\n",
    "#    plt.close()"
   ]
  },
  {
   "cell_type": "markdown",
   "metadata": {},
   "source": [
    "Checkpoint reached"
   ]
  },
  {
   "cell_type": "code",
   "execution_count": null,
   "metadata": {},
   "outputs": [],
   "source": [
    "# calculate MSE for the entire range\n",
    "mse = np.mean((y_test_scaled - predictions)**2)\n",
    "print(\"MSE for entire range:\", mse)"
   ]
  },
  {
   "cell_type": "markdown",
   "metadata": {},
   "source": [
    "### Calculate MSE with new ranges"
   ]
  },
  {
   "cell_type": "code",
   "execution_count": null,
   "metadata": {},
   "outputs": [],
   "source": [
    "# helper to calculate mse of segments or full wave\n",
    "def calculate_single_mse_helper(seqment_wave, seqment_pred_wave):\n",
    "    single_mse = np.mean((seqment_wave-seqment_pred_wave)**2)\n",
    "    return single_mse"
   ]
  },
  {
   "cell_type": "code",
   "execution_count": null,
   "metadata": {},
   "outputs": [],
   "source": [
    "# helper to calculate mse of segments or full wave\n",
    "def calculate_single_mse_helper(seqment_wave, seqment_pred_wave):\n",
    "    single_mse = np.mean((seqment_wave-seqment_pred_wave)**2)\n",
    "    return single_mse\n",
    "\n",
    "# helper method to calculate mse given some ranges\n",
    "def segment_mse_helper(expected, prediction, wave_ranges, flag):\n",
    "    expected_waves = []\n",
    "    pred_waves = []\n",
    "    mses = []\n",
    "\n",
    "    for range_ in wave_ranges:\n",
    "        expected_wave = expected[range_[0]:range_[1]]\n",
    "        pred_wave = prediction[range_[0]:range_[1]]\n",
    "        curr_mse = calculate_single_mse_helper(expected_wave, pred_wave)\n",
    "        if flag:\n",
    "            print('signal region--> range:', range_, ' mse:',curr_mse)\n",
    "        else:\n",
    "            print('non-signal region--> range:', range_, ' mse:',curr_mse)\n",
    "        mses.append(curr_mse)\n",
    "    \n",
    "    mse = sum(mses)\n",
    "    return mse\n",
    "\n",
    "def calculate_single_mse(expected, prediction, signal_ranges, non_signal_ranges):\n",
    "    print('signal ranges: ', str(signal_ranges),'non_signal ranges: ', str(non_signal_ranges))\n",
    "    \n",
    "    signal_region = 0\n",
    "    full_window = calculate_single_mse_helper(expected, prediction)\n",
    "    no_signal_region = 0\n",
    "    print(\"full window :\", full_window)\n",
    "    \n",
    "    if sum(expected) != 0:\n",
    "        signal_region = segment_mse_helper(expected, prediction, signal_ranges, True)\n",
    "        no_signal_region = segment_mse_helper(expected, prediction, non_signal_ranges, False)\n",
    "\n",
    "        print('signal region: ', signal_region)\n",
    "        print('non-signal region: ', no_signal_region)\n",
    "\n",
    "    return [full_window, signal_region, no_signal_region] "
   ]
  },
  {
   "cell_type": "code",
   "execution_count": null,
   "metadata": {},
   "outputs": [],
   "source": [
    "index = 5\n",
    "ex = y_test_scaled[index]\n",
    "pred = predictions[index]\n",
    "rng = ranges[index]"
   ]
  },
  {
   "cell_type": "code",
   "execution_count": null,
   "metadata": {},
   "outputs": [],
   "source": [
    "\n",
    "print(calculate_single_mse(ex, pred, rng,get_non_signal_ranges(rng)))\n",
    "fig = plt.figure(figsize=(10,2))\n",
    "plt.plot(ex, label=\"target\")\n",
    "plt.plot(pred, label=\"prediction\")\n",
    "plt.legend()\n",
    "plt.show()"
   ]
  },
  {
   "cell_type": "code",
   "execution_count": null,
   "metadata": {},
   "outputs": [],
   "source": [
    "\n",
    "tes_ex = ex[rng[0][0]:rng[0][1]]\n",
    "tes_pred = pred[rng[0][0]:rng[0][1]]\n",
    "fig = plt.figure(figsize=(10,2))\n",
    "plt.plot(tes_ex, label=\"target\")\n",
    "plt.plot(tes_pred, label=\"prediction\")\n",
    "plt.legend()\n",
    "plt.show()\n",
    "print(calculate_single_mse_helper(tes_ex, tes_pred))"
   ]
  },
  {
   "cell_type": "code",
   "execution_count": null,
   "metadata": {},
   "outputs": [],
   "source": [
    "i=5\n",
    "ex = y_test_scaled[i]\n",
    "pred = predictions[i]\n",
    "rng = ranges[i]\n",
    "wave_mse = calculate_single_mse(ex, pred, rng, get_non_signal_ranges(rng))\n",
    "for i in range(3):\n",
    "    print(wave_mse[i], i)\n",
    "# runtime ~ 2min\n",
    "print(wave_mse)"
   ]
  },
  {
   "cell_type": "markdown",
   "metadata": {},
   "source": [
    "#### calculate MSES for entire test set"
   ]
  },
  {
   "cell_type": "code",
   "execution_count": null,
   "metadata": {},
   "outputs": [],
   "source": [
    "full = []\n",
    "signal = []\n",
    "no_signal = []\n",
    "for i in range(len(ranges)):\n",
    "    ex = y_test_scaled[i]\n",
    "    pred = predictions[i]\n",
    "    rng = ranges[i]\n",
    "    wave_mse = calculate_single_mse(ex, pred, rng, get_non_signal_ranges(rng))\n",
    "    full.append(wave_mse[0])\n",
    "    signal.append(wave_mse[1])\n",
    "    no_signal.append(wave_mse[2])\n",
    "# runtime ~ 2min"
   ]
  },
  {
   "cell_type": "code",
   "execution_count": null,
   "metadata": {},
   "outputs": [],
   "source": [
    "print(any([math.isnan(x) for x in full]), any([math.isnan(x) for x in signal]), any([math.isnan(x) for x in no_signal]))\n",
    "print(len(full), len(signal), len(no_signal))"
   ]
  },
  {
   "cell_type": "markdown",
   "metadata": {},
   "source": [
    "### RESULT"
   ]
  },
  {
   "cell_type": "code",
   "execution_count": null,
   "metadata": {},
   "outputs": [],
   "source": [
    "print('Total MSE (mean) - full window:        ', np.mean(full))\n",
    "print('Total MSE (mean) - signal region:      ', np.mean(signal))\n",
    "print('Total MSE (mean) - non-signal region:  ', np.mean(no_signal))"
   ]
  },
  {
   "cell_type": "markdown",
   "metadata": {},
   "source": [
    "### Calculate MSE with new ranges ---  DONE"
   ]
  },
  {
   "cell_type": "markdown",
   "metadata": {},
   "source": [
    "______________________________________________________________________________________________________________________"
   ]
  },
  {
   "cell_type": "markdown",
   "metadata": {},
   "source": [
    "### GENERATE PLOTS with 1DCNN FLAGS + MSE INFO"
   ]
  },
  {
   "cell_type": "code",
   "execution_count": null,
   "metadata": {},
   "outputs": [],
   "source": [
    "model_1dcnn = load_model('../latest_models/model_' + wireplane + 'plane_nu.h5')"
   ]
  },
  {
   "cell_type": "code",
   "execution_count": null,
   "metadata": {},
   "outputs": [],
   "source": [
    "y_test_ROI = np.load('../processed_data/current/y_test_ROI_' + wireplane + '.npy')"
   ]
  },
  {
   "cell_type": "code",
   "execution_count": null,
   "metadata": {},
   "outputs": [],
   "source": [
    "x_test_scaled_ROI = np.array(x_test_scaled)\n",
    "all_infer = model_1dcnn.predict(x_test_scaled_ROI, batch_size=4096)\n",
    "fpr_keras, tpr_keras, thresholds_keras = roc_curve(y_test_ROI, all_infer)\n",
    "plt.figure(figsize=(8, 4))  \n",
    "plt.plot(fpr_keras, tpr_keras, label='auc: ' + str(round(auc(fpr_keras, tpr_keras), 3)))\n",
    "plt.title(\"ROC Curve - Test Dataset Plane \" + wireplane)\n",
    "plt.xlabel(\"False Positive Rate\")\n",
    "plt.ylabel(\"True Positive Rate\")\n",
    "plt.legend(loc='center')"
   ]
  },
  {
   "cell_type": "code",
   "execution_count": null,
   "metadata": {},
   "outputs": [],
   "source": [
    "pred_ROI = all_infer.squeeze()\n",
    "print(pred_ROI.shape)"
   ]
  },
  {
   "cell_type": "code",
   "execution_count": null,
   "metadata": {},
   "outputs": [],
   "source": [
    "for idx in range(100):\n",
    "    fig, (ax1) = plt.subplots(figsize=(20, 15), facecolor='white')\n",
    "    ax1.plot(y_test_[idx],color='blue', label='target')\n",
    "    ax1.plot(pred_[idx],color='m',alpha=0.7, label='model prediction')\n",
    "    ax1.plot(x_test_[idx], color='orange',alpha=0.7, label = 'original input')\n",
    "    ax1.set_title(\"trained using clean signals as target\", fontsize=20)\n",
    "    ax1.legend(fontsize=20)\n",
    "    plt.figtext(0.9125, 0.75, 'ROI pred: ' + str(np.round(pred_ROI[idx],5)), fontsize=20)\n",
    "    plt.figtext(0.9125, 0.7, 'ROI truth: ' + str(np.round(y_test_ROI[idx],5)), fontsize=20)\n",
    "    plt.figtext(0.9125, 0.65, 'MSE (full): ' + str(np.round(full[idx],5)), fontsize=20)\n",
    "    plt.figtext(0.9125, 0.6, 'MSE (sig): ' + str(np.round(signal[idx],5)), fontsize=20)\n",
    "    plt.figtext(0.9125, 0.55, 'MSE (no_sig): ' + str(np.round(no_signal[idx],5)), fontsize=20)\n",
    "    plt.xlabel('time', fontsize=20)\n",
    "    plt.ylabel('ADC', fontsize=20)\n",
    "    #filename = 'plane_u_mega_plots/'+str(idx)+'.png' \n",
    "    #plt.savefig(filename, facecolor='w', bbox_inches='tight')\n",
    "\n",
    "    plt.show()\n",
    "\n"
   ]
  },
  {
   "cell_type": "markdown",
   "metadata": {},
   "source": [
    "### GENERATE PLOTS with 1DCNN FLAGS + MSE INFO -- NOT COMPLETE"
   ]
  },
  {
   "cell_type": "markdown",
   "metadata": {},
   "source": [
    "-----------------------------------------------------------------------------------------------------------------------------"
   ]
  },
  {
   "cell_type": "markdown",
   "metadata": {},
   "source": [
    "### BELOW -- NEED TO LOOK AT AGAIN"
   ]
  },
  {
   "cell_type": "markdown",
   "metadata": {},
   "source": [
    "Next: at the moment MSEs are being calculating for just one range. However there are waves with multiple ranges. We need to take this into account"
   ]
  },
  {
   "cell_type": "code",
   "execution_count": null,
   "metadata": {},
   "outputs": [],
   "source": [
    "print(calculate_single_mse(x_test_scaled[0], predictions[15]))"
   ]
  },
  {
   "cell_type": "markdown",
   "metadata": {},
   "source": [
    "NOTE: MSE IS CALCULATED FOR ONE WAVE. NEED TO LOOP TO GET ALL WAVES"
   ]
  },
  {
   "cell_type": "code",
   "execution_count": null,
   "metadata": {},
   "outputs": [],
   "source": [
    "# adc_max = 0 means no max cut is applied\n",
    "def eval_cut_(x_test_, y_test_, adc_min, adc_max):\n",
    "    print(x_test_.shape, y_test_.shape)\n",
    "\n",
    "    test_, clean_ =  filter_signal_ADC(x_test_, y_test_, adc_min, False)\n",
    "    print(test_.shape, clean_.shape)\n",
    "    if adc_max != 0:\n",
    "        test_, clean_ =  filter_signal_ADC(test_, clean_, adc_max, True)\n",
    "    print(test_.shape, clean_.shape)\n",
    "\n",
    "\n",
    "    x_test_scaled_ = (x_test_-mean)/std\n",
    "    clean_scaled_ = clean_\n",
    "    \n",
    "    y_test_scaled_ = []\n",
    "    for i in range(len(y_test_)):\n",
    "        if sum(y_test_[i]) == 0:\n",
    "            y_test_scaled_.append(y_test_[i])\n",
    "        else:\n",
    "            scaled_ = (y_test_[i]-mean)/std\n",
    "            y_test_scaled_.append(scaled_)\n",
    "    y_test_scaled_ = np.array(y_test_scaled_)\n",
    "\n",
    "\n",
    "    all_pred = autoencoder.predict(x_test_scaled, batch_size=4096)\n",
    "    all_pred = all_pred.reshape(all_pred.shape[0], all_pred.shape[1])\n",
    "\n",
    "    MSES_ = []\n",
    "    nan_idxs_ = []\n",
    "    for idx in range(len(y_test_scaled)):\n",
    "        mse_ = calculate_single_mse(y_test_scaled[idx], all_pred[idx])\n",
    "\n",
    "        if not np.isnan(mse_):\n",
    "            MSES.append(mse_)\n",
    "        else:\n",
    "            nan_idxs_.append(idx)\n",
    "    return MSES, nan_idxs_"
   ]
  },
  {
   "cell_type": "code",
   "execution_count": null,
   "metadata": {},
   "outputs": [],
   "source": [
    "mse_3_15 = []\n",
    "nans_3_15 = []\n",
    "for i in range(3, 16):\n",
    "    eval_cut_(x_test, y_test, i, 0)\n",
    "    mses_, nans = eval_cut_(x_test, y_test, i, 0)\n",
    "    mse_3_15.append([mses_])\n",
    "    nans_3_15.append([nans])\n"
   ]
  },
  {
   "cell_type": "code",
   "execution_count": null,
   "metadata": {},
   "outputs": [],
   "source": [
    "print(len(mse_3_15), len(nans_3_15))"
   ]
  },
  {
   "cell_type": "code",
   "execution_count": null,
   "metadata": {},
   "outputs": [],
   "source": [
    "mse_3_15"
   ]
  },
  {
   "cell_type": "code",
   "execution_count": null,
   "metadata": {},
   "outputs": [],
   "source": []
  }
 ],
 "metadata": {
  "kernelspec": {
   "display_name": "Python 3",
   "language": "python",
   "name": "python3"
  },
  "language_info": {
   "codemirror_mode": {
    "name": "ipython",
    "version": 3
   },
   "file_extension": ".py",
   "mimetype": "text/x-python",
   "name": "python",
   "nbconvert_exporter": "python",
   "pygments_lexer": "ipython3",
   "version": "3.9.5"
  }
 },
 "nbformat": 4,
 "nbformat_minor": 4
}
