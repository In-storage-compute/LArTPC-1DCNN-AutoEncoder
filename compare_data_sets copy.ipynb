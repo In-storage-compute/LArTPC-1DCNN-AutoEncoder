{
 "cells": [
  {
   "cell_type": "code",
   "execution_count": 1,
   "metadata": {},
   "outputs": [
    {
     "name": "stderr",
     "output_type": "stream",
     "text": [
      "2023-05-02 12:18:09.592715: I tensorflow/core/platform/cpu_feature_guard.cc:182] This TensorFlow binary is optimized to use available CPU instructions in performance-critical operations.\n",
      "To enable the following instructions: AVX2 FMA, in other operations, rebuild TensorFlow with the appropriate compiler flags.\n",
      "2023-05-02 12:18:10.231886: W tensorflow/compiler/tf2tensorrt/utils/py_utils.cc:38] TF-TRT Warning: Could not find TensorRT\n"
     ]
    }
   ],
   "source": [
    "import sys\n",
    "import numpy as np\n",
    "import matplotlib.pyplot as plt\n",
    "import tensorflow as tf\n",
    "from tensorflow import keras \n",
    "from sklearn.model_selection import train_test_split\n",
    "from tensorflow.keras.models import load_model\n",
    "from sklearn.metrics import roc_curve\n",
    "from sklearn.metrics import auc\n",
    "import math\n",
    "import tqdm\n",
    "from PyPDF2 import PdfMerger\n",
    "import os\n",
    "from os import listdir\n",
    "from os.path import isfile, join"
   ]
  },
  {
   "cell_type": "code",
   "execution_count": 2,
   "metadata": {},
   "outputs": [],
   "source": [
    "wireplane = 'Z'"
   ]
  },
  {
   "cell_type": "code",
   "execution_count": 3,
   "metadata": {},
   "outputs": [],
   "source": [
    "x_test_old = np.load('./Neutrino-Trained/processed_data/x_test_' + wireplane + '.npy')\n",
    "y_test_old = np.load('./Neutrino-Trained/processed_data/y_test_AE_' + wireplane + '.npy')\n",
    "\n",
    "\n",
    "mean_old = np.load('./Neutrino-Trained/AutoEncoder/results/'+wireplane+'/models/mean_AE_'+wireplane+'.npy')\n",
    "std_old = np.load('./Neutrino-Trained/AutoEncoder/results/'+wireplane+'/models/std_AE_'+wireplane+'.npy')\n",
    "\n",
    "x_test_scaled_old = (x_test_old-mean_old)/std_old\n",
    "y_test_scaled_old = (y_test_old-mean_old)/std_old"
   ]
  },
  {
   "cell_type": "code",
   "execution_count": 4,
   "metadata": {},
   "outputs": [],
   "source": [
    "x_test_new = np.load('./Neutrino-Trained-New-Dataset/processed_data/x_test_' + wireplane + '.npy')\n",
    "y_test_new = np.load('./Neutrino-Trained-New-Dataset/processed_data/y_test_AE_' + wireplane + '.npy')\n",
    "\n",
    "\n",
    "mean_new = np.load('./Neutrino-Trained-New-Dataset/AutoEncoder-Custom-Loss/results/'+wireplane+'/models/mean_AE_'+wireplane+'.npy')\n",
    "std_new = np.load('./Neutrino-Trained-New-Dataset/AutoEncoder-Custom-Loss/results/'+wireplane+'/models/std_AE_'+wireplane+'.npy')\n",
    "\n",
    "x_test_scaled_new = (x_test_new-mean_new)/std_new\n",
    "y_test_scaled_new = (y_test_new-mean_new)/std_new"
   ]
  },
  {
   "cell_type": "code",
   "execution_count": 5,
   "metadata": {},
   "outputs": [],
   "source": [
    "def custom_mse2(y_true, y_pred):\n",
    "\n",
    "    return -1"
   ]
  },
  {
   "cell_type": "code",
   "execution_count": 6,
   "metadata": {},
   "outputs": [
    {
     "name": "stderr",
     "output_type": "stream",
     "text": [
      "2023-05-02 12:18:11.976521: I tensorflow/compiler/xla/stream_executor/cuda/cuda_gpu_executor.cc:982] could not open file to read NUMA node: /sys/bus/pci/devices/0000:09:00.0/numa_node\n",
      "Your kernel may have been built without NUMA support.\n",
      "2023-05-02 12:18:11.991271: I tensorflow/compiler/xla/stream_executor/cuda/cuda_gpu_executor.cc:982] could not open file to read NUMA node: /sys/bus/pci/devices/0000:09:00.0/numa_node\n",
      "Your kernel may have been built without NUMA support.\n",
      "2023-05-02 12:18:11.991338: I tensorflow/compiler/xla/stream_executor/cuda/cuda_gpu_executor.cc:982] could not open file to read NUMA node: /sys/bus/pci/devices/0000:09:00.0/numa_node\n",
      "Your kernel may have been built without NUMA support.\n",
      "2023-05-02 12:18:11.993453: I tensorflow/compiler/xla/stream_executor/cuda/cuda_gpu_executor.cc:982] could not open file to read NUMA node: /sys/bus/pci/devices/0000:09:00.0/numa_node\n",
      "Your kernel may have been built without NUMA support.\n",
      "2023-05-02 12:18:11.993505: I tensorflow/compiler/xla/stream_executor/cuda/cuda_gpu_executor.cc:982] could not open file to read NUMA node: /sys/bus/pci/devices/0000:09:00.0/numa_node\n",
      "Your kernel may have been built without NUMA support.\n",
      "2023-05-02 12:18:11.993541: I tensorflow/compiler/xla/stream_executor/cuda/cuda_gpu_executor.cc:982] could not open file to read NUMA node: /sys/bus/pci/devices/0000:09:00.0/numa_node\n",
      "Your kernel may have been built without NUMA support.\n",
      "2023-05-02 12:18:12.702766: I tensorflow/compiler/xla/stream_executor/cuda/cuda_gpu_executor.cc:982] could not open file to read NUMA node: /sys/bus/pci/devices/0000:09:00.0/numa_node\n",
      "Your kernel may have been built without NUMA support.\n",
      "2023-05-02 12:18:12.702865: I tensorflow/compiler/xla/stream_executor/cuda/cuda_gpu_executor.cc:982] could not open file to read NUMA node: /sys/bus/pci/devices/0000:09:00.0/numa_node\n",
      "Your kernel may have been built without NUMA support.\n",
      "2023-05-02 12:18:12.702874: I tensorflow/core/common_runtime/gpu/gpu_device.cc:1722] Could not identify NUMA node of platform GPU id 0, defaulting to 0.  Your kernel may not have been built with NUMA support.\n",
      "2023-05-02 12:18:12.702916: I tensorflow/compiler/xla/stream_executor/cuda/cuda_gpu_executor.cc:982] could not open file to read NUMA node: /sys/bus/pci/devices/0000:09:00.0/numa_node\n",
      "Your kernel may have been built without NUMA support.\n",
      "2023-05-02 12:18:12.702943: I tensorflow/core/common_runtime/gpu/gpu_device.cc:1635] Created device /job:localhost/replica:0/task:0/device:GPU:0 with 7335 MB memory:  -> device: 0, name: NVIDIA GeForce RTX 3080, pci bus id: 0000:09:00.0, compute capability: 8.6\n"
     ]
    }
   ],
   "source": [
    "ae128_old = load_model('./Neutrino-Trained/AutoEncoder/results/' + wireplane + '/models/batch_size128_CHECK_' + wireplane + 'plane_nu.h5', custom_objects={'custom_mse2':custom_mse2})\n",
    "ae128_new = load_model('./Neutrino-Trained-New-Dataset/AutoEncoder-Custom-Loss/results/' + wireplane + '/models/batch_size128_' + wireplane + 'plane_nu.h5', custom_objects={'custom_mse2':custom_mse2})\n",
    "ae_128_new_mse = load_model('./Neutrino-Trained-New-Dataset/AE_models/model_AE_128_mse' + wireplane + 'plane_nu.h5')"
   ]
  },
  {
   "cell_type": "code",
   "execution_count": 7,
   "metadata": {},
   "outputs": [
    {
     "name": "stderr",
     "output_type": "stream",
     "text": [
      "2023-05-02 12:18:14.491536: I tensorflow/compiler/xla/stream_executor/cuda/cuda_dnn.cc:424] Loaded cuDNN version 8600\n",
      "2023-05-02 12:18:15.161190: I tensorflow/tsl/platform/default/subprocess.cc:304] Start cannot spawn child process: No such file or directory\n"
     ]
    },
    {
     "name": "stdout",
     "output_type": "stream",
     "text": [
      "25/25 [==============================] - 2s 11ms/step\n",
      "25/25 [==============================] - 0s 3ms/step\n",
      "25/25 [==============================] - 0s 3ms/step\n"
     ]
    }
   ],
   "source": [
    "pred_old_old = ae128_old.predict(x_test_scaled_old, batch_size=4096)\n",
    "pred_old_old = pred_old_old.reshape(pred_old_old.shape[0], pred_old_old.shape[1])\n",
    "\n",
    "\n",
    "pred_new_new = ae128_new.predict(x_test_scaled_new, batch_size=4096)\n",
    "pred_new_new = pred_new_new.reshape(pred_new_new.shape[0], pred_new_new.shape[1])\n",
    "\n",
    "pred_mse = ae_128_new_mse.predict(x_test_scaled_new, batch_size=4096)\n",
    "pred_mse = pred_mse.reshape(pred_mse.shape[0], pred_mse.shape[1])\n",
    "\n"
   ]
  },
  {
   "cell_type": "code",
   "execution_count": 8,
   "metadata": {},
   "outputs": [],
   "source": [
    "from scipy import stats\n",
    "x_testold_ = std_old*x_test_scaled_old+mean_old\n",
    "y_testold_ = y_test_scaled_old*std_old + mean_old\n",
    "\n",
    "x_testnew_ = std_new*x_test_scaled_new+mean_new\n",
    "y_testnew_ = y_test_scaled_new*std_new + mean_new\n",
    "\n",
    "\n",
    "pred_oo = pred_old_old*std_old + mean_old\n",
    "\n",
    "pred_nn = pred_new_new*std_new + mean_new\n",
    "pred_mse_ = pred_mse*std_new + mean_new\n",
    "\n",
    "\n",
    "#pred1024 = predictions1024*std + mean"
   ]
  },
  {
   "cell_type": "code",
   "execution_count": 9,
   "metadata": {},
   "outputs": [],
   "source": [
    "\n",
    "for idx in range(3000):\n",
    "    if sum(abs(y_test_old[idx])) != 0 and sum(abs(y_test_new[idx])) != 0 and max(abs(y_test_old[idx])) < 20 and max(abs(y_test_new[idx])) < 20:\n",
    "        fig, (ax1, ax2) = plt.subplots(2, figsize=(10, 6))\n",
    "        ax1.plot(y_testold_[idx], color = 'blue', label='truth')\n",
    "        ax1.plot(pred_oo[idx], color = 'r', alpha=0.7, label='pred custom mse')\n",
    "        ax1.set_title('trained on old:test on old')\n",
    "        ax1.legend()\n",
    "\n",
    "        ax2.plot(y_testnew_[idx], color = 'blue')\n",
    "        ax2.plot(pred_nn[idx], color = 'r', alpha=0.7)\n",
    "        ax2.plot(pred_mse_[idx], color = 'g', alpha=0.5, label='keras mse')\n",
    "        ax2.set_title('trained on new:test on new')\n",
    "        ax2.legend()\n",
    "\n",
    "        for ax in fig.get_axes():\n",
    "            ax.label_outer()\n",
    "        plt.savefig('tmp/test' + str(idx) +  '.pdf',\n",
    "            dpi=300,\n",
    "            bbox_inches='tight', pad_inches=0.75)\n",
    "        plt.close()"
   ]
  },
  {
   "cell_type": "code",
   "execution_count": 10,
   "metadata": {},
   "outputs": [
    {
     "name": "stdout",
     "output_type": "stream",
     "text": [
      "['tmp/test2632.pdf', 'tmp/test183.pdf', 'tmp/test745.pdf', 'tmp/test730.pdf', 'tmp/test1939.pdf', 'tmp/test1125.pdf', 'tmp/test748.pdf', 'tmp/test2280.pdf', 'tmp/test1784.pdf', 'tmp/test677.pdf', 'tmp/test1677.pdf', 'tmp/test1274.pdf', 'tmp/test1973.pdf', 'tmp/test300.pdf', 'tmp/test588.pdf', 'tmp/test1049.pdf', 'tmp/test746.pdf', 'tmp/test1818.pdf', 'tmp/test1545.pdf', 'tmp/test2499.pdf', 'tmp/test452.pdf', 'tmp/test263.pdf', 'tmp/test348.pdf', 'tmp/test2171.pdf', 'tmp/test1284.pdf', 'tmp/test1727.pdf', 'tmp/test1141.pdf', 'tmp/test1138.pdf', 'tmp/test2330.pdf', 'tmp/test1704.pdf', 'tmp/test1199.pdf', 'tmp/test1223.pdf', 'tmp/test389.pdf', 'tmp/test1469.pdf', 'tmp/test1423.pdf', 'tmp/test2618.pdf', 'tmp/test651.pdf', 'tmp/test2649.pdf', 'tmp/test1098.pdf', 'tmp/test1788.pdf', 'tmp/test2600.pdf', 'tmp/test2364.pdf', 'tmp/test1780.pdf', 'tmp/test632.pdf', 'tmp/test1880.pdf', 'tmp/test1133.pdf', 'tmp/test2598.pdf', 'tmp/test2292.pdf', 'tmp/test2864.pdf', 'tmp/test405.pdf', 'tmp/test457.pdf', 'tmp/test2706.pdf', 'tmp/test2815.pdf', 'tmp/test1013.pdf', 'tmp/test1706.pdf', 'tmp/test289.pdf', 'tmp/test503.pdf', 'tmp/test2958.pdf', 'tmp/test19.pdf', 'tmp/test1555.pdf', 'tmp/test1354.pdf', 'tmp/test1786.pdf', 'tmp/test1690.pdf', 'tmp/test1416.pdf', 'tmp/test1321.pdf', 'tmp/test319.pdf', 'tmp/test2361.pdf', 'tmp/test2456.pdf', 'tmp/test527.pdf', 'tmp/test2722.pdf', 'tmp/test1729.pdf', 'tmp/test2802.pdf', 'tmp/test2819.pdf', 'tmp/test92.pdf', 'tmp/test2813.pdf', 'tmp/test2058.pdf', 'tmp/test836.pdf', 'tmp/test1234.pdf', 'tmp/test2760.pdf', 'tmp/test925.pdf', 'tmp/test110.pdf', 'tmp/test2099.pdf', 'tmp/test1720.pdf', 'tmp/test1356.pdf', 'tmp/test1723.pdf', 'tmp/test2777.pdf', 'tmp/test2933.pdf', 'tmp/test2539.pdf', 'tmp/test1876.pdf', 'tmp/test1518.pdf', 'tmp/test2071.pdf', 'tmp/test1233.pdf', 'tmp/test2446.pdf', 'tmp/test1861.pdf', 'tmp/test1271.pdf', 'tmp/test2790.pdf', 'tmp/test2484.pdf', 'tmp/test2713.pdf', 'tmp/test725.pdf', 'tmp/test2529.pdf', 'tmp/test1039.pdf', 'tmp/test602.pdf', 'tmp/test2025.pdf', 'tmp/test1475.pdf', 'tmp/test1054.pdf', 'tmp/test1217.pdf', 'tmp/test1187.pdf', 'tmp/test84.pdf', 'tmp/test2211.pdf', 'tmp/test880.pdf', 'tmp/test1248.pdf', 'tmp/test491.pdf', 'tmp/test39.pdf', 'tmp/test401.pdf', 'tmp/test202.pdf', 'tmp/test236.pdf', 'tmp/test227.pdf', 'tmp/test2654.pdf', 'tmp/test82.pdf', 'tmp/test1830.pdf', 'tmp/test1197.pdf', 'tmp/test1371.pdf', 'tmp/test1009.pdf', 'tmp/test2843.pdf', 'tmp/test861.pdf', 'tmp/test2512.pdf', 'tmp/test1277.pdf', 'tmp/test911.pdf', 'tmp/test2973.pdf', 'tmp/test1297.pdf', 'tmp/test844.pdf', 'tmp/test2192.pdf', 'tmp/test2337.pdf', 'tmp/test615.pdf', 'tmp/test512.pdf', 'tmp/test641.pdf', 'tmp/test2416.pdf', 'tmp/test2763.pdf', 'tmp/test2573.pdf', 'tmp/test2869.pdf']\n"
     ]
    }
   ],
   "source": [
    "merger = PdfMerger()\n",
    "path = 'tmp/'\n",
    "pdf_files = [path+f for f in listdir(path) if (isfile(join(path, f)))]\n",
    "print(pdf_files)"
   ]
  },
  {
   "cell_type": "code",
   "execution_count": 11,
   "metadata": {},
   "outputs": [],
   "source": [
    "for pdf_file in pdf_files:\n",
    "    #Append PDF files\n",
    "    merger.append(pdf_file)\n",
    "#merger.write('pdfs/plts_tmp/plts_' + wireplane + '_cnn_'+str(int(min_cnn*100)) + '-' + str(int(max_cnn*100)) + '_' + str(num_pages) +  'pages.pdf')\n",
    "merger.write('signals_lt_20_adc'+wireplane+'.pdf')\n",
    "merger.close()\n",
    "\n",
    "for file in pdf_files:\n",
    "    os.remove(file)"
   ]
  },
  {
   "cell_type": "code",
   "execution_count": null,
   "metadata": {},
   "outputs": [],
   "source": []
  },
  {
   "cell_type": "code",
   "execution_count": null,
   "metadata": {},
   "outputs": [],
   "source": []
  },
  {
   "cell_type": "code",
   "execution_count": null,
   "metadata": {},
   "outputs": [],
   "source": []
  },
  {
   "cell_type": "code",
   "execution_count": null,
   "metadata": {},
   "outputs": [],
   "source": []
  },
  {
   "cell_type": "code",
   "execution_count": null,
   "metadata": {},
   "outputs": [],
   "source": []
  },
  {
   "cell_type": "code",
   "execution_count": null,
   "metadata": {},
   "outputs": [],
   "source": []
  },
  {
   "cell_type": "code",
   "execution_count": null,
   "metadata": {},
   "outputs": [],
   "source": []
  },
  {
   "cell_type": "code",
   "execution_count": null,
   "metadata": {},
   "outputs": [],
   "source": []
  },
  {
   "cell_type": "code",
   "execution_count": null,
   "metadata": {},
   "outputs": [],
   "source": []
  }
 ],
 "metadata": {
  "kernelspec": {
   "display_name": "tf",
   "language": "python",
   "name": "python3"
  },
  "language_info": {
   "codemirror_mode": {
    "name": "ipython",
    "version": 3
   },
   "file_extension": ".py",
   "mimetype": "text/x-python",
   "name": "python",
   "nbconvert_exporter": "python",
   "pygments_lexer": "ipython3",
   "version": "3.9.16"
  },
  "orig_nbformat": 4
 },
 "nbformat": 4,
 "nbformat_minor": 2
}
